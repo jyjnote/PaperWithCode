{
 "cells": [
  {
   "cell_type": "markdown",
   "metadata": {},
   "source": [
    "## 텐서 다루기"
   ]
  },
  {
   "cell_type": "code",
   "execution_count": 6,
   "metadata": {},
   "outputs": [
    {
     "data": {
      "text/plain": [
       "Mytorch(231)"
      ]
     },
     "execution_count": 6,
     "metadata": {},
     "output_type": "execute_result"
    }
   ],
   "source": [
    "from mytorch import *\n",
    "import numpy as np\n",
    "import mytorch.functions as F\n",
    "\n",
    "x = Mytorch(np.array([[1, 2, 3], [4, 5, 6]]))\n",
    "c = Mytorch(np.array([[10, 20, 30], [40, 50, 60]]))\n",
    "t = x + c\n",
    "y = F.sum(t)\n",
    "\n",
    "y"
   ]
  },
  {
   "cell_type": "code",
   "execution_count": 7,
   "metadata": {},
   "outputs": [
    {
     "name": "stdout",
     "output_type": "stream",
     "text": [
      "Mytorch(100.0)\n"
     ]
    }
   ],
   "source": [
    "x = Mytorch(np.array(2.0))\n",
    "y = x ** 2\n",
    "y.backward(create_graph=True)\n",
    "gx = x.grad\n",
    "x.cleargrad()\n",
    "\n",
    "z = gx ** 3 + y\n",
    "z.backward()\n",
    "print(x.grad)"
   ]
  },
  {
   "cell_type": "code",
   "execution_count": 8,
   "metadata": {},
   "outputs": [
    {
     "name": "stdout",
     "output_type": "stream",
     "text": [
      "Mytorch(1)\n",
      "Mytorch([[1 1 1]\n",
      "          [1 1 1]])\n",
      "Mytorch([[1 1 1]\n",
      "          [1 1 1]])\n",
      "Mytorch([[1 1 1]\n",
      "          [1 1 1]])\n"
     ]
    }
   ],
   "source": [
    "x = Mytorch(np.array([[1, 2, 3], [4, 5, 6]]))\n",
    "c = Mytorch(np.array([[10, 20, 30], [40, 50, 60]]))\n",
    "t = x + c\n",
    "y = F.sum(t)\n",
    "\n",
    "y.backward(retain_grad=True)\n",
    "print(y.grad)\n",
    "print(t.grad)\n",
    "print(x.grad)\n",
    "print(c.grad)"
   ]
  },
  {
   "cell_type": "code",
   "execution_count": 9,
   "metadata": {},
   "outputs": [],
   "source": [
    "class Reshape(Function):\n",
    "    def __init__(self, shape):\n",
    "        self.shape = shape\n",
    "\n",
    "    def forward(self, x): # 원하는 구성으로 통과\n",
    "        self.x_shape = x.shape\n",
    "        y = x.reshape(self.shape) \n",
    "        return y\n",
    "\n",
    "    def backward(self, gy):\n",
    "        return reshape(gy, self.x_shape) # 원본 형상을 기억해서 전달\n",
    "\n",
    "\n",
    "def reshape(x, shape):\n",
    "    if x.shape == shape:\n",
    "        return as_mytorch(x)\n",
    "    return Reshape(shape)(x)\n"
   ]
  },
  {
   "cell_type": "code",
   "execution_count": 10,
   "metadata": {},
   "outputs": [
    {
     "name": "stdout",
     "output_type": "stream",
     "text": [
      "Mytorch([[1 1 1]\n",
      "          [1 1 1]])\n",
      "Mytorch([[1 1 1]\n",
      "          [1 1 1]])\n"
     ]
    }
   ],
   "source": [
    "x = Mytorch(np.array([[0, 1, 2], [3, 4, 5]]))\n",
    "y = F.reshape(x, (6,))  # y = x.reshape(6)\n",
    "y.backward(retain_grad=True)\n",
    "print(x.grad)\n",
    "\n",
    "\n",
    "x = Mytorch(np.array([[1, 2, 3], [4, 5, 6]]))\n",
    "y = F.transpose(x)  # y = x.T\n",
    "y.backward()\n",
    "print(x.grad)"
   ]
  },
  {
   "cell_type": "code",
   "execution_count": 11,
   "metadata": {},
   "outputs": [
    {
     "name": "stdout",
     "output_type": "stream",
     "text": [
      "Mytorch([[1 1]\n",
      "          [1 1]\n",
      "          [1 1]])\n",
      "Mytorch([[1 1 1]\n",
      "          [1 1 1]])\n",
      "Mytorch([[2 2 2]\n",
      "          [2 2 2]])\n",
      "Mytorch([[1 1 1]\n",
      "          [1 1 1]])\n"
     ]
    }
   ],
   "source": [
    "y.backward(retain_grad=True)\n",
    "print(y.grad)\n",
    "print(t.grad)\n",
    "print(x.grad)\n",
    "print(c.grad)"
   ]
  },
  {
   "cell_type": "markdown",
   "metadata": {},
   "source": [
    "### 행렬 전치"
   ]
  },
  {
   "cell_type": "code",
   "execution_count": 12,
   "metadata": {},
   "outputs": [
    {
     "data": {
      "text/plain": [
       "Mytorch([[1 2]\n",
       "          [3 4]\n",
       "          [5 6]])"
      ]
     },
     "execution_count": 12,
     "metadata": {},
     "output_type": "execute_result"
    }
   ],
   "source": [
    "Mytorch(np.array([[1, 2, 3], [4, 5, 6]])).reshape(3,2)"
   ]
  },
  {
   "cell_type": "code",
   "execution_count": 13,
   "metadata": {},
   "outputs": [],
   "source": [
    "def transpose(self, *axes):\n",
    "        if len(axes) == 0:\n",
    "            axes = None\n",
    "        elif len(axes) == 1:\n",
    "            if isinstance(axes[0], (tuple, list)) or axes[0] is None:\n",
    "                axes = axes[0]\n",
    "        return Mytorch.functions.transpose(self, axes)\n",
    "\n",
    "@property\n",
    "def T(self):\n",
    "    return Mytorch.functions.transpose(self)"
   ]
  },
  {
   "cell_type": "code",
   "execution_count": 14,
   "metadata": {},
   "outputs": [
    {
     "data": {
      "text/plain": [
       "Mytorch([[0.00600816 0.97518505]\n",
       "          [0.62555368 0.88903984]\n",
       "          [0.01403857 0.45423597]])"
      ]
     },
     "execution_count": 14,
     "metadata": {},
     "output_type": "execute_result"
    }
   ],
   "source": [
    "x=Mytorch(np.random.rand(2,3))\n",
    "x.transpose()"
   ]
  },
  {
   "cell_type": "markdown",
   "metadata": {},
   "source": [
    "### sum 함수 순전파와 역전파 구현"
   ]
  },
  {
   "cell_type": "code",
   "execution_count": 15,
   "metadata": {},
   "outputs": [],
   "source": [
    "class SumTo(Function):\n",
    "    def __init__(self, shape):\n",
    "        self.shape = shape\n",
    "\n",
    "    def forward(self, x):\n",
    "        self.x_shape = x.shape\n",
    "        y = sum_to(x, self.shape)\n",
    "        return y\n",
    "\n",
    "    def backward(self, gy):\n",
    "        gx = broadcast_to(gy, self.x_shape)\n",
    "        return gx\n",
    "\n",
    "\n",
    "def sum_to(x, shape):\n",
    "    if x.shape == shape:\n",
    "        return as_mytorch(x)\n",
    "    return SumTo(shape)(x)"
   ]
  },
  {
   "cell_type": "code",
   "execution_count": 16,
   "metadata": {},
   "outputs": [],
   "source": [
    "class BroadcastTo(Function):\n",
    "    def __init__(self, shape):\n",
    "        self.shape = shape\n",
    "\n",
    "    def forward(self, x):\n",
    "        self.x_shape = x.shape\n",
    "        xp = np.array(x)\n",
    "        y = xp.broadcast_to(x, self.shape)\n",
    "        return y\n",
    "\n",
    "    def backward(self, gy):\n",
    "        gx = sum_to(gy, self.x_shape)\n",
    "        return gx"
   ]
  },
  {
   "cell_type": "code",
   "execution_count": 17,
   "metadata": {},
   "outputs": [],
   "source": [
    "def broadcast_to(x, shape):\n",
    "    if x.shape == shape:\n",
    "        return as_mytorch(x)\n",
    "    return BroadcastTo(shape)(x)"
   ]
  },
  {
   "cell_type": "code",
   "execution_count": 18,
   "metadata": {},
   "outputs": [],
   "source": [
    "class Sum(Function):\n",
    "\n",
    "    def forward(self, x):\n",
    "        self.x_shape = x.shape\n",
    "        y = x.sum()\n",
    "        return y\n",
    "\n",
    "    def backward(self, gy):\n",
    "        gx = broadcast_to(gy, self.x_shape)\n",
    "        return gx\n"
   ]
  },
  {
   "cell_type": "code",
   "execution_count": 19,
   "metadata": {},
   "outputs": [
    {
     "name": "stdout",
     "output_type": "stream",
     "text": [
      "Mytorch(21)\n",
      "Mytorch([1 1 1 1 1 1])\n"
     ]
    }
   ],
   "source": [
    "x = Mytorch(np.array([1, 2, 3, 4, 5, 6]))\n",
    "y = F.sum(x)\n",
    "y.backward()\n",
    "print(y)\n",
    "print(x.grad)"
   ]
  },
  {
   "attachments": {
    "image.png": {
     "image/png": "[encoded data removed]"
    }
   },
   "cell_type": "markdown",
   "metadata": {},
   "source": [
    "![image.png](attachment:image.png)"
   ]
  },
  {
   "cell_type": "code",
   "execution_count": 20,
   "metadata": {},
   "outputs": [
    {
     "name": "stdout",
     "output_type": "stream",
     "text": [
      "Mytorch(21)\n",
      "Mytorch([1 1 1 1 1 1])\n",
      "Mytorch(21)\n",
      "Mytorch([[1 1 1]\n",
      "          [1 1 1]])\n",
      "Mytorch([5 7 9])\n",
      "Mytorch([[1 1 1]\n",
      "          [1 1 1]])\n",
      "(1, 1, 1, 1)\n"
     ]
    }
   ],
   "source": [
    "from mytorch import Mytorch\n",
    "import mytorch.functions as F\n",
    "\n",
    "x = Mytorch(np.array([1, 2, 3, 4, 5, 6]))\n",
    "y = F.sum(x)\n",
    "y.backward()\n",
    "print(y)\n",
    "print(x.grad)\n",
    "\n",
    "x = Mytorch(np.array([[1, 2, 3], [4, 5, 6]]))\n",
    "y = F.sum(x)\n",
    "y.backward()\n",
    "print(y)\n",
    "print(x.grad)\n",
    "\n",
    "x = Mytorch(np.array([[1, 2, 3], [4, 5, 6]]))\n",
    "y = F.sum(x, axis=0)\n",
    "y.backward()\n",
    "print(y)\n",
    "print(x.grad)\n",
    "\n",
    "x = Mytorch(np.random.randn(2, 3, 4, 5))\n",
    "y = x.sum(keepdims=True)\n",
    "print(y.shape)"
   ]
  },
  {
   "cell_type": "markdown",
   "metadata": {},
   "source": [
    "### 브로드캐스팅 구현"
   ]
  },
  {
   "cell_type": "code",
   "execution_count": 21,
   "metadata": {},
   "outputs": [
    {
     "data": {
      "text/plain": [
       "array([[1, 2, 3],\n",
       "       [1, 2, 3],\n",
       "       [1, 2, 3]])"
      ]
     },
     "execution_count": 21,
     "metadata": {},
     "output_type": "execute_result"
    }
   ],
   "source": [
    "import numpy as np \n",
    "\n",
    "x=np.array([1, 2, 3])\n",
    "y=np.broadcast_to(x,(3,3))\n",
    "y\n"
   ]
  },
  {
   "cell_type": "markdown",
   "metadata": {},
   "source": [
    "### broadcast, sum_to 코드 확인하기 "
   ]
  },
  {
   "cell_type": "code",
   "execution_count": 22,
   "metadata": {},
   "outputs": [
    {
     "data": {
      "text/plain": [
       "Mytorch([2 4 6])"
      ]
     },
     "execution_count": 22,
     "metadata": {},
     "output_type": "execute_result"
    }
   ],
   "source": [
    "Mytorch(np.array([1, 2, 3]))+Mytorch(np.array([1, 2, 3]))"
   ]
  },
  {
   "cell_type": "code",
   "execution_count": 23,
   "metadata": {},
   "outputs": [
    {
     "data": {
      "text/plain": [
       "Mytorch([14 15 16])"
      ]
     },
     "execution_count": 23,
     "metadata": {},
     "output_type": "execute_result"
    }
   ],
   "source": [
    "Mytorch(np.array([1, 2, 3]))+Mytorch(np.array([13]))"
   ]
  },
  {
   "cell_type": "code",
   "execution_count": 24,
   "metadata": {},
   "outputs": [
    {
     "name": "stdout",
     "output_type": "stream",
     "text": [
      "Mytorch([11 12 13])\n",
      "Mytorch([3])\n"
     ]
    }
   ],
   "source": [
    "x0 = Mytorch(np.array([1, 2, 3]))\n",
    "x1 = Mytorch(np.array([10]))\n",
    "y = x0 + x1\n",
    "print(y)\n",
    "\n",
    "y.backward()\n",
    "print(x1.grad)"
   ]
  },
  {
   "cell_type": "markdown",
   "metadata": {},
   "source": [
    "## 행렬곱 구현"
   ]
  },
  {
   "cell_type": "markdown",
   "metadata": {},
   "source": [
    "### 미분 체인룰 예시: y의 x에 대한 미분과 가중치 W_ij에 대한 미분\n",
    "\n",
    "###### 1. 주어진 함수\n",
    "우리는 `y = f(x, W)`로 주어지는 함수가 있다고 가정합니다.\n",
    "\n",
    "- `x`는 입력 벡터\n",
    "- `W`는 가중치 행렬\n",
    "- `y`는 출력 벡터\n",
    "\n",
    "`y`는 다음과 같이 선형 변환을 통해 정의된다고 가정합니다:\n",
    "\n",
    "$$ y = W x $$\n",
    "\n",
    "여기서 `W`는 가중치 행렬, `x`는 입력 벡터입니다.\n",
    "\n",
    "###### 2. 미분 체인 룰 적용\n",
    "우리는 `y`를 `x`와 `W`에 대해 미분하려고 합니다. `y = W x`에 대해 미분을 계산합니다.\n",
    "\n",
    "###### (1) y의 x에 대한 미분\n",
    "먼저 `y`를 `x`에 대해 미분하면, 이는 가중치 행렬 `W`가 그대로 남는 선형 변환입니다.\n",
    "\n",
    "$$ \\frac{\\partial y}{\\partial x} = W $$\n",
    "\n",
    "###### (2) y의 W에 대한 미분\n",
    "다음으로 `y`를 `W_ij`에 대해 미분하는 과정입니다. `y = W x`이므로, 각 `y_i`는 `W`의 i번째 행과 `x`의 곱으로 구성됩니다. `y_i = \\sum_j W_{ij} x_j`입니다.\n",
    "\n",
    "따라서, `y_i`를 `W_{ij}`에 대해 미분하면:\n",
    "\n",
    "$$ \\frac{\\partial y_i}{\\partial W_{ij}} = x_j $$\n",
    "\n",
    "이는 `y_i`의 `W_{ij}`에 대한 미분이 해당하는 입력 `x_j`와 같다는 것을 의미합니다.\n",
    "\n",
    "###### (3) 종합적으로\n",
    "따라서 `y = W x`에서 `y`의 `W_ij`에 대한 미분은 각 입력 `x_j`에 대응하는 값이 됩니다. 즉, 행렬 `W`의 원소에 대한 미분은 다음과 같습니다:\n",
    "\n",
    "$$ \\frac{\\partial y}{\\partial W_{ij}} = x_j $$\n",
    "\n",
    "##### 3. 결론\n",
    "- `y`를 `x`에 대해 미분하면 `W`가 그대로 남습니다.\n",
    "- `y`를 `W_{ij}`에 대해 미분하면 해당하는 입력 `x_j`가 결과로 나옵니다.\n",
    "\n",
    "이를 통해 선형 변환에서의 미분 체인 룰을 적용한 결과를 얻을 수 있습니다.\n"
   ]
  },
  {
   "cell_type": "markdown",
   "metadata": {},
   "source": [
    "#### 선형 모델에서의 미분 체인룰 예시\n",
    "\n",
    "###### 1. 주어진 함수\n",
    "선형 모델에서 출력 `y`는 입력 벡터 `x`와 가중치 행렬 `W`의 곱으로 정의됩니다:\n",
    "\n",
    "$$ y = W x $$\n",
    "\n",
    "여기서:\n",
    "- `W`는 크기 `(m, n)`인 가중치 행렬입니다.\n",
    "- `x`는 크기 `(n, 1)`인 입력 벡터입니다.\n",
    "- `y`는 크기 `(m, 1)`인 출력 벡터입니다.\n",
    "\n",
    "###### 2. `y`를 `x`에 대해 미분\n",
    "`y = W x`이므로, `y`를 `x`에 대해 미분하면 `W`가 그대로 남습니다:\n",
    "\n",
    "$$\n",
    "\\frac{\\partial y}{\\partial x} = W\n",
    "$$\n",
    "\n",
    "이는 `y`가 `x`에 대해 선형적으로 의존하고 있기 때문에, 미분한 결과가 가중치 행렬 `W`가 된다는 뜻입니다.\n",
    "\n",
    "###### 3. `y`를 `W_{ij}`에 대해 미분\n",
    "다음으로, `y`를 `W_{ij}`에 대해 미분하는 과정을 살펴봅니다. `y_i = \\sum_{j} W_{ij} x_j`라고 할 수 있습니다. 따라서 `y_i`를 `W_{ij}`에 대해 미분하면:\n",
    "\n",
    "$$\n",
    "\\frac{\\partial y_i}{\\partial W_{ij}} = x_j\n",
    "$$\n",
    "\n",
    "이는 각 출력 `y_i`가 가중치 `W_{ij}`와 `x_j`의 곱으로 정의되므로, 해당 `W_{ij}`에 대한 미분은 `x_j`가 된다는 의미입니다.\n",
    "\n",
    "###### 4. 전체 미분\n",
    "따라서 전체적으로 `y = W x`에서 `y`의 `W_{ij}`에 대한 미분은 다음과 같이 표현할 수 있습니다:\n",
    "\n",
    "$$\n",
    "\\frac{\\partial y}{\\partial W_{ij}} = x_j\n",
    "$$\n",
    "\n",
    "이 결과는 선형 모델에서 가중치에 대한 미분이 입력 벡터의 해당 항목과 일치하는 것을 보여줍니다.\n",
    "\n",
    "###### 5. 예시\n",
    "구체적인 예시를 통해 선형 모델을 살펴보겠습니다. 예를 들어, `W`가 `(2, 3)`인 행렬이고, `x`가 `(3, 1)`인 벡터일 때:\n",
    "\n",
    "$$\n",
    "W = \\begin{bmatrix} W_{11} & W_{12} & W_{13} \\\\ W_{21} & W_{22} & W_{23} \\end{bmatrix}, \\quad x = \\begin{bmatrix} x_1 \\\\ x_2 \\\\ x_3 \\end{bmatrix}\n",
    "$$\n",
    "\n",
    "이때,\n",
    "\n",
    "$$\n",
    "y = W x = \\begin{bmatrix} W_{11} & W_{12} & W_{13} \\\\ W_{21} & W_{22} & W_{23} \\end{bmatrix} \\begin{bmatrix} x_1 \\\\ x_2 \\\\ x_3 \\end{bmatrix}\n",
    "= \\begin{bmatrix} W_{11}x_1 + W_{12}x_2 + W_{13}x_3 \\\\ W_{21}x_1 + W_{22}x_2 + W_{23}x_3 \\end{bmatrix}\n",
    "$$\n",
    "\n",
    "이제 `y`를 `W_{ij}`에 대해 미분하면:\n",
    "\n",
    "$$\n",
    "\\frac{\\partial y_1}{\\partial W_{ij}} = x_j \\quad \\text{(for the first row of y)}\n",
    "$$\n",
    "\n",
    "$$\n",
    "\\frac{\\partial y_2}{\\partial W_{ij}} = x_j \\quad \\text{(for the second row of y)}\n",
    "$$\n",
    "\n",
    "따라서 `y`의 각 항목을 `W`의 각 원소에 대해 미분한 결과는 입력 `x`의 해당 항목과 같습니다.\n",
    "\n",
    "###### 요약\n",
    "- `y = W x`일 때, `y`를 `x`에 대해 미분하면 결과는 가중치 행렬 `W`입니다.\n",
    "- `y`를 `W_{ij}`에 대해 미분하면 결과는 해당하는 입력 `x_j`입니다.\n",
    "- 이러한 미분 계산은 선형 시스템에서 매우 중요한 역할을 합니다, 특히 신경망에서 역전파(backpropagation) 알고리즘에 활용됩니다.\n"
   ]
  },
  {
   "cell_type": "code",
   "execution_count": 25,
   "metadata": {},
   "outputs": [
    {
     "name": "stdout",
     "output_type": "stream",
     "text": [
      "내적 (Dot Product): 32\n",
      "행렬 곱 (Matrix Multiplication):\n",
      " [[19 22]\n",
      " [43 50]]\n"
     ]
    }
   ],
   "source": [
    "import numpy as np\n",
    "\n",
    "# 1. 내적 (Dot Product)\n",
    "# 두 벡터를 정의합니다.\n",
    "vector_a = np.array([1, 2, 3])\n",
    "vector_b = np.array([4, 5, 6])\n",
    "\n",
    "# 내적 계산\n",
    "dot_product = np.dot(vector_a, vector_b)\n",
    "\n",
    "print(\"내적 (Dot Product):\", dot_product)\n",
    "\n",
    "# 2. 행렬 곱 (Matrix Multiplication)\n",
    "# 두 행렬을 정의합니다.\n",
    "matrix_a = np.array([[1, 2], [3, 4]])\n",
    "matrix_b = np.array([[5, 6], [7, 8]])\n",
    "\n",
    "# 행렬 곱 계산\n",
    "matrix_product = np.dot(matrix_a, matrix_b)\n",
    "\n",
    "print(\"행렬 곱 (Matrix Multiplication):\\n\", matrix_product)\n"
   ]
  },
  {
   "cell_type": "code",
   "execution_count": 26,
   "metadata": {},
   "outputs": [],
   "source": [
    "class MatMul(Function):\n",
    "    def forward(self, x, W):\n",
    "        y = x.dot(W)\n",
    "        return y\n",
    "\n",
    "    def backward(self, gy):\n",
    "        x, W = self.inputs\n",
    "        gx = matmul(gy, W.T)\n",
    "        gW = matmul(x.T, gy)\n",
    "        return gx, gW\n",
    "\n",
    "\n",
    "def matmul(x, W):\n",
    "    return MatMul()(x, W)"
   ]
  },
  {
   "cell_type": "code",
   "execution_count": 27,
   "metadata": {},
   "outputs": [
    {
     "name": "stdout",
     "output_type": "stream",
     "text": [
      "(2, 3)\n",
      "(3, 4)\n"
     ]
    }
   ],
   "source": [
    "x = Mytorch(np.random.randn(2, 3))\n",
    "w = Mytorch(np.random.randn(3, 4))\n",
    "y = matmul(x, w)\n",
    "y.backward()\n",
    "\n",
    "print(x.grad.shape)\n",
    "print(w.grad.shape)"
   ]
  },
  {
   "cell_type": "markdown",
   "metadata": {},
   "source": [
    "## 선형 회귀"
   ]
  },
  {
   "cell_type": "code",
   "execution_count": 28,
   "metadata": {},
   "outputs": [
    {
     "name": "stdout",
     "output_type": "stream",
     "text": [
      "Mytorch([[0.64433458]]) Mytorch([1.29473389]) Mytorch(42.296340129442335)\n",
      "Mytorch([[1.12672345]]) Mytorch([2.26959351]) Mytorch(23.97380754378544)\n",
      "Mytorch([[1.48734571]]) Mytorch([3.00386712]) Mytorch(13.609686745040522)\n",
      "Mytorch([[1.75641886]]) Mytorch([3.557186]) Mytorch(7.747049961219976)\n",
      "Mytorch([[1.95666851]]) Mytorch([3.97439789]) Mytorch(4.43057410592155)\n",
      "Mytorch([[2.10518573]]) Mytorch([4.28923203]) Mytorch(2.554280381353593)\n",
      "Mytorch([[2.21482401]]) Mytorch([4.52705574]) Mytorch(1.492599869047195)\n",
      "Mytorch([[2.29524981]]) Mytorch([4.70694745]) Mytorch(0.8916952181756939)\n",
      "Mytorch([[2.35373273]]) Mytorch([4.84325585]) Mytorch(0.5514270962227455)\n",
      "Mytorch([[2.39573972]]) Mytorch([4.9467725]) Mytorch(0.3585915308319281)\n",
      "Mytorch([[2.425382]]) Mytorch([5.02561369]) Mytorch(0.24915731977561134)\n",
      "Mytorch([[2.44575118]]) Mytorch([5.08588371]) Mytorch(0.1869065876539789)\n",
      "Mytorch([[2.45917205]]) Mytorch([5.13217364]) Mytorch(0.1513533629631488)\n",
      "Mytorch([[2.4673927]]) Mytorch([5.16793652]) Mytorch(0.13091003006317087)\n",
      "Mytorch([[2.47172747]]) Mytorch([5.19576949]) Mytorch(0.11902210735018467)\n",
      "Mytorch([[2.47316455]]) Mytorch([5.21762597]) Mytorch(0.11198198322254362)\n",
      "Mytorch([[2.47244676]]) Mytorch([5.23497527]) Mytorch(0.10769231158094321)\n",
      "Mytorch([[2.47013247]]) Mytorch([5.24892259]) Mytorch(0.10496655795675108)\n",
      "Mytorch([[2.46664127]]) Mytorch([5.26029927]) Mytorch(0.10313337115761934)\n",
      "Mytorch([[2.46228843]]) Mytorch([5.26973075]) Mytorch(0.10181280604960243)\n",
      "Mytorch([[2.45731071]]) Mytorch([5.27768752]) Mytorch(0.10078974954301652)\n",
      "Mytorch([[2.4518859]]) Mytorch([5.28452363]) Mytorch(0.09994232708821599)\n",
      "Mytorch([[2.44614738]]) Mytorch([5.29050548]) Mytorch(0.09920140749444821)\n",
      "Mytorch([[2.44019517]]) Mytorch([5.29583359]) Mytorch(0.09852769772358984)\n",
      "Mytorch([[2.4341042]]) Mytorch([5.30065891]) Mytorch(0.09789878700703991)\n",
      "Mytorch([[2.4279305]]) Mytorch([5.30509512]) Mytorch(0.09730181854646197)\n",
      "Mytorch([[2.42171596]]) Mytorch([5.30922787]) Mytorch(0.0967293443169877)\n",
      "Mytorch([[2.41549177]]) Mytorch([5.3131217]) Mytorch(0.09617698031441604)\n",
      "Mytorch([[2.40928112]]) Mytorch([5.31682532]) Mytorch(0.09564208018092028)\n",
      "Mytorch([[2.40310116]]) Mytorch([5.32037549]) Mytorch(0.09512298485383605)\n",
      "Mytorch([[2.39696452]]) Mytorch([5.3238]) Mytorch(0.09461859803040694)\n",
      "Mytorch([[2.39088043]]) Mytorch([5.32711987]) Mytorch(0.09412814592514404)\n",
      "Mytorch([[2.38485555]]) Mytorch([5.33035108]) Mytorch(0.09365104127065577)\n",
      "Mytorch([[2.37889464]]) Mytorch([5.33350575]) Mytorch(0.09318680628411545)\n",
      "Mytorch([[2.37300101]]) Mytorch([5.33659314]) Mytorch(0.09273502898904006)\n",
      "Mytorch([[2.3671769]]) Mytorch([5.33962035]) Mytorch(0.09229533840647547)\n",
      "Mytorch([[2.36142374]]) Mytorch([5.34259283]) Mytorch(0.09186739042193233)\n",
      "Mytorch([[2.35574235]]) Mytorch([5.34551483]) Mytorch(0.09145085969346782)\n",
      "Mytorch([[2.35013309]]) Mytorch([5.34838966]) Mytorch(0.09104543497939387)\n",
      "Mytorch([[2.34459602]]) Mytorch([5.35121993]) Mytorch(0.09065081640275062)\n",
      "Mytorch([[2.33913091]]) Mytorch([5.35400772]) Mytorch(0.0902667138137311)\n",
      "Mytorch([[2.33373736]]) Mytorch([5.35675472]) Mytorch(0.08989284577554084)\n",
      "Mytorch([[2.32841486]]) Mytorch([5.35946234]) Mytorch(0.0895289389052284)\n",
      "Mytorch([[2.32316275]]) Mytorch([5.36213172]) Mytorch(0.08917472741757472)\n",
      "Mytorch([[2.31798034]]) Mytorch([5.36476385]) Mytorch(0.08882995278605695)\n",
      "Mytorch([[2.31286689]]) Mytorch([5.3673596]) Mytorch(0.08849436347219049)\n",
      "Mytorch([[2.30782159]]) Mytorch([5.36991973]) Mytorch(0.08816771469564999)\n",
      "Mytorch([[2.30284363]]) Mytorch([5.3724449]) Mytorch(0.08784976822950144)\n",
      "Mytorch([[2.29793221]]) Mytorch([5.37493575]) Mytorch(0.08754029221162851)\n",
      "Mytorch([[2.29308646]]) Mytorch([5.37739285]) Mytorch(0.08723906096725743)\n",
      "Mytorch([[2.28830557]]) Mytorch([5.37981674]) Mytorch(0.08694585483964615)\n",
      "Mytorch([[2.2835887]]) Mytorch([5.38220792]) Mytorch(0.0866604600272269)\n",
      "Mytorch([[2.278935]]) Mytorch([5.38456689]) Mytorch(0.08638266842618712)\n",
      "Mytorch([[2.27434366]]) Mytorch([5.38689411]) Mytorch(0.0861122774778659)\n",
      "Mytorch([[2.26981384]]) Mytorch([5.38919004]) Mytorch(0.08584909002056745)\n",
      "Mytorch([[2.26534474]]) Mytorch([5.39145512]) Mytorch(0.08559291414552149)\n",
      "Mytorch([[2.26093555]]) Mytorch([5.39368978]) Mytorch(0.08534356305679344)\n",
      "Mytorch([[2.25658547]]) Mytorch([5.39589443]) Mytorch(0.08510085493499035)\n",
      "Mytorch([[2.25229371]]) Mytorch([5.39806949]) Mytorch(0.08486461280463413)\n",
      "Mytorch([[2.2480595]]) Mytorch([5.40021536]) Mytorch(0.08463466440508784)\n",
      "Mytorch([[2.24388206]]) Mytorch([5.40233244]) Mytorch(0.08441084206493275)\n",
      "Mytorch([[2.23976064]]) Mytorch([5.40442111]) Mytorch(0.08419298257969864)\n",
      "Mytorch([[2.23569448]]) Mytorch([5.40648177]) Mytorch(0.08398092709285435)\n",
      "Mytorch([[2.23168285]]) Mytorch([5.40851479]) Mytorch(0.08377452097997208)\n",
      "Mytorch([[2.22772501]]) Mytorch([5.41052054]) Mytorch(0.08357361373597812)\n",
      "Mytorch([[2.22382025]]) Mytorch([5.41249938]) Mytorch(0.08337805886540826)\n",
      "Mytorch([[2.21996785]]) Mytorch([5.41445169]) Mytorch(0.08318771377558704)\n",
      "Mytorch([[2.21616712]]) Mytorch([5.41637782]) Mytorch(0.08300243967265336)\n",
      "Mytorch([[2.21241735]]) Mytorch([5.41827811]) Mytorch(0.08282210146035615)\n",
      "Mytorch([[2.20871786]]) Mytorch([5.42015291]) Mytorch(0.08264656764154595)\n",
      "Mytorch([[2.20506799]]) Mytorch([5.42200258]) Mytorch(0.08247571022229121)\n",
      "Mytorch([[2.20146706]]) Mytorch([5.42382744]) Mytorch(0.08230940461854906)\n",
      "Mytorch([[2.19791443]]) Mytorch([5.42562782]) Mytorch(0.08214752956532231)\n",
      "Mytorch([[2.19440943]]) Mytorch([5.42740407]) Mytorch(0.08198996702823673)\n",
      "Mytorch([[2.19095144]]) Mytorch([5.42915649]) Mytorch(0.08183660211747391)\n",
      "Mytorch([[2.18753983]]) Mytorch([5.43088541]) Mytorch(0.08168732300399718)\n",
      "Mytorch([[2.18417396]]) Mytorch([5.43259114]) Mytorch(0.08154202083800904)\n",
      "Mytorch([[2.18085323]]) Mytorch([5.434274]) Mytorch(0.08140058966958151)\n",
      "Mytorch([[2.17757703]]) Mytorch([5.4359343]) Mytorch(0.08126292637140048)\n",
      "Mytorch([[2.17434477]]) Mytorch([5.43757232]) Mytorch(0.0811289305635685)\n",
      "Mytorch([[2.17115586]]) Mytorch([5.43918838]) Mytorch(0.08099850454041051)\n",
      "Mytorch([[2.16800971]]) Mytorch([5.44078277]) Mytorch(0.0808715531992303)\n",
      "Mytorch([[2.16490575]]) Mytorch([5.44235578]) Mytorch(0.08074798397096412)\n",
      "Mytorch([[2.16184341]]) Mytorch([5.44390769]) Mytorch(0.08062770675268231)\n",
      "Mytorch([[2.15882214]]) Mytorch([5.44543879]) Mytorch(0.08051063384188899)\n",
      "Mytorch([[2.15584139]]) Mytorch([5.44694936]) Mytorch(0.08039667987257197)\n",
      "Mytorch([[2.15290062]]) Mytorch([5.44843967]) Mytorch(0.08028576175295649)\n",
      "Mytorch([[2.14999928]]) Mytorch([5.44990999]) Mytorch(0.08017779860491725)\n",
      "Mytorch([[2.14713684]]) Mytorch([5.4513606]) Mytorch(0.08007271170500452)\n",
      "Mytorch([[2.1443128]]) Mytorch([5.45279175]) Mytorch(0.07997042442704135)\n",
      "Mytorch([[2.14152662]]) Mytorch([5.45420371]) Mytorch(0.07987086218625004)\n",
      "Mytorch([[2.13877781]]) Mytorch([5.45559674]) Mytorch(0.07977395238486742)\n",
      "Mytorch([[2.13606587]]) Mytorch([5.45697108]) Mytorch(0.07967962435920853)\n",
      "Mytorch([[2.13339029]]) Mytorch([5.458327]) Mytorch(0.07958780932814088)\n",
      "Mytorch([[2.13075059]]) Mytorch([5.45966473]) Mytorch(0.07949844034293135)\n",
      "Mytorch([[2.12814629]]) Mytorch([5.46098452]) Mytorch(0.07941145223842926)\n",
      "Mytorch([[2.12557692]]) Mytorch([5.46228661]) Mytorch(0.07932678158554966)\n",
      "Mytorch([[2.123042]]) Mytorch([5.46357124]) Mytorch(0.07924436664502324)\n",
      "Mytorch([[2.12054108]]) Mytorch([5.46483864]) Mytorch(0.07916414732237737)\n",
      "Mytorch([[2.11807369]]) Mytorch([5.46608905]) Mytorch(0.07908606512411756)\n"
     ]
    },
    {
     "data": {
      "image/png": "[encoded data removed]",
      "text/plain": [
       "<Figure size 640x480 with 1 Axes>"
      ]
     },
     "metadata": {},
     "output_type": "display_data"
    }
   ],
   "source": [
    "import numpy as np\n",
    "import matplotlib.pyplot as plt\n",
    "from mytorch import Mytorch\n",
    "import mytorch.functions as F\n",
    "\n",
    "# Generate toy dataset\n",
    "np.random.seed(0)\n",
    "x = np.random.rand(100, 1)\n",
    "y = 5 + 2 * x + np.random.rand(100, 1)\n",
    "x, y = Mytorch(x), Mytorch(y)\n",
    "\n",
    "W = Mytorch(np.zeros((1, 1)))\n",
    "b = Mytorch(np.zeros(1))\n",
    "\n",
    "\n",
    "def predict(x):\n",
    "    y = F.matmul(x, W) + b\n",
    "    return y\n",
    "\n",
    "\n",
    "def mean_squared_error(x0, x1):\n",
    "    diff = x0 - x1\n",
    "    return F.sum(diff ** 2) / len(diff)\n",
    "\n",
    "\n",
    "lr = 0.1\n",
    "iters = 100\n",
    "\n",
    "for i in range(iters):\n",
    "    y_pred = predict(x)\n",
    "    loss = mean_squared_error(y, y_pred)\n",
    "\n",
    "    W.cleargrad()\n",
    "    b.cleargrad()\n",
    "    loss.backward()\n",
    "\n",
    "    # Update .data attribute (No need grads when updating params)\n",
    "    W.data -= lr * W.grad.data\n",
    "    b.data -= lr * b.grad.data\n",
    "    print(W, b, loss)\n",
    "\n",
    "\n",
    "# Plot\n",
    "plt.scatter(x.data, y.data, s=10)\n",
    "plt.xlabel('x')\n",
    "plt.ylabel('y')\n",
    "y_pred = predict(x)\n",
    "plt.plot(x.data, y_pred.data, color='r')\n",
    "plt.show()"
   ]
  },
  {
   "cell_type": "code",
   "execution_count": 29,
   "metadata": {},
   "outputs": [
    {
     "name": "stdout",
     "output_type": "stream",
     "text": [
      "<class 'mytorch.class_mytorch.Mytorch'>\n"
     ]
    }
   ],
   "source": [
    "print(type(loss))"
   ]
  },
  {
   "cell_type": "markdown",
   "metadata": {},
   "source": [
    "## 신경망"
   ]
  },
  {
   "cell_type": "markdown",
   "metadata": {},
   "source": [
    "## afine 연산"
   ]
  },
  {
   "cell_type": "code",
   "execution_count": 30,
   "metadata": {},
   "outputs": [],
   "source": [
    "class Linear(Function):\n",
    "    def forward(self, x, W, b):\n",
    "        y = x.dot(W)\n",
    "        if b is not None:\n",
    "            y += b\n",
    "        return y\n",
    "def linear(x, W, b=None):\n",
    "    return Linear()(x, W, b)\n",
    "\n",
    "\n",
    "def linear_simple(x, W, b=None):\n",
    "    t = matmul(x, W)\n",
    "    if b is None:\n",
    "        return t\n",
    "\n",
    "    y = t + b\n",
    "    t.data = None  # Release t.data (ndarray) for memory efficiency\n",
    "    #! 중간중간 남아있는 텐서 인스턴스들을 메모리 해제를 해주자!\n",
    "    return y"
   ]
  },
  {
   "cell_type": "code",
   "execution_count": 31,
   "metadata": {},
   "outputs": [
    {
     "data": {
      "text/plain": [
       "Mytorch([[6.62851649]\n",
       "          [6.98091283]\n",
       "          [6.7427863 ]\n",
       "          [6.62019179]\n",
       "          [6.36342114]\n",
       "          [6.83414038]\n",
       "          [6.39293101]\n",
       "          [7.35492998]\n",
       "          [7.50719779]\n",
       "          [6.27824644]\n",
       "          [7.14302102]\n",
       "          [6.58632747]\n",
       "          [6.66924929]\n",
       "          [7.42657094]\n",
       "          [5.61654866]\n",
       "          [5.65063533]\n",
       "          [5.50891311]\n",
       "          [7.22963924]\n",
       "          [7.11428239]\n",
       "          [7.30883889]\n",
       "          [7.53887481]\n",
       "          [7.15876578]\n",
       "          [6.44353635]\n",
       "          [7.11930736]\n",
       "          [5.716603  ]\n",
       "          [6.82148893]\n",
       "          [5.76972188]\n",
       "          [7.46696743]\n",
       "          [6.57140225]\n",
       "          [6.3443736 ]\n",
       "          [6.02643733]\n",
       "          [7.10597306]\n",
       "          [6.43224907]\n",
       "          [6.67007404]\n",
       "          [5.50588723]\n",
       "          [6.77428655]\n",
       "          [6.7625529 ]\n",
       "          [6.77280072]\n",
       "          [7.46501703]\n",
       "          [6.91023469]\n",
       "          [6.22755328]\n",
       "          [6.39175493]\n",
       "          [6.94372333]\n",
       "          [5.59365104]\n",
       "          [6.87835009]\n",
       "          [6.88654948]\n",
       "          [5.91169482]\n",
       "          [5.73916445]\n",
       "          [6.13418954]\n",
       "          [6.23645527]\n",
       "          [6.67380783]\n",
       "          [6.39507938]\n",
       "          [7.55953767]\n",
       "          [5.68222748]\n",
       "          [5.90850541]\n",
       "          [5.8077545 ]\n",
       "          [6.84942061]\n",
       "          [6.00257933]\n",
       "          [6.45376963]\n",
       "          [5.98380047]\n",
       "          [5.80279834]\n",
       "          [5.69987173]\n",
       "          [6.85624349]\n",
       "          [5.75877072]\n",
       "          [5.88246498]\n",
       "          [6.24707613]\n",
       "          [7.20501321]\n",
       "          [5.67175671]\n",
       "          [7.24091811]\n",
       "          [5.66963256]\n",
       "          [7.53430215]\n",
       "          [6.45872683]\n",
       "          [7.53494101]\n",
       "          [6.74719643]\n",
       "          [7.03190379]\n",
       "          [5.54909168]\n",
       "          [6.06509504]\n",
       "          [5.72067422]\n",
       "          [6.09333581]\n",
       "          [5.71756311]\n",
       "          [6.13960086]\n",
       "          [6.3435286 ]\n",
       "          [5.60195818]\n",
       "          [6.93279603]\n",
       "          [6.66619268]\n",
       "          [6.02820355]\n",
       "          [6.57436699]\n",
       "          [5.66506198]\n",
       "          [6.68598617]\n",
       "          [7.43440688]\n",
       "          [6.14084157]\n",
       "          [6.87971342]\n",
       "          [5.74524664]\n",
       "          [6.98332286]\n",
       "          [6.07907248]\n",
       "          [5.85410186]\n",
       "          [6.70836667]\n",
       "          [5.50867832]\n",
       "          [7.22184512]\n",
       "          [5.47603442]])"
      ]
     },
     "execution_count": 31,
     "metadata": {},
     "output_type": "execute_result"
    }
   ],
   "source": [
    "F.matmul(x,W)+b"
   ]
  },
  {
   "cell_type": "markdown",
   "metadata": {},
   "source": [
    "### 비선형 예측"
   ]
  },
  {
   "cell_type": "code",
   "execution_count": 32,
   "metadata": {},
   "outputs": [
    {
     "name": "stdout",
     "output_type": "stream",
     "text": [
      "Mytorch(0.8473695850105871)\n",
      "Mytorch(0.25142862851836056)\n",
      "Mytorch(0.2475948546674987)\n",
      "Mytorch(0.23786120447054807)\n",
      "Mytorch(0.21222231333102914)\n",
      "Mytorch(0.1674218111783414)\n",
      "Mytorch(0.09681932619992649)\n",
      "Mytorch(0.07849528290602333)\n",
      "Mytorch(0.07749729552991157)\n",
      "Mytorch(0.07722132399559314)\n"
     ]
    },
    {
     "data": {
      "image/png": "[encoded data removed]",
      "text/plain": [
       "<Figure size 640x480 with 1 Axes>"
      ]
     },
     "metadata": {},
     "output_type": "display_data"
    }
   ],
   "source": [
    "np.random.seed(0)\n",
    "x = np.random.rand(100, 1)\n",
    "y = np.sin(2 * np.pi * x) + np.random.rand(100, 1)\n",
    "\n",
    "I, H, O = 1, 10, 1\n",
    "W1 = Mytorch(0.01 * np.random.randn(I, H))\n",
    "b1 = Mytorch(np.zeros(H))\n",
    "W2 = Mytorch(0.01 * np.random.randn(H, O))\n",
    "b2 = Mytorch(np.zeros(O))\n",
    "\n",
    "\n",
    "def predict(x):\n",
    "    y = F.linear(x, W1, b1)\n",
    "    y = F.sigmoid(y)\n",
    "    y = F.linear(y, W2, b2)\n",
    "    return y\n",
    "\n",
    "\n",
    "lr = 0.2\n",
    "iters = 10000\n",
    "\n",
    "#! 오차를 최소화하는 원리는 \n",
    "#! 손실함수의 미분식으로부터 각 계층들은 자기의 미분을 전달 받고\n",
    "#! 이를 optim 정책에 따라 가중치를 반복적으로 갱신한다.\n",
    "for i in range(iters):\n",
    "    y_pred = predict(x)\n",
    "    loss = F.mean_squared_error(y, y_pred)\n",
    "\n",
    "    W1.cleargrad()\n",
    "    b1.cleargrad()\n",
    "    W2.cleargrad()\n",
    "    b2.cleargrad()\n",
    "    loss.backward()\n",
    "\n",
    "\n",
    "    W1.data -= lr * W1.grad.data\n",
    "    b1.data -= lr * b1.grad.data\n",
    "    W2.data -= lr * W2.grad.data\n",
    "    b2.data -= lr * b2.grad.data\n",
    "    if i % 1000 == 0:\n",
    "        print(loss)\n",
    "\n",
    "\n",
    "# Plot\n",
    "plt.scatter(x, y, s=10)\n",
    "plt.xlabel('x')\n",
    "plt.ylabel('y')\n",
    "t = np.arange(0, 1, .01)[:, np.newaxis]\n",
    "y_pred = predict(t)\n",
    "plt.plot(t, y_pred.data, color='r')\n",
    "plt.show()"
   ]
  },
  {
   "cell_type": "code",
   "execution_count": 33,
   "metadata": {},
   "outputs": [
    {
     "name": "stdout",
     "output_type": "stream",
     "text": [
      "Mytorch(0.8165178492839196)\n",
      "Mytorch(0.24990280802148895)\n",
      "Mytorch(0.24609876581126014)\n",
      "Mytorch(0.2372159081431807)\n",
      "Mytorch(0.20793216413350174)\n",
      "Mytorch(0.12311905720649356)\n",
      "Mytorch(0.0788816650635515)\n",
      "Mytorch(0.07655073683421637)\n",
      "Mytorch(0.07637803086238226)\n",
      "Mytorch(0.07618764131185567)\n"
     ]
    }
   ],
   "source": [
    "import numpy as np\n",
    "import mytorch.functions as F\n",
    "import mytorch.layers as L\n",
    "\n",
    "\n",
    "np.random.seed(0)\n",
    "x = np.random.rand(100, 1)\n",
    "y = np.sin(2 * np.pi * x) + np.random.rand(100, 1)\n",
    "\n",
    "l1 = L.Linear(10)\n",
    "l2 = L.Linear(1)\n",
    "\n",
    "\n",
    "def predict(x):\n",
    "    y = l1(x)\n",
    "    y = F.sigmoid(y)\n",
    "    y = l2(y)\n",
    "    return y\n",
    "\n",
    "\n",
    "lr = 0.2\n",
    "iters = 10000\n",
    "\n",
    "for i in range(iters):\n",
    "    y_pred = predict(x)\n",
    "    loss = F.mean_squared_error(y, y_pred)\n",
    "\n",
    "    l1.cleargrads()\n",
    "    l2.cleargrads()\n",
    "    loss.backward()\n",
    "\n",
    "    for l in [l1, l2]:\n",
    "        for p in l.params():\n",
    "            p.data -= lr * p.grad.data\n",
    "    if i % 1000 == 0:\n",
    "        print(loss)"
   ]
  },
  {
   "cell_type": "code",
   "execution_count": 34,
   "metadata": {},
   "outputs": [
    {
     "name": "stdout",
     "output_type": "stream",
     "text": [
      "Mytorch(0.8165178492839196)\n",
      "Mytorch(0.24990280802148895)\n",
      "Mytorch(0.24609876581126014)\n",
      "Mytorch(0.2372159081431807)\n",
      "Mytorch(0.20793216413350174)\n",
      "Mytorch(0.12311905720649356)\n",
      "Mytorch(0.0788816650635515)\n",
      "Mytorch(0.07655073683421637)\n",
      "Mytorch(0.07637803086238226)\n",
      "Mytorch(0.07618764131185567)\n"
     ]
    }
   ],
   "source": [
    "import numpy as np\n",
    "from mytorch import Mytorch\n",
    "from mytorch import Model\n",
    "import mytorch.layers as L\n",
    "import mytorch.functions as F\n",
    "\n",
    "\n",
    "np.random.seed(0)\n",
    "x = np.random.rand(100, 1)\n",
    "y = np.sin(2 * np.pi * x) + np.random.rand(100, 1)\n",
    "\n",
    "# Hyperparameters\n",
    "lr = 0.2\n",
    "max_iter = 10000\n",
    "hidden_size = 10\n",
    "\n",
    "# Model definition\n",
    "class TwoLayerNet(Model):\n",
    "    def __init__(self, hidden_size, out_size):\n",
    "        super().__init__()\n",
    "        self.l1 = L.Linear(hidden_size)\n",
    "        self.l2 = L.Linear(out_size)\n",
    "\n",
    "    def forward(self, x):\n",
    "        y = F.sigmoid(self.l1(x))\n",
    "        y = self.l2(y)\n",
    "        return y\n",
    "\n",
    "\n",
    "model = TwoLayerNet(hidden_size, 1)\n",
    "\n",
    "for i in range(max_iter):\n",
    "    y_pred = model(x)\n",
    "    loss = F.mean_squared_error(y, y_pred)\n",
    "\n",
    "    model.cleargrads()\n",
    "    loss.backward()\n",
    "\n",
    "    for p in model.params():\n",
    "        p.data -= lr * p.grad.data\n",
    "    if i % 1000 == 0:\n",
    "        print(loss)"
   ]
  },
  {
   "cell_type": "code",
   "execution_count": 35,
   "metadata": {},
   "outputs": [
    {
     "data": {
      "image/png": "[encoded data removed]",
      "text/plain": [
       "<IPython.core.display.Image object>"
      ]
     },
     "execution_count": 35,
     "metadata": {},
     "output_type": "execute_result"
    }
   ],
   "source": [
    "model.plot(x)"
   ]
  },
  {
   "cell_type": "markdown",
   "metadata": {},
   "source": [
    "### optimizer"
   ]
  },
  {
   "cell_type": "code",
   "execution_count": 36,
   "metadata": {},
   "outputs": [
    {
     "name": "stdout",
     "output_type": "stream",
     "text": [
      "Mytorch(0.8165178492839196)\n",
      "Mytorch(0.24990280802148895)\n",
      "Mytorch(0.24609876581126014)\n",
      "Mytorch(0.2372159081431807)\n",
      "Mytorch(0.20793216413350174)\n",
      "Mytorch(0.12311905720649356)\n",
      "Mytorch(0.0788816650635515)\n",
      "Mytorch(0.07655073683421637)\n",
      "Mytorch(0.07637803086238226)\n",
      "Mytorch(0.07618764131185567)\n"
     ]
    }
   ],
   "source": [
    "from mytorch import optimizers\n",
    "import mytorch.functions as F\n",
    "from mytorch.models import MLP\n",
    "\n",
    "\n",
    "np.random.seed(0)\n",
    "x = np.random.rand(100, 1)\n",
    "y = np.sin(2 * np.pi * x) + np.random.rand(100, 1)\n",
    "\n",
    "lr = 0.2\n",
    "max_iter = 10000\n",
    "hidden_size = 10\n",
    "\n",
    "model = MLP((hidden_size, 1))\n",
    "optimizer = optimizers.SGD(lr).setup(model)\n",
    "\n",
    "for i in range(max_iter):\n",
    "    y_pred = model(x)\n",
    "    loss = F.mean_squared_error(y, y_pred)\n",
    "\n",
    "    model.cleargrads()\n",
    "    loss.backward()\n",
    "\n",
    "    optimizer.update()\n",
    "    if i % 1000 == 0:\n",
    "        print(loss)"
   ]
  },
  {
   "cell_type": "code",
   "execution_count": 37,
   "metadata": {},
   "outputs": [
    {
     "name": "stdout",
     "output_type": "stream",
     "text": [
      "Mytorch([[0.25337848 0.30853735 0.38821423]])\n",
      "Mytorch([[0.31239678 0.33011233 0.35749089]])\n",
      "Mytorch([[ 2.53378479e-01  3.08537353e-01  3.88214228e-01]\n",
      "          [-3.35541286e-02  1.10980042e-01  1.05230574e-01]\n",
      "          [ 5.91540732e-01  6.00826427e-01  9.00905530e-01]\n",
      "          [-2.85549680e-01 -3.86615460e-02 -6.48145677e-04]])\n",
      "Mytorch([[0.31239678 0.33011233 0.35749089]\n",
      "          [0.30262882 0.34968796 0.34768321]\n",
      "          [0.29656973 0.29933641 0.40409386]\n",
      "          [0.27703386 0.35461329 0.36835284]])\n"
     ]
    }
   ],
   "source": [
    "from mytorch import optimizers\n",
    "import mytorch.functions as F\n",
    "from mytorch.models import MLP\n",
    "def softmax1d(x):\n",
    "    x = as_mytorch(x)\n",
    "    y = F.exp(x)\n",
    "    sum_y = F.sum(y)\n",
    "    return y / sum_y\n",
    "\n",
    "\n",
    "model = MLP((10, 3))\n",
    "\n",
    "x = Mytorch(np.array([[0.2, -0.4]]))\n",
    "y = model(x)\n",
    "p = softmax1d(y)\n",
    "print(y)\n",
    "print(p)\n",
    "\n",
    "x = np.array([[0.2, -0.4], [0.3, 0.5], [1.3, -3.2], [2.1, 0.3]])\n",
    "t = np.array([2, 0, 1, 0])\n",
    "\n",
    "y = model(x)\n",
    "p = F.softmax_simple(y)\n",
    "print(y)\n",
    "print(p)\n",
    "\n"
   ]
  },
  {
   "cell_type": "code",
   "execution_count": null,
   "metadata": {},
   "outputs": [
    {
     "name": "stdout",
     "output_type": "stream",
     "text": [
      "epoch 1, loss 1.13\n",
      "epoch 101, loss 0.42\n",
      "epoch 201, loss 0.17\n"
     ]
    },
    {
     "data": {
      "image/png": "[encoded data removed]",
      "text/plain": [
       "<Figure size 640x480 with 1 Axes>"
      ]
     },
     "metadata": {},
     "output_type": "display_data"
    }
   ],
   "source": [
    "import math\n",
    "import numpy as np\n",
    "import matplotlib.pyplot as plt\n",
    "import mytorch\n",
    "from mytorch import optimizers\n",
    "import mytorch.functions as F\n",
    "from mytorch.models import MLP\n",
    "\n",
    "# Hyperparameters\n",
    "max_epoch = 300\n",
    "batch_size = 30\n",
    "hidden_size = 10\n",
    "lr = 1.0\n",
    "\n",
    "x, t = mytorch.datasets.get_spiral(train=True)\n",
    "model = MLP((hidden_size, 3))\n",
    "optimizer = optimizers.SGD(lr).setup(model)\n",
    "\n",
    "data_size = len(x)\n",
    "max_iter = math.ceil(data_size / batch_size)\n",
    "\n",
    "for epoch in range(max_epoch):\n",
    "    # Shuffle index for data\n",
    "    index = np.random.permutation(data_size)\n",
    "    sum_loss = 0\n",
    "\n",
    "    for i in range(max_iter):\n",
    "        batch_index = index[i * batch_size:(i + 1) * batch_size]\n",
    "        batch_x = x[batch_index]\n",
    "        batch_t = t[batch_index]\n",
    "\n",
    "        y = model(batch_x)\n",
    "        loss = F.softmax_cross_entropy(y, batch_t)\n",
    "        model.cleargrads()\n",
    "        loss.backward()\n",
    "        optimizer.update()\n",
    "\n",
    "        sum_loss += float(loss.data) * len(batch_t)\n",
    "\n",
    "    # Print loss every epoch\n",
    "    avg_loss = sum_loss / data_size\n",
    "    if epoch % 100==0:\n",
    "        print('epoch %d, loss %.2f' % (epoch + 1, avg_loss))\n",
    "\n",
    "# Plot boundary area the model predict\n",
    "h = 0.001\n",
    "x_min, x_max = x[:, 0].min() - .1, x[:, 0].max() + .1\n",
    "y_min, y_max = x[:, 1].min() - .1, x[:, 1].max() + .1\n",
    "xx, yy = np.meshgrid(np.arange(x_min, x_max, h), np.arange(y_min, y_max, h))\n",
    "X = np.c_[xx.ravel(), yy.ravel()]\n",
    "\n",
    "with mytorch.no_grad():\n",
    "    score = model(X)\n",
    "predict_cls = np.argmax(score.data, axis=1)\n",
    "Z = predict_cls.reshape(xx.shape)\n",
    "plt.contourf(xx, yy, Z)\n",
    "\n",
    "# Plot data points of the dataset\n",
    "N, CLS_NUM = 100, 3\n",
    "markers = ['o', 'x', '^']\n",
    "colors = ['orange', 'blue', 'green']\n",
    "for i in range(len(x)):\n",
    "    c = t[i]\n",
    "    plt.scatter(x[i][0], x[i][1], s=40,  marker=markers[c], c=colors[c])\n",
    "plt.show()"
   ]
  }
 ],
 "metadata": {
  "kernelspec": {
   "display_name": "base",
   "language": "python",
   "name": "python3"
  },
  "language_info": {
   "codemirror_mode": {
    "name": "ipython",
    "version": 3
   },
   "file_extension": ".py",
   "mimetype": "text/x-python",
   "name": "python",
   "nbconvert_exporter": "python",
   "pygments_lexer": "ipython3",
   "version": "3.12.4"
  }
 },
 "nbformat": 4,
 "nbformat_minor": 2
}
