{
 "cells": [
  {
   "cell_type": "code",
   "execution_count": 1,
   "id": "83c327c5-3b3e-48d2-a398-2dd349166824",
   "metadata": {},
   "outputs": [
    {
     "data": {
      "text/plain": [
       "((916, 10), (393, 10), (916,))"
      ]
     },
     "execution_count": 1,
     "metadata": {},
     "output_type": "execute_result"
    }
   ],
   "source": [
    "import numpy as np\n",
    "import pandas as pd\n",
    "import os\n",
    "\n",
    "os.chdir('C:\\\\NLP_Papers_Review\\\\extra_part_01_Auto_ML\\\\data')\n",
    "DATA_PATH=os.getcwd()\n",
    "\n",
    "\n",
    "train=np.load(DATA_PATH+'/processed_train_data(titanic).npy')\n",
    "test=np.load(DATA_PATH+'/processed_test_data(titanic).npy')\n",
    "target=pd.read_csv(r'C:\\NLP_Papers_Review\\extra_part_01_Auto_ML\\data\\titanic_train.csv')['survived'].to_numpy()\n",
    "\n",
    "train.shape,test.shape,target.shape"
   ]
  },
  {
   "cell_type": "code",
   "execution_count": 2,
   "id": "14e7a479-9c80-4c72-b209-e3fe71feddc1",
   "metadata": {},
   "outputs": [
    {
     "name": "stderr",
     "output_type": "stream",
     "text": [
      "C:\\Users\\hopio\\anaconda3\\envs\\tpot-env\\lib\\site-packages\\tpot\\builtins\\__init__.py:36: UserWarning: Warning: optional dependency `torch` is not available. - skipping import of NN models.\n",
      "  warnings.warn(\"Warning: optional dependency `torch` is not available. - skipping import of NN models.\")\n",
      "Version 0.12.1 of tpot is outdated. Version 0.12.2 was released Friday February 23, 2024.\n"
     ]
    },
    {
     "data": {
      "application/vnd.jupyter.widget-view+json": {
       "model_id": "",
       "version_major": 2,
       "version_minor": 0
      },
      "text/plain": [
       "Optimization Progress:   0%|          | 0/120 [00:00<?, ?pipeline/s]"
      ]
     },
     "metadata": {},
     "output_type": "display_data"
    },
    {
     "name": "stdout",
     "output_type": "stream",
     "text": [
      "\n",
      "Generation 1 - Current best internal CV score: 0.8537974093747088\n",
      "\n",
      "Generation 2 - Current best internal CV score: 0.8551393160003726\n",
      "\n",
      "Generation 3 - Current best internal CV score: 0.8551393160003726\n",
      "\n",
      "Generation 4 - Current best internal CV score: 0.855157953592396\n",
      "\n",
      "Generation 5 - Current best internal CV score: 0.8565278166060943\n",
      "\n",
      "Best pipeline: MLPClassifier(ExtraTreesClassifier(input_matrix, bootstrap=False, criterion=gini, max_features=1.0, min_samples_leaf=7, min_samples_split=11, n_estimators=100), alpha=0.1, learning_rate_init=0.001)\n",
      "Accuracy: 0.8804\n"
     ]
    }
   ],
   "source": [
    "import numpy as np\n",
    "import pandas as pd\n",
    "from sklearn.model_selection import train_test_split\n",
    "from sklearn.metrics import accuracy_score\n",
    "from tpot import TPOTClassifier\n",
    "\n",
    "# 데이터 프레임으로 변환\n",
    "train_df = pd.DataFrame(train)\n",
    "test_df = pd.DataFrame(test)\n",
    "target_df = pd.DataFrame({'target': target})\n",
    "\n",
    "# 훈련 데이터와 타겟 결합\n",
    "train_combined_df = pd.concat([train_df, target_df], axis=1)\n",
    "\n",
    "# 훈련 데이터와 검증 데이터 분할\n",
    "X = train_combined_df.drop('target', axis=1)\n",
    "y = train_combined_df['target']\n",
    "X_train, X_test, y_train, y_test = train_test_split(X, y, test_size=0.2, random_state=123)\n",
    "\n",
    "# TPOT 모델 설정\n",
    "tpot = TPOTClassifier(verbosity=2, generations=5, population_size=20, random_state=123)\n",
    "\n",
    "# 모델 학습\n",
    "tpot.fit(X_train, y_train)\n",
    "\n",
    "# 테스트 데이터에 대한 예측\n",
    "predictions = tpot.predict(X_test)\n",
    "\n",
    "# 모델 성능 평가\n",
    "accuracy = accuracy_score(y_test, predictions)\n",
    "print(f'Accuracy: {accuracy:.4f}')\n",
    "\n",
    "# 테스트 데이터 예측\n",
    "test_predictions = tpot.predict(test_df)\n",
    "pd.DataFrame(test_predictions, columns=['survived']).to_csv('titanic_predictions_tpot.csv', index=False)\n"
   ]
  },
  {
   "cell_type": "markdown",
   "id": "6824d527-34dc-4cc1-9c10-cc29841e5393",
   "metadata": {},
   "source": [
    "## Pytorch를 이용해보기"
   ]
  },
  {
   "cell_type": "code",
   "execution_count": 3,
   "id": "723909be-79d7-4d27-86c8-f0bcca3ad155",
   "metadata": {},
   "outputs": [
    {
     "name": "stderr",
     "output_type": "stream",
     "text": [
      "Version 0.12.1 of tpot is outdated. Version 0.12.2 was released Friday February 23, 2024.\n"
     ]
    },
    {
     "data": {
      "application/vnd.jupyter.widget-view+json": {
       "model_id": "",
       "version_major": 2,
       "version_minor": 0
      },
      "text/plain": [
       "Optimization Progress:   0%|          | 0/120 [00:00<?, ?pipeline/s]"
      ]
     },
     "metadata": {},
     "output_type": "display_data"
    },
    {
     "name": "stdout",
     "output_type": "stream",
     "text": [
      "\n",
      "Generation 1 - Current best internal CV score: 0.8660236697418693\n",
      "\n",
      "Generation 2 - Current best internal CV score: 0.8660236697418693\n",
      "\n",
      "Generation 3 - Current best internal CV score: 0.8660329885378809\n",
      "\n",
      "Generation 4 - Current best internal CV score: 0.8660423073338925\n",
      "\n",
      "Generation 5 - Current best internal CV score: 0.8660423073338925\n",
      "\n",
      "Best pipeline: MLPClassifier(StandardScaler(input_matrix), alpha=0.1, learning_rate_init=0.001)\n",
      "Accuracy: 0.8369565217391305\n"
     ]
    }
   ],
   "source": [
    "import pandas as pd\n",
    "from tpot import TPOTClassifier\n",
    "from sklearn.model_selection import train_test_split\n",
    "from sklearn.metrics import accuracy_score\n",
    "\n",
    "# 데이터 분할\n",
    "X_train, X_test, y_train, y_test = train_test_split(train, target, test_size=0.2, random_state=42)\n",
    "\n",
    "# TPOT 모델 설정 및 학습\n",
    "tpot = TPOTClassifier(verbosity=2, generations=5, population_size=20, random_state=42)\n",
    "tpot.fit(X_train, y_train)\n",
    "\n",
    "# 테스트 데이터 예측\n",
    "predictions = tpot.predict(X_test)\n",
    "\n",
    "# 모델 평가\n",
    "accuracy = accuracy_score(y_test, predictions)\n",
    "print(f\"Accuracy: {accuracy}\")\n",
    "\n",
    "# 최적의 파이프라인 저장\n",
    "tpot.export('best_pipeline.py')"
   ]
  }
 ],
 "metadata": {
  "kernelspec": {
   "display_name": "Python (TPOT)",
   "language": "python",
   "name": "tpot-env"
  },
  "language_info": {
   "codemirror_mode": {
    "name": "ipython",
    "version": 3
   },
   "file_extension": ".py",
   "mimetype": "text/x-python",
   "name": "python",
   "nbconvert_exporter": "python",
   "pygments_lexer": "ipython3",
   "version": "3.8.19"
  }
 },
 "nbformat": 4,
 "nbformat_minor": 5
}
