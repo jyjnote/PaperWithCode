{
 "cells": [
  {
   "cell_type": "markdown",
   "metadata": {},
   "source": [
    "# PyTorch와 Python 코드 규칙 및 철학 소개\n",
    "\n",
    "## 1. PyTorch 개요\n",
    "PyTorch는 딥러닝을 위한 오픈소스 라이브러리로, 다음과 같은 특징을 가집니다:\n",
    "- **동적 계산 그래프**: PyTorch는 동적 계산 그래프(Dynamic Computation Graph)를 제공하여, 실행 중에 그래프 구조가 결정됩니다. 이는 디버깅과 모델 개발에 매우 유연하게 작용합니다.\n",
    "- **자동 미분**: `autograd` 모듈을 사용해 신경망의 역전파를 자동으로 처리할 수 있습니다.\n",
    "- **GPU 가속**: CUDA를 사용해 GPU에서 연산을 수행할 수 있어 대규모 연산에 유리합니다.\n",
    "- **사용자 친화적**: Pythonic한 인터페이스로 학습 곡선이 비교적 낮습니다.\n",
    "\n",
    "PyTorch의 주요 구성 요소는 다음과 같습니다:\n",
    "- **Tensor**: 기본 데이터 구조로, 다차원 배열이며 NumPy의 ndarray와 유사합니다. 하지만 GPU에서 연산할 수 있다는 차이점이 있습니다.\n",
    "- **Module**: 신경망 모델을 정의하는 기본 단위로, 모든 계층(layer)이 `nn.Module`의 하위 클래스로 구현됩니다.\n",
    "- **Optimizer**: 경사하강법을 사용하여 모델의 가중치를 업데이트하는 역할을 합니다. 대표적으로 `Adam`, `SGD` 등이 있습니다.\n",
    "- **DataLoader**: 데이터셋을 배치 단위로 불러오는 모듈로, 효율적인 미니 배치 처리를 지원합니다.\n",
    "\n",
    "## 2. Python 코드 규칙과 철학\n",
    "\n",
    "### 2.1 Python 코드 철학\n",
    "Python은 코드의 가독성을 중요시하는 언어로, 'Zen of Python'이라는 철학을 따릅니다. 주요 철학은 다음과 같습니다:\n",
    "- **명확함이 암묵성보다 낫다 (Explicit is better than implicit)**: 코드가 명확하게 의도를 드러내야 합니다.\n",
    "- **간결함이 복잡함보다 낫다 (Simple is better than complex)**: 간단하게 작성할 수 있는 코드는 복잡하게 작성하지 말아야 합니다.\n",
    "- **가독성이 중요하다 (Readability counts)**: 코드를 읽기 쉽게 작성해야 합니다.\n",
    "- **중복을 피하라 (Don't repeat yourself, DRY principle)**: 동일한 코드를 반복하지 말고, 재사용성을 높여야 합니다.\n",
    "\n",
    "Python에서는 이러한 철학을 반영한 코드 스타일 가이드라인인 **PEP 8**이 존재합니다. 이는 Python 코드 작성 시 권장되는 스타일을 규정합니다.\n",
    "\n",
    "### 2.2 Python 네이밍 규칙\n",
    "- **변수명 및 함수명**: 소문자와 언더스코어(`_`)를 사용해 작성합니다.\n",
    "    ```python\n",
    "    def get_user_name():\n",
    "        return \"User\"\n",
    "    ```\n",
    "- **클래스명**: 각 단어의 첫 글자를 대문자로 사용하며, **카멜케이스(CamelCase)**로 작성합니다.\n",
    "    ```python\n",
    "    class UserModel:\n",
    "        pass\n",
    "    ```\n",
    "- **상수**: 모두 대문자로 작성하며, 단어는 언더스코어(`_`)로 구분합니다.\n",
    "    ```python\n",
    "    MAX_RETRIES = 5\n",
    "    ```\n",
    "\n",
    "### 2.3 Python 용어 정리\n",
    "- **리스트(list)**: 변경 가능한 시퀀스 자료형으로, 여러 값을 순차적으로 저장합니다.\n",
    "    ```python\n",
    "    my_list = [1, 2, 3, 4]\n",
    "    ```\n",
    "- **딕셔너리(dict)**: 키와 값의 쌍으로 데이터를 저장하는 자료형입니다.\n",
    "    ```python\n",
    "    my_dict = {'name': 'John', 'age': 25}\n",
    "    ```\n",
    "- **튜플(tuple)**: 변경할 수 없는 시퀀스 자료형입니다.\n",
    "    ```python\n",
    "    my_tuple = (1, 2, 3)\n",
    "    ```\n",
    "- **함수(function)**: 특정 작업을 수행하는 코드 블록으로, `def` 키워드를 사용해 정의합니다.\n",
    "    ```python\n",
    "    def greet(name):\n",
    "        return f\"Hello, {name}!\"\n",
    "    ```\n",
    "- **클래스(class)**: 객체지향 프로그래밍에서 객체를 생성하는 틀로, 데이터와 메소드를 포함할 수 있습니다.\n",
    "    ```python\n",
    "    class User:\n",
    "        def __init__(self, name):\n",
    "            self.name = name\n",
    "    ```\n",
    "\n",
    "### 2.4 Python 코드 작성 팁\n",
    "- **인덴트(들여쓰기)**: Python은 들여쓰기를 통해 코드 블록을 구분합니다. **4칸**의 공백을 사용하는 것이 일반적입니다.\n",
    "    ```python\n",
    "    if condition:\n",
    "        print(\"This is indented\")\n",
    "    ```\n",
    "- **주석**: 주석은 코드 설명을 위해 사용되며, 한 줄 주석은 `#`을 사용합니다.\n",
    "    ```python\n",
    "    # This is a comment\n",
    "    print(\"Hello, World!\")  # Inline comment\n",
    "    ```\n",
    "- **라인 길이**: 한 줄의 길이는 **79자**를 넘지 않도록 작성합니다.\n",
    "\n",
    "## 참고자료\n",
    "- [PyTorch Documentation](https://pytorch.org/docs/)\n",
    "- [Python PEP 8 Style Guide](https://www.python.org/dev/peps/pep-0008/)\n"
   ]
  },
  {
   "cell_type": "code",
   "execution_count": 1,
   "metadata": {},
   "outputs": [],
   "source": [
    "import numpy as np\n",
    "\n",
    "class Mytorch:\n",
    "    def __init__(self, data):\n",
    "        self.data=data\n",
    "        "
   ]
  },
  {
   "cell_type": "code",
   "execution_count": null,
   "metadata": {},
   "outputs": [
    {
     "name": "stdout",
     "output_type": "stream",
     "text": [
      "1.0\n"
     ]
    }
   ],
   "source": [
    "data=np.array(1.0)\n",
    "torch_ob=Mytorch(data)\n",
    "print(torch_ob.data) # ! 스칼라"
   ]
  },
  {
   "cell_type": "code",
   "execution_count": null,
   "metadata": {},
   "outputs": [
    {
     "name": "stdout",
     "output_type": "stream",
     "text": [
      "[1.]\n"
     ]
    }
   ],
   "source": [
    "data=np.array([1.0])\n",
    "torch_ob=Mytorch(data)\n",
    "print(torch_ob.data) # ! 1차원 배열값"
   ]
  },
  {
   "cell_type": "code",
   "execution_count": 4,
   "metadata": {},
   "outputs": [
    {
     "name": "stdout",
     "output_type": "stream",
     "text": [
      "[1.]\n"
     ]
    }
   ],
   "source": [
    "print(np.array([1.0]))"
   ]
  },
  {
   "cell_type": "code",
   "execution_count": 5,
   "metadata": {},
   "outputs": [
    {
     "data": {
      "text/plain": [
       "__main__.Mytorch"
      ]
     },
     "execution_count": 5,
     "metadata": {},
     "output_type": "execute_result"
    }
   ],
   "source": [
    "torch_ob.__class__"
   ]
  },
  {
   "cell_type": "markdown",
   "metadata": {},
   "source": [
    "# 파이썬 매직 메서드 (Magic Methods)\n",
    "\n",
    "매직 메서드는 Python 클래스에 특수한 동작을 정의하는 메서드입니다. 이들은 주로 두 개의 밑줄로 시작하고 끝나며, 객체의 기본 동작을 커스터마이즈할 수 있게 해줍니다. 매직 메서드를 사용하면 Python의 다양한 내장 연산자 및 함수와 클래스를 통합할 수 있습니다.\n",
    "\n",
    "## 대표적인 매직 메서드들\n",
    "\n",
    "- **`__init__(self)`**: 객체가 생성될 때 초기화하는 메서드입니다. 생성자 역할을 합니다.\n",
    "  ```python\n",
    "  def __init__(self, value):\n",
    "      self.value = value\n",
    "\n",
    "  def __str__(self):\n",
    "      return f\"My value is {self.value}\"\n",
    "\n",
    "  def __repr__(self):\n",
    "      return f\"Object(value={self.value})\"\n",
    " \n",
    "  def __call__(self, arg):\n",
    "      return self.value + arg\n",
    "\n",
    "  def __add__(self, other):\n",
    "      return self.value + other\n",
    "\n",
    "  def __len__(self):\n",
    "      return len(self.value)\n"
   ]
  },
  {
   "cell_type": "markdown",
   "metadata": {},
   "source": [
    "## Functions.forward는 새로운 Mytorch를 생성하여 반환한다."
   ]
  },
  {
   "cell_type": "code",
   "execution_count": 7,
   "metadata": {},
   "outputs": [
    {
     "data": {
      "text/plain": [
       "25.0"
      ]
     },
     "execution_count": 7,
     "metadata": {},
     "output_type": "execute_result"
    }
   ],
   "source": [
    "class Function:\n",
    "    \"\"\"\n",
    "    Function 클래스는 객체를 함수처럼 호출할 수 있게 해주는 기능을 제공합니다.\n",
    "    \n",
    "    Methods:\n",
    "    --------\n",
    "    __call__(mt_ob):\n",
    "        입력된 My_torch 객체의 데이터를 제곱하여 새로운 My_torch 객체로 반환합니다.\n",
    "    \n",
    "    \"\"\"\n",
    "    \n",
    "    def __call__(self, input:Mytorch):\n",
    "        \"\"\"\n",
    "        입력된 My_torch 객체의 데이터를 제곱하여 결과를 반환합니다.\n",
    "\n",
    "        Parameters:\n",
    "        -----------\n",
    "        mt_ob : My_torch\n",
    "            My_torch 클래스의 인스턴스로, 데이터가 포함된 객체입니다.\n",
    "\n",
    "        Returns:\n",
    "        --------\n",
    "        output : My_torch\n",
    "            입력 데이터의 제곱 값을 갖는 My_torch 객체를 반환합니다.\n",
    "        \"\"\"\n",
    "        # mt_ob의 데이터를 꺼냅니다.\n",
    "        value = input.data\n",
    "        \n",
    "        # 데이터를 제곱합니다.\n",
    "        y = value ** 2\n",
    "        \n",
    "        # ! 결과를 My_torch 객체로 감싸서 반환합니다.\n",
    "        output = Mytorch(y)\n",
    "\n",
    "\n",
    "        # ! 함수는 mtorch 객체에서 data을 빼와 계산을 해고 다시 mytorch로 만들어서 반환해줌        \n",
    "        return output # ! mytorch 객체\n",
    "\n",
    "\n",
    "# My_torch 클래스 인스턴스 생성\n",
    "torch_ob = Mytorch(np.array(5.0))\n",
    "\n",
    "# Function 클래스 인스턴스 생성\n",
    "f = Function()\n",
    "\n",
    "# Function 객체를 호출하여 결과 반환\n",
    "y = f(torch_ob)\n",
    "\n",
    "# 제곱된 데이터 출력\n",
    "y.data # ! NumPy의 스칼라 표현 방식 때문\n"
   ]
  },
  {
   "cell_type": "markdown",
   "metadata": {},
   "source": [
    "| 속성               | `np.array(3)`                  | `np.array([3])`               |\n",
    "|--------------------|--------------------------------|--------------------------------|\n",
    "| **타입**           | `numpy.ndarray`               | `numpy.ndarray`               |\n",
    "| **차원**           | 0차원 (스칼라 배열)            | 1차원                         |\n",
    "| **`shape`**         | `()`                          | `(1,)`                        |\n",
    "| **값 접근 방식**   | 스칼라처럼 동작 (`a.item()`으로 반환 가능) | 배열 요소 접근 필요 (`b[0]`) |\n"
   ]
  },
  {
   "cell_type": "code",
   "execution_count": 8,
   "metadata": {},
   "outputs": [
    {
     "data": {
      "text/plain": [
       "numpy.ndarray"
      ]
     },
     "execution_count": 8,
     "metadata": {},
     "output_type": "execute_result"
    }
   ],
   "source": [
    "type(torch_ob.data)"
   ]
  },
  {
   "cell_type": "code",
   "execution_count": 9,
   "metadata": {},
   "outputs": [
    {
     "data": {
      "text/plain": [
       "__main__.Mytorch"
      ]
     },
     "execution_count": 9,
     "metadata": {},
     "output_type": "execute_result"
    }
   ],
   "source": [
    "type(y)"
   ]
  },
  {
   "cell_type": "code",
   "execution_count": 10,
   "metadata": {},
   "outputs": [
    {
     "data": {
      "text/plain": [
       "False"
      ]
     },
     "execution_count": 10,
     "metadata": {},
     "output_type": "execute_result"
    }
   ],
   "source": [
    "torch_ob is y"
   ]
  },
  {
   "cell_type": "code",
   "execution_count": 11,
   "metadata": {},
   "outputs": [
    {
     "data": {
      "text/plain": [
       "5.184705528587073e+21"
      ]
     },
     "execution_count": 11,
     "metadata": {},
     "output_type": "execute_result"
    }
   ],
   "source": [
    "class Function:\n",
    "    \"\"\"\n",
    "    Function 클래스는 함수처럼 호출할 수 있는 기본 구조를 정의하는 클래스입니다.\n",
    "    상속을 통해 `forward` 메서드를 구현하여 다양한 연산을 정의할 수 있습니다.\n",
    "    \n",
    "    Methods:\n",
    "    --------\n",
    "    __call__(torch_ob: Mytorch) -> Mytorch:\n",
    "        입력된 My_torch 객체의 데이터를 처리하여 새로운 My_torch 객체로 반환합니다.\n",
    "        >>> torch_ob = Mytorch(np.array(3.0))\n",
    "        >>> A = Square()\n",
    "        >>> A(torch_ob).data\n",
    "        array(9.0)\n",
    "    \n",
    "    forward(value: numpy.ndarray) -> numpy.ndarray:\n",
    "        상속받는 클래스에서 구현해야 하는 메서드로, 입력된 데이터를 처리하여 반환합니다.\n",
    "        상속받은 클래스에서 반드시 구현되어야 하며, 구현되지 않으면 NotImplementedError가 발생합니다.\n",
    "    \"\"\"\n",
    "    \n",
    "    def __call__(self, torch_ob: Mytorch) -> Mytorch:\n",
    "        \"\"\"\n",
    "        입력된 My_torch 객체의 데이터를 forward 메서드를 통해 처리하여 반환합니다.\n",
    "\n",
    "        Parameters:\n",
    "        ----------- \n",
    "        torch_ob : Mytorch\n",
    "            My_torch 클래스의 인스턴스로, 데이터가 포함된 객체입니다.\n",
    "\n",
    "        Returns:\n",
    "        --------\n",
    "        output : Mytorch\n",
    "            forward 메서드를 통해 처리된 데이터를 `Mytorch` 객체로 감싸서 반환합니다.\n",
    "\n",
    "        Example:\n",
    "        --------\n",
    "        >>> torch_ob = Mytorch(np.array(4.0))\n",
    "        >>> f = Square()\n",
    "        >>> result = f(torch_ob)\n",
    "        >>> result.data\n",
    "        array(16.0)\n",
    "        \"\"\"\n",
    "        # mt_ob의 데이터를 추출합니다.\n",
    "        value = torch_ob.data\n",
    "        \n",
    "        # forward 메서드를 호출하여 데이터를 처리합니다.\n",
    "        # ! todo 하위 클래스 함수에서 연사을 수행함.\n",
    "        y = self.forward(value)\n",
    "        \n",
    "        # forward 메서드를 통해 처리된 결과를 My_torch 클래스로 감싸서 반환합니다.\n",
    "        output = Mytorch(y)\n",
    "        \n",
    "        return output\n",
    "    \n",
    "    def forward(self, value: 'numpy.ndarray') -> 'numpy.ndarray':\n",
    "        \"\"\"\n",
    "        데이터를 처리하는 연산을 정의하는 메서드로, 상속받는 클래스에서 반드시 구현해야 합니다.\n",
    "        이 메서드는 상속받는 하위 클래스에서 구체적인 연산을 수행하도록 설계되었습니다.\n",
    "\n",
    "        Parameters:\n",
    "        -----------\n",
    "        value : numpy.ndarray\n",
    "            처리할 데이터를 나타냅니다.\n",
    "\n",
    "        Returns:\n",
    "        --------\n",
    "        numpy.ndarray\n",
    "            연산이 완료된 데이터가 반환됩니다.\n",
    "        \"\"\"\n",
    "        raise NotImplementedError\n",
    "\n",
    "\n",
    "class Square(Function):\n",
    "    \"\"\"\n",
    "    Square 클래스는 Function 클래스를 상속받아, 데이터를 제곱하는 연산을 정의한 클래스입니다.\n",
    "    \n",
    "    Methods:\n",
    "    --------\n",
    "    forward(value: numpy.ndarray) -> numpy.ndarray:\n",
    "        입력된 데이터를 제곱하여 반환합니다.\n",
    "\n",
    "    Example:\n",
    "    --------\n",
    "    >>> f = Square()\n",
    "    >>> torch_ob = Mytorch(np.array(3.0))\n",
    "    >>> result = f(torch_ob)\n",
    "    >>> result.data\n",
    "    array(9.0)\n",
    "    \"\"\"\n",
    "    \n",
    "    def forward(self, value: 'numpy.ndarray') -> 'numpy.ndarray':\n",
    "        \"\"\"\n",
    "        입력된 데이터를 제곱하여 반환합니다.\n",
    "\n",
    "        Parameters:\n",
    "        ----------- \n",
    "        value : numpy.ndarray\n",
    "            입력 데이터로, 제곱할 값을 가집니다.\n",
    "\n",
    "        Returns:\n",
    "        --------\n",
    "        numpy.ndarray\n",
    "            입력 데이터의 제곱 값이 반환됩니다.\n",
    "        \n",
    "        Note:\n",
    "        -----\n",
    "        이 메서드는 상속받아 구현된 후, 호출 시 데이터를 제곱한 후 `My_torch` 클래스로 반환합니다.\n",
    "        \"\"\"\n",
    "        return value ** 2\n",
    "    \n",
    "\n",
    "class Exp(Function):\n",
    "    \"\"\"\n",
    "    Exp 클래스는 Function 클래스를 상속받아, 데이터를 지수 함수로 변환하는 연산을 정의한 클래스입니다.\n",
    "\n",
    "    Example:\n",
    "    --------\n",
    "    >>> f = Exp()\n",
    "    >>> torch_ob = Mytorch(np.array(1.0))\n",
    "    >>> result = f(torch_ob)\n",
    "    >>> result.data\n",
    "    array(2.71828183)\n",
    "    \"\"\"\n",
    "    \n",
    "    def forward(self, value: 'numpy.ndarray') -> 'numpy.ndarray':\n",
    "        \"\"\"\n",
    "        입력된 데이터를 지수 함수(exp)로 변환하여 반환합니다.\n",
    "\n",
    "        Parameters:\n",
    "        ----------- \n",
    "        value : numpy.ndarray\n",
    "            입력 데이터로, 지수 함수로 변환할 값을 가집니다.\n",
    "\n",
    "        Returns:\n",
    "        --------\n",
    "        numpy.ndarray\n",
    "            입력 데이터에 대해 지수 함수(exp)를 적용한 값이 반환됩니다.\n",
    "        \"\"\"\n",
    "        return np.exp(value)\n",
    "\n",
    "\n",
    "# Square 클래스 인스턴스 생성 (Function 클래스의 상속)\n",
    "A = Square()\n",
    "B = Exp()\n",
    "C = Square()\n",
    "\n",
    "# My_torch 클래스 인스턴스 생성\n",
    "torch_ob = Mytorch(np.array(5.0))\n",
    "\n",
    "# Square 객체를 호출하여 입력 데이터를 제곱한 결과를 반환\n",
    "a = A(torch_ob)  # 제곱: 25.0\n",
    "b = B(a)      # exp(25.0)\n",
    "y = C(b)      # exp(25.0)의 제곱\n",
    "\n",
    "# 결과 출력\n",
    "y.data  # 결과: exp(25.0)의 제곱 값\n"
   ]
  },
  {
   "cell_type": "code",
   "execution_count": 12,
   "metadata": {},
   "outputs": [
    {
     "data": {
      "text/plain": [
       "4.000000000004"
      ]
     },
     "execution_count": 12,
     "metadata": {},
     "output_type": "execute_result"
    }
   ],
   "source": [
    "\n",
    "# ! 수치 미분 방식 \n",
    "def numerical_diff(f,mt_ob,eps=1e-4):\n",
    "    value0=Mytorch(mt_ob.data-eps)\n",
    "    value1=Mytorch(mt_ob.data+eps)\n",
    "\n",
    "    y0=f(value0)\n",
    "    y1=f(value1)\n",
    "\n",
    "    # numpy 연산\n",
    "    return (y1.data - y0.data)/(2*eps)\n",
    "\n",
    "f=Square()\n",
    "torch_ob=Mytorch(np.array(2.0))\n",
    "numerical_diff(f,torch_ob)"
   ]
  },
  {
   "cell_type": "code",
   "execution_count": 13,
   "metadata": {},
   "outputs": [
    {
     "name": "stdout",
     "output_type": "stream",
     "text": [
      "3.2974426293330694 <class 'numpy.float64'>\n"
     ]
    }
   ],
   "source": [
    "def f(x):\n",
    "    A = Square()\n",
    "    B = Exp()\n",
    "    C = Square()\n",
    "    return C(B(A(x)))\n",
    "\n",
    "\n",
    "x = Mytorch(np.array(0.5))\n",
    "dy = numerical_diff(f, x)\n",
    "print(dy,dy.__class__)"
   ]
  },
  {
   "attachments": {
    "image.png": {
     "image/png": "[encoded data removed]"
    }
   },
   "cell_type": "markdown",
   "metadata": {},
   "source": [
    "# 역전파 구현\n",
    "\n",
    "![image.png](attachment:image.png)"
   ]
  },
  {
   "cell_type": "code",
   "execution_count": 14,
   "metadata": {},
   "outputs": [
    {
     "name": "stdout",
     "output_type": "stream",
     "text": [
      "입력 x: 0.5\n",
      "a Square.data 0.5 (Square(x)): 0.25, same instance: True,False\n",
      "b Exp.data 0.25 (Exp(a)): 1.2840254166877414, same instance: True,False\n",
      "y Square.data 1.2840254166877414 (Square(b)): 1.648721270700128, same instance: True,False\n"
     ]
    }
   ],
   "source": [
    "import numpy as np\n",
    "\n",
    "\n",
    "class MyTorch:\n",
    "    def __init__(self, data):\n",
    "        self.data = data\n",
    "        self.grad = None\n",
    "\n",
    "\n",
    "class Function:\n",
    "    def __call__(self, input: MyTorch) -> MyTorch:\n",
    "        \"\"\"\n",
    "        Function 클래스의 인스턴스를 호출하여 입력 데이터에 대한 연산을 수행합니다.\n",
    "\n",
    "        매개변수:\n",
    "        - input (MyTorch): 입력 데이터가 담긴 MyTorch 인스턴스입니다.\n",
    "\n",
    "        반환값:\n",
    "        - MyTorch: 연산 결과를 담고 있는 MyTorch 인스턴스입니다.\n",
    "        \"\"\"\n",
    "        x = input.data\n",
    "        self.input = input # 함수는 인풋 인스턴스를 저장한다\n",
    "\n",
    "        y = self.forward(x) # numpy.ndarray\n",
    "        output = MyTorch(y)\n",
    "        \n",
    "        return output\n",
    "\n",
    "    def forward(self, x):\n",
    "        \"\"\"\n",
    "        이 메서드는 서브클래스에서 구현되어야 하며, 입력 데이터에 대한 \n",
    "        연산을 정의합니다.\n",
    "\n",
    "        매개변수:\n",
    "        - x: 입력 데이터입니다.\n",
    "\n",
    "        반환값:\n",
    "        - 연산 결과입니다.\n",
    "        \"\"\"\n",
    "        raise NotImplementedError()\n",
    "\n",
    "    def backward(self, gy: \"numpy.ndarray\")-> \"numpy.ndarray\":\n",
    "        \"\"\"\n",
    "        이 메서드는 서브클래스에서 구현되어야 하며, 손실 함수의 기울기를 \n",
    "        사용하여 입력 데이터의 기울기를 계산합니다.\n",
    "\n",
    "        매개변수:\n",
    "        - gy: 출력의 기울기입니다.\n",
    "\n",
    "        반환값:\n",
    "        - 입력의 기울기입니다.\n",
    "        \"\"\"\n",
    "        raise NotImplementedError()\n",
    "\n",
    "\n",
    "class Square(Function):\n",
    "    def forward(self, x : \"numpy.ndarray\"):\n",
    "        \"\"\"\n",
    "        입력값의 제곱을 계산합니다.\n",
    "\n",
    "        매개변수:\n",
    "        - x: 입력 데이터입니다.\n",
    "\n",
    "        반환값:\n",
    "        - 입력값 x의 제곱, y = x ** 2로 계산됩니다.\n",
    "        \"\"\"\n",
    "        y = x ** 2\n",
    "        return y\n",
    "\n",
    "    def backward(self, gy: \"numpy.ndarray\") -> \"numpy.ndarray\":\n",
    "        \"\"\"\n",
    "        입력값의 제곱에 대한 기울기를 계산합니다.\n",
    "\n",
    "        매개변수:\n",
    "        - gy: 출력의 기울기입니다.\n",
    "\n",
    "        반환값:\n",
    "        - 입력값 x에 대한 기울기 gx는 다음과 같이 계산됩니다:\n",
    "          gx = 2 * x * gy, 여기서 x는 self.input.data로부터 가져옵니다.\n",
    "        \"\"\"\n",
    "        x = self.input.data\n",
    "        # ! 함수는 본인의 인풋값을 항상기억하고 있어야 함.   \n",
    "\n",
    "        gx = 2 * x * gy\n",
    "        return gx\n",
    "\n",
    "\n",
    "class Exp(Function):\n",
    "    def forward(self, x):\n",
    "        \"\"\"\n",
    "        입력값의 지수 함수를 계산합니다.\n",
    "\n",
    "        매개변수:\n",
    "        - x: 입력 데이터입니다.\n",
    "\n",
    "        반환값:\n",
    "        - 지수 함수의 결과 y는 np.exp(x)로 계산됩니다.\n",
    "        \"\"\"\n",
    "        y = np.exp(x)\n",
    "        return y\n",
    "\n",
    "    def backward(self, gy:\"numpy.ndarray\")->\"numpy.ndarray\":\n",
    "        \"\"\"\n",
    "        입력값의 지수 함수에 대한 기울기를 계산합니다.\n",
    "\n",
    "        매개변수:\n",
    "        - gy: 출력의 기울기입니다.\n",
    "\n",
    "        반환값:\n",
    "        - 입력값 x에 대한 기울기 gx는 다음과 같이 계산됩니다:\n",
    "          gx = np.exp(x) * gy, 여기서 x는 self.input.data로부터 가져옵니다.\n",
    "        \"\"\"\n",
    "        x = self.input.data\n",
    "        gx = np.exp(x) * gy\n",
    "        return gx\n",
    "\n",
    "\n",
    "\n",
    "A = Square()  # Square 함수 인스턴스\n",
    "B = Exp()     # Exp 함수 인스턴스\n",
    "C = Square()  # Square 함수 인스턴스\n",
    "\n",
    "# 초기 입력값\n",
    "x = MyTorch(np.array(0.5))  # MyTorch 인스턴스 생성\n",
    "print(f\"입력 x: {x.data}\")\n",
    "\n",
    "# Forward pass\n",
    "a = A(x)  # a = x^2\n",
    "print(f\"a Square.data {A.input.data} (Square(x)): {a.data}, same instance: {A.input is x},{a is x}\")\n",
    "\n",
    "b = B(a)  # b = exp(a)\n",
    "print(f\"b Exp.data {B.input.data} (Exp(a)): {b.data}, same instance: {B.input is a},{b is a}\")\n",
    "\n",
    "y = C(b)  # y = b^2\n",
    "print(f\"y Square.data {C.input.data} (Square(b)): {y.data}, same instance: {C.input is b},{y is b}\")\n"
   ]
  },
  {
   "cell_type": "code",
   "execution_count": 15,
   "metadata": {},
   "outputs": [
    {
     "name": "stdout",
     "output_type": "stream",
     "text": [
      "y.grad: 1.0\n",
      "b.grad (C.backward(y.grad)): 2.568050833375483,<class 'numpy.float64'>, C instance: <class '__main__.Square'> \n",
      "\n",
      "True \n",
      "\n",
      "a.grad (B.backward(b.grad)): 3.297442541400256, B instance: <class '__main__.Exp'>\n",
      "x.grad (A.backward(a.grad)): 3.297442541400256, A instance: <class '__main__.Square'>\n"
     ]
    }
   ],
   "source": [
    "# 기울기 설정\n",
    "y.grad = np.array(1.0)  # y에 대한 기울기\n",
    "print(f\"y.grad: {y.grad}\")\n",
    "\n",
    "# Backward pass\n",
    "b.grad = C.backward(y.grad)  # b에 대한 기울기\n",
    "print(f\"b.grad (C.backward(y.grad)): {b.grad},{b.grad.__class__}, C instance: {C.__class__}\",\"\\n\")\n",
    "print(f\"{C.input is b}\",\"\\n\")\n",
    "\n",
    "a.grad = B.backward(b.grad)  # a에 대한 기울기\n",
    "print(f\"a.grad (B.backward(b.grad)): {a.grad}, B instance: {B.__class__}\")\n",
    "\n",
    "x.grad = A.backward(a.grad)  # x에 대한 기울기\n",
    "print(f\"x.grad (A.backward(a.grad)): {x.grad}, A instance: {A.__class__}\")\n"
   ]
  },
  {
   "cell_type": "code",
   "execution_count": 16,
   "metadata": {},
   "outputs": [
    {
     "data": {
      "text/plain": [
       "3.297442541400256"
      ]
     },
     "execution_count": 16,
     "metadata": {},
     "output_type": "execute_result"
    }
   ],
   "source": [
    "x.grad"
   ]
  },
  {
   "cell_type": "markdown",
   "metadata": {},
   "source": [
    "## linked list 구현\n",
    "\n",
    "|x|->f()[input->x,output->y]-->y\n",
    "\n",
    "|x|->f()<--creator-->y"
   ]
  },
  {
   "cell_type": "code",
   "execution_count": null,
   "metadata": {},
   "outputs": [],
   "source": [
    "import numpy as np\n",
    "\n",
    "\n",
    "class MyTorch:\n",
    "    def __init__(self, data):\n",
    "        \"\"\"\n",
    "        MyTorch 클래스는 데이터와 기울기(grad) 정보를 저장하는 변수입니다.\n",
    "        \n",
    "        속성:\n",
    "        - data: 변수에 저장할 데이터입니다.\n",
    "        - grad: 해당 변수의 기울기 정보를 저장합니다. 초기값은 None입니다.\n",
    "        - creator: 이 변수를 생성한 함수의 인스턴스를 저장합니다. 초기값은 None입니다.\n",
    "\n",
    "        매개변수:\n",
    "        - data: 변수에 저장할 데이터입니다.\n",
    "\n",
    "        사용 예시:\n",
    "        >>> x = MyTorch(np.array(0.5))\n",
    "        >>> print(x.data)  # 출력: [0.5]\n",
    "        \"\"\"\n",
    "        self.data = data\n",
    "        self.grad = None # 본인의 영향도를 저장할 변수\n",
    "        self.creator = None  # 본인을 생성한 함수를 저장할 변수\n",
    "\n",
    "\n",
    "    def set_creator(self, func):\n",
    "        \"\"\"\n",
    "        MyTorch 인스턴스의 creator를 설정합니다.\n",
    "        \n",
    "        매개변수:\n",
    "        - func: MyTorch을 생성한 함수 인스턴스입니다.\n",
    "\n",
    "        사용 예시:\n",
    "        >>> x = MyTorch(np.array(0.5))\n",
    "        >>> x.set_creator(some_function_instance)\n",
    "        \"\"\"\n",
    "        self.creator = func\n",
    "        # ! 해당 함수는 func 본인의 생산자를 기억함\n",
    "    def backward(self):\n",
    "        \"\"\"\n",
    "        역전파를 수행하여 기울기를 계산합니다.\n",
    "        \n",
    "        속성:\n",
    "        - creator: 역전파에서 호출될 함수를 저장합니다.\n",
    "        \n",
    "        동작:\n",
    "        1. 현재 MyTorch 인스턴스의 creator로부터 함수 인스턴스를 가져옵니다.\n",
    "        2. 해당 함수 인스턴스의 입력값을 가져옵니다.\n",
    "        3. 함수의 backward 메서드를 호출하여 입력값의 기울기를 계산합니다.\n",
    "        4. 입력값에 대해 backward를 재귀적으로 호출합니다.\n",
    "\n",
    "        사용 예시:\n",
    "        >>> x = MyTorch(np.array(0.5))\n",
    "        >>> x.backward()  # 이 호출을 통해 역전파가 시작됩니다.\n",
    "        \"\"\"\n",
    "    #    f = self.creator  # 1. Get a function\n",
    "    #    if f is not None:\n",
    "    #        x = f.input  # 2. Get the function's input\n",
    "    #        x.grad = f.backward(self.grad)  # 3. Call the function's backward\n",
    "    #        x.backward()  # 4. Recursive backward call\n",
    "\n",
    "        f = self.creator  # 1. Get a function\n",
    "        if f is not None:\n",
    "            x = f.input  # 2. Get the function's input\n",
    "\n",
    "            print(f\"순전파 값: {x.data} 미분값: {x.grad}, 도함수: {f.__class__.__name__}\",\"\\n\")\n",
    "            x.grad = f.backward(self.grad)  # 3. Call the function's backward\n",
    "            # 단순 미분값만을 계산하는 함수 인스턴스의 backward 임\n",
    "\n",
    "            print(f\"함수{f}의 인풋 값 {x.data}에 저장된 미분값: {x.grad}, 도함수(creator): {f.__class__.__name__}\",\"\\n\")\n",
    "            print(f\"생성 함수의 존재 여부: {x.creator is not None}\")\n",
    "            x.backward()  # 4. Recursive backward call\n",
    "            # 인스턴스의 backward 임 본인의 생성 함수를 불러옴\n",
    "            print(\"=\"*5)\n",
    "\n",
    "class Function:\n",
    "    def __call__(self, input: MyTorch) -> MyTorch:\n",
    "        \"\"\"\n",
    "        Function 클래스의 인스턴스를 호출하여 입력값에 대한 연산을 수행합니다.\n",
    "        \n",
    "        속성:\n",
    "        - input: 함수의 입력 데이터입니다.\n",
    "        - output: 함수의 출력 데이터입니다.\n",
    "\n",
    "        매개변수:\n",
    "        - input (MyTorch): 입력 데이터가 담긴 MyTorch 인스턴스입니다.\n",
    "\n",
    "        반환값:\n",
    "        - MyTorch: 연산 결과를 담고 있는 MyTorch 인스턴스입니다.\n",
    "\n",
    "        사용 예시:\n",
    "        >>> f = SomeFunction()  # SomeFunction은 Function의 서브클래스\n",
    "        >>> x = MyTorch(np.array(0.5))\n",
    "        >>> y = f(x)  # f(x)를 호출하여 연산 수행\n",
    "        \"\"\"\n",
    "        x = input.data # 마이 토치의 데이터 값을 가져옴\n",
    "        y = self.forward(x) # 하위 클래스의 forward 연산을 수행함\n",
    "        output = MyTorch(y) # 결과값을 다시 마이토치 인스턴스를 생성함 \n",
    "        output.set_creator(self)  # ! 결과 인스턴스는 본인의 생성함수를 기억시킴.\n",
    "        # 결과 y마이토치 인스턴스는 y=f(x)에서 순전파에서 사용된 y의 직전 함수를 저장함\n",
    "        # cf) input.data=0.5 -> sqr(0.5) y=0.25 y인스턴스는 sqr()을 저장함\n",
    "        # ! 함수는 본인의 인풋값, 결과값을 같이 기억함.\n",
    "        self.input = input # 각 하위 함수는 입력값을 저장  **같은 주소를 가르키고 있음**\n",
    "        self.output = output  # 각 하위 함수는 결과 값을 저장 **같은 주소를 가르키고 있음**\n",
    "        return output\n",
    "\n",
    "    def forward(self, x):\n",
    "        \"\"\"\n",
    "        서브클래스에서 구현되어야 하며, 입력 데이터에 대한 연산을 정의합니다.\n",
    "\n",
    "        매개변수:\n",
    "        - x: 입력 데이터입니다.\n",
    "\n",
    "        반환값:\n",
    "        - 연산 결과입니다.\n",
    "\n",
    "        사용 예시:\n",
    "        >>> y = f.forward(x)  # f는 Function의 서브클래스\n",
    "        \"\"\"\n",
    "        raise NotImplementedError()\n",
    "\n",
    "    def backward(self, gy):\n",
    "        \"\"\"\n",
    "        서브클래스에서 구현되어야 하며, 손실 함수의 기울기를 사용하여 \n",
    "        입력 데이터의 기울기를 계산합니다.\n",
    "\n",
    "        매개변수:\n",
    "        - gy: 출력의 기울기입니다.\n",
    "\n",
    "        반환값:\n",
    "        - 입력의 기울기입니다.\n",
    "\n",
    "        사용 예시:\n",
    "        >>> gx = f.backward(gy)  # gy는 손실 함수의 기울기\n",
    "        \"\"\"\n",
    "        raise NotImplementedError()\n",
    "\n",
    "\n",
    "class Square(Function):\n",
    "    def forward(self, x):\n",
    "        \"\"\"\n",
    "        입력값의 제곱을 계산합니다.\n",
    "\n",
    "        매개변수:\n",
    "        - x: 입력 데이터입니다.\n",
    "\n",
    "        반환값:\n",
    "        - 입력값 x의 제곱, y = x ** 2로 계산됩니다.\n",
    "\n",
    "        사용 예시:\n",
    "        >>> s = Square()\n",
    "        >>> result = s.forward(np.array(2.0))  # result는 4.0이 됩니다.\n",
    "        \"\"\"\n",
    "        y = x ** 2\n",
    "        return y\n",
    "\n",
    "    def backward(self, gy):\n",
    "        \"\"\"\n",
    "        입력값의 제곱에 대한 기울기를 계산합니다.\n",
    "\n",
    "        매개변수:\n",
    "        - gy: 출력의 기울기입니다.\n",
    "\n",
    "        반환값:\n",
    "        - 입력값 x에 대한 기울기 gx는 다음과 같이 계산됩니다:\n",
    "          gx = 2 * x * gy, 여기서 x는 self.input.data로부터 가져옵니다.\n",
    "\n",
    "        사용 예시:\n",
    "        >>> gx = s.backward(np.array(1.0))  # gy는 1.0으로 가정\n",
    "        \"\"\"\n",
    "        x = self.input.data\n",
    "        gx = 2 * x * gy\n",
    "        return gx\n",
    "\n",
    "\n",
    "class Exp(Function):\n",
    "    def forward(self, x):\n",
    "        \"\"\"\n",
    "        입력값의 지수 함수를 계산합니다.\n",
    "\n",
    "        매개변수:\n",
    "        - x: 입력 데이터입니다.\n",
    "\n",
    "        반환값:\n",
    "        - 지수 함수의 결과 y는 np.exp(x)로 계산됩니다.\n",
    "\n",
    "        사용 예시:\n",
    "        >>> e = Exp()\n",
    "        >>> result = e.forward(np.array(1.0))  # result는 e^(1.0)입니다.\n",
    "        \"\"\"\n",
    "        y = np.exp(x)\n",
    "        return y\n",
    "\n",
    "    def backward(self, gy):\n",
    "        \"\"\"\n",
    "        입력값의 지수 함수에 대한 기울기를 계산합니다.\n",
    "\n",
    "        매개변수:\n",
    "        - gy: 출력의 기울기입니다.\n",
    "\n",
    "        반환값:\n",
    "        - 입력값 x에 대한 기울기 gx는 다음과 같이 계산됩니다:\n",
    "          gx = np.exp(x) * gy, 여기서 x는 self.input.data로부터 가져옵니다.\n",
    "\n",
    "        사용 예시:\n",
    "        >>> gx = e.backward(np.array(1.0))  # gy는 1.0으로 가정\n",
    "        \"\"\"\n",
    "        x = self.input.data\n",
    "        gx = np.exp(x) * gy\n",
    "        return gx\n",
    "\n"
   ]
  },
  {
   "cell_type": "code",
   "execution_count": 41,
   "metadata": {},
   "outputs": [
    {
     "name": "stdout",
     "output_type": "stream",
     "text": [
      "입력 x: 0.5\n",
      "\n",
      "순전파 시작...\n",
      "a (Square(x)): 0.25\n",
      "  a.creator: <__main__.Square object at 0x000001F7E9A37EF0>\n",
      "  a.input: 0.5\n",
      "  a.grad: None\n",
      "\n",
      "b (Exp(a)): 1.2840254166877414\n",
      "  b.creator: <__main__.Exp object at 0x000001F7E9A34800>\n",
      "  b.input: 0.25\n",
      "  b.grad: None\n",
      "\n",
      "y (Square(b)): 1.648721270700128\n",
      "  y.creator: <__main__.Square object at 0x000001F7E9A80080>\n",
      "  y.input: 1.2840254166877414\n",
      "  y.grad: None\n",
      "\n"
     ]
    }
   ],
   "source": [
    "# 함수 인스턴스 생성\n",
    "sqr_1 = Square()\n",
    "exp = Exp()\n",
    "sqr_2 = Square()\n",
    "\n",
    "# 초기 입력값\n",
    "x = MyTorch(np.array(0.5))  # MyTorch 인스턴스 생성\n",
    "print(f\"입력 x: {x.data}\\n\")\n",
    "\n",
    "# 함수 연산\n",
    "print(\"순전파 시작...\")\n",
    "a = sqr_1(x)  # a = x^2\n",
    "print(f\"a (Square(x)): {a.data}\")\n",
    "print(f\"  a.creator: {a.creator}\")  # a의 creator\n",
    "print(f\"  a.input: {sqr_1.input.data}\")  # a의 입력 데이터\n",
    "print(f\"  a.grad: {a.grad}\\n\")  # a의 기울기\n",
    "\n",
    "b = exp(a)  # b = exp(a)\n",
    "print(f\"b (Exp(a)): {b.data}\")\n",
    "print(f\"  b.creator: {b.creator}\")  # b의 creator\n",
    "print(f\"  b.input: {exp.input.data}\")  # b의 입력 데이터\n",
    "print(f\"  b.grad: {b.grad}\\n\")  # b의 기울기\n",
    "\n",
    "y = sqr_2(b)  # y = b^2\n",
    "print(f\"y (Square(b)): {y.data}\")\n",
    "print(f\"  y.creator: {y.creator}\")  # y의 creator\n",
    "print(f\"  y.input: {sqr_2.input.data}\")  # b의 입력 데이터\n",
    "print(f\"  y.grad: {y.grad}\\n\")  # y의 기울기\n",
    "\n"
   ]
  },
  {
   "cell_type": "code",
   "execution_count": 47,
   "metadata": {},
   "outputs": [
    {
     "name": "stdout",
     "output_type": "stream",
     "text": [
      "0.5\n"
     ]
    }
   ],
   "source": [
    "print(sqr_1.input.data)"
   ]
  },
  {
   "cell_type": "code",
   "execution_count": null,
   "metadata": {},
   "outputs": [
    {
     "data": {
      "text/plain": [
       "array(0.5)"
      ]
     },
     "execution_count": 43,
     "metadata": {},
     "output_type": "execute_result"
    }
   ],
   "source": [
    "sqr_1.input.data"
   ]
  },
  {
   "cell_type": "code",
   "execution_count": 48,
   "metadata": {},
   "outputs": [
    {
     "data": {
      "text/plain": [
       "True"
      ]
     },
     "execution_count": 48,
     "metadata": {},
     "output_type": "execute_result"
    }
   ],
   "source": [
    "sqr_1.input is x"
   ]
  },
  {
   "cell_type": "code",
   "execution_count": 49,
   "metadata": {},
   "outputs": [
    {
     "name": "stdout",
     "output_type": "stream",
     "text": [
      "y.grad: 1.0\n",
      "\n"
     ]
    }
   ],
   "source": [
    "# 기울기 설정\n",
    "y.grad = np.array(1.0)  # y에 대한 기울기\n",
    "print(f\"y.grad: {y.grad}\\n\")"
   ]
  },
  {
   "cell_type": "code",
   "execution_count": 46,
   "metadata": {},
   "outputs": [
    {
     "name": "stdout",
     "output_type": "stream",
     "text": [
      "순전파 값: 1.2840254166877414 미분값: None, 도함수: Square \n",
      "\n",
      "함수<__main__.Square object at 0x000001F7E9A80080>의 인풋 값 1.2840254166877414에 저장된 미분값: 2.568050833375483, 도함수(creator): Square \n",
      "\n",
      "생성 함수의 존재 여부: True\n",
      "순전파 값: 0.25 미분값: None, 도함수: Exp \n",
      "\n",
      "함수<__main__.Exp object at 0x000001F7E9A34800>의 인풋 값 0.25에 저장된 미분값: 3.297442541400256, 도함수(creator): Exp \n",
      "\n",
      "생성 함수의 존재 여부: True\n",
      "순전파 값: 0.5 미분값: None, 도함수: Square \n",
      "\n",
      "함수<__main__.Square object at 0x000001F7E9A37EF0>의 인풋 값 0.5에 저장된 미분값: 3.297442541400256, 도함수(creator): Square \n",
      "\n",
      "생성 함수의 존재 여부: False\n",
      "=====\n",
      "=====\n",
      "=====\n"
     ]
    }
   ],
   "source": [
    "y.backward()"
   ]
  },
  {
   "cell_type": "markdown",
   "metadata": {},
   "source": [
    "# 순전파와 역전파 계산 과정\n",
    "\n",
    "## 1. 첫 번째 연산: Square\n",
    "- **입력**: $ x = 1.2840254166877414 $\n",
    "- **순전파**:\n",
    "  $$\n",
    "  y = x^2 = (1.2840254166877414)^2 = 1.6487212707001282\n",
    "  $$\n",
    "- **역전파**:\n",
    "  - 국소 미분값: $ \\frac{\\partial y}{\\partial x} = 2x = 2 \\times 1.2840254166877414 = 2.568050833375483 $\n",
    "  - 상위 미분값: $ 1 $ (초기값)\n",
    "  - 최종 미분값:\n",
    "    $$\n",
    "    \\text{상위 미분값} \\times \\text{국소 미분값} = 1 \\times 2.568050833375483 = 2.568050833375483\n",
    "    $$\n",
    "\n",
    "---\n",
    "\n",
    "## 2. 두 번째 연산: Exp\n",
    "- **입력**: $ x = 0.25 $\n",
    "- **순전파**:\n",
    "  $$\n",
    "  y = e^x = e^{0.25} = 1.2840254166877414\n",
    "  $$\n",
    "- **역전파**:\n",
    "  - 국소 미분값: $ \\frac{\\partial y}{\\partial x} = e^x = e^{0.25} = 1.2840254166877414 $\n",
    "  - 상위 미분값: $ 2.568050833375483 $ (이전 단계에서 전달됨)\n",
    "  - 최종 미분값:\n",
    "    $$\n",
    "    \\text{상위 미분값} \\times \\text{국소 미분값} = 2.568050833375483 \\times 1.2840254166877414 = 3.297442541400256\n",
    "    $$\n",
    "\n",
    "---\n",
    "\n",
    "## 3. 세 번째 연산: Square\n",
    "- **입력**: $ x = 0.5 $\n",
    "- **순전파**:\n",
    "  $$\n",
    "  y = x^2 = (0.5)^2 = 0.25\n",
    "  $$\n",
    "- **역전파**:\n",
    "  - 국소 미분값: $ \\frac{\\partial y}{\\partial x} = 2x = 2 \\times 0.5 = 1.0 $\n",
    "  - 상위 미분값: $ 3.297442541400256 $ (이전 단계에서 전달됨)\n",
    "  - 최종 미분값:\n",
    "    $$\n",
    "    \\text{상위 미분값} \\times \\text{국소 미분값} = 3.297442541400256 \\times 1.0 = 3.297442541400256\n",
    "    $$\n"
   ]
  },
  {
   "cell_type": "code",
   "execution_count": 50,
   "metadata": {},
   "outputs": [
    {
     "data": {
      "text/plain": [
       "(3.297442541400256, 2.568050833375483)"
      ]
     },
     "execution_count": 50,
     "metadata": {},
     "output_type": "execute_result"
    }
   ],
   "source": [
    "x.grad,b.grad"
   ]
  },
  {
   "cell_type": "code",
   "execution_count": 27,
   "metadata": {},
   "outputs": [
    {
     "name": "stdout",
     "output_type": "stream",
     "text": [
      "역전파 시작...\n",
      "b.grad (<__main__.Square object at 0x0000014C964E76B0><class '__main__.Square'>.backward(y.grad)): 2.568050833375483\n",
      "  b.creator: <__main__.Exp object at 0x0000014C968E1A00>\n",
      "  b.input: 0.25\n",
      "  b.grad: 2.568050833375483\n",
      "\n",
      "a.grad (<__main__.Exp object at 0x0000014C968E1A00><class '__main__.Exp'>.backward(b.grad)): 3.297442541400256\n",
      "  a.creator: <__main__.Square object at 0x0000014C968E38C0>\n",
      "  a.input: 0.5\n",
      "  a.grad: 3.297442541400256\n",
      "\n",
      "x.grad (<__main__.Square object at 0x0000014C968E38C0><class '__main__.Square'>.backward(a.grad)): 3.297442541400256\n",
      "  x.creator: None\n",
      "  x.data: 0.5\n",
      "  x.grad: 3.297442541400256\n"
     ]
    }
   ],
   "source": [
    "# 역전파 단계\n",
    "print(\"역전파 시작...\")\n",
    "b.grad = C.backward(y.grad)  # b에 대한 기울기\n",
    "print(f\"b.grad ({y.creator}{C.__class__}.backward(y.grad)): {b.grad}\")\n",
    "print(f\"  b.creator: {b.creator}\")  # b의 creator\n",
    "print(f\"  b.input: {B.input.data}\")  # b의 입력 데이터\n",
    "print(f\"  b.grad: {b.grad}\\n\")  # b의 기울기\n",
    "\n",
    "a.grad = B.backward(b.grad)  # a에 대한 기울기\n",
    "print(f\"a.grad ({b.creator}{B.__class__}.backward(b.grad)): {a.grad}\")\n",
    "print(f\"  a.creator: {a.creator}\")  # a의 creator\n",
    "print(f\"  a.input: {A.input.data}\")  # a의 입력 데이터\n",
    "print(f\"  a.grad: {a.grad}\\n\")  # a의 기울기\n",
    "\n",
    "x.grad = A.backward(a.grad)  # x에 대한 기울기\n",
    "print(f\"x.grad ({a.creator}{A.__class__}.backward(a.grad)): {x.grad}\")\n",
    "print(f\"  x.creator: {x.creator}\")  # x의 creator\n",
    "print(f\"  x.data: {x.data}\")  # x의 데이터\n",
    "print(f\"  x.grad: {x.grad}\")  # x의 기울기"
   ]
  },
  {
   "cell_type": "code",
   "execution_count": 52,
   "metadata": {},
   "outputs": [
    {
     "name": "stdout",
     "output_type": "stream",
     "text": [
      "backward start\n",
      "현재 funcs의 길이1, before pop\n",
      "현재 funcs의 길이0, funcs에서 <__main__.Square object at 0x000001F7E9D182F0>  pop!!!\n",
      "<__main__.Square object at 0x000001F7E9D182F0>\n",
      "<__main__.Exp object at 0x000001F7E9D18BF0> funcs추가 \n",
      " ------------------------------------------------------------------------------------------------------------------------------------------------------------------------------------------------------------------------------------------------------------------------------------------------------------\n",
      "현재 funcs의 길이1, before pop\n",
      "현재 funcs의 길이0, funcs에서 <__main__.Exp object at 0x000001F7E9D18BF0>  pop!!!\n",
      "<__main__.Exp object at 0x000001F7E9D18BF0>\n",
      "<__main__.Square object at 0x000001F7E99AA5D0> funcs추가 \n",
      " ------------------------------------------------------------------------------------------------------------------------------------------------------------------------------------------------------------------------------------------------------------------------------------------------------------\n",
      "현재 funcs의 길이1, before pop\n",
      "현재 funcs의 길이0, funcs에서 <__main__.Square object at 0x000001F7E99AA5D0>  pop!!!\n",
      "<__main__.Square object at 0x000001F7E99AA5D0>\n"
     ]
    }
   ],
   "source": [
    "import numpy as np\n",
    "\n",
    "\n",
    "class MyTorch:\n",
    "    def __init__(self, data:\"np.ndarray\"):\n",
    "        \"\"\"\n",
    "        MyTorch 클래스는 데이터와 기울기(grad) 정보를 저장하는 변수입니다.\n",
    "\n",
    "        매개변수:\n",
    "        - data: np.ndarray 또는 스칼라 값으로 저장할 데이터입니다.\n",
    "        \n",
    "        예외:\n",
    "        - data가 np.ndarray가 아닐 경우 TypeError를 발생시킵니다.\n",
    "        \"\"\"\n",
    "        if data is not None:\n",
    "            # 데이터가 None이 아닐 경우\n",
    "            if not isinstance(data, np.ndarray):\n",
    "                # 데이터가 np.ndarray가 아닐 경우 예외 발생\n",
    "                raise TypeError('{} is not supported'.format(type(data)))\n",
    "\n",
    "        self.data = data  # 데이터 저장\n",
    "        self.grad = None  # 기울기 초기화\n",
    "        self.creator = None  # 이 변수를 생성한 함수 인스턴스 초기화\n",
    "        self.funcs_history = []  # 역전파 과정에서 거치는 함수 목록 저장\n",
    "        \n",
    "    def set_creator(self, func):\n",
    "        \"\"\"\n",
    "        MyTorch 인스턴스의 creator를 설정합니다.\n",
    "        \n",
    "        매개변수:\n",
    "        - func: 이 변수를 생성한 함수 인스턴스입니다.\n",
    "        \"\"\"\n",
    "        self.creator = func  # creator 속성에 함수 인스턴스 저장\n",
    "\n",
    "    def backward(self):\n",
    "        \"\"\"\n",
    "        역전파를 수행하여 기울기를 계산합니다.\n",
    "        \n",
    "        동작:\n",
    "        - 초기 기울기를 None인 경우 1로 설정합니다.\n",
    "        - 역전파를 수행할 함수 목록을 초기화하고, 이를 반복합니다.\n",
    "        \"\"\"\n",
    "        if self.grad is None:\n",
    "            # 기울기가 None일 경우\n",
    "            #//*  디폴트값으로 기울기를 1로 설정함.\n",
    "            self.grad = np.ones_like(self.data)  # 차원의 키그만큼 기울기를 1로 설정\n",
    "\n",
    "        funcs = [self.creator]  # 역전파를 수행할 함수 목록 초기화\n",
    "        self.funcs_history = []  # funcs_history 초기화\n",
    "        \n",
    "        print(f\"backward start\")\n",
    "        #print(f\"{self.creator}\")\n",
    "       \n",
    "\n",
    "        while funcs:\n",
    "            print(f\"현재 funcs의 길이{len(funcs)}, before pop\")\n",
    "            f = funcs.pop()  # 함수 목록에서 함수 하나 꺼내기\n",
    "\n",
    "             # ! 생성자 함수들을 하나씩 꺼내와서 계산을 시작함.\n",
    "            print(f\"현재 funcs의 길이{len(funcs)}, funcs에서 {f}  pop!!!\")\n",
    "            print(f\"{f}\")\n",
    "            #print(f\"while pop 실행 후 {len(funcs)}\",\"\\n\")\n",
    "\n",
    "            x, y = f.input, f.output  # 함수의 입력과 출력 인스턴스를 가져옴\n",
    "\n",
    "            #print(x, y)\n",
    "\n",
    "            x.grad = f.backward(y.grad)  # 함수의 backward 호출하여 기울기 계산\n",
    "            \n",
    "            if x.creator is not None:\n",
    "                # 입력의 creator가 None이 아닐 경우\n",
    "                funcs.append(x.creator)  # 입력의 creator를 함수 목록에 추가\n",
    "                #print(x.creator)\n",
    "\n",
    "                print(f\"{x.creator} funcs추가\",\"\\n\",\"---\"*100)\n",
    "            # 역전파 과정에서 거친 함수 기록\n",
    "            #self.funcs_history.append(f)\n",
    "                \n",
    "\n",
    "    def get_funcs_history(self):\n",
    "        \"\"\"\n",
    "        역전파 과정에서 거친 함수 목록을 반환합니다.\n",
    "        \n",
    "        반환값:\n",
    "        - 역전파에 사용된 함수 목록 (list)\n",
    "        \"\"\"\n",
    "        return self.funcs_history\n",
    "\n",
    "\n",
    "def as_array(x):\n",
    "    \"\"\"\n",
    "    입력값을 np.ndarray로 변환합니다.\n",
    "    \n",
    "    매개변수:\n",
    "    - x: 스칼라 또는 np.ndarray\n",
    "\n",
    "    반환값:\n",
    "    - np.ndarray: 변환된 배열\n",
    "    \"\"\"\n",
    "    if np.isscalar(x):\n",
    "        return np.array(x)  # 스칼라 값일 경우 np.ndarray로 변환\n",
    "    return x  # np.ndarray일 경우 그대로 반환\n",
    "\n",
    "\n",
    "class Function:\n",
    "    def __call__(self, input: MyTorch):\n",
    "        \"\"\"\n",
    "        함수 호출 메서드입니다. 입력값을 받아 forward를 실행하고 출력을 생성합니다.\n",
    "\n",
    "        매개변수:\n",
    "        - input: MyTorch 클래스의 인스턴스\n",
    "        \n",
    "        반환값:\n",
    "        - Variable: 함수의 출력을 포함하는 Variable 인스턴스\n",
    "        \"\"\"\n",
    "        x = input.data  # 입력값에서 데이터 가져오기\n",
    "        y = self.forward(x)  # forward 메서드를 호출하여 결과 계산\n",
    "        output = MyTorch(as_array(y))  # 출력값을 MyTorch 인스턴스로 변환\n",
    "        output.set_creator(self)  # 출력의 creator를 설정\n",
    "        self.input = input  # 함수의 입력값 저장\n",
    "        self.output = output  # 함수의 출력값 저장\n",
    "        return output  # 출력 반환\n",
    "\n",
    "    def forward(self, x):\n",
    "        \"\"\"\n",
    "        주어진 입력값에 대해 함수의 출력을 계산합니다.\n",
    "        \n",
    "        매개변수:\n",
    "        - x: np.ndarray\n",
    "        \n",
    "        반환값:\n",
    "        - np.ndarray: 출력값\n",
    "        \"\"\"\n",
    "        raise NotImplementedError()  # 서브클래스에서 구현해야 함\n",
    "\n",
    "    def backward(self, gy):\n",
    "        \"\"\"\n",
    "        주어진 기울기에 대해 입력값의 기울기를 계산합니다.\n",
    "        \n",
    "        매개변수:\n",
    "        - gy: np.ndarray (이 기울기는 출력에 대한 기울기입니다)\n",
    "        \n",
    "        반환값:\n",
    "        - np.ndarray: 입력값의 기울기\n",
    "        \"\"\"\n",
    "        raise NotImplementedError()  # 서브클래스에서 구현해야 함\n",
    "\n",
    "\n",
    "class Square(Function):\n",
    "    def forward(self, x):\n",
    "        \"\"\"\n",
    "        입력값의 제곱을 계산합니다.\n",
    "        \n",
    "        매개변수:\n",
    "        - x: np.ndarray\n",
    "        \n",
    "        반환값:\n",
    "        - np.ndarray: 입력값의 제곱\n",
    "        \"\"\"\n",
    "        y = x ** 2  # 입력값의 제곱 계산\n",
    "        return y  # 제곱값 반환\n",
    "\n",
    "    def backward(self, gy):\n",
    "        \"\"\"\n",
    "        제곱 함수에 대한 기울기를 계산합니다.\n",
    "        \n",
    "        매개변수:\n",
    "        - gy: np.ndarray (제곱 함수의 출력에 대한 기울기)\n",
    "        \n",
    "        반환값:\n",
    "        - np.ndarray: 입력값의 기울기\n",
    "        \"\"\"\n",
    "        x = self.input.data  # 입력값 가져오기\n",
    "        gx = 2 * x * gy  # 기울기 계산\n",
    "        return gx  # 계산된 기울기 반환\n",
    "\n",
    "\n",
    "class Exp(Function):\n",
    "    def forward(self, x):\n",
    "        \"\"\"\n",
    "        입력값의 지수함수를 계산합니다.\n",
    "        \n",
    "        매개변수:\n",
    "        - x: np.ndarray\n",
    "        \n",
    "        반환값:\n",
    "        - np.ndarray: 입력값의 지수함수 값\n",
    "        \"\"\"\n",
    "        y = np.exp(x)  # 지수 함수 계산\n",
    "        return y  # 지수값 반환\n",
    "\n",
    "    def backward(self, gy):\n",
    "        \"\"\"\n",
    "        지수 함수에 대한 기울기를 계산합니다.\n",
    "        \n",
    "        매개변수:\n",
    "        - gy: np.ndarray (지수 함수의 출력에 대한 기울기)\n",
    "        \n",
    "        반환값:\n",
    "        - np.ndarray: 입력값의 기울기\n",
    "        \"\"\"\n",
    "        x = self.input.data  # 입력값 가져오기\n",
    "        gx = np.exp(x) * gy  # 기울기 계산\n",
    "        return gx  # 계산된 기울기 반환\n",
    "\n",
    "\n",
    "def square(x: MyTorch) -> MyTorch:\n",
    "    \"\"\"\n",
    "    MyTorch 인스턴스에 대해 제곱 함수를 적용합니다.\n",
    "    \n",
    "    매개변수:\n",
    "    - x: MyTorch\n",
    "    \n",
    "    반환값:\n",
    "    - MyTorch: 제곱 값을 포함하는 MyTorch 인스턴스\n",
    "    \"\"\"\n",
    "    return Square()(x)  # Square 함수 호출\n",
    "\n",
    "\n",
    "def exp(x: MyTorch) -> MyTorch:\n",
    "    \"\"\"\n",
    "    MyTorch 인스턴스에 대해 지수 함수를 적용합니다.\n",
    "    \n",
    "    매개변수:\n",
    "    - x: MyTorch\n",
    "    \n",
    "    반환값:\n",
    "    - MyTorch: 지수 값을 포함하는 MyTorch 인스턴스\n",
    "    \"\"\"\n",
    "    return Exp()(x)  # Exp 함수 호출\n",
    "\n",
    "\n",
    "# 예시 사용\n",
    "x = MyTorch(np.array(0.5))  # MyTorch 인스턴스 생성\n",
    "y = square(exp(square(x)))  # 함수 체이닝을 통한 연산\n",
    "y.backward()  # 역전파 호출"
   ]
  },
  {
   "cell_type": "code",
   "execution_count": 21,
   "metadata": {},
   "outputs": [
    {
     "data": {
      "text/plain": [
       "[]"
      ]
     },
     "execution_count": 21,
     "metadata": {},
     "output_type": "execute_result"
    }
   ],
   "source": [
    "x.funcs_history"
   ]
  },
  {
   "cell_type": "code",
   "execution_count": 53,
   "metadata": {},
   "outputs": [
    {
     "name": "stdout",
     "output_type": "stream",
     "text": [
      "backward start\n",
      "현재 funcs의 길이1, before pop\n",
      "현재 funcs의 길이0, funcs에서 <__main__.Square object at 0x000001F7E99C1160>  pop!!!\n",
      "<__main__.Square object at 0x000001F7E99C1160>\n"
     ]
    }
   ],
   "source": [
    "x=square(x)\n",
    "x.backward()"
   ]
  },
  {
   "cell_type": "code",
   "execution_count": 54,
   "metadata": {},
   "outputs": [
    {
     "data": {
      "text/plain": [
       "[]"
      ]
     },
     "execution_count": 54,
     "metadata": {},
     "output_type": "execute_result"
    }
   ],
   "source": [
    "x.funcs_history"
   ]
  },
  {
   "cell_type": "code",
   "execution_count": 55,
   "metadata": {},
   "outputs": [
    {
     "data": {
      "text/plain": [
       "[]"
      ]
     },
     "execution_count": 55,
     "metadata": {},
     "output_type": "execute_result"
    }
   ],
   "source": [
    "y.funcs_history"
   ]
  },
  {
   "cell_type": "code",
   "execution_count": 56,
   "metadata": {},
   "outputs": [
    {
     "name": "stdout",
     "output_type": "stream",
     "text": [
      "1.0\n",
      "<class 'float'> is not supported\n"
     ]
    }
   ],
   "source": [
    "print(x.grad)  # x의 기울기 출력\n",
    "\n",
    "\n",
    "# 추가 예시 사용\n",
    "x = MyTorch(np.array(1.0))  # MyTorch 인스턴스 생성\n",
    "# 다음 인스턴스들은 유효성 검사 예시\n",
    "try:\n",
    "    x = MyTorch(None)  # OK, None 값으로 인스턴스 생성\n",
    "except TypeError as e:\n",
    "    print(e)  # TypeError 출력\n",
    "\n",
    "try:\n",
    "    x = MyTorch(1.0)  # NG, TypeError 발생\n",
    "except TypeError as e:\n",
    "    print(e)  # TypeError 출력\n"
   ]
  }
 ],
 "metadata": {
  "kernelspec": {
   "display_name": "base",
   "language": "python",
   "name": "python3"
  },
  "language_info": {
   "codemirror_mode": {
    "name": "ipython",
    "version": 3
   },
   "file_extension": ".py",
   "mimetype": "text/x-python",
   "name": "python",
   "nbconvert_exporter": "python",
   "pygments_lexer": "ipython3",
   "version": "3.12.4"
  }
 },
 "nbformat": 4,
 "nbformat_minor": 2
}
