{
 "cells": [
  {
   "cell_type": "markdown",
   "metadata": {
    "id": "OBxV2rSvnon0"
   },
   "source": [
    "# numpy 라이브러리\n",
    "- Numerical Python 의 약어\n",
    "- 수치 계산을 하기 위한 파이썬 라이브러리\n",
    "- 딥러닝 사용되는 텐서와 매우 유사\n",
    "- 벡터 , 행렬 단위의 대용량 수치 연산을 빠르게 진행\n",
    "- 다차원 배열을 다룰 때 주로 사용함(인공신경망, 비정형 데이터 처리 등)\n",
    "- 스칼라(scalar)\n",
    "    - 단순하게 측정된 하나의 값\n",
    "- 벡터(Vector)\n",
    "    - 1차원 데이터(1차원 배열)\n",
    "- 행렬(Matrix)\n",
    "    - 2차원 데이터(2차원 배열)\n",
    "\n",
    "    "
   ]
  },
  {
   "cell_type": "markdown",
   "metadata": {
    "id": "uCzidchrqQrv"
   },
   "source": [
    "# numpy 배열 `ndarray` 라고 한다."
   ]
  },
  {
   "cell_type": "code",
   "execution_count": 1,
   "metadata": {
    "id": "3WojTZJdneMw"
   },
   "outputs": [],
   "source": [
    "import numpy as np\n"
   ]
  },
  {
   "cell_type": "markdown",
   "metadata": {
    "id": "xWidEZtcrSRX"
   },
   "source": [
    "## 벡터"
   ]
  },
  {
   "cell_type": "code",
   "execution_count": 2,
   "metadata": {
    "colab": {
     "base_uri": "https://localhost:8080/"
    },
    "executionInfo": {
     "elapsed": 527,
     "status": "ok",
     "timestamp": 1702395694494,
     "user": {
      "displayName": "young bback",
      "userId": "01066130122626283768"
     },
     "user_tz": -540
    },
    "id": "jkw7VUUAQU9F",
    "outputId": "dee55566-81a9-4d09-8381-136f45675192"
   },
   "outputs": [
    {
     "data": {
      "text/plain": [
       "array([1, 2, 3, 4, 5, 6])"
      ]
     },
     "execution_count": 2,
     "metadata": {},
     "output_type": "execute_result"
    }
   ],
   "source": [
    "#range 이터레이터\n",
    "np.array(range(1,7))"
   ]
  },
  {
   "cell_type": "markdown",
   "metadata": {},
   "source": [
    "## 이터러블과 이터레이터의 차이와 `range` 변환 과정\n",
    "\n",
    "### 이터러블과 이터레이터의 차이\n",
    "#### 1. 이터러블 (Iterable)\n",
    "- 값을 **순환할 수 있는** 객체.\n",
    "- `__iter__()` 메서드를 제공하며, 호출 시 **이터레이터**를 반환.\n",
    "- 직접적으로 `next()`를 호출할 수는 없지만, `for` 루프와 같은 반복문에서 사용 가능.\n",
    "- 예: `range`, `list`, `tuple`, `dict`, `set`, `str` 등.\n",
    "\n",
    "#### 2. 이터레이터 (Iterator)\n",
    "- 값을 **하나씩 꺼낼 수 있는** 객체.\n",
    "- `__iter__()`와 `__next__()` 메서드를 모두 제공.\n",
    "- `iter(이터러블)`을 호출하여 생성되며, `next()`로 값을 반환.\n",
    "- 반복이 끝나면 `StopIteration` 예외가 발생.\n",
    "\n",
    "---\n",
    "\n",
    "### `range`를 리스트나 NumPy 배열로 변환\n",
    "`range`는 **이터러블**입니다. 이를 `list`나 `numpy.array`로 변환하면 다음과 같은 과정이 이루어집니다:\n",
    "\n",
    "1. **`range`에서 이터레이터 생성**:\n",
    "   - 내부적으로 `iter(range)`를 호출해 이터레이터를 생성합니다.\n",
    "   - 이 이터레이터가 값을 하나씩 꺼냅니다.\n",
    "\n",
    "2. **값을 순회하며 수집**:\n",
    "   - 이터레이터가 `next()`를 호출해 값을 하나씩 반환합니다.\n",
    "   - 반환된 값들을 `list`나 `numpy.array`에 저장합니다.\n",
    "\n",
    "3. **변환 후 새로운 객체 반환**:\n",
    "   - 최종적으로 리스트(`list`)나 NumPy 배열(`numpy.array`) 객체를 반환합니다.\n",
    "\n",
    "---\n",
    "\n",
    "### 코드 예제\n",
    "\n",
    "#### 리스트 변환\n",
    "```python\n",
    "r = range(5)  # range 객체 (이터러블)\n",
    "\n",
    "# 리스트 변환 과정\n",
    "lst = list(r)  # 내부적으로 iter(r)를 호출해 이터레이터를 생성하고, next()로 값을 순회\n",
    "print(lst)  # [0, 1, 2, 3, 4]\n",
    "\n",
    "```\n",
    "#### range와 이터레이터의 관계\n",
    "range 객체는 이터러블이며, 이터레이터가 아닙니다.\n",
    "\n",
    "list(range(5))나 np.array(range(5))를 호출하면 내부적으로 iter(range(5))가 호출됩니다.\n",
    "\n",
    "이 과정에서 range 객체가 이터레이터 클래스에 의해 순회됩니다.\n",
    "\n",
    "\n",
    "#### 이터러블과 이터레이터의 시각적 이해\n",
    "\n",
    "# 이터러블과 이터레이터 관계\n",
    "```py\n",
    "[ range(0, 5) (이터러블) ]\n",
    "        |\n",
    "        | -- __iter__() 호출\n",
    "        V\n",
    "[ Iterator ]\n",
    "        |\n",
    "        | -- __next__() 호출\n",
    "        V\n",
    "[ 0 -> 1 -> 2 -> 3 -> 4 (값 순회) ]\n",
    "```\n",
    "\n",
    "\n",
    "1. 이터러블은 반복 가능한 객체로, 이터레이터를 생성할 수 있습니다.\n",
    "2. 이터레이터는 이터러블에서 값을 하나씩 꺼내는 역할을 합니다.\n",
    "3. range를 list나 ndarray로 변환할 때, 내부적으로 range의 값을 꺼내기 위해 이터레이터를 생성하고, 순회합니다.\n",
    "4. 변환된 결과는 list나 numpy.array 형태의 새로운 객체가 됩니다."
   ]
  },
  {
   "cell_type": "code",
   "execution_count": 10,
   "metadata": {},
   "outputs": [
    {
     "data": {
      "text/plain": [
       "range(1, 7)"
      ]
     },
     "execution_count": 10,
     "metadata": {},
     "output_type": "execute_result"
    }
   ],
   "source": [
    "a=[range(1,7)]\n",
    "a=iter(a)\n",
    "a.__next__()"
   ]
  },
  {
   "cell_type": "code",
   "execution_count": 11,
   "metadata": {},
   "outputs": [
    {
     "data": {
      "text/plain": [
       "1"
      ]
     },
     "execution_count": 11,
     "metadata": {},
     "output_type": "execute_result"
    }
   ],
   "source": [
    "a=[1,2,3,4,5]\n",
    "a=iter(a)\n",
    "a.__next__()"
   ]
  },
  {
   "cell_type": "code",
   "execution_count": 3,
   "metadata": {
    "colab": {
     "base_uri": "https://localhost:8080/"
    },
    "executionInfo": {
     "elapsed": 10,
     "status": "ok",
     "timestamp": 1702395694494,
     "user": {
      "displayName": "young bback",
      "userId": "01066130122626283768"
     },
     "user_tz": -540
    },
    "id": "rF7-VPG3Unu9",
    "outputId": "15291604-7ede-4fa0-8d08-dec276524d7e"
   },
   "outputs": [
    {
     "data": {
      "text/plain": [
       "array([[1, 2, 3, 4, 5, 6]])"
      ]
     },
     "execution_count": 3,
     "metadata": {},
     "output_type": "execute_result"
    }
   ],
   "source": [
    "np.array([range(1,7)])"
   ]
  },
  {
   "cell_type": "code",
   "execution_count": 4,
   "metadata": {
    "colab": {
     "base_uri": "https://localhost:8080/"
    },
    "executionInfo": {
     "elapsed": 11,
     "status": "ok",
     "timestamp": 1702395694495,
     "user": {
      "displayName": "young bback",
      "userId": "01066130122626283768"
     },
     "user_tz": -540
    },
    "id": "qIjJLWSWneJ4",
    "outputId": "5d378203-8388-4348-e688-5a399b46f6d3"
   },
   "outputs": [
    {
     "data": {
      "text/plain": [
       "array([1, 2, 3, 4, 5, 6])"
      ]
     },
     "execution_count": 4,
     "metadata": {},
     "output_type": "execute_result"
    }
   ],
   "source": [
    "lst = [1,2,3,4,5,6]\n",
    "arr = np.array(lst)\n",
    "arr"
   ]
  },
  {
   "cell_type": "markdown",
   "metadata": {
    "id": "Bxr5fXWjrRnc"
   },
   "source": [
    "## 행렬"
   ]
  },
  {
   "cell_type": "code",
   "execution_count": 5,
   "metadata": {
    "colab": {
     "base_uri": "https://localhost:8080/"
    },
    "executionInfo": {
     "elapsed": 9,
     "status": "ok",
     "timestamp": 1702395694495,
     "user": {
      "displayName": "young bback",
      "userId": "01066130122626283768"
     },
     "user_tz": -540
    },
    "id": "3b3jURoSU30z",
    "outputId": "a7c1a147-1b3c-45f1-fd50-38f3c296ac8e"
   },
   "outputs": [
    {
     "data": {
      "text/plain": [
       "array([[1, 2, 3],\n",
       "       [4, 5, 6]])"
      ]
     },
     "execution_count": 5,
     "metadata": {},
     "output_type": "execute_result"
    }
   ],
   "source": [
    "np.array([range(1,7)]).reshape(-1,3)"
   ]
  },
  {
   "cell_type": "code",
   "execution_count": 6,
   "metadata": {
    "colab": {
     "base_uri": "https://localhost:8080/"
    },
    "executionInfo": {
     "elapsed": 8,
     "status": "ok",
     "timestamp": 1702395694495,
     "user": {
      "displayName": "young bback",
      "userId": "01066130122626283768"
     },
     "user_tz": -540
    },
    "id": "0o4R_D22neHU",
    "outputId": "35baaf7f-00d8-4d33-d8d9-d0775cb6f0d1"
   },
   "outputs": [
    {
     "data": {
      "text/plain": [
       "array([[1, 2, 3],\n",
       "       [4, 5, 6]])"
      ]
     },
     "execution_count": 6,
     "metadata": {},
     "output_type": "execute_result"
    }
   ],
   "source": [
    "lst = [\n",
    "    [1,2,3],\n",
    "    [4,5,6]\n",
    "]\n",
    "arr = np.array(lst)\n",
    "arr"
   ]
  },
  {
   "cell_type": "code",
   "execution_count": 7,
   "metadata": {},
   "outputs": [
    {
     "data": {
      "text/plain": [
       "array([[0, 0],\n",
       "       [1, 1],\n",
       "       [2, 2],\n",
       "       [3, 3],\n",
       "       [4, 4],\n",
       "       [5, 5],\n",
       "       [6, 6],\n",
       "       [7, 7],\n",
       "       [8, 8],\n",
       "       [9, 9]])"
      ]
     },
     "execution_count": 7,
     "metadata": {},
     "output_type": "execute_result"
    }
   ],
   "source": [
    "np.array([[i,i] for i in range(0,10)])"
   ]
  },
  {
   "cell_type": "markdown",
   "metadata": {
    "id": "6ZwrFfHYroZX"
   },
   "source": [
    "## 3차원 배열"
   ]
  },
  {
   "cell_type": "code",
   "execution_count": 8,
   "metadata": {
    "colab": {
     "base_uri": "https://localhost:8080/"
    },
    "executionInfo": {
     "elapsed": 539,
     "status": "ok",
     "timestamp": 1704038653760,
     "user": {
      "displayName": "young bback",
      "userId": "01066130122626283768"
     },
     "user_tz": -540
    },
    "id": "fO__xYmPrudJ",
    "outputId": "f60c07a7-d631-4652-a3d2-8043583a7a87"
   },
   "outputs": [
    {
     "data": {
      "text/plain": [
       "array([[[1, 2, 3],\n",
       "        [4, 5, 6]],\n",
       "\n",
       "       [[1, 2, 3],\n",
       "        [4, 5, 6]]])"
      ]
     },
     "execution_count": 8,
     "metadata": {},
     "output_type": "execute_result"
    }
   ],
   "source": [
    "lst = [\n",
    "    [\n",
    "        [1,2,3],\n",
    "        [4,5,6]\n",
    "    ],\n",
    "    [\n",
    "        [1,2,3],\n",
    "        [4,5,6]\n",
    "    ],\n",
    "]\n",
    "\n",
    "arr = np.array(lst)\n",
    "arr"
   ]
  },
  {
   "cell_type": "code",
   "execution_count": 9,
   "metadata": {
    "colab": {
     "base_uri": "https://localhost:8080/"
    },
    "executionInfo": {
     "elapsed": 5,
     "status": "ok",
     "timestamp": 1704038698854,
     "user": {
      "displayName": "young bback",
      "userId": "01066130122626283768"
     },
     "user_tz": -540
    },
    "id": "ztaa6mVCnl5U",
    "outputId": "26dde064-34c0-4cbe-880f-e5110fadea50"
   },
   "outputs": [
    {
     "data": {
      "text/plain": [
       "array([[ 2,  4,  6],\n",
       "       [ 8, 10, 12]])"
      ]
     },
     "execution_count": 9,
     "metadata": {},
     "output_type": "execute_result"
    }
   ],
   "source": [
    "np.sum(arr,axis=0)"
   ]
  },
  {
   "cell_type": "code",
   "execution_count": 10,
   "metadata": {
    "colab": {
     "base_uri": "https://localhost:8080/"
    },
    "executionInfo": {
     "elapsed": 6,
     "status": "ok",
     "timestamp": 1702395694495,
     "user": {
      "displayName": "young bback",
      "userId": "01066130122626283768"
     },
     "user_tz": -540
    },
    "id": "mUQBYIwfVSR9",
    "outputId": "5e2aad03-cfb6-4b03-de7e-774c33fdb19f"
   },
   "outputs": [
    {
     "data": {
      "text/plain": [
       "array([[[1, 2, 3],\n",
       "        [4, 5, 6]],\n",
       "\n",
       "       [[1, 2, 3],\n",
       "        [4, 5, 6]]])"
      ]
     },
     "execution_count": 10,
     "metadata": {},
     "output_type": "execute_result"
    }
   ],
   "source": [
    "np.array([range(1,7)]*2).reshape(-1,2,3)"
   ]
  },
  {
   "cell_type": "code",
   "execution_count": 11,
   "metadata": {
    "colab": {
     "base_uri": "https://localhost:8080/"
    },
    "executionInfo": {
     "elapsed": 2,
     "status": "ok",
     "timestamp": 1715699882806,
     "user": {
      "displayName": "young bback",
      "userId": "01066130122626283768"
     },
     "user_tz": -540
    },
    "id": "76pOoDmWrjcJ",
    "outputId": "759ae3cd-32bb-4912-da80-1555a8248ee4"
   },
   "outputs": [
    {
     "data": {
      "text/plain": [
       "[1, 2, 3, 4, 5, 6, 1, 2, 3, 4, 5, 6]"
      ]
     },
     "execution_count": 11,
     "metadata": {},
     "output_type": "execute_result"
    }
   ],
   "source": [
    "list(range(1,7))*2"
   ]
  },
  {
   "cell_type": "code",
   "execution_count": 12,
   "metadata": {
    "colab": {
     "base_uri": "https://localhost:8080/"
    },
    "executionInfo": {
     "elapsed": 4,
     "status": "ok",
     "timestamp": 1702395694495,
     "user": {
      "displayName": "young bback",
      "userId": "01066130122626283768"
     },
     "user_tz": -540
    },
    "id": "F2bsq7ThruaU",
    "outputId": "0b2def44-001b-4a66-8b7d-9516ee7f9449"
   },
   "outputs": [
    {
     "data": {
      "text/plain": [
       "numpy.ndarray"
      ]
     },
     "execution_count": 12,
     "metadata": {},
     "output_type": "execute_result"
    }
   ],
   "source": [
    "type(arr)"
   ]
  },
  {
   "cell_type": "code",
   "execution_count": 13,
   "metadata": {
    "colab": {
     "base_uri": "https://localhost:8080/"
    },
    "executionInfo": {
     "elapsed": 378,
     "status": "ok",
     "timestamp": 1702395694870,
     "user": {
      "displayName": "young bback",
      "userId": "01066130122626283768"
     },
     "user_tz": -540
    },
    "id": "9pM5Gg_-ruWT",
    "outputId": "91bd5db1-a4ed-4a39-c81b-aca13879b714"
   },
   "outputs": [
    {
     "data": {
      "text/plain": [
       "2"
      ]
     },
     "execution_count": 13,
     "metadata": {},
     "output_type": "execute_result"
    }
   ],
   "source": [
    "len(arr) # 첫번째 차원의 길이를 구함."
   ]
  },
  {
   "cell_type": "markdown",
   "metadata": {
    "id": "CTAOdxWYtEwG"
   },
   "source": [
    "## numpy.ndarray 속성"
   ]
  },
  {
   "cell_type": "code",
   "execution_count": 14,
   "metadata": {
    "colab": {
     "base_uri": "https://localhost:8080/"
    },
    "executionInfo": {
     "elapsed": 12,
     "status": "ok",
     "timestamp": 1702395694870,
     "user": {
      "displayName": "young bback",
      "userId": "01066130122626283768"
     },
     "user_tz": -540
    },
    "id": "PYEvxk3bruTX",
    "outputId": "1950cd9d-2ace-4e6d-e87d-b28f37ea2487"
   },
   "outputs": [
    {
     "data": {
      "text/plain": [
       "3"
      ]
     },
     "execution_count": 14,
     "metadata": {},
     "output_type": "execute_result"
    }
   ],
   "source": [
    "arr.ndim # 배열의 차원수"
   ]
  },
  {
   "cell_type": "code",
   "execution_count": 15,
   "metadata": {
    "colab": {
     "base_uri": "https://localhost:8080/"
    },
    "executionInfo": {
     "elapsed": 11,
     "status": "ok",
     "timestamp": 1702395694870,
     "user": {
      "displayName": "young bback",
      "userId": "01066130122626283768"
     },
     "user_tz": -540
    },
    "id": "qbB5h80nneEy",
    "outputId": "75c3a61b-34ba-4d72-826e-d81ae703aac1"
   },
   "outputs": [
    {
     "data": {
      "text/plain": [
       "(2, 2, 3)"
      ]
     },
     "execution_count": 15,
     "metadata": {},
     "output_type": "execute_result"
    }
   ],
   "source": [
    "arr.shape # 각차원의 크기"
   ]
  },
  {
   "cell_type": "code",
   "execution_count": 16,
   "metadata": {
    "colab": {
     "base_uri": "https://localhost:8080/"
    },
    "executionInfo": {
     "elapsed": 10,
     "status": "ok",
     "timestamp": 1702395694870,
     "user": {
      "displayName": "young bback",
      "userId": "01066130122626283768"
     },
     "user_tz": -540
    },
    "id": "ChAlSuTwlxDM",
    "outputId": "ca0fbed1-4c01-496e-9de5-4726bb66ab56"
   },
   "outputs": [
    {
     "data": {
      "text/plain": [
       "12"
      ]
     },
     "execution_count": 16,
     "metadata": {},
     "output_type": "execute_result"
    }
   ],
   "source": [
    "arr.size # 배열의 총 요소 개수"
   ]
  },
  {
   "cell_type": "code",
   "execution_count": 17,
   "metadata": {
    "colab": {
     "base_uri": "https://localhost:8080/"
    },
    "executionInfo": {
     "elapsed": 9,
     "status": "ok",
     "timestamp": 1702395694870,
     "user": {
      "displayName": "young bback",
      "userId": "01066130122626283768"
     },
     "user_tz": -540
    },
    "id": "BBZIUmYctQEN",
    "outputId": "5d44f6b4-d2d0-4181-902b-34464dc3cc49"
   },
   "outputs": [
    {
     "data": {
      "text/plain": [
       "dtype('int32')"
      ]
     },
     "execution_count": 17,
     "metadata": {},
     "output_type": "execute_result"
    }
   ],
   "source": [
    "arr.dtype"
   ]
  },
  {
   "cell_type": "markdown",
   "metadata": {
    "id": "t4NKkWHouQnp"
   },
   "source": [
    "# 자주쓰는 numpy 데이터 타입"
   ]
  },
  {
   "cell_type": "code",
   "execution_count": 18,
   "metadata": {
    "colab": {
     "base_uri": "https://localhost:8080/"
    },
    "executionInfo": {
     "elapsed": 7,
     "status": "ok",
     "timestamp": 1702395694870,
     "user": {
      "displayName": "young bback",
      "userId": "01066130122626283768"
     },
     "user_tz": -540
    },
    "id": "9UfBwn2ytQBu",
    "outputId": "f7a00f79-7756-4281-cf6d-12a0c87a29af"
   },
   "outputs": [
    {
     "data": {
      "text/plain": [
       "array([1, 2, 3])"
      ]
     },
     "execution_count": 18,
     "metadata": {},
     "output_type": "execute_result"
    }
   ],
   "source": [
    "np.array([1,2,3], dtype=np.int32) # 4바이트 크기의 정수"
   ]
  },
  {
   "cell_type": "code",
   "execution_count": 19,
   "metadata": {
    "colab": {
     "base_uri": "https://localhost:8080/"
    },
    "executionInfo": {
     "elapsed": 6,
     "status": "ok",
     "timestamp": 1702395694870,
     "user": {
      "displayName": "young bback",
      "userId": "01066130122626283768"
     },
     "user_tz": -540
    },
    "id": "7XG03n4YV17w",
    "outputId": "e99d13d6-0d89-4de2-e814-99dca2abc00c"
   },
   "outputs": [
    {
     "data": {
      "text/plain": [
       "array([[1, 2, 3]])"
      ]
     },
     "execution_count": 19,
     "metadata": {},
     "output_type": "execute_result"
    }
   ],
   "source": [
    "np.array([range(1,4)],dtype=np.int32)"
   ]
  },
  {
   "cell_type": "code",
   "execution_count": 20,
   "metadata": {
    "colab": {
     "base_uri": "https://localhost:8080/"
    },
    "executionInfo": {
     "elapsed": 4,
     "status": "ok",
     "timestamp": 1702395789767,
     "user": {
      "displayName": "young bback",
      "userId": "01066130122626283768"
     },
     "user_tz": -540
    },
    "id": "H5sesUaCsfVP",
    "outputId": "15c7c861-f2f0-434e-ebd9-706fa84bf9f5"
   },
   "outputs": [
    {
     "data": {
      "text/plain": [
       "(0, 1)"
      ]
     },
     "execution_count": 20,
     "metadata": {},
     "output_type": "execute_result"
    }
   ],
   "source": [
    "a,b,c,d=range(0,4)\n",
    "a,b"
   ]
  },
  {
   "cell_type": "code",
   "execution_count": 21,
   "metadata": {
    "colab": {
     "base_uri": "https://localhost:8080/"
    },
    "executionInfo": {
     "elapsed": 5,
     "status": "ok",
     "timestamp": 1702395694870,
     "user": {
      "displayName": "young bback",
      "userId": "01066130122626283768"
     },
     "user_tz": -540
    },
    "id": "WhEnVTErtP8z",
    "outputId": "8d00bfd1-8a99-45a5-b458-2450083f597f"
   },
   "outputs": [
    {
     "data": {
      "text/plain": [
       "array([1, 2, 3], dtype=int64)"
      ]
     },
     "execution_count": 21,
     "metadata": {},
     "output_type": "execute_result"
    }
   ],
   "source": [
    "np.array([1,2,3], dtype=np.int64) # 8바이트 크기의 정수"
   ]
  },
  {
   "cell_type": "code",
   "execution_count": 22,
   "metadata": {
    "colab": {
     "base_uri": "https://localhost:8080/"
    },
    "executionInfo": {
     "elapsed": 2,
     "status": "ok",
     "timestamp": 1702395856025,
     "user": {
      "displayName": "young bback",
      "userId": "01066130122626283768"
     },
     "user_tz": -540
    },
    "id": "FmG8_P1Ssw64",
    "outputId": "0422175d-7cb5-4843-bd70-3c3660cfa21a"
   },
   "outputs": [
    {
     "data": {
      "text/plain": [
       "array([1, 2, 3], dtype=int64)"
      ]
     },
     "execution_count": 22,
     "metadata": {},
     "output_type": "execute_result"
    }
   ],
   "source": [
    "np.array(range(1,4),dtype=np.int64)"
   ]
  },
  {
   "cell_type": "code",
   "execution_count": 23,
   "metadata": {
    "colab": {
     "base_uri": "https://localhost:8080/"
    },
    "executionInfo": {
     "elapsed": 4,
     "status": "ok",
     "timestamp": 1702395694870,
     "user": {
      "displayName": "young bback",
      "userId": "01066130122626283768"
     },
     "user_tz": -540
    },
    "id": "3yNJN-wdWMWd",
    "outputId": "aa04ea3b-92b1-45a2-e639-234cfdc5c282"
   },
   "outputs": [
    {
     "data": {
      "text/plain": [
       "array([[1, 2, 3]], dtype=int64)"
      ]
     },
     "execution_count": 23,
     "metadata": {},
     "output_type": "execute_result"
    }
   ],
   "source": [
    "np.array([range(1,4)],dtype=np.int64)"
   ]
  },
  {
   "cell_type": "code",
   "execution_count": 24,
   "metadata": {
    "colab": {
     "base_uri": "https://localhost:8080/"
    },
    "executionInfo": {
     "elapsed": 414,
     "status": "ok",
     "timestamp": 1702395695281,
     "user": {
      "displayName": "young bback",
      "userId": "01066130122626283768"
     },
     "user_tz": -540
    },
    "id": "qF-ACwiltP6Q",
    "outputId": "7904a859-9a8d-4d90-af7d-64d3a9c1b978"
   },
   "outputs": [
    {
     "data": {
      "text/plain": [
       "array([1, 2, 3], dtype=uint8)"
      ]
     },
     "execution_count": 24,
     "metadata": {},
     "output_type": "execute_result"
    }
   ],
   "source": [
    "np.array([1,2,3], dtype= np.uint8) # 1바이트 크기의 부호 없는 정수"
   ]
  },
  {
   "cell_type": "code",
   "execution_count": 25,
   "metadata": {
    "colab": {
     "base_uri": "https://localhost:8080/"
    },
    "executionInfo": {
     "elapsed": 24,
     "status": "ok",
     "timestamp": 1702395695281,
     "user": {
      "displayName": "young bback",
      "userId": "01066130122626283768"
     },
     "user_tz": -540
    },
    "id": "WYZFqBD_WO_f",
    "outputId": "59b466c0-d236-4884-b3a0-387a10b23cfd"
   },
   "outputs": [
    {
     "data": {
      "text/plain": [
       "array([[1, 2, 3]], dtype=uint8)"
      ]
     },
     "execution_count": 25,
     "metadata": {},
     "output_type": "execute_result"
    }
   ],
   "source": [
    "np.array([range(1,4)],dtype=np.uint8)"
   ]
  },
  {
   "cell_type": "code",
   "execution_count": 26,
   "metadata": {
    "colab": {
     "base_uri": "https://localhost:8080/"
    },
    "executionInfo": {
     "elapsed": 23,
     "status": "ok",
     "timestamp": 1702395695281,
     "user": {
      "displayName": "young bback",
      "userId": "01066130122626283768"
     },
     "user_tz": -540
    },
    "id": "woTxBWZttP3q",
    "outputId": "7c31be8e-65df-49a5-89fc-14b860c05735"
   },
   "outputs": [
    {
     "data": {
      "text/plain": [
       "array([  1,   2, 255], dtype=uint8)"
      ]
     },
     "execution_count": 26,
     "metadata": {},
     "output_type": "execute_result"
    }
   ],
   "source": [
    "np.array([1,2,255], dtype= np.uint8)"
   ]
  },
  {
   "cell_type": "code",
   "execution_count": 27,
   "metadata": {
    "colab": {
     "base_uri": "https://localhost:8080/"
    },
    "executionInfo": {
     "elapsed": 22,
     "status": "ok",
     "timestamp": 1702395695281,
     "user": {
      "displayName": "young bback",
      "userId": "01066130122626283768"
     },
     "user_tz": -540
    },
    "id": "_LNiBCPstP1T",
    "outputId": "f0d41f48-48a6-44e7-9139-7573292b3de7"
   },
   "outputs": [
    {
     "data": {
      "text/plain": [
       "array([1., 2., 3.])"
      ]
     },
     "execution_count": 27,
     "metadata": {},
     "output_type": "execute_result"
    }
   ],
   "source": [
    "np.array([1.0 , 2.0, 3.0], dtype=np.float64) # 8 바이트 크기의 실수"
   ]
  },
  {
   "cell_type": "code",
   "execution_count": 28,
   "metadata": {
    "colab": {
     "base_uri": "https://localhost:8080/"
    },
    "executionInfo": {
     "elapsed": 21,
     "status": "ok",
     "timestamp": 1702395695281,
     "user": {
      "displayName": "young bback",
      "userId": "01066130122626283768"
     },
     "user_tz": -540
    },
    "id": "29ds2xjotPyY",
    "outputId": "4e4b913d-f318-46c0-b3f8-e849f065aaab"
   },
   "outputs": [
    {
     "data": {
      "text/plain": [
       "array([1., 2., 3.], dtype=float32)"
      ]
     },
     "execution_count": 28,
     "metadata": {},
     "output_type": "execute_result"
    }
   ],
   "source": [
    "np.array([1.0 , 2.0, 3.0], dtype=np.float32) # 4 바이트 크기의 실수"
   ]
  },
  {
   "cell_type": "code",
   "execution_count": 29,
   "metadata": {
    "colab": {
     "base_uri": "https://localhost:8080/"
    },
    "executionInfo": {
     "elapsed": 20,
     "status": "ok",
     "timestamp": 1702395695281,
     "user": {
      "displayName": "young bback",
      "userId": "01066130122626283768"
     },
     "user_tz": -540
    },
    "id": "pB7tz9jmwkwg",
    "outputId": "b02e69da-8755-4e63-c318-02f68e50f405"
   },
   "outputs": [
    {
     "data": {
      "text/plain": [
       "array([False,  True,  True])"
      ]
     },
     "execution_count": 29,
     "metadata": {},
     "output_type": "execute_result"
    }
   ],
   "source": [
    "np.array([0 , 2.0, 3.0], dtype=np.bool_)"
   ]
  },
  {
   "cell_type": "markdown",
   "metadata": {
    "id": "Z4izLS4BzFme"
   },
   "source": [
    "# 인덱싱과 슬라이싱"
   ]
  },
  {
   "cell_type": "code",
   "execution_count": 30,
   "metadata": {
    "colab": {
     "base_uri": "https://localhost:8080/"
    },
    "executionInfo": {
     "elapsed": 19,
     "status": "ok",
     "timestamp": 1702395695281,
     "user": {
      "displayName": "young bback",
      "userId": "01066130122626283768"
     },
     "user_tz": -540
    },
    "id": "StDDOCpewktf",
    "outputId": "9b2f17ec-da18-4e64-c213-e993e0bb2a9f"
   },
   "outputs": [
    {
     "data": {
      "text/plain": [
       "array([[ 1,  2,  3],\n",
       "       [ 4,  5,  6],\n",
       "       [ 7,  8,  9],\n",
       "       [10, 11, 12]])"
      ]
     },
     "execution_count": 30,
     "metadata": {},
     "output_type": "execute_result"
    }
   ],
   "source": [
    "arr = np.array([\n",
    "    [1,2,3],\n",
    "    [4,5,6],\n",
    "    [7,8,9],\n",
    "    [10,11,12]\n",
    "])\n",
    "arr"
   ]
  },
  {
   "cell_type": "code",
   "execution_count": 31,
   "metadata": {
    "colab": {
     "base_uri": "https://localhost:8080/"
    },
    "executionInfo": {
     "elapsed": 17,
     "status": "ok",
     "timestamp": 1702395695281,
     "user": {
      "displayName": "young bback",
      "userId": "01066130122626283768"
     },
     "user_tz": -540
    },
    "id": "EecD-n5bWdWu",
    "outputId": "caa6209a-1d0c-4531-81ce-af18aa4670e2"
   },
   "outputs": [
    {
     "data": {
      "text/plain": [
       "array([[ 1,  2,  3,  4],\n",
       "       [ 5,  6,  7,  8],\n",
       "       [ 9, 10, 11, 12]])"
      ]
     },
     "execution_count": 31,
     "metadata": {},
     "output_type": "execute_result"
    }
   ],
   "source": [
    "np.array([range(1,13)]).reshape(-1,4)"
   ]
  },
  {
   "cell_type": "code",
   "execution_count": 32,
   "metadata": {
    "colab": {
     "base_uri": "https://localhost:8080/"
    },
    "executionInfo": {
     "elapsed": 3,
     "status": "ok",
     "timestamp": 1702396171406,
     "user": {
      "displayName": "young bback",
      "userId": "01066130122626283768"
     },
     "user_tz": -540
    },
    "id": "wLYMM2-6uAQ6",
    "outputId": "6153b811-6d90-49e5-a973-65241cd8d796"
   },
   "outputs": [
    {
     "data": {
      "text/plain": [
       "array([[ 1,  2,  3],\n",
       "       [ 4,  5,  6],\n",
       "       [ 7,  8,  9],\n",
       "       [10, 11, 12]])"
      ]
     },
     "execution_count": 32,
     "metadata": {},
     "output_type": "execute_result"
    }
   ],
   "source": [
    "np.array([range(1,13)]).reshape(-1,3)"
   ]
  },
  {
   "cell_type": "code",
   "execution_count": 12,
   "metadata": {
    "executionInfo": {
     "elapsed": 333,
     "status": "ok",
     "timestamp": 1715700037935,
     "user": {
      "displayName": "young bback",
      "userId": "01066130122626283768"
     },
     "user_tz": -540
    },
    "id": "RAEoLEpzoDWr"
   },
   "outputs": [
    {
     "data": {
      "text/plain": [
       "array([[ 1,  2,  3,  4,  5,  6],\n",
       "       [ 7,  8,  9, 10, 11, 12]])"
      ]
     },
     "execution_count": 12,
     "metadata": {},
     "output_type": "execute_result"
    }
   ],
   "source": [
    "import numpy as np\n",
    "arr=np.array([range(1,13)]).reshape(-1,6)\n",
    "arr"
   ]
  },
  {
   "cell_type": "code",
   "execution_count": 13,
   "metadata": {
    "colab": {
     "base_uri": "https://localhost:8080/"
    },
    "executionInfo": {
     "elapsed": 291,
     "status": "ok",
     "timestamp": 1715700058317,
     "user": {
      "displayName": "young bback",
      "userId": "01066130122626283768"
     },
     "user_tz": -540
    },
    "id": "aPze52Xvwkqe",
    "outputId": "bf02455d-9974-4965-c4f6-301fda1e0374"
   },
   "outputs": [
    {
     "data": {
      "text/plain": [
       "(array([ 7,  8,  9, 10, 11, 12]), array([ 6, 12]))"
      ]
     },
     "execution_count": 13,
     "metadata": {},
     "output_type": "execute_result"
    }
   ],
   "source": [
    "arr[-1],arr[:,-1]"
   ]
  },
  {
   "cell_type": "code",
   "execution_count": 14,
   "metadata": {
    "colab": {
     "base_uri": "https://localhost:8080/"
    },
    "executionInfo": {
     "elapsed": 15,
     "status": "ok",
     "timestamp": 1702395695281,
     "user": {
      "displayName": "young bback",
      "userId": "01066130122626283768"
     },
     "user_tz": -540
    },
    "id": "nouFwvM1wkn2",
    "outputId": "413cfc46-bfb5-47cd-e1b8-6fcec2d3f270"
   },
   "outputs": [
    {
     "data": {
      "text/plain": [
       "(array([[ 1,  2,  3,  4,  5,  6],\n",
       "        [ 7,  8,  9, 10, 11, 12]]),\n",
       " array([[1, 2, 3, 4, 5, 6]]),\n",
       " array([[ 7,  8,  9, 10, 11, 12],\n",
       "        [ 1,  2,  3,  4,  5,  6]]))"
      ]
     },
     "execution_count": 14,
     "metadata": {},
     "output_type": "execute_result"
    }
   ],
   "source": [
    "arr[:2],arr[::2],arr[::-1] # 첫번째 차원에 대하여"
   ]
  },
  {
   "cell_type": "code",
   "execution_count": 17,
   "metadata": {},
   "outputs": [
    {
     "data": {
      "text/plain": [
       "(array([[12, 11, 10,  9,  8,  7],\n",
       "        [ 6,  5,  4,  3,  2,  1]]),\n",
       " array([12,  6]))"
      ]
     },
     "execution_count": 17,
     "metadata": {},
     "output_type": "execute_result"
    }
   ],
   "source": [
    "arr[::-1,::-1],arr[::-1,-1]"
   ]
  },
  {
   "cell_type": "code",
   "execution_count": 35,
   "metadata": {
    "colab": {
     "base_uri": "https://localhost:8080/"
    },
    "executionInfo": {
     "elapsed": 14,
     "status": "ok",
     "timestamp": 1702395695281,
     "user": {
      "displayName": "young bback",
      "userId": "01066130122626283768"
     },
     "user_tz": -540
    },
    "id": "OsiBP6ewwkTs",
    "outputId": "6257d08e-9189-4b37-ebc1-7224bb00d3ba"
   },
   "outputs": [
    {
     "data": {
      "text/plain": [
       "2"
      ]
     },
     "execution_count": 35,
     "metadata": {},
     "output_type": "execute_result"
    }
   ],
   "source": [
    "arr.shape[0] # 샘플 개수를 보고 싶다면?"
   ]
  },
  {
   "cell_type": "code",
   "execution_count": 36,
   "metadata": {
    "colab": {
     "base_uri": "https://localhost:8080/"
    },
    "executionInfo": {
     "elapsed": 13,
     "status": "ok",
     "timestamp": 1702395695281,
     "user": {
      "displayName": "young bback",
      "userId": "01066130122626283768"
     },
     "user_tz": -540
    },
    "id": "B8_BylEfz3sh",
    "outputId": "33c281da-87e9-40f8-9a78-0d5a5903b264"
   },
   "outputs": [
    {
     "data": {
      "text/plain": [
       "array([2, 8])"
      ]
     },
     "execution_count": 36,
     "metadata": {},
     "output_type": "execute_result"
    }
   ],
   "source": [
    "arr[:,1] # 다차원에 대한 슬라이싱이 가능!!"
   ]
  },
  {
   "cell_type": "code",
   "execution_count": 37,
   "metadata": {
    "colab": {
     "base_uri": "https://localhost:8080/"
    },
    "executionInfo": {
     "elapsed": 12,
     "status": "ok",
     "timestamp": 1702395695281,
     "user": {
      "displayName": "young bback",
      "userId": "01066130122626283768"
     },
     "user_tz": -540
    },
    "id": "hfVUm8eWz3px",
    "outputId": "895b41ef-bdd4-4ce1-d3a4-0f20abc1a441"
   },
   "outputs": [
    {
     "data": {
      "text/plain": [
       "array([[ 1,  3,  5],\n",
       "       [ 7,  9, 11]])"
      ]
     },
     "execution_count": 37,
     "metadata": {},
     "output_type": "execute_result"
    }
   ],
   "source": [
    "arr[:,::2] # 0번 열과 1번 열을 가져오고 싶다면?\n",
    "#arr[::2,::2],arr"
   ]
  },
  {
   "cell_type": "markdown",
   "metadata": {
    "id": "Kg9Wpwkj1Jm6"
   },
   "source": [
    "```\n",
    "arr 변수에서 다음과 같이 반환되게 슬라이싱하시오\n",
    "\n",
    "[\n",
    "    [1,3],\n",
    "    [7,9]\n",
    "]\n",
    "```"
   ]
  },
  {
   "cell_type": "code",
   "execution_count": 44,
   "metadata": {},
   "outputs": [
    {
     "data": {
      "text/plain": [
       "array([[ 1,  2,  3,  4,  5,  6],\n",
       "       [ 7,  8,  9, 10, 11, 12]])"
      ]
     },
     "execution_count": 44,
     "metadata": {},
     "output_type": "execute_result"
    }
   ],
   "source": [
    "arr"
   ]
  },
  {
   "cell_type": "code",
   "execution_count": 42,
   "metadata": {
    "colab": {
     "base_uri": "https://localhost:8080/"
    },
    "executionInfo": {
     "elapsed": 11,
     "status": "ok",
     "timestamp": 1702395695281,
     "user": {
      "displayName": "young bback",
      "userId": "01066130122626283768"
     },
     "user_tz": -540
    },
    "id": "DhpZ-2id0106",
    "outputId": "82d15841-9053-412a-c2ea-d2f457b7bad5"
   },
   "outputs": [
    {
     "data": {
      "text/plain": [
       "array([[1, 3],\n",
       "       [7, 9]])"
      ]
     },
     "execution_count": 42,
     "metadata": {},
     "output_type": "execute_result"
    }
   ],
   "source": [
    "arr[:2, :3:2]"
   ]
  },
  {
   "cell_type": "markdown",
   "metadata": {
    "id": "TN6QpID-3k0P"
   },
   "source": [
    "# 마스킹(masking)\n",
    "- bool 배열을 마스크로 사용하여 데이터의 특정 부분들만 선택하는 기법"
   ]
  },
  {
   "cell_type": "code",
   "execution_count": 43,
   "metadata": {
    "colab": {
     "base_uri": "https://localhost:8080/"
    },
    "executionInfo": {
     "elapsed": 10,
     "status": "ok",
     "timestamp": 1702395695281,
     "user": {
      "displayName": "young bback",
      "userId": "01066130122626283768"
     },
     "user_tz": -540
    },
    "id": "eQG4wado0-mG",
    "outputId": "e36d4de6-8540-437c-a053-e085dc675d14"
   },
   "outputs": [
    {
     "data": {
      "text/plain": [
       "array([[ 1,  2,  3,  4,  5,  6],\n",
       "       [ 7,  8,  9, 10, 11, 12]])"
      ]
     },
     "execution_count": 43,
     "metadata": {},
     "output_type": "execute_result"
    }
   ],
   "source": [
    "arr"
   ]
  },
  {
   "cell_type": "code",
   "execution_count": 45,
   "metadata": {
    "colab": {
     "base_uri": "https://localhost:8080/"
    },
    "executionInfo": {
     "elapsed": 9,
     "status": "ok",
     "timestamp": 1702395695281,
     "user": {
      "displayName": "young bback",
      "userId": "01066130122626283768"
     },
     "user_tz": -540
    },
    "id": "dyNyYBHJ01yE",
    "outputId": "4b7367b7-daaa-43e9-e998-cd650eeaaafb"
   },
   "outputs": [
    {
     "data": {
      "text/plain": [
       "array([[1, 2, 3],\n",
       "       [7, 8, 9]])"
      ]
     },
     "execution_count": 45,
     "metadata": {},
     "output_type": "execute_result"
    }
   ],
   "source": [
    "arr = np.array([\n",
    "    [1,2,3],\n",
    "    [4,5,6],\n",
    "    [7,8,9],\n",
    "    [10,11,12]\n",
    "])\n",
    "arr\n",
    "\n",
    "mask = np.array([True, False, True, False]) # 0 번째와 2번째 샘플을 가져오고 싶다면?\n",
    "arr[mask]"
   ]
  },
  {
   "cell_type": "code",
   "execution_count": 47,
   "metadata": {
    "colab": {
     "base_uri": "https://localhost:8080/"
    },
    "executionInfo": {
     "elapsed": 8,
     "status": "ok",
     "timestamp": 1702395695281,
     "user": {
      "displayName": "young bback",
      "userId": "01066130122626283768"
     },
     "user_tz": -540
    },
    "id": "LuPI07er01v8",
    "outputId": "40ab257c-5f62-4cbb-c8c5-585dd34e65a9"
   },
   "outputs": [
    {
     "data": {
      "text/plain": [
       "array([[ 1,  3],\n",
       "       [ 4,  6],\n",
       "       [ 7,  9],\n",
       "       [10, 12]])"
      ]
     },
     "execution_count": 47,
     "metadata": {},
     "output_type": "execute_result"
    }
   ],
   "source": [
    "mask = np.array([True, False, True]) # 0 번째와 2번째 열을 가져오고 싶다면?\n",
    "arr[:,mask]"
   ]
  },
  {
   "cell_type": "code",
   "execution_count": 48,
   "metadata": {
    "colab": {
     "base_uri": "https://localhost:8080/"
    },
    "executionInfo": {
     "elapsed": 6,
     "status": "ok",
     "timestamp": 1702395695625,
     "user": {
      "displayName": "young bback",
      "userId": "01066130122626283768"
     },
     "user_tz": -540
    },
    "id": "-xnvh86pXVos",
    "outputId": "270b816c-2417-4c34-dbcc-0c3f6638c313"
   },
   "outputs": [
    {
     "data": {
      "text/plain": [
       "array([[1, 2, 3],\n",
       "       [4, 5, 6]])"
      ]
     },
     "execution_count": 48,
     "metadata": {},
     "output_type": "execute_result"
    }
   ],
   "source": [
    "arr[[True,True,False,False],:]"
   ]
  },
  {
   "cell_type": "code",
   "execution_count": 49,
   "metadata": {
    "colab": {
     "base_uri": "https://localhost:8080/"
    },
    "executionInfo": {
     "elapsed": 543,
     "status": "ok",
     "timestamp": 1702396220588,
     "user": {
      "displayName": "young bback",
      "userId": "01066130122626283768"
     },
     "user_tz": -540
    },
    "id": "Yub_5UhXZd7d",
    "outputId": "78c45f20-61b1-4218-e3ab-c4a8d0c9f555"
   },
   "outputs": [
    {
     "data": {
      "text/plain": [
       "array([[ 1,  2,  3],\n",
       "       [ 4,  5,  6],\n",
       "       [ 7,  8,  9],\n",
       "       [10, 11, 12]])"
      ]
     },
     "execution_count": 49,
     "metadata": {},
     "output_type": "execute_result"
    }
   ],
   "source": [
    "np.array([[ 1,  2,  3],\n",
    "       [ 4,  5,  6],\n",
    "       [ 7,  8,  9],\n",
    "       [10, 11, 12]])"
   ]
  },
  {
   "cell_type": "code",
   "execution_count": 50,
   "metadata": {
    "id": "ZPxkBQWYiexj"
   },
   "outputs": [
    {
     "data": {
      "text/plain": [
       "array([[ 0,  0,  0],\n",
       "       [ 0,  5,  6],\n",
       "       [ 7,  8,  9],\n",
       "       [10, 11, 12]])"
      ]
     },
     "execution_count": 50,
     "metadata": {},
     "output_type": "execute_result"
    }
   ],
   "source": [
    "import numpy as np\n",
    "\n",
    "arr = np.array([[1, 2, 3],\n",
    "                [4, 5, 6],\n",
    "                [7, 8, 9],\n",
    "                [10, 11, 12]])\n",
    "\n",
    "# 5보다 작은 요소를 0으로 변경\n",
    "arr[arr < 5] = 0\n",
    "\n",
    "arr"
   ]
  },
  {
   "cell_type": "markdown",
   "metadata": {
    "id": "9BQcX3TgZenC"
   },
   "source": [
    "행 선택\n",
    "True\n",
    "True\n",
    "False\n",
    "False\n",
    "​\n",
    "  \n",
    "→\n",
    "→\n",
    "→\n",
    "→\n",
    "​\n",
    "  \n",
    "열 선택\n",
    "[1\n",
    "[4\n",
    "[7\n",
    "[10\n",
    "​\n",
    "  \n",
    "선택된 값\n",
    "2\n",
    "5\n",
    "8\n",
    "11\n",
    "​\n",
    "  \n",
    "3]\n",
    "6]\n",
    "9]\n",
    "12]\n",
    "​\n",
    "  \n",
    "→[1,−,−]\n",
    "→[−,−,6]\n",
    "→[−,−,−]\n",
    "→[−,−,−]\n",
    "​\n",
    "\n",
    "​\n",
    "\n"
   ]
  },
  {
   "cell_type": "code",
   "execution_count": 74,
   "metadata": {
    "colab": {
     "base_uri": "https://localhost:8080/"
    },
    "executionInfo": {
     "elapsed": 654,
     "status": "ok",
     "timestamp": 1702396250903,
     "user": {
      "displayName": "young bback",
      "userId": "01066130122626283768"
     },
     "user_tz": -540
    },
    "id": "2t3tOgMUXHAn",
    "outputId": "b344e241-96fe-48e2-d963-8af89e1398d7"
   },
   "outputs": [
    {
     "data": {
      "text/plain": [
       "array([], shape=(0, 2, 3), dtype=int32)"
      ]
     },
     "execution_count": 74,
     "metadata": {},
     "output_type": "execute_result"
    }
   ],
   "source": [
    "arr = np.array([[1, 2, 3],\n",
    "                [4, 5, 6],\n",
    "                [7, 8, 9],\n",
    "                [10, 11, 12]])\n",
    "\n",
    "arr[[True,True,False,False],:][True, False, True]"
   ]
  },
  {
   "cell_type": "markdown",
   "metadata": {
    "id": "qsIRGHDiZo6X"
   },
   "source": [
    "![image.png](data:image/png;base64,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)"
   ]
  },
  {
   "cell_type": "code",
   "execution_count": 75,
   "metadata": {
    "colab": {
     "base_uri": "https://localhost:8080/"
    },
    "executionInfo": {
     "elapsed": 5,
     "status": "ok",
     "timestamp": 1702396250903,
     "user": {
      "displayName": "young bback",
      "userId": "01066130122626283768"
     },
     "user_tz": -540
    },
    "id": "eT1O9VYIW1m9",
    "outputId": "e8f13bf5-6bed-45c9-f100-5539207e2404"
   },
   "outputs": [
    {
     "data": {
      "text/plain": [
       "array([1, 6])"
      ]
     },
     "execution_count": 75,
     "metadata": {},
     "output_type": "execute_result"
    }
   ],
   "source": [
    "arr[[True,True,False,False],[True, False,True]] # 양쪽다 다 마스크 다중시>원하는 결과가 안나온다, 한쪽만 마스킹하기, 아예 잘못된 코드\n",
    "# 트루펄스 마스킹은 범위가 아닌 해당 부분만 가져오는것>>넘파이 내부적으로 어떻게 움직이는지 알 수 없음."
   ]
  },
  {
   "cell_type": "code",
   "execution_count": 54,
   "metadata": {},
   "outputs": [],
   "source": [
    "arr = np.array([[1, 2, 3],\n",
    "                [4, 5, 6],\n",
    "                [7, 8, 9],\n",
    "                [10, 11, 12]])"
   ]
  },
  {
   "cell_type": "code",
   "execution_count": 55,
   "metadata": {
    "colab": {
     "base_uri": "https://localhost:8080/"
    },
    "executionInfo": {
     "elapsed": 321,
     "status": "ok",
     "timestamp": 1702396274649,
     "user": {
      "displayName": "young bback",
      "userId": "01066130122626283768"
     },
     "user_tz": -540
    },
    "id": "v-LDfju5uZ9y",
    "outputId": "d32de922-3020-4d4e-d037-6a191075a87c"
   },
   "outputs": [
    {
     "data": {
      "text/plain": [
       "array([[1, 2, 3],\n",
       "       [4, 5, 6]])"
      ]
     },
     "execution_count": 55,
     "metadata": {},
     "output_type": "execute_result"
    }
   ],
   "source": [
    "arr[[True,True,False,False],]"
   ]
  },
  {
   "cell_type": "code",
   "execution_count": 56,
   "metadata": {
    "colab": {
     "base_uri": "https://localhost:8080/"
    },
    "executionInfo": {
     "elapsed": 4,
     "status": "ok",
     "timestamp": 1702396250903,
     "user": {
      "displayName": "young bback",
      "userId": "01066130122626283768"
     },
     "user_tz": -540
    },
    "id": "T6tNcZuud8uV",
    "outputId": "4765ecca-e8a2-49cc-dcc7-e5ffadb3fbaf"
   },
   "outputs": [
    {
     "data": {
      "text/plain": [
       "array([1, 4])"
      ]
     },
     "execution_count": 56,
     "metadata": {},
     "output_type": "execute_result"
    }
   ],
   "source": [
    "arr[[True,True,False,False],][:,0]"
   ]
  },
  {
   "cell_type": "code",
   "execution_count": 57,
   "metadata": {
    "colab": {
     "base_uri": "https://localhost:8080/"
    },
    "executionInfo": {
     "elapsed": 3,
     "status": "ok",
     "timestamp": 1702396250903,
     "user": {
      "displayName": "young bback",
      "userId": "01066130122626283768"
     },
     "user_tz": -540
    },
    "id": "uG2tmETfZ0zs",
    "outputId": "aafd2473-ab58-4064-96d8-8ee3631317c0"
   },
   "outputs": [
    {
     "data": {
      "text/plain": [
       "array([[1, 3],\n",
       "       [4, 6]])"
      ]
     },
     "execution_count": 57,
     "metadata": {},
     "output_type": "execute_result"
    }
   ],
   "source": [
    "sample=np.array([[1,2,3],[4,5,6]])\n",
    "sample[:,[True, False, True]]"
   ]
  },
  {
   "cell_type": "code",
   "execution_count": 58,
   "metadata": {
    "colab": {
     "base_uri": "https://localhost:8080/"
    },
    "executionInfo": {
     "elapsed": 9,
     "status": "ok",
     "timestamp": 1702396251379,
     "user": {
      "displayName": "young bback",
      "userId": "01066130122626283768"
     },
     "user_tz": -540
    },
    "id": "eB_kcIYaZQNH",
    "outputId": "2168f3e0-0a17-4573-d1b8-55fcd69ab186"
   },
   "outputs": [
    {
     "data": {
      "text/plain": [
       "array([[ 1,  3],\n",
       "       [ 4,  6],\n",
       "       [ 7,  9],\n",
       "       [10, 12]])"
      ]
     },
     "execution_count": 58,
     "metadata": {},
     "output_type": "execute_result"
    }
   ],
   "source": [
    "arr[:,[True, False, True]]"
   ]
  },
  {
   "cell_type": "code",
   "execution_count": 66,
   "metadata": {
    "colab": {
     "base_uri": "https://localhost:8080/",
     "height": 240
    },
    "executionInfo": {
     "elapsed": 8,
     "status": "error",
     "timestamp": 1702396251379,
     "user": {
      "displayName": "young bback",
      "userId": "01066130122626283768"
     },
     "user_tz": -540
    },
    "id": "7flLoHvlXABo",
    "outputId": "8ed68acf-a44d-433c-a27e-407afbc9c490"
   },
   "outputs": [
    {
     "data": {
      "text/plain": [
       "array([[ 1,  2,  3],\n",
       "       [ 4,  5,  6],\n",
       "       [10, 11, 12]])"
      ]
     },
     "execution_count": 66,
     "metadata": {},
     "output_type": "execute_result"
    }
   ],
   "source": [
    "arr[[True,True,False, True],]"
   ]
  },
  {
   "cell_type": "code",
   "execution_count": 70,
   "metadata": {
    "colab": {
     "base_uri": "https://localhost:8080/"
    },
    "executionInfo": {
     "elapsed": 385,
     "status": "ok",
     "timestamp": 1702396290104,
     "user": {
      "displayName": "young bback",
      "userId": "01066130122626283768"
     },
     "user_tz": -540
    },
    "id": "vtghRqKn01tF",
    "outputId": "57d3d2ae-e68f-40b8-c0d8-332b87df7430"
   },
   "outputs": [
    {
     "data": {
      "text/plain": [
       "array([[False, False,  True],\n",
       "       [ True,  True,  True],\n",
       "       [ True,  True,  True],\n",
       "       [ True,  True,  True]])"
      ]
     },
     "execution_count": 70,
     "metadata": {},
     "output_type": "execute_result"
    }
   ],
   "source": [
    "mask = arr > 2\n",
    "mask"
   ]
  },
  {
   "cell_type": "code",
   "execution_count": 71,
   "metadata": {
    "colab": {
     "base_uri": "https://localhost:8080/"
    },
    "executionInfo": {
     "elapsed": 5,
     "status": "ok",
     "timestamp": 1702396290425,
     "user": {
      "displayName": "young bback",
      "userId": "01066130122626283768"
     },
     "user_tz": -540
    },
    "id": "4qmq5-7ceRai",
    "outputId": "7ea27d10-b688-4358-aae1-e1c6666ec826"
   },
   "outputs": [
    {
     "data": {
      "text/plain": [
       "array([[False, False, False],\n",
       "       [False, False,  True],\n",
       "       [ True,  True,  True],\n",
       "       [ True,  True,  True]])"
      ]
     },
     "execution_count": 71,
     "metadata": {},
     "output_type": "execute_result"
    }
   ],
   "source": [
    "mask2=arr>5\n",
    "mask2"
   ]
  },
  {
   "cell_type": "code",
   "execution_count": 72,
   "metadata": {
    "colab": {
     "base_uri": "https://localhost:8080/"
    },
    "executionInfo": {
     "elapsed": 4,
     "status": "ok",
     "timestamp": 1702396290426,
     "user": {
      "displayName": "young bback",
      "userId": "01066130122626283768"
     },
     "user_tz": -540
    },
    "id": "Pma5N8ZueW7A",
    "outputId": "2ddccbaf-2003-488c-fb36-4d1b57007461"
   },
   "outputs": [
    {
     "data": {
      "text/plain": [
       "array([ 6,  7,  8,  9, 10, 11, 12])"
      ]
     },
     "execution_count": 72,
     "metadata": {},
     "output_type": "execute_result"
    }
   ],
   "source": [
    "arr[mask2]"
   ]
  },
  {
   "cell_type": "code",
   "execution_count": 74,
   "metadata": {
    "colab": {
     "base_uri": "https://localhost:8080/"
    },
    "executionInfo": {
     "elapsed": 2,
     "status": "ok",
     "timestamp": 1702396290719,
     "user": {
      "displayName": "young bback",
      "userId": "01066130122626283768"
     },
     "user_tz": -540
    },
    "id": "ytMmxere01qh",
    "outputId": "d8463a0d-bb48-4fb9-e0cf-6424e3c295da"
   },
   "outputs": [
    {
     "data": {
      "text/plain": [
       "array([ 3,  4,  5,  6,  7,  8,  9, 10, 11, 12])"
      ]
     },
     "execution_count": 74,
     "metadata": {},
     "output_type": "execute_result"
    }
   ],
   "source": [
    "arr[mask] # 모든 스칼라 값에 마스킹 할 경우 벡터 형태로 반환 된다."
   ]
  },
  {
   "cell_type": "code",
   "execution_count": 18,
   "metadata": {
    "colab": {
     "base_uri": "https://localhost:8080/"
    },
    "executionInfo": {
     "elapsed": 9,
     "status": "ok",
     "timestamp": 1715700208375,
     "user": {
      "displayName": "young bback",
      "userId": "01066130122626283768"
     },
     "user_tz": -540
    },
    "id": "9fJ7jp125EpQ",
    "outputId": "655cff04-7d7b-4309-9963-b758c5ae00d4"
   },
   "outputs": [
    {
     "name": "stdout",
     "output_type": "stream",
     "text": [
      "[[False False False]\n",
      " [False False  True]\n",
      " [ True  True  True]\n",
      " [ True  True  True]]\n"
     ]
    }
   ],
   "source": [
    "import numpy as np\n",
    "\n",
    "# 배열 생성\n",
    "arr = np.array([[1, 2, 3],\n",
    "                [4, 5, 6],\n",
    "                [7, 8, 9],\n",
    "                [10, 11, 12]])\n",
    "\n",
    "# 마스크 생성\n",
    "mask = arr > 5\n",
    "\n",
    "# 원래 배열과 동일한 형태의 불리언 배열 생성\n",
    "masked_arr = np.zeros_like(arr, dtype=bool)\n",
    "masked_arr[mask] = True\n",
    "\n",
    "print(masked_arr)\n"
   ]
  },
  {
   "cell_type": "code",
   "execution_count": 76,
   "metadata": {},
   "outputs": [
    {
     "data": {
      "text/plain": [
       "array([ 6,  7,  8,  9, 10, 11, 12])"
      ]
     },
     "execution_count": 76,
     "metadata": {},
     "output_type": "execute_result"
    }
   ],
   "source": [
    "arr[masked_arr]"
   ]
  },
  {
   "cell_type": "code",
   "execution_count": 77,
   "metadata": {
    "id": "0vQkAb885GRm"
   },
   "outputs": [
    {
     "name": "stdout",
     "output_type": "stream",
     "text": [
      "[[0 0 0]\n",
      " [0 0 1]\n",
      " [1 1 1]\n",
      " [1 1 1]]\n"
     ]
    }
   ],
   "source": [
    "import numpy as np\n",
    "\n",
    "# 배열 생성\n",
    "arr = np.array([[1, 2, 3],\n",
    "                [4, 5, 6],\n",
    "                [7, 8, 9],\n",
    "                [10, 11, 12]])\n",
    "\n",
    "# 마스크 생성\n",
    "mask = arr > 5\n",
    "\n",
    "# 원래 배열과 동일한 형태의 불리언 배열 생성\n",
    "masked_arr = mask.astype(int)  # True는 1로, False는 0으로 변환\n",
    "\n",
    "print(masked_arr)\n"
   ]
  },
  {
   "cell_type": "code",
   "execution_count": 78,
   "metadata": {
    "colab": {
     "base_uri": "https://localhost:8080/"
    },
    "executionInfo": {
     "elapsed": 2,
     "status": "ok",
     "timestamp": 1702396916183,
     "user": {
      "displayName": "young bback",
      "userId": "01066130122626283768"
     },
     "user_tz": -540
    },
    "id": "wppdj2jIvBo1",
    "outputId": "149ab555-bc65-4da2-e448-39dbfcbe8505"
   },
   "outputs": [
    {
     "data": {
      "text/plain": [
       "array([[ 1,  2,  3],\n",
       "       [ 4,  5,  6],\n",
       "       [ 7,  8,  9],\n",
       "       [10, 11, 12]])"
      ]
     },
     "execution_count": 78,
     "metadata": {},
     "output_type": "execute_result"
    }
   ],
   "source": [
    "arr"
   ]
  },
  {
   "cell_type": "code",
   "execution_count": 81,
   "metadata": {},
   "outputs": [
    {
     "data": {
      "text/plain": [
       "True"
      ]
     },
     "execution_count": 81,
     "metadata": {},
     "output_type": "execute_result"
    }
   ],
   "source": [
    "np.any((2 < arr)& (arr <= 5)) \n",
    "# 전체 배열에서 **하나라도 True**인 값이 있는지 확인합니다. 이 함수는 배열에 True 값이 하나라도 있으면 True를 반환"
   ]
  },
  {
   "cell_type": "code",
   "execution_count": 21,
   "metadata": {
    "colab": {
     "base_uri": "https://localhost:8080/"
    },
    "executionInfo": {
     "elapsed": 351,
     "status": "ok",
     "timestamp": 1702396943894,
     "user": {
      "displayName": "young bback",
      "userId": "01066130122626283768"
     },
     "user_tz": -540
    },
    "id": "Pd94aZn-w3a9",
    "outputId": "55d78746-9b19-4ec0-b745-f0075d5012b7"
   },
   "outputs": [
    {
     "data": {
      "text/plain": [
       "array([[1, 2, 3],\n",
       "       [4, 5, 6]])"
      ]
     },
     "execution_count": 21,
     "metadata": {},
     "output_type": "execute_result"
    }
   ],
   "source": [
    "arr[np.any((2 < arr) & (arr <= 5), axis=1)]\n"
   ]
  },
  {
   "cell_type": "code",
   "execution_count": 23,
   "metadata": {},
   "outputs": [
    {
     "data": {
      "text/plain": [
       "array([[ 1,  2,  3],\n",
       "       [ 4,  5,  6],\n",
       "       [ 7,  8,  9],\n",
       "       [10, 11, 12]])"
      ]
     },
     "execution_count": 23,
     "metadata": {},
     "output_type": "execute_result"
    }
   ],
   "source": [
    "arr"
   ]
  },
  {
   "cell_type": "code",
   "execution_count": 25,
   "metadata": {
    "colab": {
     "base_uri": "https://localhost:8080/"
    },
    "executionInfo": {
     "elapsed": 4,
     "status": "ok",
     "timestamp": 1704038887761,
     "user": {
      "displayName": "young bback",
      "userId": "01066130122626283768"
     },
     "user_tz": -540
    },
    "id": "2jrHKl_ToejK",
    "outputId": "8b0389f2-d45d-4553-c8fc-e2554a96a12c"
   },
   "outputs": [
    {
     "data": {
      "text/plain": [
       "(array([False,  True,  True]), array([False, False, False,  True]))"
      ]
     },
     "execution_count": 25,
     "metadata": {},
     "output_type": "execute_result"
    }
   ],
   "source": [
    "arr.any(axis=0, keepdims=False,where=arr>10),arr.any(axis=1, keepdims=False,where=arr>10)"
   ]
  },
  {
   "cell_type": "code",
   "execution_count": 28,
   "metadata": {
    "colab": {
     "base_uri": "https://localhost:8080/"
    },
    "executionInfo": {
     "elapsed": 3,
     "status": "ok",
     "timestamp": 1702396641527,
     "user": {
      "displayName": "young bback",
      "userId": "01066130122626283768"
     },
     "user_tz": -540
    },
    "id": "AHtrQcuKvNqh",
    "outputId": "5000b965-a193-4628-d143-3ae48dcd9707"
   },
   "outputs": [
    {
     "data": {
      "text/plain": [
       "array([[11, 12]])"
      ]
     },
     "execution_count": 28,
     "metadata": {},
     "output_type": "execute_result"
    }
   ],
   "source": [
    "arr[:,arr.any(axis=0, keepdims=False,where=arr>10)][arr.any(axis=1, keepdims=False,where=arr>10)]"
   ]
  },
  {
   "cell_type": "code",
   "execution_count": 29,
   "metadata": {},
   "outputs": [
    {
     "data": {
      "text/plain": [
       "array([False,  True,  True])"
      ]
     },
     "execution_count": 29,
     "metadata": {},
     "output_type": "execute_result"
    }
   ],
   "source": [
    "arr.any(axis=0, where=arr > 10)"
   ]
  },
  {
   "cell_type": "code",
   "execution_count": 30,
   "metadata": {},
   "outputs": [
    {
     "name": "stdout",
     "output_type": "stream",
     "text": [
      "[[10 11]\n",
      " [12 13]\n",
      " [14 15]]\n"
     ]
    }
   ],
   "source": [
    "arr = np.array([[1, 2, 3, 10, 11],\n",
    "                [4, 5, 6, 12, 13],\n",
    "                [7, 8, 9, 14, 15]])\n",
    "\n",
    "selected_columns = arr[:, arr.any(axis=0, where=arr > 10)]\n",
    "print(selected_columns)"
   ]
  },
  {
   "cell_type": "markdown",
   "metadata": {
    "id": "Shew1UD35l9o"
   },
   "source": [
    "# 여러개의 인덱스 값들을 이용하여 인덱싱이 가능"
   ]
  },
  {
   "cell_type": "code",
   "execution_count": 105,
   "metadata": {
    "colab": {
     "base_uri": "https://localhost:8080/"
    },
    "executionInfo": {
     "elapsed": 439,
     "status": "ok",
     "timestamp": 1702396657486,
     "user": {
      "displayName": "young bback",
      "userId": "01066130122626283768"
     },
     "user_tz": -540
    },
    "id": "SpirZ9oZ5WYj",
    "outputId": "c13216e4-94dd-4ffc-96fb-8b9622b3f9e2"
   },
   "outputs": [
    {
     "data": {
      "text/plain": [
       "array([[ 1,  2,  3, 10, 11],\n",
       "       [ 7,  8,  9, 14, 15]])"
      ]
     },
     "execution_count": 105,
     "metadata": {},
     "output_type": "execute_result"
    }
   ],
   "source": [
    "index_list = [0,2]\n",
    "arr[index_list]"
   ]
  },
  {
   "cell_type": "code",
   "execution_count": 106,
   "metadata": {
    "colab": {
     "base_uri": "https://localhost:8080/"
    },
    "executionInfo": {
     "elapsed": 2,
     "status": "ok",
     "timestamp": 1702396657863,
     "user": {
      "displayName": "young bback",
      "userId": "01066130122626283768"
     },
     "user_tz": -540
    },
    "id": "aG_lTxJu5WWC",
    "outputId": "d2c5fd2e-8268-441d-d60f-a1cef92a8c8f"
   },
   "outputs": [
    {
     "data": {
      "text/plain": [
       "array([[1, 3],\n",
       "       [4, 6],\n",
       "       [7, 9]])"
      ]
     },
     "execution_count": 106,
     "metadata": {},
     "output_type": "execute_result"
    }
   ],
   "source": [
    "arr[:, index_list]"
   ]
  },
  {
   "cell_type": "markdown",
   "metadata": {
    "id": "7siKiYkh6sjG"
   },
   "source": [
    "# numpy 배열 연산"
   ]
  },
  {
   "cell_type": "markdown",
   "metadata": {
    "id": "JXcllQFs6wZf"
   },
   "source": [
    "## 배열의 각 요소 별로 연산(element-wise)"
   ]
  },
  {
   "cell_type": "code",
   "execution_count": 107,
   "metadata": {
    "id": "JqBdkufS5WTJ"
   },
   "outputs": [],
   "source": [
    "arr1 = np.array([1,2,3])\n",
    "arr2 = np.array([3,2,7])"
   ]
  },
  {
   "cell_type": "code",
   "execution_count": 108,
   "metadata": {
    "colab": {
     "base_uri": "https://localhost:8080/"
    },
    "executionInfo": {
     "elapsed": 334,
     "status": "ok",
     "timestamp": 1702396859469,
     "user": {
      "displayName": "young bback",
      "userId": "01066130122626283768"
     },
     "user_tz": -540
    },
    "id": "nRU03xP2wowU",
    "outputId": "e05a2fde-96b1-4eb8-d1ac-42954d9c3ef0"
   },
   "outputs": [
    {
     "data": {
      "text/plain": [
       "array([ 4,  4, 10])"
      ]
     },
     "execution_count": 108,
     "metadata": {},
     "output_type": "execute_result"
    }
   ],
   "source": [
    "arr1 + arr2"
   ]
  },
  {
   "cell_type": "code",
   "execution_count": 109,
   "metadata": {
    "colab": {
     "base_uri": "https://localhost:8080/"
    },
    "executionInfo": {
     "elapsed": 7,
     "status": "ok",
     "timestamp": 1702396695357,
     "user": {
      "displayName": "young bback",
      "userId": "01066130122626283768"
     },
     "user_tz": -540
    },
    "id": "y-hzmQQ55WQZ",
    "outputId": "8a5a1981-924a-4461-8316-27f3ade6efe8"
   },
   "outputs": [
    {
     "data": {
      "text/plain": [
       "array([ 4,  4, 10])"
      ]
     },
     "execution_count": 109,
     "metadata": {},
     "output_type": "execute_result"
    }
   ],
   "source": [
    "np.add(arr1,arr2) # arr1 + arr2"
   ]
  },
  {
   "cell_type": "code",
   "execution_count": 110,
   "metadata": {
    "colab": {
     "base_uri": "https://localhost:8080/"
    },
    "executionInfo": {
     "elapsed": 6,
     "status": "ok",
     "timestamp": 1702396695357,
     "user": {
      "displayName": "young bback",
      "userId": "01066130122626283768"
     },
     "user_tz": -540
    },
    "id": "rh133_V47ONQ",
    "outputId": "0cf44a20-4de2-4792-cd72-588c83922d74"
   },
   "outputs": [
    {
     "data": {
      "text/plain": [
       "array([-2,  0, -4])"
      ]
     },
     "execution_count": 110,
     "metadata": {},
     "output_type": "execute_result"
    }
   ],
   "source": [
    "np.subtract(arr1,arr2) # arr1 - arr2"
   ]
  },
  {
   "cell_type": "code",
   "execution_count": 111,
   "metadata": {
    "colab": {
     "base_uri": "https://localhost:8080/"
    },
    "executionInfo": {
     "elapsed": 5,
     "status": "ok",
     "timestamp": 1702396695357,
     "user": {
      "displayName": "young bback",
      "userId": "01066130122626283768"
     },
     "user_tz": -540
    },
    "id": "Wp6lxsBI7OKM",
    "outputId": "09a9c241-f9dd-40bc-b37a-8376db7f6ad4"
   },
   "outputs": [
    {
     "data": {
      "text/plain": [
       "array([ 3,  4, 21])"
      ]
     },
     "execution_count": 111,
     "metadata": {},
     "output_type": "execute_result"
    }
   ],
   "source": [
    "np.multiply(arr1,arr2) # arr1 * arr2"
   ]
  },
  {
   "cell_type": "code",
   "execution_count": 112,
   "metadata": {
    "colab": {
     "base_uri": "https://localhost:8080/"
    },
    "executionInfo": {
     "elapsed": 4,
     "status": "ok",
     "timestamp": 1702396695357,
     "user": {
      "displayName": "young bback",
      "userId": "01066130122626283768"
     },
     "user_tz": -540
    },
    "id": "b9WLzKiB7iYg",
    "outputId": "3a436265-4147-477e-f3a9-302710e5c6f8"
   },
   "outputs": [
    {
     "data": {
      "text/plain": [
       "array([0.33333333, 1.        , 0.42857143])"
      ]
     },
     "execution_count": 112,
     "metadata": {},
     "output_type": "execute_result"
    }
   ],
   "source": [
    "np.divide(arr1,arr2) # arr1 / arr2"
   ]
  },
  {
   "cell_type": "code",
   "execution_count": 113,
   "metadata": {
    "colab": {
     "base_uri": "https://localhost:8080/"
    },
    "executionInfo": {
     "elapsed": 3,
     "status": "ok",
     "timestamp": 1702396695357,
     "user": {
      "displayName": "young bback",
      "userId": "01066130122626283768"
     },
     "user_tz": -540
    },
    "id": "3GdRq4Hc7iV0",
    "outputId": "d04523f3-89a7-4abb-f5f8-ca1b892e861b"
   },
   "outputs": [
    {
     "data": {
      "text/plain": [
       "array([2, 0, 4])"
      ]
     },
     "execution_count": 113,
     "metadata": {},
     "output_type": "execute_result"
    }
   ],
   "source": [
    "np.abs(arr1 - arr2) # 절대 값"
   ]
  },
  {
   "cell_type": "markdown",
   "metadata": {
    "id": "0yUqWHsR8B_I"
   },
   "source": [
    "# 브로드캐스팅(Broadcasting)\n",
    "- 연산하기위해 배열간의 구조가 맞지 않더라도 어떠한 조건이 만족했을 때 가능해지도록 작은 배열을 자동으로 큰배열 크기로 맞춰준다."
   ]
  },
  {
   "cell_type": "code",
   "execution_count": 114,
   "metadata": {
    "colab": {
     "base_uri": "https://localhost:8080/"
    },
    "executionInfo": {
     "elapsed": 322,
     "status": "ok",
     "timestamp": 1702396989450,
     "user": {
      "displayName": "young bback",
      "userId": "01066130122626283768"
     },
     "user_tz": -540
    },
    "id": "onN0ibXM7OEp",
    "outputId": "61968057-452a-4831-8867-75519a4b4466"
   },
   "outputs": [
    {
     "data": {
      "text/plain": [
       "array([[ 1,  2,  3, 10, 11],\n",
       "       [ 4,  5,  6, 12, 13],\n",
       "       [ 7,  8,  9, 14, 15]])"
      ]
     },
     "execution_count": 114,
     "metadata": {},
     "output_type": "execute_result"
    }
   ],
   "source": [
    "arr"
   ]
  },
  {
   "cell_type": "code",
   "execution_count": 115,
   "metadata": {
    "colab": {
     "base_uri": "https://localhost:8080/"
    },
    "executionInfo": {
     "elapsed": 2,
     "status": "ok",
     "timestamp": 1702396989778,
     "user": {
      "displayName": "young bback",
      "userId": "01066130122626283768"
     },
     "user_tz": -540
    },
    "id": "W5nV1EAp7OBz",
    "outputId": "2ae239b5-8675-4727-9b6f-4a970f3fcf35"
   },
   "outputs": [
    {
     "data": {
      "text/plain": [
       "array([[ 2,  4,  6, 20, 22],\n",
       "       [ 8, 10, 12, 24, 26],\n",
       "       [14, 16, 18, 28, 30]])"
      ]
     },
     "execution_count": 115,
     "metadata": {},
     "output_type": "execute_result"
    }
   ],
   "source": [
    "arr * 2 # 스칼라를 연산할 경우 큰 배열 크기에 맞게 구성되서 연산된다."
   ]
  },
  {
   "cell_type": "code",
   "execution_count": 118,
   "metadata": {
    "colab": {
     "base_uri": "https://localhost:8080/"
    },
    "executionInfo": {
     "elapsed": 2,
     "status": "ok",
     "timestamp": 1702396990122,
     "user": {
      "displayName": "young bback",
      "userId": "01066130122626283768"
     },
     "user_tz": -540
    },
    "id": "Vzvuuo9T7N_D",
    "outputId": "efb247d5-19b4-4f99-c8d2-24a3bfc15c81"
   },
   "outputs": [
    {
     "data": {
      "text/plain": [
       "array([[ 2,  4,  6, 20, 22],\n",
       "       [ 8, 10, 12, 24, 26],\n",
       "       [14, 16, 18, 28, 30]])"
      ]
     },
     "execution_count": 118,
     "metadata": {},
     "output_type": "execute_result"
    }
   ],
   "source": [
    "arr * np.array([2]) # 열 크기를 맞춰주면 행이 늘어나서 연산된다."
   ]
  },
  {
   "cell_type": "code",
   "execution_count": 123,
   "metadata": {
    "colab": {
     "base_uri": "https://localhost:8080/"
    },
    "executionInfo": {
     "elapsed": 1,
     "status": "ok",
     "timestamp": 1702396990477,
     "user": {
      "displayName": "young bback",
      "userId": "01066130122626283768"
     },
     "user_tz": -540
    },
    "id": "do0XSzr45WNp",
    "outputId": "a9fd343f-bf0a-4fdc-8dbc-24fcbab5b572"
   },
   "outputs": [
    {
     "data": {
      "text/plain": [
       "array([[ 2,  4,  6,  8, 10],\n",
       "       [12, 14, 16, 18, 20],\n",
       "       [22, 24, 26, 28, 30]])"
      ]
     },
     "execution_count": 123,
     "metadata": {},
     "output_type": "execute_result"
    }
   ],
   "source": [
    "import numpy as np\n",
    "\n",
    "arr = np.array([\n",
    "    [1, 2, 3, 4, 5],\n",
    "    [6, 7, 8, 9, 10],\n",
    "    [11, 12, 13, 14, 15]\n",
    "])\n",
    "\n",
    "result = arr * np.array([2, 2, 2, 2, 2])\n",
    "result"
   ]
  },
  {
   "cell_type": "markdown",
   "metadata": {
    "id": "9IQTp7JD9s5L"
   },
   "source": [
    "# Norm\n",
    "- 벡터의 크기를 측정하는 함수\n",
    "\n",
    "$$\n",
    "L_1 = {\\sum_{i=1}^{n}|x_i|}\n",
    "$$\n",
    "\n",
    "$$\n",
    "L_2 = \\sqrt{{\\sum_{i=1}^{n}x_i^2}}\n",
    "$$"
   ]
  },
  {
   "cell_type": "code",
   "execution_count": 126,
   "metadata": {
    "colab": {
     "base_uri": "https://localhost:8080/"
    },
    "executionInfo": {
     "elapsed": 600,
     "status": "ok",
     "timestamp": 1702397014812,
     "user": {
      "displayName": "young bback",
      "userId": "01066130122626283768"
     },
     "user_tz": -540
    },
    "id": "BuKWipRX_SHL",
    "outputId": "a3e329ba-6a81-40a6-f81f-13d9937c105a"
   },
   "outputs": [
    {
     "data": {
      "text/plain": [
       "6.0"
      ]
     },
     "execution_count": 126,
     "metadata": {},
     "output_type": "execute_result"
    }
   ],
   "source": [
    "np.linalg.norm([-1,2,3],1) # L1 np.linalg.norm"
   ]
  },
  {
   "cell_type": "code",
   "execution_count": 127,
   "metadata": {
    "colab": {
     "base_uri": "https://localhost:8080/"
    },
    "executionInfo": {
     "elapsed": 352,
     "status": "ok",
     "timestamp": 1702397015607,
     "user": {
      "displayName": "young bback",
      "userId": "01066130122626283768"
     },
     "user_tz": -540
    },
    "id": "49gRgLHC_SEj",
    "outputId": "cc176e29-8fe1-427e-d398-10ebcd31069f"
   },
   "outputs": [
    {
     "data": {
      "text/plain": [
       "3.7416573867739413"
      ]
     },
     "execution_count": 127,
     "metadata": {},
     "output_type": "execute_result"
    }
   ],
   "source": [
    "np.linalg.norm([-1,2,3]) # 기본값이 L2"
   ]
  },
  {
   "cell_type": "markdown",
   "metadata": {
    "id": "nE0f7Mh9SHIa"
   },
   "source": [
    "# 내적(dot product)\n",
    "- 두벡터의 각요소끼리 곱하고 합한다."
   ]
  },
  {
   "cell_type": "code",
   "execution_count": 130,
   "metadata": {
    "id": "XZqeRGQUSJhk"
   },
   "outputs": [],
   "source": [
    "a = np.array([1,2,3])\n",
    "b = np.array([4,5,6])"
   ]
  },
  {
   "cell_type": "code",
   "execution_count": 131,
   "metadata": {
    "colab": {
     "base_uri": "https://localhost:8080/"
    },
    "executionInfo": {
     "elapsed": 2,
     "status": "ok",
     "timestamp": 1702397245977,
     "user": {
      "displayName": "young bback",
      "userId": "01066130122626283768"
     },
     "user_tz": -540
    },
    "id": "78JBB9PeSJe9",
    "outputId": "536068e7-ab58-4a20-c924-b21a2cb35256"
   },
   "outputs": [
    {
     "data": {
      "text/plain": [
       "32"
      ]
     },
     "execution_count": 131,
     "metadata": {},
     "output_type": "execute_result"
    }
   ],
   "source": [
    "np.dot(a,b) #4+10+18"
   ]
  },
  {
   "cell_type": "code",
   "execution_count": 132,
   "metadata": {
    "colab": {
     "base_uri": "https://localhost:8080/"
    },
    "executionInfo": {
     "elapsed": 1,
     "status": "ok",
     "timestamp": 1702397246344,
     "user": {
      "displayName": "young bback",
      "userId": "01066130122626283768"
     },
     "user_tz": -540
    },
    "id": "mEhsuW9ryF4K",
    "outputId": "78240587-b321-40ef-c31b-b6520908d81b"
   },
   "outputs": [
    {
     "data": {
      "text/plain": [
       "32"
      ]
     },
     "execution_count": 132,
     "metadata": {},
     "output_type": "execute_result"
    }
   ],
   "source": [
    "a@b"
   ]
  },
  {
   "cell_type": "markdown",
   "metadata": {
    "id": "L_pN33AXTUUA"
   },
   "source": [
    "# 행렬곱\n",
    "- 행렬곱은 크기가 맞을 경우만 연산이 가능하다.\n",
    "- 앞의 행렬의 열개수와 뒤에 행렬의 행개수가 동일해야 한다.\n",
    "- 2차원 공간에서 내적!\n",
    "- 결과 shape 은 앞에 행렬의 행개수 , 뒤에 행렬의 열개수\n"
   ]
  },
  {
   "cell_type": "code",
   "execution_count": 133,
   "metadata": {
    "colab": {
     "base_uri": "https://localhost:8080/"
    },
    "executionInfo": {
     "elapsed": 394,
     "status": "ok",
     "timestamp": 1702397222033,
     "user": {
      "displayName": "young bback",
      "userId": "01066130122626283768"
     },
     "user_tz": -540
    },
    "id": "KalcSyquSJcE",
    "outputId": "9bb8f3fc-f2d5-423a-9cda-421571a8f287"
   },
   "outputs": [
    {
     "data": {
      "text/plain": [
       "(2, 3)"
      ]
     },
     "execution_count": 133,
     "metadata": {},
     "output_type": "execute_result"
    }
   ],
   "source": [
    "arr1 = np.array([\n",
    "    [1,2,3],\n",
    "    [4,5,6]\n",
    "])\n",
    "arr1.shape"
   ]
  },
  {
   "cell_type": "code",
   "execution_count": 134,
   "metadata": {
    "colab": {
     "base_uri": "https://localhost:8080/"
    },
    "executionInfo": {
     "elapsed": 2,
     "status": "ok",
     "timestamp": 1702397222340,
     "user": {
      "displayName": "young bback",
      "userId": "01066130122626283768"
     },
     "user_tz": -540
    },
    "id": "PADiAUmkSJZY",
    "outputId": "31adf8ad-7471-4671-f0cd-72ccbcf8b535"
   },
   "outputs": [
    {
     "data": {
      "text/plain": [
       "(3, 2)"
      ]
     },
     "execution_count": 134,
     "metadata": {},
     "output_type": "execute_result"
    }
   ],
   "source": [
    "arr2 = np.array([\n",
    "    [0,1],\n",
    "    [0,1],\n",
    "    [0,1]\n",
    "])\n",
    "arr2.shape"
   ]
  },
  {
   "cell_type": "code",
   "execution_count": 135,
   "metadata": {
    "colab": {
     "base_uri": "https://localhost:8080/"
    },
    "executionInfo": {
     "elapsed": 2,
     "status": "ok",
     "timestamp": 1702397222743,
     "user": {
      "displayName": "young bback",
      "userId": "01066130122626283768"
     },
     "user_tz": -540
    },
    "id": "gWFr70B-SJWp",
    "outputId": "603a5371-e115-4bcb-d12c-4b5fe0f86c11"
   },
   "outputs": [
    {
     "data": {
      "text/plain": [
       "array([[ 0,  6],\n",
       "       [ 0, 15]])"
      ]
     },
     "execution_count": 135,
     "metadata": {},
     "output_type": "execute_result"
    }
   ],
   "source": [
    "arr1 @ arr2"
   ]
  },
  {
   "cell_type": "markdown",
   "metadata": {
    "id": "X0YDZpjlWIpy"
   },
   "source": [
    "# numpy 배열 만들기"
   ]
  },
  {
   "cell_type": "markdown",
   "metadata": {
    "id": "qrQX26bTWSN_"
   },
   "source": [
    "- `np.arange`\n",
    "    - `range` 함수와 비슷하지만 `ndarray` 를 반환한다."
   ]
  },
  {
   "cell_type": "code",
   "execution_count": 136,
   "metadata": {
    "colab": {
     "base_uri": "https://localhost:8080/"
    },
    "executionInfo": {
     "elapsed": 299,
     "status": "ok",
     "timestamp": 1702397256857,
     "user": {
      "displayName": "young bback",
      "userId": "01066130122626283768"
     },
     "user_tz": -540
    },
    "id": "qd0qT42IWHy5",
    "outputId": "43c1ccea-c402-4c49-e278-e4b5246659a2"
   },
   "outputs": [
    {
     "data": {
      "text/plain": [
       "array([0, 1, 2, 3, 4, 5, 6, 7, 8, 9])"
      ]
     },
     "execution_count": 136,
     "metadata": {},
     "output_type": "execute_result"
    }
   ],
   "source": [
    "np.arange(10)"
   ]
  },
  {
   "cell_type": "code",
   "execution_count": 137,
   "metadata": {
    "colab": {
     "base_uri": "https://localhost:8080/"
    },
    "executionInfo": {
     "elapsed": 311,
     "status": "ok",
     "timestamp": 1702397259015,
     "user": {
      "displayName": "young bback",
      "userId": "01066130122626283768"
     },
     "user_tz": -540
    },
    "id": "3VbGpvUfWHwN",
    "outputId": "43ba3dc3-1cc0-494c-f36a-9f60a1c86c72"
   },
   "outputs": [
    {
     "data": {
      "text/plain": [
       "array([1, 3, 5, 7, 9])"
      ]
     },
     "execution_count": 137,
     "metadata": {},
     "output_type": "execute_result"
    }
   ],
   "source": [
    "np.arange(1,10,2)"
   ]
  },
  {
   "cell_type": "markdown",
   "metadata": {
    "id": "n29_f07gXARh"
   },
   "source": [
    "- `np.zeros`\n",
    "    - 0으로 채워진 배열 만드는 함수"
   ]
  },
  {
   "cell_type": "code",
   "execution_count": 138,
   "metadata": {
    "colab": {
     "base_uri": "https://localhost:8080/"
    },
    "executionInfo": {
     "elapsed": 409,
     "status": "ok",
     "timestamp": 1702397325295,
     "user": {
      "displayName": "young bback",
      "userId": "01066130122626283768"
     },
     "user_tz": -540
    },
    "id": "eMIdoyKzWHtS",
    "outputId": "396651e7-4efc-4789-adf1-2cf41f5e09a3"
   },
   "outputs": [
    {
     "data": {
      "text/plain": [
       "array([0., 0., 0.])"
      ]
     },
     "execution_count": 138,
     "metadata": {},
     "output_type": "execute_result"
    }
   ],
   "source": [
    "np.zeros(3)"
   ]
  },
  {
   "cell_type": "code",
   "execution_count": 139,
   "metadata": {
    "colab": {
     "base_uri": "https://localhost:8080/"
    },
    "executionInfo": {
     "elapsed": 2,
     "status": "ok",
     "timestamp": 1702397325719,
     "user": {
      "displayName": "young bback",
      "userId": "01066130122626283768"
     },
     "user_tz": -540
    },
    "id": "mtut8M8hWHqr",
    "outputId": "86d41edc-5ed0-4cf6-9ff6-8665807fde1e"
   },
   "outputs": [
    {
     "data": {
      "text/plain": [
       "array([[0., 0., 0.],\n",
       "       [0., 0., 0.]])"
      ]
     },
     "execution_count": 139,
     "metadata": {},
     "output_type": "execute_result"
    }
   ],
   "source": [
    "np.zeros([2,3])"
   ]
  },
  {
   "cell_type": "markdown",
   "metadata": {
    "id": "AyJ7SRUnXsLz"
   },
   "source": [
    "- `np.ones`\n",
    "    - 1으로 채워진 배열 만드는 함수"
   ]
  },
  {
   "cell_type": "code",
   "execution_count": 140,
   "metadata": {
    "colab": {
     "base_uri": "https://localhost:8080/"
    },
    "executionInfo": {
     "elapsed": 4,
     "status": "ok",
     "timestamp": 1702397326036,
     "user": {
      "displayName": "young bback",
      "userId": "01066130122626283768"
     },
     "user_tz": -540
    },
    "id": "Ua4-tvFiWHn3",
    "outputId": "60dca62b-8efe-4d30-e550-49e2c1b36630"
   },
   "outputs": [
    {
     "data": {
      "text/plain": [
       "array([1., 1., 1.])"
      ]
     },
     "execution_count": 140,
     "metadata": {},
     "output_type": "execute_result"
    }
   ],
   "source": [
    "np.ones(3)"
   ]
  },
  {
   "cell_type": "code",
   "execution_count": 141,
   "metadata": {
    "colab": {
     "base_uri": "https://localhost:8080/"
    },
    "executionInfo": {
     "elapsed": 3,
     "status": "ok",
     "timestamp": 1702397326036,
     "user": {
      "displayName": "young bback",
      "userId": "01066130122626283768"
     },
     "user_tz": -540
    },
    "id": "BcR1jyxWWHk5",
    "outputId": "4577c95f-0a84-4d74-df52-ca5bbcbcb7e8"
   },
   "outputs": [
    {
     "data": {
      "text/plain": [
       "array([[1., 1., 1.],\n",
       "       [1., 1., 1.]])"
      ]
     },
     "execution_count": 141,
     "metadata": {},
     "output_type": "execute_result"
    }
   ],
   "source": [
    "np.ones([2,3])"
   ]
  },
  {
   "cell_type": "markdown",
   "metadata": {
    "id": "jugdXfFfX3m2"
   },
   "source": [
    "- `np.full`\n",
    "    - 지정한 값으로 채워진 배열 만드는 함수"
   ]
  },
  {
   "cell_type": "code",
   "execution_count": 142,
   "metadata": {
    "colab": {
     "base_uri": "https://localhost:8080/"
    },
    "executionInfo": {
     "elapsed": 431,
     "status": "ok",
     "timestamp": 1702397338555,
     "user": {
      "displayName": "young bback",
      "userId": "01066130122626283768"
     },
     "user_tz": -540
    },
    "id": "Q-6Zckfg_SB-",
    "outputId": "c3e1fe37-d0f4-462b-c7e0-c20d0d563181"
   },
   "outputs": [
    {
     "data": {
      "text/plain": [
       "array([[ True,  True,  True],\n",
       "       [ True,  True,  True]])"
      ]
     },
     "execution_count": 142,
     "metadata": {},
     "output_type": "execute_result"
    }
   ],
   "source": [
    "np.full([2,3], True)"
   ]
  },
  {
   "cell_type": "markdown",
   "metadata": {
    "id": "GGuj0wNFYP6p"
   },
   "source": [
    "# numpy 집계 함수"
   ]
  },
  {
   "cell_type": "code",
   "execution_count": 143,
   "metadata": {
    "id": "CKQvl7OjYPx9"
   },
   "outputs": [],
   "source": [
    "score = np.array([80,90,100,70,40,90])"
   ]
  },
  {
   "cell_type": "code",
   "execution_count": 144,
   "metadata": {
    "colab": {
     "base_uri": "https://localhost:8080/"
    },
    "executionInfo": {
     "elapsed": 7,
     "status": "ok",
     "timestamp": 1702397338963,
     "user": {
      "displayName": "young bback",
      "userId": "01066130122626283768"
     },
     "user_tz": -540
    },
    "id": "rENVdITlYPu5",
    "outputId": "13a75418-8ea0-4c49-8b08-68cfe9a4983c"
   },
   "outputs": [
    {
     "data": {
      "text/plain": [
       "(470, 470)"
      ]
     },
     "execution_count": 144,
     "metadata": {},
     "output_type": "execute_result"
    }
   ],
   "source": [
    "np.sum(score), score.sum() # 합"
   ]
  },
  {
   "cell_type": "code",
   "execution_count": 145,
   "metadata": {
    "colab": {
     "base_uri": "https://localhost:8080/"
    },
    "executionInfo": {
     "elapsed": 6,
     "status": "ok",
     "timestamp": 1702397338963,
     "user": {
      "displayName": "young bback",
      "userId": "01066130122626283768"
     },
     "user_tz": -540
    },
    "id": "DqRi3NgNYPsD",
    "outputId": "da7b77c9-efd4-4505-a9b7-99584ac62e5f"
   },
   "outputs": [
    {
     "data": {
      "text/plain": [
       "(78.33333333333333, 78.33333333333333)"
      ]
     },
     "execution_count": 145,
     "metadata": {},
     "output_type": "execute_result"
    }
   ],
   "source": [
    "np.mean(score) , score.mean() # 평균"
   ]
  },
  {
   "cell_type": "code",
   "execution_count": 146,
   "metadata": {
    "colab": {
     "base_uri": "https://localhost:8080/"
    },
    "executionInfo": {
     "elapsed": 5,
     "status": "ok",
     "timestamp": 1702397338963,
     "user": {
      "displayName": "young bback",
      "userId": "01066130122626283768"
     },
     "user_tz": -540
    },
    "id": "b191DAeDYPpe",
    "outputId": "b676e629-cc2b-433f-cb6f-5026296abb45"
   },
   "outputs": [
    {
     "data": {
      "text/plain": [
       "(19.50783318453271, 19.50783318453271)"
      ]
     },
     "execution_count": 146,
     "metadata": {},
     "output_type": "execute_result"
    }
   ],
   "source": [
    "np.std(score) , score.std() # 표준편차"
   ]
  },
  {
   "cell_type": "code",
   "execution_count": 147,
   "metadata": {
    "colab": {
     "base_uri": "https://localhost:8080/"
    },
    "executionInfo": {
     "elapsed": 4,
     "status": "ok",
     "timestamp": 1702397338963,
     "user": {
      "displayName": "young bback",
      "userId": "01066130122626283768"
     },
     "user_tz": -540
    },
    "id": "bzdjNVvIYPmu",
    "outputId": "6f80a441-48af-4682-e5d8-ec9cfbad7fce"
   },
   "outputs": [
    {
     "data": {
      "text/plain": [
       "(380.5555555555556, 380.5555555555556)"
      ]
     },
     "execution_count": 147,
     "metadata": {},
     "output_type": "execute_result"
    }
   ],
   "source": [
    "np.var(score) , score.var() # 분산"
   ]
  },
  {
   "cell_type": "code",
   "execution_count": 148,
   "metadata": {
    "colab": {
     "base_uri": "https://localhost:8080/"
    },
    "executionInfo": {
     "elapsed": 9,
     "status": "ok",
     "timestamp": 1702397339459,
     "user": {
      "displayName": "young bback",
      "userId": "01066130122626283768"
     },
     "user_tz": -540
    },
    "id": "MOz_tlUR_R_Z",
    "outputId": "de4694d8-b057-4f7f-ded5-12c966ca0ffb"
   },
   "outputs": [
    {
     "data": {
      "text/plain": [
       "(40, 40)"
      ]
     },
     "execution_count": 148,
     "metadata": {},
     "output_type": "execute_result"
    }
   ],
   "source": [
    "np.min(score) , score.min() # 최소값"
   ]
  },
  {
   "cell_type": "code",
   "execution_count": 149,
   "metadata": {
    "colab": {
     "base_uri": "https://localhost:8080/"
    },
    "executionInfo": {
     "elapsed": 8,
     "status": "ok",
     "timestamp": 1702397339459,
     "user": {
      "displayName": "young bback",
      "userId": "01066130122626283768"
     },
     "user_tz": -540
    },
    "id": "rOSATve2SHnM",
    "outputId": "60eac50a-c0e8-46e8-8fb4-e2dcf2c29811"
   },
   "outputs": [
    {
     "data": {
      "text/plain": [
       "(100, 100)"
      ]
     },
     "execution_count": 149,
     "metadata": {},
     "output_type": "execute_result"
    }
   ],
   "source": [
    "np.max(score) , score.max() # 최대값"
   ]
  },
  {
   "cell_type": "code",
   "execution_count": 150,
   "metadata": {
    "colab": {
     "base_uri": "https://localhost:8080/"
    },
    "executionInfo": {
     "elapsed": 6,
     "status": "ok",
     "timestamp": 1702397339459,
     "user": {
      "displayName": "young bback",
      "userId": "01066130122626283768"
     },
     "user_tz": -540
    },
    "id": "iK_lNAeCZbpS",
    "outputId": "655ad538-d6de-420d-a1f3-db9e61e53c19"
   },
   "outputs": [
    {
     "data": {
      "text/plain": [
       "4"
      ]
     },
     "execution_count": 150,
     "metadata": {},
     "output_type": "execute_result"
    }
   ],
   "source": [
    "np.argmin(score) # 최소값 인덱스 반환"
   ]
  },
  {
   "cell_type": "code",
   "execution_count": 151,
   "metadata": {
    "colab": {
     "base_uri": "https://localhost:8080/"
    },
    "executionInfo": {
     "elapsed": 5,
     "status": "ok",
     "timestamp": 1702397339459,
     "user": {
      "displayName": "young bback",
      "userId": "01066130122626283768"
     },
     "user_tz": -540
    },
    "id": "KcKInkILZbmf",
    "outputId": "be3cfd96-e0cf-45c0-fc2e-91f4e8d5f524"
   },
   "outputs": [
    {
     "data": {
      "text/plain": [
       "2"
      ]
     },
     "execution_count": 151,
     "metadata": {},
     "output_type": "execute_result"
    }
   ],
   "source": [
    "np.argmax(score) # 최대값 인덱스 반환"
   ]
  },
  {
   "cell_type": "code",
   "execution_count": 152,
   "metadata": {
    "colab": {
     "base_uri": "https://localhost:8080/"
    },
    "executionInfo": {
     "elapsed": 4,
     "status": "ok",
     "timestamp": 1702397339459,
     "user": {
      "displayName": "young bback",
      "userId": "01066130122626283768"
     },
     "user_tz": -540
    },
    "id": "ys9je1YjZbj3",
    "outputId": "777276cc-513e-4ee7-8a9e-48382dc29a28"
   },
   "outputs": [
    {
     "data": {
      "text/plain": [
       "array([1, 3, 4, 6])"
      ]
     },
     "execution_count": 152,
     "metadata": {},
     "output_type": "execute_result"
    }
   ],
   "source": [
    "# 고유값만 보기\n",
    "arr = np.array([1,3,3,4,4,6,6,6,6])\n",
    "np.unique(arr)"
   ]
  },
  {
   "cell_type": "code",
   "execution_count": 153,
   "metadata": {
    "colab": {
     "base_uri": "https://localhost:8080/"
    },
    "executionInfo": {
     "elapsed": 3,
     "status": "ok",
     "timestamp": 1702397339459,
     "user": {
      "displayName": "young bback",
      "userId": "01066130122626283768"
     },
     "user_tz": -540
    },
    "id": "ZoTNmuG3aQPt",
    "outputId": "34867ae6-a0fd-4144-a186-8824e1f910be"
   },
   "outputs": [
    {
     "data": {
      "text/plain": [
       "array([ 1,  9,  9, 16, 16, 36, 36, 36, 36])"
      ]
     },
     "execution_count": 153,
     "metadata": {},
     "output_type": "execute_result"
    }
   ],
   "source": [
    "np.square(arr) # 제곱 , arr ** 2"
   ]
  },
  {
   "cell_type": "code",
   "execution_count": 154,
   "metadata": {
    "colab": {
     "base_uri": "https://localhost:8080/"
    },
    "executionInfo": {
     "elapsed": 402,
     "status": "ok",
     "timestamp": 1702397467168,
     "user": {
      "displayName": "young bback",
      "userId": "01066130122626283768"
     },
     "user_tz": -540
    },
    "id": "OlWqJHQdc7aN",
    "outputId": "db311bfc-67a1-44d6-b9f2-f82dcfe99d7c"
   },
   "outputs": [
    {
     "data": {
      "text/plain": [
       "array([1.        , 1.73205081, 1.73205081, 2.        , 2.        ,\n",
       "       2.44948974, 2.44948974, 2.44948974, 2.44948974])"
      ]
     },
     "execution_count": 154,
     "metadata": {},
     "output_type": "execute_result"
    }
   ],
   "source": [
    "np.sqrt(arr) # 루트 , arr ** 0.5"
   ]
  },
  {
   "cell_type": "code",
   "execution_count": 155,
   "metadata": {
    "colab": {
     "base_uri": "https://localhost:8080/"
    },
    "executionInfo": {
     "elapsed": 8,
     "status": "ok",
     "timestamp": 1702397467544,
     "user": {
      "displayName": "young bback",
      "userId": "01066130122626283768"
     },
     "user_tz": -540
    },
    "id": "2LXCdwWHc7Wh",
    "outputId": "ae250ce0-dac8-4886-a6dc-6e649fc07195"
   },
   "outputs": [
    {
     "data": {
      "text/plain": [
       "array([5., 8., 9.])"
      ]
     },
     "execution_count": 155,
     "metadata": {},
     "output_type": "execute_result"
    }
   ],
   "source": [
    "np.round([5.3, 7.5, 8.8]) # 반올림"
   ]
  },
  {
   "cell_type": "code",
   "execution_count": 156,
   "metadata": {
    "colab": {
     "base_uri": "https://localhost:8080/"
    },
    "executionInfo": {
     "elapsed": 6,
     "status": "ok",
     "timestamp": 1702397467544,
     "user": {
      "displayName": "young bback",
      "userId": "01066130122626283768"
     },
     "user_tz": -540
    },
    "id": "2ec_ORmzaQAp",
    "outputId": "562c3cdd-46e4-40cf-e9da-590c97e70a6e"
   },
   "outputs": [
    {
     "data": {
      "text/plain": [
       "array([5.3, 7.6, 8.9])"
      ]
     },
     "execution_count": 156,
     "metadata": {},
     "output_type": "execute_result"
    }
   ],
   "source": [
    "np.round([5.33, 7.55, 8.88], 1) # 반올림"
   ]
  },
  {
   "cell_type": "code",
   "execution_count": 157,
   "metadata": {
    "colab": {
     "base_uri": "https://localhost:8080/"
    },
    "executionInfo": {
     "elapsed": 4,
     "status": "ok",
     "timestamp": 1702397467544,
     "user": {
      "displayName": "young bback",
      "userId": "01066130122626283768"
     },
     "user_tz": -540
    },
    "id": "GaxAvOoVdiiO",
    "outputId": "8599777f-bd8d-4f34-f548-3502d186b7c3"
   },
   "outputs": [
    {
     "data": {
      "text/plain": [
       "array([7.6])"
      ]
     },
     "execution_count": 157,
     "metadata": {},
     "output_type": "execute_result"
    }
   ],
   "source": [
    "np.round([7.65], 1) # 앞자리가 짝수일 경우 버림!!"
   ]
  },
  {
   "cell_type": "markdown",
   "metadata": {
    "id": "O7ilq7C0eFw9"
   },
   "source": [
    "```\n",
    "12~ 14 사이의 실수\n",
    "\n",
    "12.1, 12.2, 12.3, 12.4, 12.5, 12.6, 12.7, 12.8, 12.9\n",
    "13.1, 13.2, 13.3, 13.4, 13.5, 13.6, 13.7, 13.8, 13.9\n",
    "\n",
    "```"
   ]
  },
  {
   "cell_type": "code",
   "execution_count": 158,
   "metadata": {
    "colab": {
     "base_uri": "https://localhost:8080/"
    },
    "executionInfo": {
     "elapsed": 3,
     "status": "ok",
     "timestamp": 1702397467544,
     "user": {
      "displayName": "young bback",
      "userId": "01066130122626283768"
     },
     "user_tz": -540
    },
    "id": "-JKf0UK2difL",
    "outputId": "4048e2b1-2ea6-40da-cc95-fd30e2270765"
   },
   "outputs": [
    {
     "data": {
      "text/plain": [
       "array([6., 5.])"
      ]
     },
     "execution_count": 158,
     "metadata": {},
     "output_type": "execute_result"
    }
   ],
   "source": [
    "np.ceil([5.2, 4.8]) # 올림"
   ]
  },
  {
   "cell_type": "code",
   "execution_count": 159,
   "metadata": {
    "colab": {
     "base_uri": "https://localhost:8080/"
    },
    "executionInfo": {
     "elapsed": 369,
     "status": "ok",
     "timestamp": 1702397509410,
     "user": {
      "displayName": "young bback",
      "userId": "01066130122626283768"
     },
     "user_tz": -540
    },
    "id": "W_7Yf7jZdicO",
    "outputId": "ced94177-b4f3-4eed-9bd0-77bdd287f219"
   },
   "outputs": [
    {
     "data": {
      "text/plain": [
       "array([4., 5.])"
      ]
     },
     "execution_count": 159,
     "metadata": {},
     "output_type": "execute_result"
    }
   ],
   "source": [
    "np.floor([4.8, 5.9])  # 버림"
   ]
  },
  {
   "cell_type": "markdown",
   "metadata": {
    "id": "GsM2GQ0yfUgQ"
   },
   "source": [
    "- 음수는 버림과 올림 동작이 다르다!!"
   ]
  },
  {
   "cell_type": "code",
   "execution_count": 160,
   "metadata": {
    "colab": {
     "base_uri": "https://localhost:8080/"
    },
    "executionInfo": {
     "elapsed": 337,
     "status": "ok",
     "timestamp": 1702397515228,
     "user": {
      "displayName": "young bback",
      "userId": "01066130122626283768"
     },
     "user_tz": -540
    },
    "id": "HpOXceH4diYs",
    "outputId": "9953fcc0-0ec0-4789-a42e-7cef86d3d116"
   },
   "outputs": [
    {
     "data": {
      "text/plain": [
       "array([-5., -4.])"
      ]
     },
     "execution_count": 160,
     "metadata": {},
     "output_type": "execute_result"
    }
   ],
   "source": [
    "np.ceil([-5.2, -4.8]) # 0 에 가깝게 올림한다."
   ]
  },
  {
   "cell_type": "code",
   "execution_count": 161,
   "metadata": {
    "colab": {
     "base_uri": "https://localhost:8080/"
    },
    "executionInfo": {
     "elapsed": 401,
     "status": "ok",
     "timestamp": 1702397520365,
     "user": {
      "displayName": "young bback",
      "userId": "01066130122626283768"
     },
     "user_tz": -540
    },
    "id": "Jv5f7mN3Zbee",
    "outputId": "5356fe59-444c-43b7-d9fb-d2336a85bdbf"
   },
   "outputs": [
    {
     "data": {
      "text/plain": [
       "array([-5., -6.])"
      ]
     },
     "execution_count": 161,
     "metadata": {},
     "output_type": "execute_result"
    }
   ],
   "source": [
    "np.floor([-4.8, -5.9]) # 0 에서 멀어지게 버림!"
   ]
  },
  {
   "cell_type": "markdown",
   "metadata": {
    "id": "t0qKMVe1_SXE"
   },
   "source": [
    "# exp 함수 : $y=e^x$\n",
    "- 자연상수를 밑으로 하는 지수함수"
   ]
  },
  {
   "cell_type": "markdown",
   "metadata": {
    "id": "seUi45u0_glH"
   },
   "source": [
    "![다운로드.jpg](data:image/jpeg;base64,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)"
   ]
  },
  {
   "cell_type": "code",
   "execution_count": 162,
   "metadata": {
    "colab": {
     "base_uri": "https://localhost:8080/"
    },
    "executionInfo": {
     "elapsed": 488,
     "status": "ok",
     "timestamp": 1702397559877,
     "user": {
      "displayName": "young bback",
      "userId": "01066130122626283768"
     },
     "user_tz": -540
    },
    "id": "NzEbc__RgaLH",
    "outputId": "38d6fb47-a9b7-4604-8845-6b2cb4f36e21"
   },
   "outputs": [
    {
     "name": "stderr",
     "output_type": "stream",
     "text": [
      "C:\\Users\\hopio\\AppData\\Local\\Temp\\ipykernel_32104\\689439452.py:1: RuntimeWarning: overflow encountered in exp\n",
      "  np.exp(1000) # infinite\n"
     ]
    },
    {
     "data": {
      "text/plain": [
       "inf"
      ]
     },
     "execution_count": 162,
     "metadata": {},
     "output_type": "execute_result"
    }
   ],
   "source": [
    "np.exp(1000) # infinite"
   ]
  },
  {
   "cell_type": "code",
   "execution_count": 163,
   "metadata": {
    "colab": {
     "base_uri": "https://localhost:8080/"
    },
    "executionInfo": {
     "elapsed": 2,
     "status": "ok",
     "timestamp": 1702397715396,
     "user": {
      "displayName": "young bback",
      "userId": "01066130122626283768"
     },
     "user_tz": -540
    },
    "id": "xPFw3dykz2cR",
    "outputId": "aa5e963c-aa24-4eb2-a842-24dfc2b9593d"
   },
   "outputs": [
    {
     "name": "stderr",
     "output_type": "stream",
     "text": [
      "C:\\Users\\hopio\\AppData\\Local\\Temp\\ipykernel_32104\\301263229.py:1: RuntimeWarning: overflow encountered in exp\n",
      "  np.exp(1000+1e-06)\n"
     ]
    },
    {
     "data": {
      "text/plain": [
       "inf"
      ]
     },
     "execution_count": 163,
     "metadata": {},
     "output_type": "execute_result"
    }
   ],
   "source": [
    "np.exp(1000+1e-06)"
   ]
  },
  {
   "cell_type": "code",
   "execution_count": 164,
   "metadata": {
    "colab": {
     "base_uri": "https://localhost:8080/"
    },
    "executionInfo": {
     "elapsed": 303,
     "status": "ok",
     "timestamp": 1702397693189,
     "user": {
      "displayName": "young bback",
      "userId": "01066130122626283768"
     },
     "user_tz": -540
    },
    "id": "FWNnXh_LzxzU",
    "outputId": "230d9a41-c825-4bda-ca42-f468ee9262ac"
   },
   "outputs": [
    {
     "data": {
      "text/plain": [
       "7.389063487990445"
      ]
     },
     "execution_count": 164,
     "metadata": {},
     "output_type": "execute_result"
    }
   ],
   "source": [
    "np.exp(2 + 1e-06)"
   ]
  },
  {
   "cell_type": "code",
   "execution_count": 165,
   "metadata": {
    "colab": {
     "base_uri": "https://localhost:8080/"
    },
    "executionInfo": {
     "elapsed": 346,
     "status": "ok",
     "timestamp": 1702397560700,
     "user": {
      "displayName": "young bback",
      "userId": "01066130122626283768"
     },
     "user_tz": -540
    },
    "id": "NunzxeFUgaIR",
    "outputId": "e355e2d8-36e9-4e33-c813-46850e5fb40d"
   },
   "outputs": [
    {
     "data": {
      "text/plain": [
       "inf"
      ]
     },
     "execution_count": 165,
     "metadata": {},
     "output_type": "execute_result"
    }
   ],
   "source": [
    "float(\"inf\") # 파이썬 자료형의 무한대 값"
   ]
  },
  {
   "cell_type": "code",
   "execution_count": 166,
   "metadata": {
    "colab": {
     "base_uri": "https://localhost:8080/"
    },
    "executionInfo": {
     "elapsed": 5,
     "status": "ok",
     "timestamp": 1702397560700,
     "user": {
      "displayName": "young bback",
      "userId": "01066130122626283768"
     },
     "user_tz": -540
    },
    "id": "jgf1mrQ6gaFZ",
    "outputId": "b841a49f-0b5a-4731-bc4b-3c56343bb508"
   },
   "outputs": [
    {
     "data": {
      "text/plain": [
       "inf"
      ]
     },
     "execution_count": 166,
     "metadata": {},
     "output_type": "execute_result"
    }
   ],
   "source": [
    "np.inf # numpy 의 무한대 값"
   ]
  },
  {
   "cell_type": "code",
   "execution_count": 167,
   "metadata": {
    "colab": {
     "base_uri": "https://localhost:8080/"
    },
    "executionInfo": {
     "elapsed": 4,
     "status": "ok",
     "timestamp": 1702397560700,
     "user": {
      "displayName": "young bback",
      "userId": "01066130122626283768"
     },
     "user_tz": -540
    },
    "id": "-XFj0y2J_R8z",
    "outputId": "9b9a5be8-62d1-4210-adf3-e6c8e3f14672"
   },
   "outputs": [
    {
     "data": {
      "text/plain": [
       "1.0"
      ]
     },
     "execution_count": 167,
     "metadata": {},
     "output_type": "execute_result"
    }
   ],
   "source": [
    "np.exp(0)"
   ]
  },
  {
   "cell_type": "code",
   "execution_count": 168,
   "metadata": {
    "colab": {
     "base_uri": "https://localhost:8080/"
    },
    "executionInfo": {
     "elapsed": 4,
     "status": "ok",
     "timestamp": 1702397560701,
     "user": {
      "displayName": "young bback",
      "userId": "01066130122626283768"
     },
     "user_tz": -540
    },
    "id": "Hf5Uho29_R6V",
    "outputId": "592a0aa9-af88-4387-eb80-843de9916470"
   },
   "outputs": [
    {
     "data": {
      "text/plain": [
       "array([1.        , 2.71828183])"
      ]
     },
     "execution_count": 168,
     "metadata": {},
     "output_type": "execute_result"
    }
   ],
   "source": [
    "np.exp([0,1])"
   ]
  },
  {
   "cell_type": "markdown",
   "metadata": {
    "id": "MnXAqvpL_eTX"
   },
   "source": [
    "# 자연 로그 함수 : $y = \\log_e x$\n",
    "- 자연 상수를 밑으로하는 로그함수"
   ]
  },
  {
   "cell_type": "markdown",
   "metadata": {
    "id": "j0yxhZPS_i8L"
   },
   "source": [
    "![다운로드 (1).jpg](data:image/jpeg;base64,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)"
   ]
  },
  {
   "cell_type": "code",
   "execution_count": 169,
   "metadata": {
    "colab": {
     "base_uri": "https://localhost:8080/"
    },
    "executionInfo": {
     "elapsed": 301,
     "status": "ok",
     "timestamp": 1702397638519,
     "user": {
      "displayName": "young bback",
      "userId": "01066130122626283768"
     },
     "user_tz": -540
    },
    "id": "jsfSmGdJ_R3x",
    "outputId": "78a78b3c-ca18-428a-cb04-c1250942dd61"
   },
   "outputs": [
    {
     "name": "stderr",
     "output_type": "stream",
     "text": [
      "C:\\Users\\hopio\\AppData\\Local\\Temp\\ipykernel_32104\\1899684472.py:1: RuntimeWarning: divide by zero encountered in log\n",
      "  np.log([0,1])\n"
     ]
    },
    {
     "data": {
      "text/plain": [
       "array([-inf,   0.])"
      ]
     },
     "execution_count": 169,
     "metadata": {},
     "output_type": "execute_result"
    }
   ],
   "source": [
    "np.log([0,1])"
   ]
  },
  {
   "cell_type": "code",
   "execution_count": 170,
   "metadata": {
    "colab": {
     "base_uri": "https://localhost:8080/"
    },
    "executionInfo": {
     "elapsed": 3,
     "status": "ok",
     "timestamp": 1702397638874,
     "user": {
      "displayName": "young bback",
      "userId": "01066130122626283768"
     },
     "user_tz": -540
    },
    "id": "i-8QVC9B_R1N",
    "outputId": "5e2d2faa-87e8-4099-be73-58688a1a81c9"
   },
   "outputs": [
    {
     "data": {
      "text/plain": [
       "-13.815510557964274"
      ]
     },
     "execution_count": 170,
     "metadata": {},
     "output_type": "execute_result"
    }
   ],
   "source": [
    "np.log(0 + 1e-06)"
   ]
  },
  {
   "cell_type": "markdown",
   "metadata": {
    "id": "GhfE0fy7jhg2"
   },
   "source": [
    "# np.quantile 함수\n",
    "- 분위수 기준으로 값 추출\n",
    "- 데이터 크기 순서에 따른 위치값\n",
    "- 이상치 영향을 적게 받는다."
   ]
  },
  {
   "cell_type": "code",
   "execution_count": 171,
   "metadata": {
    "colab": {
     "base_uri": "https://localhost:8080/"
    },
    "executionInfo": {
     "elapsed": 661,
     "status": "ok",
     "timestamp": 1702397794794,
     "user": {
      "displayName": "young bback",
      "userId": "01066130122626283768"
     },
     "user_tz": -540
    },
    "id": "m9TI3DKyjbXT",
    "outputId": "7542fb98-cd3e-43b3-c8d5-2a2ced6bdf3b"
   },
   "outputs": [
    {
     "data": {
      "text/plain": [
       "(7.0, 7.0)"
      ]
     },
     "execution_count": 171,
     "metadata": {},
     "output_type": "execute_result"
    }
   ],
   "source": [
    "arr = np.array([100,3,3,5,7,9,20,10,7])\n",
    "np.quantile(arr, 0.5), np.median(arr)"
   ]
  },
  {
   "cell_type": "code",
   "execution_count": 172,
   "metadata": {
    "colab": {
     "base_uri": "https://localhost:8080/"
    },
    "executionInfo": {
     "elapsed": 11,
     "status": "ok",
     "timestamp": 1702397795515,
     "user": {
      "displayName": "young bback",
      "userId": "01066130122626283768"
     },
     "user_tz": -540
    },
    "id": "s4EFuZVmjbUX",
    "outputId": "fa550d56-0cce-4ba7-f17a-8f09c16a2408"
   },
   "outputs": [
    {
     "data": {
      "text/plain": [
       "18.22222222222222"
      ]
     },
     "execution_count": 172,
     "metadata": {},
     "output_type": "execute_result"
    }
   ],
   "source": [
    "np.mean(arr)"
   ]
  },
  {
   "cell_type": "code",
   "execution_count": 173,
   "metadata": {
    "colab": {
     "base_uri": "https://localhost:8080/"
    },
    "executionInfo": {
     "elapsed": 8,
     "status": "ok",
     "timestamp": 1702397795515,
     "user": {
      "displayName": "young bback",
      "userId": "01066130122626283768"
     },
     "user_tz": -540
    },
    "id": "6s4S4RYxjbRQ",
    "outputId": "62e1f6e5-d6b5-4bfa-cac4-4613690bc8e3"
   },
   "outputs": [
    {
     "data": {
      "text/plain": [
       "36.000000000000014"
      ]
     },
     "execution_count": 173,
     "metadata": {},
     "output_type": "execute_result"
    }
   ],
   "source": [
    "np.quantile(arr, 0.9)"
   ]
  },
  {
   "cell_type": "code",
   "execution_count": 174,
   "metadata": {
    "colab": {
     "base_uri": "https://localhost:8080/"
    },
    "executionInfo": {
     "elapsed": 6,
     "status": "ok",
     "timestamp": 1702397795515,
     "user": {
      "displayName": "young bback",
      "userId": "01066130122626283768"
     },
     "user_tz": -540
    },
    "id": "rIndGabY_Ryy",
    "outputId": "8ca34807-9ba4-4d48-cbaf-47fc5bb2fa34"
   },
   "outputs": [
    {
     "data": {
      "text/plain": [
       "90.0"
      ]
     },
     "execution_count": 174,
     "metadata": {},
     "output_type": "execute_result"
    }
   ],
   "source": [
    "np.max(arr) * 0.9"
   ]
  },
  {
   "cell_type": "markdown",
   "metadata": {
    "id": "mqW81ZMVlIwe"
   },
   "source": [
    "- 사분위수 구해보기\n",
    "    - 데이터를 4등분"
   ]
  },
  {
   "cell_type": "code",
   "execution_count": 175,
   "metadata": {
    "colab": {
     "base_uri": "https://localhost:8080/"
    },
    "executionInfo": {
     "elapsed": 5,
     "status": "ok",
     "timestamp": 1702397795516,
     "user": {
      "displayName": "young bback",
      "userId": "01066130122626283768"
     },
     "user_tz": -540
    },
    "id": "18hQmn55lIqk",
    "outputId": "177865ee-b7fc-4111-b43d-6156632ba79e"
   },
   "outputs": [
    {
     "data": {
      "text/plain": [
       "array([  3.,   5.,   7.,  10., 100.])"
      ]
     },
     "execution_count": 175,
     "metadata": {},
     "output_type": "execute_result"
    }
   ],
   "source": [
    "# 0사분위수(최소값) , 1사분위수, 2사분위수, 3사분위수, 4사분위수(최대값)\n",
    "np.quantile(arr,[0, 0.25, 0.5, 0.75, 1])"
   ]
  },
  {
   "cell_type": "markdown",
   "metadata": {
    "id": "FwlZil2CmJhB"
   },
   "source": [
    "# 정렬"
   ]
  },
  {
   "cell_type": "code",
   "execution_count": 176,
   "metadata": {
    "colab": {
     "base_uri": "https://localhost:8080/"
    },
    "executionInfo": {
     "elapsed": 4,
     "status": "ok",
     "timestamp": 1702397795516,
     "user": {
      "displayName": "young bback",
      "userId": "01066130122626283768"
     },
     "user_tz": -540
    },
    "id": "ZeBuWbkqmJT8",
    "outputId": "3b28ec6f-6483-4a9a-bca7-466a1265f39d"
   },
   "outputs": [
    {
     "data": {
      "text/plain": [
       "array([  3,   3,   5,   7,   7,   9,  10,  20, 100])"
      ]
     },
     "execution_count": 176,
     "metadata": {},
     "output_type": "execute_result"
    }
   ],
   "source": [
    "np.sort(arr) # 오름차순"
   ]
  },
  {
   "cell_type": "code",
   "execution_count": 177,
   "metadata": {
    "colab": {
     "base_uri": "https://localhost:8080/"
    },
    "executionInfo": {
     "elapsed": 14,
     "status": "ok",
     "timestamp": 1702397796108,
     "user": {
      "displayName": "young bback",
      "userId": "01066130122626283768"
     },
     "user_tz": -540
    },
    "id": "pqucr_OTmJRM",
    "outputId": "b66a1f5e-afaf-4959-ff25-dc1b8ee42d2d"
   },
   "outputs": [
    {
     "data": {
      "text/plain": [
       "array([100,  20,  10,   9,   7,   7,   5,   3,   3])"
      ]
     },
     "execution_count": 177,
     "metadata": {},
     "output_type": "execute_result"
    }
   ],
   "source": [
    "np.sort(arr)[::-1] # 내림차순"
   ]
  },
  {
   "cell_type": "markdown",
   "metadata": {
    "id": "zr1PekkzmpGu"
   },
   "source": [
    "# 배열 조건 연산"
   ]
  },
  {
   "cell_type": "code",
   "execution_count": 178,
   "metadata": {
    "colab": {
     "base_uri": "https://localhost:8080/"
    },
    "executionInfo": {
     "elapsed": 11,
     "status": "ok",
     "timestamp": 1702397796108,
     "user": {
      "displayName": "young bback",
      "userId": "01066130122626283768"
     },
     "user_tz": -540
    },
    "id": "-VdAFsr1mJOV",
    "outputId": "19356885-ca3a-4671-9a1a-12ed1b3e3908"
   },
   "outputs": [
    {
     "data": {
      "text/plain": [
       "array([ 80,  90, 100,  70,  40,  90])"
      ]
     },
     "execution_count": 178,
     "metadata": {},
     "output_type": "execute_result"
    }
   ],
   "source": [
    "score = np.array([80,90,100,70,40,90])\n",
    "score"
   ]
  },
  {
   "cell_type": "code",
   "execution_count": 179,
   "metadata": {
    "colab": {
     "base_uri": "https://localhost:8080/"
    },
    "executionInfo": {
     "elapsed": 10,
     "status": "ok",
     "timestamp": 1702397796108,
     "user": {
      "displayName": "young bback",
      "userId": "01066130122626283768"
     },
     "user_tz": -540
    },
    "id": "b5rOvIvzmJLh",
    "outputId": "57a3ef01-42e3-4283-d79a-1485a50ea32f"
   },
   "outputs": [
    {
     "data": {
      "text/plain": [
       "array([ 80,  90, 100,  90])"
      ]
     },
     "execution_count": 179,
     "metadata": {},
     "output_type": "execute_result"
    }
   ],
   "source": [
    "mask = score >= 80\n",
    "score[mask]"
   ]
  },
  {
   "cell_type": "code",
   "execution_count": 180,
   "metadata": {
    "colab": {
     "base_uri": "https://localhost:8080/"
    },
    "executionInfo": {
     "elapsed": 9,
     "status": "ok",
     "timestamp": 1702397796108,
     "user": {
      "displayName": "young bback",
      "userId": "01066130122626283768"
     },
     "user_tz": -540
    },
    "id": "KUSdkzmGlIlX",
    "outputId": "ef4a754d-bbf2-4bf9-96ce-0a9465f8c79b"
   },
   "outputs": [
    {
     "data": {
      "text/plain": [
       "True"
      ]
     },
     "execution_count": 180,
     "metadata": {},
     "output_type": "execute_result"
    }
   ],
   "source": [
    "np.any(score >= 100) # 배열에 대한 조건에 참이 하나라도 있을 경우 True, 아니면 False"
   ]
  },
  {
   "cell_type": "code",
   "execution_count": 181,
   "metadata": {
    "colab": {
     "base_uri": "https://localhost:8080/"
    },
    "executionInfo": {
     "elapsed": 8,
     "status": "ok",
     "timestamp": 1702397796108,
     "user": {
      "displayName": "young bback",
      "userId": "01066130122626283768"
     },
     "user_tz": -540
    },
    "id": "_9_8tzqqnlAf",
    "outputId": "9c088e08-e5d6-422d-a418-62c66da8b995"
   },
   "outputs": [
    {
     "data": {
      "text/plain": [
       "True"
      ]
     },
     "execution_count": 181,
     "metadata": {},
     "output_type": "execute_result"
    }
   ],
   "source": [
    "np.all(score >= 40) # 배열에 대한 조건이 모두 참일 경우 True, 아니면 False"
   ]
  },
  {
   "cell_type": "code",
   "execution_count": 182,
   "metadata": {
    "colab": {
     "base_uri": "https://localhost:8080/"
    },
    "executionInfo": {
     "elapsed": 6,
     "status": "ok",
     "timestamp": 1702397796108,
     "user": {
      "displayName": "young bback",
      "userId": "01066130122626283768"
     },
     "user_tz": -540
    },
    "id": "Sx_dxkqdrN46",
    "outputId": "dadc574f-909c-43cc-ae44-1b9aca4c2d5d"
   },
   "outputs": [
    {
     "data": {
      "text/plain": [
       "array([ 80,  90, 100,  70,  40,  90])"
      ]
     },
     "execution_count": 182,
     "metadata": {},
     "output_type": "execute_result"
    }
   ],
   "source": [
    "score"
   ]
  },
  {
   "cell_type": "code",
   "execution_count": 183,
   "metadata": {
    "colab": {
     "base_uri": "https://localhost:8080/"
    },
    "executionInfo": {
     "elapsed": 5,
     "status": "ok",
     "timestamp": 1702397796108,
     "user": {
      "displayName": "young bback",
      "userId": "01066130122626283768"
     },
     "user_tz": -540
    },
    "id": "KvtUoI_Nnk9U",
    "outputId": "e77199d6-f5db-40d9-82f7-c974e76c02dd"
   },
   "outputs": [
    {
     "data": {
      "text/plain": [
       "array([1, 1, 1, 0, 0, 1])"
      ]
     },
     "execution_count": 183,
     "metadata": {},
     "output_type": "execute_result"
    }
   ],
   "source": [
    "np.where(score >= 80,1,0)"
   ]
  },
  {
   "cell_type": "code",
   "execution_count": 184,
   "metadata": {
    "colab": {
     "base_uri": "https://localhost:8080/"
    },
    "executionInfo": {
     "elapsed": 3,
     "status": "ok",
     "timestamp": 1702397796108,
     "user": {
      "displayName": "young bback",
      "userId": "01066130122626283768"
     },
     "user_tz": -540
    },
    "id": "u2jnRgcW_RwQ",
    "outputId": "6b2fb00e-d73a-4777-d5c6-2171c83cf1b3"
   },
   "outputs": [
    {
     "data": {
      "text/plain": [
       "array([1, 0, 1])"
      ]
     },
     "execution_count": 184,
     "metadata": {},
     "output_type": "execute_result"
    }
   ],
   "source": [
    "pred = np.array([0.5, 0.3, 0.7])\n",
    "np.where(pred >= 0.5, 1, 0)"
   ]
  },
  {
   "cell_type": "code",
   "execution_count": 185,
   "metadata": {
    "colab": {
     "base_uri": "https://localhost:8080/"
    },
    "executionInfo": {
     "elapsed": 406,
     "status": "ok",
     "timestamp": 1702398379419,
     "user": {
      "displayName": "young bback",
      "userId": "01066130122626283768"
     },
     "user_tz": -540
    },
    "id": "3ZUs335zrzoE",
    "outputId": "0a512fca-dac6-4ba7-dcb3-c6d64e59a7c9"
   },
   "outputs": [
    {
     "data": {
      "text/plain": [
       "(array([[ 1,  2,  3],\n",
       "        [-1, -1,  3]]),\n",
       " array([[ 1,  1,  1],\n",
       "        [-1, -1,  1]]))"
      ]
     },
     "execution_count": 185,
     "metadata": {},
     "output_type": "execute_result"
    }
   ],
   "source": [
    "# 아래 배열에서 0보다 큰수는 그대로 반환하고, 아니면 -1로 변경\n",
    "arr = np.array([\n",
    "    [1,2,3],\n",
    "    [0,0,3]\n",
    "])\n",
    "\n",
    "np.where(arr > 0, arr, -1),np.where(arr > 0, 1, -1)"
   ]
  },
  {
   "cell_type": "code",
   "execution_count": 186,
   "metadata": {
    "colab": {
     "base_uri": "https://localhost:8080/"
    },
    "executionInfo": {
     "elapsed": 6,
     "status": "ok",
     "timestamp": 1702397796449,
     "user": {
      "displayName": "young bback",
      "userId": "01066130122626283768"
     },
     "user_tz": -540
    },
    "id": "eCnlqvoCs_6i",
    "outputId": "43210936-345f-4e46-9d78-5e86446f8a0e"
   },
   "outputs": [
    {
     "data": {
      "text/plain": [
       "array([[1, 2, 3],\n",
       "       [0, 0, 3]])"
      ]
     },
     "execution_count": 186,
     "metadata": {},
     "output_type": "execute_result"
    }
   ],
   "source": [
    "arr"
   ]
  },
  {
   "cell_type": "markdown",
   "metadata": {
    "id": "nLb9pY2atOzI"
   },
   "source": [
    "- np.clip\n",
    "    - 배열의 요소에서 min 보다 작은 값은 min으로, max 보다 큰 값은 max로 변경한다."
   ]
  },
  {
   "cell_type": "code",
   "execution_count": 187,
   "metadata": {
    "colab": {
     "base_uri": "https://localhost:8080/"
    },
    "executionInfo": {
     "elapsed": 4,
     "status": "ok",
     "timestamp": 1702397796449,
     "user": {
      "displayName": "young bback",
      "userId": "01066130122626283768"
     },
     "user_tz": -540
    },
    "id": "MaRGQ-DUrzlx",
    "outputId": "6d638d69-5a29-4a39-eb68-9cb1677ec3dd"
   },
   "outputs": [
    {
     "data": {
      "text/plain": [
       "array([[1, 2, 2],\n",
       "       [1, 1, 2]])"
      ]
     },
     "execution_count": 187,
     "metadata": {},
     "output_type": "execute_result"
    }
   ],
   "source": [
    "np.clip(arr, 1, 2)"
   ]
  },
  {
   "cell_type": "code",
   "execution_count": 190,
   "metadata": {
    "colab": {
     "base_uri": "https://localhost:8080/"
    },
    "executionInfo": {
     "elapsed": 3,
     "status": "ok",
     "timestamp": 1702397796449,
     "user": {
      "displayName": "young bback",
      "userId": "01066130122626283768"
     },
     "user_tz": -540
    },
    "id": "HSIfMwD8rzi_",
    "outputId": "b0c6df92-af35-4e4e-fac3-8795e38b2d96"
   },
   "outputs": [
    {
     "name": "stdout",
     "output_type": "stream",
     "text": [
      "[[-11], [-10], [-9]]\n"
     ]
    },
    {
     "data": {
      "text/plain": [
       "array([[1, 2, 3],\n",
       "       [1, 2, 3],\n",
       "       [1, 2, 3]])"
      ]
     },
     "execution_count": 190,
     "metadata": {},
     "output_type": "execute_result"
    }
   ],
   "source": [
    "arr=[[i+(-11)]for i in range(3)]\n",
    "print(arr)\n",
    "np.clip(arr,[1,2,3],[1,2,3])"
   ]
  },
  {
   "cell_type": "code",
   "execution_count": 181,
   "metadata": {},
   "outputs": [
    {
     "data": {
      "text/plain": [
       "(array([[1, 2, 3],\n",
       "        [1, 2, 3]]),\n",
       " array([1, 2, 3]))"
      ]
     },
     "execution_count": 181,
     "metadata": {},
     "output_type": "execute_result"
    }
   ],
   "source": [
    "arr = np.array([[0, 3, 5],\n",
    "                [7, 2, 1]])\n",
    "\n",
    "np.clip(arr, [1, 2, 3], [1, 2, 3]),np.clip(arr[0], [1, 2, 3], [1, 2, 3])"
   ]
  },
  {
   "cell_type": "markdown",
   "metadata": {
    "id": "PdHSOCth_lBH"
   },
   "source": [
    "arr: 처리할 배열입니다.\n",
    "첫 번째 배열 [1, 2, 3]은 각 열(column)에 대한 최소값을 지정합니다.\n",
    "두 번째 배열 [5, 5, 5]은 각 열에 대한 최대값을 지정합니다.\n",
    "np.clip은 각 열별로 지정된 최소 및 최대값을 사용하여 배열의 요소를 클리핑합니다. 이 경우:\n",
    "\n",
    "첫 번째 열의 요소들은 1과 5 사이로 클리핑됩니다.\n",
    "두 번째 열의 요소들은 2와 5 사이로 클리핑됩니다.\n",
    "세 번째 열의 요소들은 3과 5 사이로 클리핑됩니다."
   ]
  },
  {
   "cell_type": "code",
   "execution_count": 193,
   "metadata": {
    "colab": {
     "base_uri": "https://localhost:8080/"
    },
    "executionInfo": {
     "elapsed": 833,
     "status": "ok",
     "timestamp": 1702398382584,
     "user": {
      "displayName": "young bback",
      "userId": "01066130122626283768"
     },
     "user_tz": -540
    },
    "id": "0t_sAgTw2TyA",
    "outputId": "a740c933-5b86-4c23-cc90-cbb03b489bfa"
   },
   "outputs": [
    {
     "data": {
      "text/plain": [
       "array([[5, 5, 4],\n",
       "       [3, 2, 3]])"
      ]
     },
     "execution_count": 193,
     "metadata": {},
     "output_type": "execute_result"
    }
   ],
   "source": [
    "arr=np.array(range(1,7))[::-1].reshape(-1,3)\n",
    "np.clip(arr,[1,2,3],[5,5,5]) #첫 번째 열의 요소들은 1과 5 사이로 클리핑됩니다. 두 번째 열의 요소들은 2와 5 사이로 클리핑됩니다. 세 번째 열의 요소들은 3과 5 사이로 클리핑됩니다."
   ]
  },
  {
   "cell_type": "code",
   "execution_count": 194,
   "metadata": {
    "colab": {
     "base_uri": "https://localhost:8080/"
    },
    "executionInfo": {
     "elapsed": 5,
     "status": "ok",
     "timestamp": 1702397797036,
     "user": {
      "displayName": "young bback",
      "userId": "01066130122626283768"
     },
     "user_tz": -540
    },
    "id": "EKAHGfBbrzgG",
    "outputId": "edc2d5bd-b428-4b27-e3a0-85a52f320047"
   },
   "outputs": [
    {
     "data": {
      "text/plain": [
       "inf"
      ]
     },
     "execution_count": 194,
     "metadata": {},
     "output_type": "execute_result"
    }
   ],
   "source": [
    "np.inf # 무한대값"
   ]
  },
  {
   "cell_type": "code",
   "execution_count": 195,
   "metadata": {
    "colab": {
     "base_uri": "https://localhost:8080/"
    },
    "executionInfo": {
     "elapsed": 4,
     "status": "ok",
     "timestamp": 1702397797036,
     "user": {
      "displayName": "young bback",
      "userId": "01066130122626283768"
     },
     "user_tz": -540
    },
    "id": "2dDxLqLRrzdT",
    "outputId": "fc10e0c8-b9c2-4932-fe35-ead201e3fb6a"
   },
   "outputs": [
    {
     "data": {
      "text/plain": [
       "nan"
      ]
     },
     "execution_count": 195,
     "metadata": {},
     "output_type": "execute_result"
    }
   ],
   "source": [
    "np.nan # 결측치"
   ]
  },
  {
   "cell_type": "markdown",
   "metadata": {
    "id": "P8Fb3rQ4urDl"
   },
   "source": [
    "- 전처리 과정에서 무한대값이나 결측치 같은 스칼라들이 생성 되었다고 가정해보자."
   ]
  },
  {
   "cell_type": "code",
   "execution_count": 196,
   "metadata": {
    "colab": {
     "base_uri": "https://localhost:8080/"
    },
    "executionInfo": {
     "elapsed": 505,
     "status": "ok",
     "timestamp": 1702398448950,
     "user": {
      "displayName": "young bback",
      "userId": "01066130122626283768"
     },
     "user_tz": -540
    },
    "id": "YSBg3wwyunTD",
    "outputId": "8a58219e-3898-48a8-e69b-bb848fdcca31"
   },
   "outputs": [
    {
     "data": {
      "text/plain": [
       "array([inf, nan, 4. , 5. , 7. , 8.1])"
      ]
     },
     "execution_count": 196,
     "metadata": {},
     "output_type": "execute_result"
    }
   ],
   "source": [
    "arr = np.array([np.inf, np.nan, 4, 5, 7, 8.1])\n",
    "arr"
   ]
  },
  {
   "cell_type": "code",
   "execution_count": 197,
   "metadata": {
    "colab": {
     "base_uri": "https://localhost:8080/"
    },
    "executionInfo": {
     "elapsed": 9,
     "status": "ok",
     "timestamp": 1702398448950,
     "user": {
      "displayName": "young bback",
      "userId": "01066130122626283768"
     },
     "user_tz": -540
    },
    "id": "pBqgLdOeunQI",
    "outputId": "88cbae1d-ce19-415a-e28e-2a1c300befce"
   },
   "outputs": [
    {
     "data": {
      "text/plain": [
       "array([ True, False, False, False, False, False])"
      ]
     },
     "execution_count": 197,
     "metadata": {},
     "output_type": "execute_result"
    }
   ],
   "source": [
    "np.isinf(arr) # 무한대 값 찾기"
   ]
  },
  {
   "cell_type": "code",
   "execution_count": 198,
   "metadata": {
    "colab": {
     "base_uri": "https://localhost:8080/"
    },
    "executionInfo": {
     "elapsed": 7,
     "status": "ok",
     "timestamp": 1702398448950,
     "user": {
      "displayName": "young bback",
      "userId": "01066130122626283768"
     },
     "user_tz": -540
    },
    "id": "oWrUtRP_unNb",
    "outputId": "c622edf9-397e-442d-8184-9b178a0edb17"
   },
   "outputs": [
    {
     "data": {
      "text/plain": [
       "array([False,  True, False, False, False, False])"
      ]
     },
     "execution_count": 198,
     "metadata": {},
     "output_type": "execute_result"
    }
   ],
   "source": [
    "np.isnan(arr) # nan 값 찾기"
   ]
  },
  {
   "cell_type": "code",
   "execution_count": 199,
   "metadata": {
    "colab": {
     "base_uri": "https://localhost:8080/"
    },
    "executionInfo": {
     "elapsed": 6,
     "status": "ok",
     "timestamp": 1702398448950,
     "user": {
      "displayName": "young bback",
      "userId": "01066130122626283768"
     },
     "user_tz": -540
    },
    "id": "2ONIUUvDunKH",
    "outputId": "15e5ae1e-3147-4b1f-84c9-2f2701f805d7"
   },
   "outputs": [
    {
     "data": {
      "text/plain": [
       "array([False, False,  True,  True,  True,  True])"
      ]
     },
     "execution_count": 199,
     "metadata": {},
     "output_type": "execute_result"
    }
   ],
   "source": [
    "np.isfinite(arr) # 처리 가능한 정상적인 수치만 찾기"
   ]
  },
  {
   "cell_type": "code",
   "execution_count": 200,
   "metadata": {
    "colab": {
     "base_uri": "https://localhost:8080/"
    },
    "executionInfo": {
     "elapsed": 4,
     "status": "ok",
     "timestamp": 1702398448950,
     "user": {
      "displayName": "young bback",
      "userId": "01066130122626283768"
     },
     "user_tz": -540
    },
    "id": "pmxsOPJov9in",
    "outputId": "4d9683a9-a02b-40f5-fa14-4950b7be0f6f"
   },
   "outputs": [
    {
     "data": {
      "text/plain": [
       "array([0. , 0. , 4. , 5. , 7. , 8.1])"
      ]
     },
     "execution_count": 200,
     "metadata": {},
     "output_type": "execute_result"
    }
   ],
   "source": [
    "mask = np.isfinite(arr)\n",
    "arr[mask == False] = 0\n",
    "arr"
   ]
  },
  {
   "cell_type": "markdown",
   "metadata": {
    "id": "FqBgNh5SxR1e"
   },
   "source": [
    "- 두개의 배열의 요소가 모두 같은 지를 비교"
   ]
  },
  {
   "cell_type": "code",
   "execution_count": 201,
   "metadata": {
    "colab": {
     "base_uri": "https://localhost:8080/"
    },
    "executionInfo": {
     "elapsed": 3,
     "status": "ok",
     "timestamp": 1702398680238,
     "user": {
      "displayName": "young bback",
      "userId": "01066130122626283768"
     },
     "user_tz": -540
    },
    "id": "EaV1XbFm3QHs",
    "outputId": "3d0aaf56-d1b4-4d4c-a31c-57c0a0724e22"
   },
   "outputs": [
    {
     "data": {
      "text/plain": [
       "[0, 0]"
      ]
     },
     "execution_count": 201,
     "metadata": {},
     "output_type": "execute_result"
    }
   ],
   "source": [
    "a=list(np.arange(0,5))[:2]=[0,0]\n",
    "a"
   ]
  },
  {
   "cell_type": "code",
   "execution_count": 202,
   "metadata": {
    "colab": {
     "base_uri": "https://localhost:8080/"
    },
    "executionInfo": {
     "elapsed": 2,
     "status": "ok",
     "timestamp": 1702398716752,
     "user": {
      "displayName": "young bback",
      "userId": "01066130122626283768"
     },
     "user_tz": -540
    },
    "id": "grsioYaF3jBW",
    "outputId": "8f256790-169a-4dd3-9b0a-744496c1c06d"
   },
   "outputs": [
    {
     "data": {
      "text/plain": [
       "0"
      ]
     },
     "execution_count": 202,
     "metadata": {},
     "output_type": "execute_result"
    }
   ],
   "source": [
    "a=np.arange(0,5)[:2]=0\n",
    "a"
   ]
  },
  {
   "cell_type": "code",
   "execution_count": 203,
   "metadata": {
    "colab": {
     "base_uri": "https://localhost:8080/"
    },
    "executionInfo": {
     "elapsed": 559,
     "status": "ok",
     "timestamp": 1702398449506,
     "user": {
      "displayName": "young bback",
      "userId": "01066130122626283768"
     },
     "user_tz": -540
    },
    "id": "LjtoF0Ayv9fs",
    "outputId": "bdcd8ea6-e276-461c-b9ea-bc33ed880d10"
   },
   "outputs": [
    {
     "data": {
      "text/plain": [
       "True"
      ]
     },
     "execution_count": 203,
     "metadata": {},
     "output_type": "execute_result"
    }
   ],
   "source": [
    "arr1 = np.array([\n",
    "    [1,2,3],\n",
    "    [4,5,6]\n",
    "])\n",
    "\n",
    "arr2 = np.array([\n",
    "    [1,2,3],\n",
    "    [4,5,6]\n",
    "])\n",
    "\n",
    "np.array_equal(arr1,arr2)"
   ]
  },
  {
   "cell_type": "markdown",
   "metadata": {
    "id": "9IJlFqXex0jJ"
   },
   "source": [
    "# numpy 라이브러리의 random 모듈"
   ]
  },
  {
   "cell_type": "markdown",
   "metadata": {
    "id": "VnwpkGrryF2j"
   },
   "source": [
    "- rand 함수: 0~ 1사이의 랜덤값을 반환"
   ]
  },
  {
   "cell_type": "code",
   "execution_count": 204,
   "metadata": {
    "colab": {
     "base_uri": "https://localhost:8080/"
    },
    "executionInfo": {
     "elapsed": 860,
     "status": "ok",
     "timestamp": 1702399004555,
     "user": {
      "displayName": "young bback",
      "userId": "01066130122626283768"
     },
     "user_tz": -540
    },
    "id": "00XgZ7R5x0Zu",
    "outputId": "3af50ad8-d34c-4251-f2b1-47a2189f4675"
   },
   "outputs": [
    {
     "data": {
      "text/plain": [
       "0.366354659484893"
      ]
     },
     "execution_count": 204,
     "metadata": {},
     "output_type": "execute_result"
    }
   ],
   "source": [
    "np.random.rand()"
   ]
  },
  {
   "cell_type": "code",
   "execution_count": 205,
   "metadata": {
    "colab": {
     "base_uri": "https://localhost:8080/"
    },
    "executionInfo": {
     "elapsed": 9,
     "status": "ok",
     "timestamp": 1702399004556,
     "user": {
      "displayName": "young bback",
      "userId": "01066130122626283768"
     },
     "user_tz": -540
    },
    "id": "tw2YpAoUycBX",
    "outputId": "1284ee34-27f5-4931-898f-2d61522f94e8"
   },
   "outputs": [
    {
     "data": {
      "text/plain": [
       "array([0.03549293, 0.72795789, 0.80821194])"
      ]
     },
     "execution_count": 205,
     "metadata": {},
     "output_type": "execute_result"
    }
   ],
   "source": [
    "np.random.rand(3)"
   ]
  },
  {
   "cell_type": "code",
   "execution_count": 206,
   "metadata": {
    "colab": {
     "base_uri": "https://localhost:8080/"
    },
    "executionInfo": {
     "elapsed": 8,
     "status": "ok",
     "timestamp": 1702399004556,
     "user": {
      "displayName": "young bback",
      "userId": "01066130122626283768"
     },
     "user_tz": -540
    },
    "id": "hfobmSFLx0Xa",
    "outputId": "8aebe84e-94cd-4751-8502-b83dafb79950"
   },
   "outputs": [
    {
     "data": {
      "text/plain": [
       "array([[0.84424464, 0.56759412, 0.75634346],\n",
       "       [0.04799574, 0.51926174, 0.83486165]])"
      ]
     },
     "execution_count": 206,
     "metadata": {},
     "output_type": "execute_result"
    }
   ],
   "source": [
    "np.random.rand(2,3)"
   ]
  },
  {
   "cell_type": "markdown",
   "metadata": {
    "id": "f_up3VoEyki9"
   },
   "source": [
    "- randn 함수: 평균 0 , 분산 1 인 정규 분포의 랜덤한 값을 반환"
   ]
  },
  {
   "cell_type": "code",
   "execution_count": 207,
   "metadata": {
    "colab": {
     "base_uri": "https://localhost:8080/"
    },
    "executionInfo": {
     "elapsed": 7,
     "status": "ok",
     "timestamp": 1702399004556,
     "user": {
      "displayName": "young bback",
      "userId": "01066130122626283768"
     },
     "user_tz": -540
    },
    "id": "TpTTzUJLx0UR",
    "outputId": "6a790ae3-76a8-42a1-8789-4796df6e3cc4"
   },
   "outputs": [
    {
     "data": {
      "text/plain": [
       "array([-0.47178853, -0.08437969,  0.98901869,  0.7945473 ,  0.52714424,\n",
       "        0.87183052,  0.11721985,  1.31977913,  0.01799458, -1.40946981,\n",
       "       -0.20330256,  0.58120542,  0.26245701,  0.39158259,  0.83143602,\n",
       "       -2.10033138,  0.68100944,  1.11127957,  0.3675943 ,  0.08056205,\n",
       "        1.32370522, -0.96199029,  0.37619069, -0.09217496,  0.8994358 ,\n",
       "       -0.15772091,  0.76784302,  0.85436706,  0.68103465, -1.39057914,\n",
       "        1.22375462, -2.60751008,  0.60155832, -0.59129568,  0.73041859,\n",
       "        0.74172132, -0.15923815,  0.58574731,  0.1849011 , -0.29741509,\n",
       "        1.30184567, -0.70223258,  1.07518929, -1.45990646, -1.14127875,\n",
       "       -1.19630685, -0.5128482 ,  0.21833802,  1.51592615,  1.01652147,\n",
       "        1.45871119,  1.52363146, -1.22280822, -0.09365893, -0.41301692,\n",
       "       -1.52377521,  0.06232365, -0.91342631, -0.7296401 , -1.17448164,\n",
       "        1.86695139,  1.23837903, -2.01884354,  1.36559909, -0.40929716,\n",
       "       -0.78416323, -0.45230182,  0.3201871 ,  1.42480954,  1.51981753,\n",
       "        1.41961145,  0.64886077,  1.72622533, -1.58289677, -0.37245464,\n",
       "       -0.8699083 ,  1.11951972,  1.28108553,  1.01970713, -0.6748193 ,\n",
       "       -0.46201793,  0.49038994, -0.95402043,  1.00694513, -1.445565  ,\n",
       "       -2.62554629,  0.24452033,  0.13346733,  0.77330209,  0.28604797,\n",
       "        0.30612681,  1.09741753, -0.24638506,  0.26184603, -0.74451677,\n",
       "       -1.76080171, -0.07434185, -0.70050086,  0.35544501, -1.66967076])"
      ]
     },
     "execution_count": 207,
     "metadata": {},
     "output_type": "execute_result"
    }
   ],
   "source": [
    "arr = np.random.randn(100)\n",
    "arr"
   ]
  },
  {
   "cell_type": "code",
   "execution_count": 208,
   "metadata": {
    "colab": {
     "base_uri": "https://localhost:8080/"
    },
    "executionInfo": {
     "elapsed": 5,
     "status": "ok",
     "timestamp": 1702399004556,
     "user": {
      "displayName": "young bback",
      "userId": "01066130122626283768"
     },
     "user_tz": -540
    },
    "id": "XpVdOi4fx0RI",
    "outputId": "85c1be77-3a0e-4e5b-8c04-324d0f574c00"
   },
   "outputs": [
    {
     "data": {
      "text/plain": [
       "(1.049521984848308, 0.06535459238352345)"
      ]
     },
     "execution_count": 208,
     "metadata": {},
     "output_type": "execute_result"
    }
   ],
   "source": [
    "arr.var() , arr.mean()"
   ]
  },
  {
   "cell_type": "markdown",
   "metadata": {
    "id": "B_ZkdQElzKgN"
   },
   "source": [
    "- randint 함수\n",
    "    - start ~ end-1 의 랜덤한 정수를 반환"
   ]
  },
  {
   "cell_type": "code",
   "execution_count": 209,
   "metadata": {
    "colab": {
     "base_uri": "https://localhost:8080/"
    },
    "executionInfo": {
     "elapsed": 4,
     "status": "ok",
     "timestamp": 1702399004932,
     "user": {
      "displayName": "young bback",
      "userId": "01066130122626283768"
     },
     "user_tz": -540
    },
    "id": "EBc0nknyzKYc",
    "outputId": "53320379-ddd8-4d95-de2e-a67203f9175c"
   },
   "outputs": [
    {
     "data": {
      "text/plain": [
       "array([[86, 63, 97],\n",
       "       [85, 83, 51]])"
      ]
     },
     "execution_count": 209,
     "metadata": {},
     "output_type": "execute_result"
    }
   ],
   "source": [
    "np.random.randint(50,100, [2,3] )"
   ]
  },
  {
   "cell_type": "markdown",
   "metadata": {
    "id": "xeSSbLFZzsr-"
   },
   "source": [
    "- shuffle 함수\n",
    "    - 반환 값은 없고, 배열 자체를 섞음"
   ]
  },
  {
   "cell_type": "code",
   "execution_count": 210,
   "metadata": {
    "colab": {
     "base_uri": "https://localhost:8080/"
    },
    "executionInfo": {
     "elapsed": 3,
     "status": "ok",
     "timestamp": 1702399004932,
     "user": {
      "displayName": "young bback",
      "userId": "01066130122626283768"
     },
     "user_tz": -540
    },
    "id": "pVWas7Z7zq3k",
    "outputId": "6255fc70-f116-46c7-94da-d6768c70201d"
   },
   "outputs": [
    {
     "data": {
      "text/plain": [
       "array([1, 2, 3, 4, 5, 6, 7, 8, 9])"
      ]
     },
     "execution_count": 210,
     "metadata": {},
     "output_type": "execute_result"
    }
   ],
   "source": [
    "arr = np.arange(1,10)\n",
    "arr"
   ]
  },
  {
   "cell_type": "code",
   "execution_count": 211,
   "metadata": {
    "id": "434xnU0szq0M"
   },
   "outputs": [],
   "source": [
    "np.random.shuffle(arr)"
   ]
  },
  {
   "cell_type": "code",
   "execution_count": 212,
   "metadata": {
    "colab": {
     "base_uri": "https://localhost:8080/"
    },
    "executionInfo": {
     "elapsed": 6,
     "status": "ok",
     "timestamp": 1702399005408,
     "user": {
      "displayName": "young bback",
      "userId": "01066130122626283768"
     },
     "user_tz": -540
    },
    "id": "X9qxkRZMzqww",
    "outputId": "6a28f55a-3d7a-46b5-c06b-5c35b3748ee6"
   },
   "outputs": [
    {
     "data": {
      "text/plain": [
       "array([1, 4, 9, 3, 8, 7, 2, 6, 5])"
      ]
     },
     "execution_count": 212,
     "metadata": {},
     "output_type": "execute_result"
    }
   ],
   "source": [
    "arr"
   ]
  },
  {
   "cell_type": "code",
   "execution_count": 213,
   "metadata": {
    "colab": {
     "base_uri": "https://localhost:8080/"
    },
    "executionInfo": {
     "elapsed": 4,
     "status": "ok",
     "timestamp": 1702399005408,
     "user": {
      "displayName": "young bback",
      "userId": "01066130122626283768"
     },
     "user_tz": -540
    },
    "id": "mEh7WvnmzKWC",
    "outputId": "8dce0a72-ba6d-4b9b-cc52-b000a0dffece"
   },
   "outputs": [
    {
     "data": {
      "text/plain": [
       "array([[56, 90, 86],\n",
       "       [83, 60, 77],\n",
       "       [70, 77, 80],\n",
       "       [52, 56, 59],\n",
       "       [82, 68, 92],\n",
       "       [70, 86, 55],\n",
       "       [69, 76, 88],\n",
       "       [82, 75, 85],\n",
       "       [86, 93, 66],\n",
       "       [53, 77, 64]])"
      ]
     },
     "execution_count": 213,
     "metadata": {},
     "output_type": "execute_result"
    }
   ],
   "source": [
    "arr = np.random.randint(50,100, [10,3] )\n",
    "arr"
   ]
  },
  {
   "cell_type": "code",
   "execution_count": 214,
   "metadata": {
    "id": "5N_HvKpdzKTC"
   },
   "outputs": [],
   "source": [
    "np.random.shuffle(arr) # 행단위로 섞는다."
   ]
  },
  {
   "cell_type": "code",
   "execution_count": 215,
   "metadata": {
    "colab": {
     "base_uri": "https://localhost:8080/"
    },
    "executionInfo": {
     "elapsed": 2,
     "status": "ok",
     "timestamp": 1702399005408,
     "user": {
      "displayName": "young bback",
      "userId": "01066130122626283768"
     },
     "user_tz": -540
    },
    "id": "wKZJI7Mcv9au",
    "outputId": "dd9d9ee0-bab0-40a7-88ff-efb7c0ec7272"
   },
   "outputs": [
    {
     "data": {
      "text/plain": [
       "array([[82, 75, 85],\n",
       "       [82, 68, 92],\n",
       "       [56, 90, 86],\n",
       "       [69, 76, 88],\n",
       "       [53, 77, 64],\n",
       "       [83, 60, 77],\n",
       "       [86, 93, 66],\n",
       "       [70, 86, 55],\n",
       "       [70, 77, 80],\n",
       "       [52, 56, 59]])"
      ]
     },
     "execution_count": 215,
     "metadata": {},
     "output_type": "execute_result"
    }
   ],
   "source": [
    "arr"
   ]
  },
  {
   "cell_type": "markdown",
   "metadata": {
    "id": "aUfYRSPJ1Lhn"
   },
   "source": [
    "- choice 함수\n",
    "    - 지정한 개수만큼 랜덤하게 선택해서 추출"
   ]
  },
  {
   "cell_type": "code",
   "execution_count": 216,
   "metadata": {
    "colab": {
     "base_uri": "https://localhost:8080/"
    },
    "executionInfo": {
     "elapsed": 5,
     "status": "ok",
     "timestamp": 1702399006552,
     "user": {
      "displayName": "young bback",
      "userId": "01066130122626283768"
     },
     "user_tz": -540
    },
    "id": "XpkffrLv1LRr",
    "outputId": "0c1848f7-3b48-4cff-fd3f-b7f6b90c0f80"
   },
   "outputs": [
    {
     "data": {
      "text/plain": [
       "array([0, 1, 2])"
      ]
     },
     "execution_count": 216,
     "metadata": {},
     "output_type": "execute_result"
    }
   ],
   "source": [
    "np.random.choice(5,3) # 0~4 사이의 값들 중에 랜덤하게 3개 선택!!(복원 추출)"
   ]
  },
  {
   "cell_type": "code",
   "execution_count": 217,
   "metadata": {
    "colab": {
     "base_uri": "https://localhost:8080/"
    },
    "executionInfo": {
     "elapsed": 5,
     "status": "ok",
     "timestamp": 1702399006553,
     "user": {
      "displayName": "young bback",
      "userId": "01066130122626283768"
     },
     "user_tz": -540
    },
    "id": "Lq_qgpGw1LOl",
    "outputId": "80144089-746a-4d13-b3a8-91f8246ec021"
   },
   "outputs": [
    {
     "data": {
      "text/plain": [
       "array([2, 1, 4])"
      ]
     },
     "execution_count": 217,
     "metadata": {},
     "output_type": "execute_result"
    }
   ],
   "source": [
    "np.random.choice(5,3, replace=False) # 비복원 추출"
   ]
  },
  {
   "cell_type": "code",
   "execution_count": 218,
   "metadata": {
    "colab": {
     "base_uri": "https://localhost:8080/"
    },
    "executionInfo": {
     "elapsed": 744,
     "status": "ok",
     "timestamp": 1702399007294,
     "user": {
      "displayName": "young bback",
      "userId": "01066130122626283768"
     },
     "user_tz": -540
    },
    "id": "s2BnAuldGM_P",
    "outputId": "1b504785-2e9d-4192-b020-9947803998b1"
   },
   "outputs": [
    {
     "data": {
      "text/plain": [
       "array([0, 3, 0])"
      ]
     },
     "execution_count": 218,
     "metadata": {},
     "output_type": "execute_result"
    }
   ],
   "source": [
    "np.random.choice(5,3, p=[0.5, 0.1, 0.1, 0.2, 0.1]) # p 파라미터를 사용해 확률적 샘플링 가능!"
   ]
  },
  {
   "cell_type": "code",
   "execution_count": 219,
   "metadata": {
    "colab": {
     "base_uri": "https://localhost:8080/"
    },
    "executionInfo": {
     "elapsed": 6,
     "status": "ok",
     "timestamp": 1702399007294,
     "user": {
      "displayName": "young bback",
      "userId": "01066130122626283768"
     },
     "user_tz": -540
    },
    "id": "sSrOkezXGM9L",
    "outputId": "197d591d-4635-4e2f-c970-937ff5ea2bd4"
   },
   "outputs": [
    {
     "data": {
      "text/plain": [
       "array([ 100, 1234])"
      ]
     },
     "execution_count": 219,
     "metadata": {},
     "output_type": "execute_result"
    }
   ],
   "source": [
    "arr = np.array([10,20,30,100,1234,1004])\n",
    "np.random.choice(arr, 2)"
   ]
  },
  {
   "cell_type": "code",
   "execution_count": 220,
   "metadata": {
    "colab": {
     "base_uri": "https://localhost:8080/"
    },
    "executionInfo": {
     "elapsed": 2,
     "status": "ok",
     "timestamp": 1702399464714,
     "user": {
      "displayName": "young bback",
      "userId": "01066130122626283768"
     },
     "user_tz": -540
    },
    "id": "CP6BOCEY6jBt",
    "outputId": "cdab3d1f-d67c-4c85-b20e-25c0a476c348"
   },
   "outputs": [
    {
     "data": {
      "text/plain": [
       "numpy.ndarray"
      ]
     },
     "execution_count": 220,
     "metadata": {},
     "output_type": "execute_result"
    }
   ],
   "source": [
    "type(arr)"
   ]
  },
  {
   "cell_type": "markdown",
   "metadata": {
    "id": "oOpLFukCHs6n"
   },
   "source": [
    "- 시드고정"
   ]
  },
  {
   "cell_type": "code",
   "execution_count": 221,
   "metadata": {
    "colab": {
     "base_uri": "https://localhost:8080/"
    },
    "executionInfo": {
     "elapsed": 4,
     "status": "ok",
     "timestamp": 1702399007294,
     "user": {
      "displayName": "young bback",
      "userId": "01066130122626283768"
     },
     "user_tz": -540
    },
    "id": "H_rjvK-0Hu2U",
    "outputId": "1793e335-549f-40a9-b43a-233df3278d89"
   },
   "outputs": [
    {
     "data": {
      "text/plain": [
       "array([5, 8, 9, 5, 0])"
      ]
     },
     "execution_count": 221,
     "metadata": {},
     "output_type": "execute_result"
    }
   ],
   "source": [
    "np.random.seed(1)\n",
    "np.random.randint(0,10,5)"
   ]
  },
  {
   "cell_type": "markdown",
   "metadata": {
    "id": "s06vc4BmHp-x"
   },
   "source": [
    "# axis 이해하기"
   ]
  },
  {
   "cell_type": "code",
   "execution_count": 222,
   "metadata": {
    "colab": {
     "base_uri": "https://localhost:8080/"
    },
    "executionInfo": {
     "elapsed": 615,
     "status": "ok",
     "timestamp": 1702399007906,
     "user": {
      "displayName": "young bback",
      "userId": "01066130122626283768"
     },
     "user_tz": -540
    },
    "id": "cnS2OaM6GM61",
    "outputId": "64b70782-4659-4623-eb1b-19c77578dd61"
   },
   "outputs": [
    {
     "data": {
      "text/plain": [
       "array([[88, 78, 64],\n",
       "       [57, 70, 88],\n",
       "       [68, 72, 60],\n",
       "       [60, 73, 85]])"
      ]
     },
     "execution_count": 222,
     "metadata": {},
     "output_type": "execute_result"
    }
   ],
   "source": [
    "np.random.seed(42)\n",
    "arr = np.random.randint(50, 91, [4,3] )\n",
    "arr"
   ]
  },
  {
   "cell_type": "markdown",
   "metadata": {
    "id": "qcMHU7zySprd"
   },
   "source": [
    "- 행렬(2차원) 기준\n",
    "    - axis = 0 : 행방향으로 처리"
   ]
  },
  {
   "cell_type": "code",
   "execution_count": 223,
   "metadata": {
    "colab": {
     "base_uri": "https://localhost:8080/"
    },
    "executionInfo": {
     "elapsed": 613,
     "status": "ok",
     "timestamp": 1702399007906,
     "user": {
      "displayName": "young bback",
      "userId": "01066130122626283768"
     },
     "user_tz": -540
    },
    "id": "bA8e8lyyGM3b",
    "outputId": "9604e2f0-9aa4-438f-a0b6-58c3eb71b36c"
   },
   "outputs": [
    {
     "data": {
      "text/plain": [
       "array([273, 293, 297])"
      ]
     },
     "execution_count": 223,
     "metadata": {},
     "output_type": "execute_result"
    }
   ],
   "source": [
    "arr.sum(axis = 0)"
   ]
  },
  {
   "cell_type": "markdown",
   "metadata": {
    "id": "5lKHyY3cSw-A"
   },
   "source": [
    "- 행렬(2차원) 기준\n",
    "    - axis = 1 : 열방향으로 처리"
   ]
  },
  {
   "cell_type": "code",
   "execution_count": 224,
   "metadata": {
    "colab": {
     "base_uri": "https://localhost:8080/"
    },
    "executionInfo": {
     "elapsed": 7,
     "status": "ok",
     "timestamp": 1702399007906,
     "user": {
      "displayName": "young bback",
      "userId": "01066130122626283768"
     },
     "user_tz": -540
    },
    "id": "zz6WtGWqGM0W",
    "outputId": "de6462f0-4240-4e8e-92a7-b5c6f180fea4"
   },
   "outputs": [
    {
     "data": {
      "text/plain": [
       "array([230, 215, 200, 218])"
      ]
     },
     "execution_count": 224,
     "metadata": {},
     "output_type": "execute_result"
    }
   ],
   "source": [
    "arr.sum(axis = 1)"
   ]
  },
  {
   "cell_type": "code",
   "execution_count": 225,
   "metadata": {
    "colab": {
     "base_uri": "https://localhost:8080/"
    },
    "executionInfo": {
     "elapsed": 6,
     "status": "ok",
     "timestamp": 1702399007907,
     "user": {
      "displayName": "young bback",
      "userId": "01066130122626283768"
     },
     "user_tz": -540
    },
    "id": "WDqTxXLF_Rtd",
    "outputId": "0e3ddaa5-07ef-4e1a-a95c-381dd05e5019"
   },
   "outputs": [
    {
     "data": {
      "text/plain": [
       "array([68.25, 73.25, 74.25])"
      ]
     },
     "execution_count": 225,
     "metadata": {},
     "output_type": "execute_result"
    }
   ],
   "source": [
    "np.mean(arr, axis = 0)"
   ]
  },
  {
   "cell_type": "markdown",
   "metadata": {
    "id": "ivNVqVFNJ1v4"
   },
   "source": [
    "- 3 차원 axis 이해"
   ]
  },
  {
   "cell_type": "code",
   "execution_count": 226,
   "metadata": {
    "colab": {
     "base_uri": "https://localhost:8080/"
    },
    "executionInfo": {
     "elapsed": 473,
     "status": "ok",
     "timestamp": 1715701280103,
     "user": {
      "displayName": "young bback",
      "userId": "01066130122626283768"
     },
     "user_tz": -540
    },
    "id": "18dJ6bNCJmYJ",
    "outputId": "154e10ff-3f61-48ea-8f0f-8f67ac5c0910"
   },
   "outputs": [
    {
     "data": {
      "text/plain": [
       "array([[[88, 78],\n",
       "        [64, 57],\n",
       "        [70, 88]],\n",
       "\n",
       "       [[68, 72],\n",
       "        [60, 60],\n",
       "        [73, 85]],\n",
       "\n",
       "       [[89, 73],\n",
       "        [52, 71],\n",
       "        [51, 73]],\n",
       "\n",
       "       [[79, 87],\n",
       "        [51, 70],\n",
       "        [82, 61]]])"
      ]
     },
     "execution_count": 226,
     "metadata": {},
     "output_type": "execute_result"
    }
   ],
   "source": [
    "np.random.seed(42)\n",
    "arr = np.random.randint(50, 91, [4,3,2] )\n",
    "arr"
   ]
  },
  {
   "cell_type": "code",
   "execution_count": 227,
   "metadata": {
    "colab": {
     "base_uri": "https://localhost:8080/"
    },
    "executionInfo": {
     "elapsed": 18,
     "status": "ok",
     "timestamp": 1715701280104,
     "user": {
      "displayName": "young bback",
      "userId": "01066130122626283768"
     },
     "user_tz": -540
    },
    "id": "Quf1A6NXwyXQ",
    "outputId": "6af6a217-d1c5-4bcc-df4f-0c5121ab1dfd"
   },
   "outputs": [
    {
     "data": {
      "text/plain": [
       "(324, 310)"
      ]
     },
     "execution_count": 227,
     "metadata": {},
     "output_type": "execute_result"
    }
   ],
   "source": [
    "88+68+89+79,78+72+73+87"
   ]
  },
  {
   "cell_type": "code",
   "execution_count": 228,
   "metadata": {
    "colab": {
     "base_uri": "https://localhost:8080/"
    },
    "executionInfo": {
     "elapsed": 15,
     "status": "ok",
     "timestamp": 1715701280104,
     "user": {
      "displayName": "young bback",
      "userId": "01066130122626283768"
     },
     "user_tz": -540
    },
    "id": "akTFQbBSJmVE",
    "outputId": "57446de0-254c-46bd-8b96-4703e4351b67"
   },
   "outputs": [
    {
     "data": {
      "text/plain": [
       "array([[324, 310],\n",
       "       [227, 258],\n",
       "       [276, 307]])"
      ]
     },
     "execution_count": 228,
     "metadata": {},
     "output_type": "execute_result"
    }
   ],
   "source": [
    "np.sum(arr,axis = 0 ) # 3차원 데이터에서 axis 에 0을 줘서 집계하는 경우는 없다고 보면 된다.\n",
    "# 안쪽으로 더함 sample 방향 "
   ]
  },
  {
   "cell_type": "markdown",
   "metadata": {
    "id": "4xhUxCVWS_h3"
   },
   "source": [
    "- 3차원 배열 기준\n",
    "    - axis = 1 : 각 샘플 안에서 행방향으로 처리"
   ]
  },
  {
   "cell_type": "code",
   "execution_count": 229,
   "metadata": {
    "colab": {
     "base_uri": "https://localhost:8080/"
    },
    "executionInfo": {
     "elapsed": 307,
     "status": "ok",
     "timestamp": 1715701301249,
     "user": {
      "displayName": "young bback",
      "userId": "01066130122626283768"
     },
     "user_tz": -540
    },
    "id": "LKW_qISALtfV",
    "outputId": "42327f0e-4668-43a0-c041-f2913fea3e09"
   },
   "outputs": [
    {
     "data": {
      "text/plain": [
       "(array([[222, 223],\n",
       "        [201, 217],\n",
       "        [192, 217],\n",
       "        [212, 218]]),\n",
       " 222)"
      ]
     },
     "execution_count": 229,
     "metadata": {},
     "output_type": "execute_result"
    }
   ],
   "source": [
    "arr.sum(axis = 1),88+64+70 #sample 한 단위의 행 방향"
   ]
  },
  {
   "cell_type": "markdown",
   "metadata": {
    "id": "ENf7pCzTTGCY"
   },
   "source": [
    "- 3차원 배열 기준\n",
    "    - axis = 2 : 각 샘플 안에서 열방향으로 처리"
   ]
  },
  {
   "cell_type": "code",
   "execution_count": 230,
   "metadata": {
    "colab": {
     "base_uri": "https://localhost:8080/"
    },
    "executionInfo": {
     "elapsed": 4,
     "status": "ok",
     "timestamp": 1702399734972,
     "user": {
      "displayName": "young bback",
      "userId": "01066130122626283768"
     },
     "user_tz": -540
    },
    "id": "OJnxItZ8Ltch",
    "outputId": "12797088-986f-4e00-90a6-342b1f510fce"
   },
   "outputs": [
    {
     "data": {
      "text/plain": [
       "array([[166, 121, 158],\n",
       "       [140, 120, 158],\n",
       "       [162, 123, 124],\n",
       "       [166, 121, 143]])"
      ]
     },
     "execution_count": 230,
     "metadata": {},
     "output_type": "execute_result"
    }
   ],
   "source": [
    "arr.sum(axis = 2)#sample 한 단위의 열 방향"
   ]
  },
  {
   "cell_type": "markdown",
   "metadata": {
    "id": "nyADNPvHN-C1"
   },
   "source": [
    "# 배열에 차원 추가 또는 변경"
   ]
  },
  {
   "cell_type": "code",
   "execution_count": 231,
   "metadata": {
    "colab": {
     "base_uri": "https://localhost:8080/"
    },
    "executionInfo": {
     "elapsed": 3,
     "status": "ok",
     "timestamp": 1702399734972,
     "user": {
      "displayName": "young bback",
      "userId": "01066130122626283768"
     },
     "user_tz": -540
    },
    "id": "Llup82oWN8cz",
    "outputId": "1059f421-24e6-4e7e-a1ac-a85998d3f81a"
   },
   "outputs": [
    {
     "data": {
      "text/plain": [
       "array([0, 1, 2, 3, 4, 5])"
      ]
     },
     "execution_count": 231,
     "metadata": {},
     "output_type": "execute_result"
    }
   ],
   "source": [
    "arr = np.arange(6)\n",
    "arr"
   ]
  },
  {
   "cell_type": "markdown",
   "metadata": {
    "id": "nLR2YVkdRlOe"
   },
   "source": [
    "- 슬라이싱과 함께 새로운 차원 추가"
   ]
  },
  {
   "cell_type": "code",
   "execution_count": 232,
   "metadata": {
    "colab": {
     "base_uri": "https://localhost:8080/"
    },
    "executionInfo": {
     "elapsed": 330,
     "status": "ok",
     "timestamp": 1702399735755,
     "user": {
      "displayName": "young bback",
      "userId": "01066130122626283768"
     },
     "user_tz": -540
    },
    "id": "nXmDBi-PN8ZQ",
    "outputId": "28b39ea5-db2f-4ff2-e0af-6425ee17609e"
   },
   "outputs": [
    {
     "data": {
      "text/plain": [
       "array([[0],\n",
       "       [1],\n",
       "       [2],\n",
       "       [3],\n",
       "       [4],\n",
       "       [5]])"
      ]
     },
     "execution_count": 232,
     "metadata": {},
     "output_type": "execute_result"
    }
   ],
   "source": [
    "arr[:, np.newaxis]"
   ]
  },
  {
   "cell_type": "markdown",
   "metadata": {
    "id": "UzGssSGHRsve"
   },
   "source": [
    "- 함수를 이용한 새로운 차원 추가"
   ]
  },
  {
   "cell_type": "code",
   "execution_count": 233,
   "metadata": {
    "colab": {
     "base_uri": "https://localhost:8080/"
    },
    "executionInfo": {
     "elapsed": 5,
     "status": "ok",
     "timestamp": 1702399735755,
     "user": {
      "displayName": "young bback",
      "userId": "01066130122626283768"
     },
     "user_tz": -540
    },
    "id": "rxvsqe4CN8Vv",
    "outputId": "fd8b65f0-962d-48c0-a50a-e50b6620651b"
   },
   "outputs": [
    {
     "data": {
      "text/plain": [
       "(array([[0],\n",
       "        [1],\n",
       "        [2],\n",
       "        [3],\n",
       "        [4],\n",
       "        [5]]),\n",
       " array([0, 1, 2, 3, 4, 5]))"
      ]
     },
     "execution_count": 233,
     "metadata": {},
     "output_type": "execute_result"
    }
   ],
   "source": [
    "np.expand_dims(arr,axis=1),arr"
   ]
  },
  {
   "cell_type": "markdown",
   "metadata": {
    "id": "qSScVXveRwJ_"
   },
   "source": [
    "- reshape 메서드를 사용한 새로운 차원 추가"
   ]
  },
  {
   "cell_type": "code",
   "execution_count": 234,
   "metadata": {
    "colab": {
     "base_uri": "https://localhost:8080/"
    },
    "executionInfo": {
     "elapsed": 3,
     "status": "ok",
     "timestamp": 1702399735755,
     "user": {
      "displayName": "young bback",
      "userId": "01066130122626283768"
     },
     "user_tz": -540
    },
    "id": "6Vi85vG1OyFD",
    "outputId": "97e4f6d0-7815-4139-bbd4-e37b3478833c"
   },
   "outputs": [
    {
     "data": {
      "text/plain": [
       "(array([[0],\n",
       "        [1],\n",
       "        [2],\n",
       "        [3],\n",
       "        [4],\n",
       "        [5]]),\n",
       " array([0, 1, 2, 3, 4, 5]))"
      ]
     },
     "execution_count": 234,
     "metadata": {},
     "output_type": "execute_result"
    }
   ],
   "source": [
    "arr.reshape(-1,1),arr"
   ]
  },
  {
   "cell_type": "code",
   "execution_count": 235,
   "metadata": {
    "colab": {
     "base_uri": "https://localhost:8080/"
    },
    "executionInfo": {
     "elapsed": 12,
     "status": "ok",
     "timestamp": 1702399736168,
     "user": {
      "displayName": "young bback",
      "userId": "01066130122626283768"
     },
     "user_tz": -540
    },
    "id": "-lu0MQrIPMIX",
    "outputId": "8802fc21-5f5c-4859-89d3-4333693a2e14"
   },
   "outputs": [
    {
     "data": {
      "text/plain": [
       "array([0, 1, 2, 3, 4, 5])"
      ]
     },
     "execution_count": 235,
     "metadata": {},
     "output_type": "execute_result"
    }
   ],
   "source": [
    "arr"
   ]
  },
  {
   "cell_type": "code",
   "execution_count": 236,
   "metadata": {
    "colab": {
     "base_uri": "https://localhost:8080/"
    },
    "executionInfo": {
     "elapsed": 4,
     "status": "ok",
     "timestamp": 1702399736586,
     "user": {
      "displayName": "young bback",
      "userId": "01066130122626283768"
     },
     "user_tz": -540
    },
    "id": "F_ahVQ0dOyCK",
    "outputId": "81c47edf-a557-4bd0-dbfd-cc49eb148501"
   },
   "outputs": [
    {
     "data": {
      "text/plain": [
       "array([[0, 1, 2],\n",
       "       [3, 4, 5]])"
      ]
     },
     "execution_count": 236,
     "metadata": {},
     "output_type": "execute_result"
    }
   ],
   "source": [
    "arr2 = np.reshape(arr,[2,3])\n",
    "arr2"
   ]
  },
  {
   "cell_type": "code",
   "execution_count": 237,
   "metadata": {
    "colab": {
     "base_uri": "https://localhost:8080/"
    },
    "executionInfo": {
     "elapsed": 678,
     "status": "ok",
     "timestamp": 1702399737261,
     "user": {
      "displayName": "young bback",
      "userId": "01066130122626283768"
     },
     "user_tz": -540
    },
    "id": "yAy5Af4zOx_I",
    "outputId": "a6a1f16f-0259-4a22-c68b-0806b963b6ce"
   },
   "outputs": [
    {
     "data": {
      "text/plain": [
       "array([0, 1, 2, 3, 4, 5])"
      ]
     },
     "execution_count": 237,
     "metadata": {},
     "output_type": "execute_result"
    }
   ],
   "source": [
    "arr2.reshape(-1)"
   ]
  },
  {
   "cell_type": "code",
   "execution_count": 238,
   "metadata": {
    "colab": {
     "base_uri": "https://localhost:8080/"
    },
    "executionInfo": {
     "elapsed": 4,
     "status": "ok",
     "timestamp": 1702399737261,
     "user": {
      "displayName": "young bback",
      "userId": "01066130122626283768"
     },
     "user_tz": -540
    },
    "id": "5wC22Bp-LtZZ",
    "outputId": "b16ee890-69d7-4f67-94ab-5ddc1bae386c"
   },
   "outputs": [
    {
     "data": {
      "text/plain": [
       "array([[0, 3],\n",
       "       [1, 4],\n",
       "       [2, 5]])"
      ]
     },
     "execution_count": 238,
     "metadata": {},
     "output_type": "execute_result"
    }
   ],
   "source": [
    "np.transpose(arr2) # 행렬 전치"
   ]
  },
  {
   "cell_type": "code",
   "execution_count": 239,
   "metadata": {
    "colab": {
     "base_uri": "https://localhost:8080/"
    },
    "executionInfo": {
     "elapsed": 6,
     "status": "ok",
     "timestamp": 1702399737746,
     "user": {
      "displayName": "young bback",
      "userId": "01066130122626283768"
     },
     "user_tz": -540
    },
    "id": "IoPwcLU7PvZQ",
    "outputId": "8f741433-2c26-4e38-a5a6-e9abfcfc9528"
   },
   "outputs": [
    {
     "data": {
      "text/plain": [
       "array([[0, 3],\n",
       "       [1, 4],\n",
       "       [2, 5]])"
      ]
     },
     "execution_count": 239,
     "metadata": {},
     "output_type": "execute_result"
    }
   ],
   "source": [
    "arr2.T"
   ]
  },
  {
   "cell_type": "code",
   "execution_count": 240,
   "metadata": {
    "colab": {
     "base_uri": "https://localhost:8080/"
    },
    "executionInfo": {
     "elapsed": 4,
     "status": "ok",
     "timestamp": 1702399737746,
     "user": {
      "displayName": "young bback",
      "userId": "01066130122626283768"
     },
     "user_tz": -540
    },
    "id": "JRF11M5cPvWv",
    "outputId": "7221d208-389a-4f8b-dfa9-38aca2c2f064"
   },
   "outputs": [
    {
     "data": {
      "text/plain": [
       "array([[0, 3],\n",
       "       [1, 4],\n",
       "       [2, 5]])"
      ]
     },
     "execution_count": 240,
     "metadata": {},
     "output_type": "execute_result"
    }
   ],
   "source": [
    "arr2.transpose()"
   ]
  },
  {
   "cell_type": "code",
   "execution_count": 241,
   "metadata": {
    "colab": {
     "base_uri": "https://localhost:8080/"
    },
    "executionInfo": {
     "elapsed": 5,
     "status": "ok",
     "timestamp": 1702399739147,
     "user": {
      "displayName": "young bback",
      "userId": "01066130122626283768"
     },
     "user_tz": -540
    },
    "id": "2QDSwF5jPvSp",
    "outputId": "92fc02ee-7788-4ef5-80ab-4367018c7535"
   },
   "outputs": [
    {
     "data": {
      "text/plain": [
       "(15, 15, 3)"
      ]
     },
     "execution_count": 241,
     "metadata": {},
     "output_type": "execute_result"
    }
   ],
   "source": [
    "img = np.random.randint(0,256, [15,15,3])\n",
    "img.shape"
   ]
  },
  {
   "cell_type": "code",
   "execution_count": 242,
   "metadata": {
    "colab": {
     "base_uri": "https://localhost:8080/"
    },
    "executionInfo": {
     "elapsed": 4,
     "status": "ok",
     "timestamp": 1702399739148,
     "user": {
      "displayName": "young bback",
      "userId": "01066130122626283768"
     },
     "user_tz": -540
    },
    "id": "PuSbCQ-dPvPR",
    "outputId": "f85e41f3-ee61-41f6-c212-10934de9f33b"
   },
   "outputs": [
    {
     "data": {
      "text/plain": [
       "(3, 15, 15)"
      ]
     },
     "execution_count": 242,
     "metadata": {},
     "output_type": "execute_result"
    }
   ],
   "source": [
    "np.transpose(img, [2,0,1]).shape"
   ]
  },
  {
   "cell_type": "code",
   "execution_count": 243,
   "metadata": {
    "colab": {
     "base_uri": "https://localhost:8080/"
    },
    "executionInfo": {
     "elapsed": 3,
     "status": "ok",
     "timestamp": 1702399739695,
     "user": {
      "displayName": "young bback",
      "userId": "01066130122626283768"
     },
     "user_tz": -540
    },
    "id": "LUMSs0usQ-CV",
    "outputId": "3ab4b680-b16f-4293-9a88-5d6b22de3ec3"
   },
   "outputs": [
    {
     "data": {
      "text/plain": [
       "array([ 57,  21, 252, 235,  88,  48, 218,  58, 254, 169, 255, 219, 187,\n",
       "       207,  14, 189, 189, 174, 189,  50, 107,  54, 243,  63, 248, 130,\n",
       "       228,  50, 134,  20,  72, 166,  17, 131,  88,  59,  13, 241, 249,\n",
       "         8,  89,  52, 129,  83,  91, 110, 187, 198, 171, 252,   7, 174,\n",
       "        34, 205,  80, 163,  49, 103, 131,   1, 253, 133,  53, 105,   3,\n",
       "        53, 220, 190, 145, 217,  43, 161, 201, 189, 227,  13,  94,  47,\n",
       "        14, 199, 205, 214, 251, 248, 189,  39, 212, 207, 236,  81, 110,\n",
       "        52,  23, 153, 216, 251, 187, 123, 236,  40, 156,  14,  44,  64,\n",
       "        88,  70,   8,  87, 128, 235, 135, 215,  62, 138, 242,  80, 135,\n",
       "       162, 162,  32, 122,   4, 233, 230, 249,  40,  27, 134, 200,  71,\n",
       "        11, 161,  32,  47, 246, 150,  61, 215,  36,  98, 171, 103, 213,\n",
       "       218,  34, 192, 226, 100, 174, 205, 130,   0,   4, 217, 246, 254,\n",
       "       141, 102,  26, 136, 206,  14,  89,  41, 123, 204, 178,  62,  95,\n",
       "       230, 240,  51, 252,  95, 131, 221, 228, 150, 230, 236, 142, 170,\n",
       "        28,  35,  12, 159,  70, 186, 242,  85,  27,  65, 169,  44,  61,\n",
       "       184, 244, 133,  27,  27, 107,  43,  83,  29, 189,  74, 127, 249,\n",
       "       246,  91, 216, 230, 189, 224, 128, 120,  26, 189, 120, 115, 204,\n",
       "       232,   2, 102, 197, 199, 154, 136,  61, 164, 224,  50, 233, 171,\n",
       "       151, 206,  58, 117, 159,  95, 215, 232, 179, 112,  61, 240, 185,\n",
       "        51,  11, 253,  38, 129, 130, 112, 100, 112, 183,  80, 186, 112,\n",
       "         1, 129, 219,  53,  86, 228, 223, 224, 128, 146, 125, 129,  52,\n",
       "       171, 217, 159, 197, 159, 246,  67, 182, 202, 183, 122, 144, 254,\n",
       "        37,  23,  68, 115,  97, 197, 213, 138, 254, 239, 143,  96, 200,\n",
       "       123, 186,  69, 207,  92,   2, 147, 251, 186, 163, 146,  89, 194,\n",
       "       254, 146, 147,  95, 198,  51, 232, 160, 167, 127,  38,  81, 103,\n",
       "       128,  10, 219, 184, 216, 177, 150, 158, 221,  41,  98,   6, 251,\n",
       "       143,  89, 111, 248, 243,  59, 112,   1, 128,  47, 253, 139, 196,\n",
       "        36, 159, 250, 246,   8, 232,  98, 146,  47, 207, 130, 147, 151,\n",
       "        53, 119, 160, 151, 115,  74, 112, 199, 163, 165, 103,  83, 253,\n",
       "       226, 111, 253, 216,  98, 152,  92, 145, 127, 109,  81, 193,  53,\n",
       "       162, 207, 188, 168, 227, 160,  67,  32, 141,  20,  47, 147, 247,\n",
       "       127, 135, 134, 194, 144, 127,  32, 175, 203, 186, 114, 213, 118,\n",
       "        21, 237, 157,  37, 229, 108,  50, 181,   7,  26,  26, 225,  20,\n",
       "        29,  96,  27, 110, 191, 224, 196, 251,  60,  47, 146,   3,  34,\n",
       "       191,  48, 255,  16, 171, 219, 157, 220,  45, 116,   5,  98, 123,\n",
       "       232,  36,  23,  92, 240,  45, 180,  94,  98, 187, 224, 115, 190,\n",
       "       252, 212, 159, 214, 160, 255,  66, 127,  17,  24, 233, 222,  53,\n",
       "        57,  66, 103, 173,  23, 113,  31, 174,  85, 150, 193, 126, 154,\n",
       "       233, 129, 217,  16, 103, 160, 136,  42, 245, 175,  38, 220, 169,\n",
       "       246,  25,  98,  49, 152, 151,  12,  59, 249, 134,  56,  35, 172,\n",
       "        19,  64,   7, 255, 237, 143, 141, 203, 114, 214, 142,  91,  97,\n",
       "        65,  31, 214, 190,  85,  50, 152, 185,  62, 189, 124, 149,  57,\n",
       "        57,  85,  48, 179, 169,  69,  14,  53, 234, 187, 100, 224,   7,\n",
       "        52,  59, 235, 107,   4, 102, 195,   5, 108, 223, 115,  93,  46,\n",
       "        98,  54, 167,  51, 143,  12, 113, 123, 105, 157, 146, 144, 119,\n",
       "        62,  18,  91,  57, 182,  89, 228, 217, 116,  61,  22, 126, 136,\n",
       "       139, 244, 128,  57, 121,   0, 238,  33,  95, 125, 117,  47,  88,\n",
       "       231, 236, 116, 128,  15, 188, 230, 191, 190,  68,  21,  92, 246,\n",
       "       194,  75, 153, 143, 178, 228,  85, 184,  28, 205, 219,  68,  46,\n",
       "       240,  93, 237, 189, 243, 196, 203, 143, 217, 217, 175,  84,  38,\n",
       "        99,  32, 253, 221, 100,  22, 249,   9, 245,  68,  99,  33, 179,\n",
       "       222, 137, 249, 146, 185,  95,   0, 247,  68, 236,   3,  15])"
      ]
     },
     "execution_count": 243,
     "metadata": {},
     "output_type": "execute_result"
    }
   ],
   "source": [
    "img.flatten() # img.reshape(-1)"
   ]
  },
  {
   "cell_type": "markdown",
   "metadata": {
    "id": "pYEF-uOzTbJp"
   },
   "source": [
    "# numpy 배열 합치기"
   ]
  },
  {
   "cell_type": "code",
   "execution_count": 244,
   "metadata": {
    "colab": {
     "base_uri": "https://localhost:8080/"
    },
    "executionInfo": {
     "elapsed": 14,
     "status": "ok",
     "timestamp": 1702399740295,
     "user": {
      "displayName": "young bback",
      "userId": "01066130122626283768"
     },
     "user_tz": -540
    },
    "id": "HNjZnrtvTeOo",
    "outputId": "527b8495-f1fb-422e-9c4f-5f4f26423ecc"
   },
   "outputs": [
    {
     "data": {
      "text/plain": [
       "array([[1, 2],\n",
       "       [3, 4],\n",
       "       [5, 6]])"
      ]
     },
     "execution_count": 244,
     "metadata": {},
     "output_type": "execute_result"
    }
   ],
   "source": [
    "arr1 = np.arange(1,7).reshape(3,2)\n",
    "arr1"
   ]
  },
  {
   "cell_type": "code",
   "execution_count": 245,
   "metadata": {
    "colab": {
     "base_uri": "https://localhost:8080/"
    },
    "executionInfo": {
     "elapsed": 13,
     "status": "ok",
     "timestamp": 1702399740295,
     "user": {
      "displayName": "young bback",
      "userId": "01066130122626283768"
     },
     "user_tz": -540
    },
    "id": "MPaEm9q9TeMD",
    "outputId": "f999916a-263b-495a-adce-922da84e766c"
   },
   "outputs": [
    {
     "data": {
      "text/plain": [
       "array([[10, 20]])"
      ]
     },
     "execution_count": 245,
     "metadata": {},
     "output_type": "execute_result"
    }
   ],
   "source": [
    "arr2 = np.array([\n",
    "    [10,20]\n",
    "])\n",
    "arr2"
   ]
  },
  {
   "cell_type": "code",
   "execution_count": 248,
   "metadata": {
    "colab": {
     "base_uri": "https://localhost:8080/"
    },
    "executionInfo": {
     "elapsed": 11,
     "status": "ok",
     "timestamp": 1702399740295,
     "user": {
      "displayName": "young bback",
      "userId": "01066130122626283768"
     },
     "user_tz": -540
    },
    "id": "TgqYMSXMTeJj",
    "outputId": "9f7489a8-3beb-4330-ac0e-fbecd38094a4"
   },
   "outputs": [
    {
     "data": {
      "text/plain": [
       "array([[ 1,  2],\n",
       "       [ 3,  4],\n",
       "       [ 5,  6],\n",
       "       [10, 20]])"
      ]
     },
     "execution_count": 248,
     "metadata": {},
     "output_type": "execute_result"
    }
   ],
   "source": [
    "np.concatenate([arr1,arr2],axis=0)"
   ]
  },
  {
   "cell_type": "code",
   "execution_count": 249,
   "metadata": {
    "colab": {
     "base_uri": "https://localhost:8080/"
    },
    "executionInfo": {
     "elapsed": 10,
     "status": "ok",
     "timestamp": 1702399740295,
     "user": {
      "displayName": "young bback",
      "userId": "01066130122626283768"
     },
     "user_tz": -540
    },
    "id": "On2WA1zNU4ef",
    "outputId": "e656329f-cdaa-4183-9c64-82bef8810c7d"
   },
   "outputs": [
    {
     "data": {
      "text/plain": [
       "array([[10],\n",
       "       [20],\n",
       "       [30]])"
      ]
     },
     "execution_count": 249,
     "metadata": {},
     "output_type": "execute_result"
    }
   ],
   "source": [
    "arr3 = np.array([\n",
    "    [10],\n",
    "    [20],\n",
    "    [30],\n",
    "])\n",
    "arr3"
   ]
  },
  {
   "cell_type": "code",
   "execution_count": 250,
   "metadata": {
    "colab": {
     "base_uri": "https://localhost:8080/"
    },
    "executionInfo": {
     "elapsed": 9,
     "status": "ok",
     "timestamp": 1702399740295,
     "user": {
      "displayName": "young bback",
      "userId": "01066130122626283768"
     },
     "user_tz": -540
    },
    "id": "NgwQC2tCTeFB",
    "outputId": "755c68a5-c5fc-4542-9587-5e8daa7e7d27"
   },
   "outputs": [
    {
     "data": {
      "text/plain": [
       "array([[ 1,  2, 10],\n",
       "       [ 3,  4, 20],\n",
       "       [ 5,  6, 30]])"
      ]
     },
     "execution_count": 250,
     "metadata": {},
     "output_type": "execute_result"
    }
   ],
   "source": [
    "np.concatenate([arr1,arr3], axis=1)"
   ]
  },
  {
   "cell_type": "markdown",
   "metadata": {
    "id": "zPLNl0w1VchS"
   },
   "source": [
    "- 리스트로 변경해서 반환하기"
   ]
  },
  {
   "cell_type": "code",
   "execution_count": 251,
   "metadata": {
    "colab": {
     "base_uri": "https://localhost:8080/"
    },
    "executionInfo": {
     "elapsed": 8,
     "status": "ok",
     "timestamp": 1702399740295,
     "user": {
      "displayName": "young bback",
      "userId": "01066130122626283768"
     },
     "user_tz": -540
    },
    "id": "3iF1CzODTeBO",
    "outputId": "ccd3643e-5637-4176-bdb2-dd3a1805567c"
   },
   "outputs": [
    {
     "data": {
      "text/plain": [
       "[[1, 2], [3, 4], [5, 6]]"
      ]
     },
     "execution_count": 251,
     "metadata": {},
     "output_type": "execute_result"
    }
   ],
   "source": [
    "arr1.tolist()"
   ]
  },
  {
   "cell_type": "markdown",
   "metadata": {
    "id": "sMoKE9wYVji9"
   },
   "source": [
    "# numpy 배열 저장하고 불러오기"
   ]
  },
  {
   "cell_type": "code",
   "execution_count": 252,
   "metadata": {
    "colab": {
     "base_uri": "https://localhost:8080/"
    },
    "executionInfo": {
     "elapsed": 6,
     "status": "ok",
     "timestamp": 1702399740295,
     "user": {
      "displayName": "young bback",
      "userId": "01066130122626283768"
     },
     "user_tz": -540
    },
    "id": "Lc-G6cD8VolH",
    "outputId": "457f1284-7767-496c-8d04-0feb0c90cead"
   },
   "outputs": [
    {
     "data": {
      "text/plain": [
       "array([[1, 2],\n",
       "       [3, 4],\n",
       "       [5, 6]])"
      ]
     },
     "execution_count": 252,
     "metadata": {},
     "output_type": "execute_result"
    }
   ],
   "source": [
    "arr1"
   ]
  },
  {
   "cell_type": "code",
   "execution_count": 253,
   "metadata": {
    "id": "sVcpujkIQ-AJ"
   },
   "outputs": [],
   "source": [
    "np.save(\"arr.npy\", arr1)"
   ]
  },
  {
   "cell_type": "code",
   "execution_count": 254,
   "metadata": {
    "colab": {
     "base_uri": "https://localhost:8080/"
    },
    "executionInfo": {
     "elapsed": 6,
     "status": "ok",
     "timestamp": 1702399740296,
     "user": {
      "displayName": "young bback",
      "userId": "01066130122626283768"
     },
     "user_tz": -540
    },
    "id": "Gpt-OJ5oQ99g",
    "outputId": "a0e5795b-11a7-4594-89d3-9dd46bc14e73"
   },
   "outputs": [
    {
     "data": {
      "text/plain": [
       "array([[1, 2],\n",
       "       [3, 4],\n",
       "       [5, 6]])"
      ]
     },
     "execution_count": 254,
     "metadata": {},
     "output_type": "execute_result"
    }
   ],
   "source": [
    "arr = np.load(\"arr.npy\")\n",
    "arr"
   ]
  },
  {
   "cell_type": "markdown",
   "metadata": {
    "id": "1LAnl81_aa7Y"
   },
   "source": [
    "- numpy 배열 복사하기\n",
    "    - 기본적으로 깊은 복사를 한다."
   ]
  },
  {
   "cell_type": "code",
   "execution_count": 255,
   "metadata": {
    "colab": {
     "base_uri": "https://localhost:8080/"
    },
    "executionInfo": {
     "elapsed": 5,
     "status": "ok",
     "timestamp": 1702399740296,
     "user": {
      "displayName": "young bback",
      "userId": "01066130122626283768"
     },
     "user_tz": -540
    },
    "id": "8OBQGQzLaXtd",
    "outputId": "c39f5aea-30ef-40d6-a52d-7f7fb8c79744"
   },
   "outputs": [
    {
     "data": {
      "text/plain": [
       "array([[1, 2],\n",
       "       [3, 4],\n",
       "       [5, 6]])"
      ]
     },
     "execution_count": 255,
     "metadata": {},
     "output_type": "execute_result"
    }
   ],
   "source": [
    "arr_cp = arr.copy()\n",
    "arr_cp"
   ]
  },
  {
   "cell_type": "markdown",
   "metadata": {
    "id": "ypWF6J3PWaR8"
   },
   "source": [
    "# 얕은 복사(shallow copy) 와 깊은 복사(deep copy)"
   ]
  },
  {
   "cell_type": "markdown",
   "metadata": {
    "id": "IXEqH-L2Xb8v"
   },
   "source": [
    "![1.png](data:image/png;base64,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)"
   ]
  },
  {
   "cell_type": "code",
   "execution_count": 256,
   "metadata": {
    "colab": {
     "base_uri": "https://localhost:8080/"
    },
    "executionInfo": {
     "elapsed": 3,
     "status": "ok",
     "timestamp": 1702399797755,
     "user": {
      "displayName": "young bback",
      "userId": "01066130122626283768"
     },
     "user_tz": -540
    },
    "id": "Unez8zaEXegv",
    "outputId": "310c209d-4af1-41dc-d78c-5fb665e65494"
   },
   "outputs": [
    {
     "data": {
      "text/plain": [
       "[1, 2, 3, 5]"
      ]
     },
     "execution_count": 256,
     "metadata": {},
     "output_type": "execute_result"
    }
   ],
   "source": [
    "a = [1,2,3] # 원본\n",
    "b = a\n",
    "b.append(5)\n",
    "b"
   ]
  },
  {
   "cell_type": "code",
   "execution_count": 257,
   "metadata": {
    "colab": {
     "base_uri": "https://localhost:8080/"
    },
    "executionInfo": {
     "elapsed": 14,
     "status": "ok",
     "timestamp": 1702399798216,
     "user": {
      "displayName": "young bback",
      "userId": "01066130122626283768"
     },
     "user_tz": -540
    },
    "id": "lTB2N-XuYEWX",
    "outputId": "8b8e920a-0912-400c-8d39-0a31f07d09c4"
   },
   "outputs": [
    {
     "data": {
      "text/plain": [
       "[1, 2, 3, 5]"
      ]
     },
     "execution_count": 257,
     "metadata": {},
     "output_type": "execute_result"
    }
   ],
   "source": [
    "a"
   ]
  },
  {
   "cell_type": "markdown",
   "metadata": {
    "id": "5YdmcD_sXe6q"
   },
   "source": [
    "![2.png](data:image/png;base64,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)"
   ]
  },
  {
   "cell_type": "code",
   "execution_count": 258,
   "metadata": {
    "colab": {
     "base_uri": "https://localhost:8080/"
    },
    "executionInfo": {
     "elapsed": 13,
     "status": "ok",
     "timestamp": 1702399798216,
     "user": {
      "displayName": "young bback",
      "userId": "01066130122626283768"
     },
     "user_tz": -540
    },
    "id": "QGpQXJ93XeZR",
    "outputId": "88edb27e-5687-4ce4-bddd-fe06226f552a"
   },
   "outputs": [
    {
     "data": {
      "text/plain": [
       "[1, 2, 3, 5]"
      ]
     },
     "execution_count": 258,
     "metadata": {},
     "output_type": "execute_result"
    }
   ],
   "source": [
    "a = [1,2,3]\n",
    "b = a[:]\n",
    "\n",
    "b.append(5)\n",
    "b"
   ]
  },
  {
   "cell_type": "code",
   "execution_count": 259,
   "metadata": {
    "colab": {
     "base_uri": "https://localhost:8080/"
    },
    "executionInfo": {
     "elapsed": 10,
     "status": "ok",
     "timestamp": 1702399798216,
     "user": {
      "displayName": "young bback",
      "userId": "01066130122626283768"
     },
     "user_tz": -540
    },
    "id": "Qv15YIlhYcdb",
    "outputId": "9b2efde2-c66f-4b6f-f7a8-e43635790170"
   },
   "outputs": [
    {
     "data": {
      "text/plain": [
       "[1, 2, 3]"
      ]
     },
     "execution_count": 259,
     "metadata": {},
     "output_type": "execute_result"
    }
   ],
   "source": [
    "a"
   ]
  },
  {
   "cell_type": "markdown",
   "metadata": {
    "id": "SXq1PkJrXguN"
   },
   "source": [
    "![3.png](data:image/png;base64,iVBORw0KGgoAAAANSUhEUgAAAuUAAAI5CAIAAACJpNP9AAAAAXNSR0IArs4c6QAAAARnQU1BAACxjwv8YQUAAAAJcEhZcwAADsMAAA7DAcdvqGQAAIGqSURBVHhe7Z0JWFXX1f7N0LT/NEmTr4lfm+Rr0rRJm7RJmjbN0DRN2jRNmnlwHoJDjBqjJjFGiTE4gAiIoCiKijgLKiIOICogCE6oOKCIKCAOoIiIgMjof927tsfLORfuuSPn3Pv+nvfxuWvtfXBd2Nz9cs4++3S4BgAAAACgbeBXAAAAAKB14FcAAAAAoHXgVwAAAACgdeBXAAAAAKB14FcAAAAAoHXgVwAAAACgdeBXAAAAAKB14FcAAAAAoHXgVwAAAACgdeBXAAAAAKB14FcAAAAAoHXgVwAAAACgdeBXAAAAAKB14FcAAAAAoHXgVwAAAACgdeBXAAAAAKB14FcAAAAAoHXgVwAAAACgdeBXAAAAAKB14FcAAAAAoHXgVwAAAACgdeBXAAAAAKB14FcAAAAAoHXgVwAAAACgdRzjV5atSyAVl12BoHaXGJQAAADcCPgVyN0kBiUAAAA3An4FcjeJQQkAAMCNgF+B3E1iUAIAAHAj4Fcgd5MYlAAAANwI+BXI3SQGJQAAADcCfgVyN4lBCQAAwI2AX4HcTWJQAgAAcCPgVyB3kxiUAAAA3Aj4FcjdJAYlAAAANwJ+BXI3iUEJAADAjYBfgdxNYlACAABwI+BXIHeTGJQAAADcCPgVyN0kBiUAAAA3An4FcjeJQQkAAMCNgF+B3E1iUAIAAHAjtOJXis5VnzxfI0tCkA0SgxIAAIAb0c5+Zemq9Z99Pvy5F17qYOTR3z3+1rsfREQtLyi5LOvZqVuvDz7uKunz4d/IOtij+I1p9DW79exjmnSsnFq/TLHrk19+9bV77+tI39Inn3qG3teaxK2yPm4sMSgBsI+EhITY2Njy8nIRq2bfvn104OHDh0UMAHAE7eZXTp6vGTF6LNsUJW++/Z6sv2i4Dk3Gsg72aPb8ZfxlZXkHir++hGPrN1Xqjv3i/zAhalmsrJsbSwxKAOyjsxEbbMf48ePpwMjISBHbB321vn37zps3T8SOo66u7ujRo8ePHxcxANqm3fxKrz6f8lT6q4d//f14/+i4xDWJW2fOXfRRlx6UDJk5T9Z/xpyF02bNJ3Xu3ps66M6vOLV+U332+XB+L74BoSnbs5esWDtxcsix4nJZNzeWGJSgPfCJSeszM37N7qMV1bUipVs04leGDBlCX83Pz0/EjuPUqVPGt9i5tlb3PyzgCbSPX5HOATz7/IsH8k7JWilz/MwlWVKS/5QwOlB3fkWSM+o31b/feIu+fqduvWR5z5EYlMDlFJ6r6NB5oqQ/jZzzZVRS6uEi0aw3eC5vd7+yY8eOtWvX7t27V8SOA34F6Iv28St9Ph1ktAcddh3IlzVZlA3zfdahEyRZ0lRKv7LvSNGO7DwpbFtHCs8lZ+5TGi+zcrZfefKpZ+jrf/nNd7K8RRWWVqXtOtiGU5Rk1fvN2HPEdCX1npyCg/lnpNCssnNPbss6XHSuWpZXKTEoQXsQsn7nXV6Bpq6F9UHgitANu7ILS0U/m2hqaiouLlZOrhUVFTT1UquIzaGmD3HhwgXqxv8Fz+WO9SvNzc3nzp0rKSmxWIl6ysrK2v6CDQ0N1KGqqkrE17HoV+hA+uKnT5+urKwUqTaxWAlBrfQdqKurE7ECKqaoqKimpkbEAFynHfxK3skLRm/Q4d9vvCVrUiP18z3NlP/57zt33HEn/3f04s233zPrQiS/cuJs5fAR3o/85lEO6X+hid/sxElz8OoNKV17eFEf7kzQf+EXOI0mfllnUznDr2xIzvzVw79mSZVIGRJ9z2WHkJ59/kVqCp+3hJxH3wGfS2/kpZdfVa53Uf9+p0ybTV/2vQ87J6RsZ/P06O8e35yelVt4/p33P+YDf5gYYHoI61hx+YDBw355/wPch774R116WDQ3SolBCdqJwnMVr/gsvGFWOt1wLaS7vQL7zIxfkHqAuokDWofmLS8jNMOxCWC++eabixcv0sy3cuVKahXZzp2XLFkimywpXLx4cY8ePUSPzp1Hjhx55swZ0XwdshGrV6/u3bu36NS5s7e3N7+Q/MrRo0fp/xo8eDCHEuvWraN8SEiIiFvxK+Xl5RMmTOjatSt/WcLf31+ND5g9ezZ9fXqnIjZeIaLM/v37FyxYINVMXzkuLk70uE5ycvLAgQO5A0F9qLYDBw5Q08aNG6Vj6atJcEnz5s0z/W4QFC5fvpwcjPELC9RXQmzbto2+e9yHoAPpW2S6nHnLli19+/YVzcYOdIhoA6Bd/Ar9Ec8TUmh4pKxJjVTO9wuXx9GEx/+RKZRcumq9rLPkV1586R/8wpSPOndX3mv96aChotn4NcUrI9+OGSfrbCpn+JU1iVv5v24N8gqyQ0jsPKiel199jbtJKP2K+vfr4xtISbIsps7mn6+9IZkVRmZEdu4/9vgfnhRtJpB9oQFj2tOixKAE7cqNEy2dJhgti/Hflt6FLxit2X1UHKPg+PHjPHWZTvMMTcPDhg0TgQmbN28WBxvNCjkbzpNlkWZu+mqHDh0SnYz4+flxEyGbpyW/snfvXgrpWA4lFi5cSHkfHx8Rm/MreXl5/BboXypp+PDh9Jqg/8vitRjlV1N+NyRMJ/jY2FiRNX67pKPIJ1ErmQ8OZVRUGHzkiBEjOKTvm6mHMLVlhMpKiKCgINFgNCLiVefOCQkJsg4DBgwYPXq01GfNmjXcAYB28CsxazbyVBQdlyhrUiM18/3BY6d5TqV/F0WvyT9dcezURZqDpeSh42dN+0t+hejWs0/S1l1kUFK2Zz/6u8c5uSx2g2l/0vwlq6h1gv/U7fuOUlh0rnrVus3SuYE2zgo4w6/Q/745PYtFRoG+PtkLKUMye4rI1E/Qe5k4OWT56oTRYyeSP1OeIlL/ftmvENS6++DxvgM+55CgHwGZRX49f+kq6RDSm2+/x/nJU2ccKy6nAuYsiOaf1yv/et20p0WJQQnamxYnWgyuZcKNF/zaRI8OnTlg9jpx5HVM/cqGDRtoKqW/7xMTEzlJkEvIzc1tbGwsKyvjv92HDh0qDjbekMzdUlNTOUN/zbPLoflbOhOzY8cO7jZv3jx2D/QFs7OzOWm/X6H/iGubMGGCdFHmzJkzfNaHDudMa7ThV8LDw4uKiujrnz59un///pShd8d96C1wn+Dg4Pr6eso0NzcXFhaSWQkICKCQjqJjuQ9VRf0Z49HX4uLi0tPTq6urOayrq1uwYAF3ZkPDqKmEoC/F3eiLcDH0faYfCtk19iuZmZnUSl8tKyvLeIShPPpxcFLl1Sjg9rSDX5k2az7PTDSPyprUSM18P3jo1/xfkPMwza/fnMH5L7781jQv+RUyK6ZT+74jRZz/52tvSMk2RHMw929jvxNn+BVTscfy/sFXlldK8isvvvSPwwWlslY1Mvt+Jb+ycu0mCsnqcTh42AgKC0ouczhl2mzpELI+nKSxISVJ4fOWcF55SqwNiUEJ2oPq2vqTZZf2nijZdODEsm05YYm735y49LbukwymxGBTWngUccblevLn/aaIr3Idya+YzpEE//E9Y8YMERtJTk6mpKmf4DMls2fPFrGRkpISw1fs3DkjI4MzbCbIFnAowd3s9ytbt26lkGq+evUqZxia4ymvvMAkozW/kpaWJmIjbOOk8qS3ScaLMxLSNR2r1tuSgeDOpl9QTSUEn6FR3uJE/+/FixfpBVuc9evXc565dOkSJYmdO3eKFPBs2sGvfD/enych2RrYk+drTGXaZCo18z3/Xf72ex/J8qT//Pcd5eGSX1HuU/dJv8+4yewpCpmkpTkz5y6SNUnSml+h/mZXt6iR2fcrXQ/icFPabu6TumM/Z/iszDi/IA5JfA6G8lJGEhf51cgxsnwbEoMSOIHT5Zf3nDi7Mft4VOr+wPjto5cme82I/6/vsmdHzfvV4Gm39/S/4UVak+mZFROzQvr9l+Hiv7mO5Feam5tFysioUaMoKTszceTIEe7MJwmqqqo4VO4vwhc7Fi9eTK9p8uZuvKrDFM7b71f4PMHw4cNTWkJ+y+wXlNGaX5EVTHVSkmA7Qt8xtmsDBgzYvHmz2VMUbfsV8ojkPEJCQui7PXDgQOkymemFHjWV1NTUcEg/IO4gg/537rBmzRrxrbkOn4KKjY0VXYFn0w5+JTA03DB9dehgui7hg4+7clLiSOE5qdVUFuf7nBMl/BVkf6yzQsMjufVoUZmUlPyKlJEkNWXltHqHEbmr/UeLU7Znr96Qwp2Dp0fI+kjSml+ZPHWGLG9Rbb9f9iuP/OZRDqXlSum7DnGGlzNTNw5J/3ztDcqQyzTdAphlPLTDex92ljpblBiUwBpqrtafulB5oOhcSk5R7M7cOZv3TY7LJDvSa3rc6xOX/PHr2ff2myIZi7b1ywEhT46Y/eq4RZ2CVw2M2PDprPUPDAw1NLW4DNTikhCZHrPLb1vzK2PHjqWkzK+cOHGCO7NfycvL4/Dy5cvcQSIgIIDyvIzj5MmT3O3ChQvcKsF5+/0KNRm+UOu0cbMModKvFBQUGL+YcAlEdHQ0ZxgvL6+wsLCysjJuJdrwK6mpqdykxKJfkVUi/SAuXbrEHWRIP+XWMH3vwJNpB7+ycHkcT0Kx65OlpDQzSciWmEiyON9vTN3JX2HVus2yJtLKtZu41fRqVBt+RVrKun5Lhqwpt/A8TfYvvfwqn84xRUd+xfS6TNtS+X5t8CvSOpjW+POzz0mdLUoMSmBCaUX1/sJSPi/iH5fxZVRSz2lxb/gu/fO3c/9v0LSf9DBer1Gh+/oHkxchB9Nj2mr6IpNWZ8zdsm/N7qPb807ll5RX1rS43kFkF5befWPVLevGKZaHBk/3iUlrY2e51vwKOwCZX5GmSfYrubm5HEqLMCRM/crRo0e5m9LWcN5+vzJ69GgKR40atbEVmtq8AVilXyksLKQkIfkVYufOneTtuL/E1q1bubU1v7Jv3z7ODxw4MDk5mb4yd+DLOhb9iqwS6XSL8oZqRjoxFh8fL74jLSHHI7oCz6Yd/ErS1l08CZFLkJJ7Dxdu251DGucXxK02+xUyFvwV6K9/WRNJOiVAtkZKtuFXyFRxk2y1TeqO/abTNrmEN99+r++ngzl0P7+i/v3a7Ff+/cZb0XGJZrV+s9wstiExKD2YvDMXEvblky8hU/LUiAg2BxbV8dOpj3856+UfFrw7OdprRvxXCzb5xW6LTM7esDd/74mSM+Xy6dwiZFau78VitCn07/X/6xWfheScRL/WscevSKsfaPrkDhIjR46kfFRUFL0uLy/nbidPnuRWCc7L/ArBoYRFv8LrVMg3cGgt9vgVhvxQcXFxdHQ0X9ORVsJKfkVm6SIiIijZv39/mZGyza9UVlZymJ+fzx1kkFNsuwMATDv4lQN5p4zzV4cevfvJmkgz5y7iVpv9ysFjp/krzJizUNZECotYwK05J0qkZBt+xWw9haVVPMXSFP7DxADTJp7U3cyvWPV+bfArr73+X8qoXNRsUWJQegCVNVf3nDi7YvsRsiafzlr3z3GLHho8XfIEprrbK/D3w8OpQ/fQ1V8v3BSwJpOMyNqsvB15p4+XXFSeF7EfsiPif+dzKtcrISeUkqN2x1t7/ArBsyn7EgnJoCQnJ1NIX5nDmJgY7sBIecmv0GzKGV4iKjF37lxKtuFXpNuUyB9wxhSza0dMsc2v1NXVyZb3EhkZGdyHDUpZWRmH586d4w4Mr+8JDAwU8XV4mbO1foXgZShhYWEcStA3mYvkDsHBwZw3hTwT31IEQDv4FZK0zYnythT7/QqJJ9GPuvSQ5UnvfdiZmqiDaVLyK8r7kPl5RrL+0hpSmS04duoi593Mr1j1fm3wK4O++Ir77D54XEraLDEo3Y6zF6s2HyiYsnYHTfnPe0f+T98gyQTI9ODAULImQyMTZ2/am5FbXFXb1vIIZ3DDrFzXXV6BPjFpavaIM8VOv8JbjNCcun+/OJdz5cqVMWPGUJKmXmnVyNSpU7kbLwilCZI8ytChQw1fy8SvSAt4pfuSzp8/HxISwsk2/Ao5Ep7pBwwYYHppg1xCeHi46X2/ZrHNr9B7IRNAVkn6bhD8TqkY7kPvlA/hpccEmyfeCoX+F2ljvaKiImkDPRv8irTXS2JiImcI8n/ffPMN38+8bt067rBo0SLp50I2ZceOHfRNw/1BgGkfvyItYen76WDZfTcO8SvdevbhLyLNkazkzH2c7913gGle8iv0J77pLUI7svM436vPp1KSJN3HS29ESh4tKpM2XguaNkvKy6RHv2LV+7XBr0gX6chNtnFrmEqJQalzrtQ17Dx2eu6WfcPmbyTzYXa5623d/X43PPwtv+VDIzeGbti1bs+xI6fK6hpuzE/twvCoJNMiHxo8Xc2lH7PY6Vfob3e+UZYgW/D999/z3/FEZmYm9yFoVuYk0bt3b56DJSS/Qvj7+3OS+kj3yzBt+BVC2s2F6Nu3L83TUiVDhgwRnVrBZr/CIUHvndyG9D9Ke5wQ0kZ5VBXf111RUXHo0CFOEmRupAMZG/wKveAvTtD3beTIkXxpiWC/Qs6JV/kQ9DWpYKk/Ab8CmPbxKzQn8bRKfNSlR8r2bHYtew8X8vkMom2/cscdd+acKGEpNzfbuf8Yf5Ff3v+AtO5kY+pOnqEJ2a3Ukl8hqACyNZTM2HOEZ1aCM5Kk5zU+98JLSVt3UQ1zF8b8+dnnOEmMGjPetL+p1NRvj5zhV6x6vzb4FVLXHl7c7T//fWffkSJOHjt1cVPabvq/pG5qJAalDjl2tnxB6oHBcxOeHDHbdMpn3d7T/9lR8/rOXBu8bkfyocKi8+bvtmhfsgtLpYLfD4hRf+nHLNLMJ/MrPIVLZwUY6U4f0zMKtbW1pjurEjRTmloQhv7WN/Uf1GfPnj38Ojc3V3Qy3uIrnWZgli1bRk6CXlBJotP18mTXoUpKSthmmUIzt7T6tTWUX41dQk5OjoiNSG+fXUJlZWV4eLjMapD52LRpE/dnysvLJaPA8J3P1I3/F4YOTE5OZpMh7VtDqKmEqaurI39p+jWJKVOm0LeFO9CPODExUeYCqX56F8pbt4Bn0j5+hbT74PGnn/kLT1EMX8Rh6LXp/cam4vneFLMXXyZPnSGaja6Fl18wyv6SX3n2+Rf5hSm80ZmpyG/xLbgy3nr3A/4KfT4dJDtEksr6bZYz/IpV79c2v7L/aLGpAaI+kqMl2n5cpUxiUOqBq/WNaUdOBqzJpKn9vv7B0kxPuqnzxN9+MePDoBU/xGxdteNI3pkLLads7eITkzY8KsnaSz9O5erVq3l5eQcPHmxj5qP58tSpU7t375Yt5lBCUyx1KygoMDVGKmlqaqLDqRL6v9q+jdlRkMciy0WW4vz58/S/i2xLyKPQ94d8hmlJNTU1dBS906KiIplftIeysjLyi2fOnDF1M6ZUVVVRMVSzbJNAANrNr5Dor+f+A7+Qznkw5FRGfufTxnaryvk+ZMZcWR/W6g0pvDm9BM2Ca5PSZd1Ikl8hk8QLXCRGjB4r68zKzj3Jq0QZKvvTQUMLSi736N2Pwjb2C1Ffv23iaV7mBsyKPZzKpzipf7/sV6gMDjP35hqP6MAb+ZPYr0zwn8qhJPpq3/n4mdpWhiyR7Lpe2xKDUqs0NDal5xaPX5n2is/C27r7mXqUO3pPfm384rHRWzdmH798xdWLTgAAQMu0p1+RtCenYOmq9ctXJ+w6kK9mG1mrRH+4r1y7aU3i1gN5p2RNrelYcTkfcvzMJVmTTKk79ses2ZiyPdv+VRe6kGve7+6Dx2k8LFwet35LBv34ZK0WJQallqC/TveeKAmK3/5f32VkSkw9yv8NmtYtJDYscTd1aGzSySkUAABwOZrwKxDkQIlBqQ3yS8pHLUkWG7xe1339g7uGxM7ZvO9kmRbXoAAAgAaBX4HcTWJQtiuXaq7O3Jj1nHek5FHu6D35Lb/lwet2HCg6p5eVKAAAoB3gVyB3kxiU7UFjU/ParLyPp6z8MT+RuPPEW7r6kk2JyTzc7rcZAwCAroFfgdxNYlC6lit1DSHrd/7foGnSCZU/fDUrMH57WWWN6AEAAMAO4Fcgd5MYlK7iYlWtT0zaz/uK/dz+p2/QF/MSd+eLjUEBAAA4BPgVyN0kBqXzOVN++cuopJ/2Evf7/GZIWHjSHlz3AQAAZwC/ArmbxKB0JhcuXxk2f6O0e8qfRs5Zti2nCXcjAwCA04BfgdxNYlA6h+ra+nEr0u7sHcBO5RWfhYnZx0UbAAAApwG/ArmbxKB0NPUNTdMTdv/v9V3z/zJqXuphux6OAwAAQD3wK5C7SQxKx9HcfG1J+qHfDAljp/LYsJkrdxwRbQAAAFwC/ArkbhKD0kEcKCp95tu57FR+MWDqrKQ9DY3mHxoHAADAecCvQO4mMSjtpqq2btj8jbd09SWn8rNPAnxjt12pM/9EWQAAAM4GfgVyN4lBaR/RmYfv/yyET6v0mh53Htu+AQBAuwK/ArmbxKC0lcJzFf8ct4idymPDZmYeLRYNAAAA2g/4FcjdJAal9Vytb/SJSeNH/9ze03/S6gwsVQEAAI0AvwK5m8SgtJJ9BSW//zKcT6v8x3dpcdkl0QAAAEADwK9A7iYxKK3BL3YbO5UHB4au23NMZAEAAGgG+BXI3SQGpTqOnrnw5+u3K/ecFldZc1U0AAAA0BLwK5C7SQxKFUyOy2Sn8j99g1ZsxxZwAACgXeBXIHeTGJRtcqL04rOj57FZectveRluVwYAAG0DvwK5m8SgbJ25W/bd0XsyOZX7+gdHZx4WWQAAABoGfgVyhVYYkSWdJDEozXHhcs07k6P5tMobvkspFA0AAAC0DfwK5Appwa9sPVx0n/Hpyrf39J+5MUtkAQAA6AH4FcgVal+/Ut/Q9PXCTTcZT6v88evZx86WiwYAAAA6AX4FcoXa0a+cKL1IHoWcCvmVEQs3k3cRDQAAAPQD/ArkCrWXX4lMzv5pL8PS2o6fTk05VCiyAAAA9Ab8CuQKud6vVNXWdZ66ipwK6fWJS3DHMgAA6Br4FcgVcrFf2XPi7EOfTyenclt3v+B1O3iUAgAA0C/wK5Ar5DK/cvL8lclxmT/q5kdm5ZEvwvYXlooxCgAAQM/Ar0CukGv8yv7C8r+NWcDXgHqHram5Wi8GKAAAAJ0DvwK5Qi7wK7E78u/tJ7ZXicGutQAA4F7Ar0CukFP9SuG5mqGRm27uYjit8viXs4+XXBTjEgAAgLsAvwK5Qs7zK1nHzz8zUjy5sM+M9QUl1WJQAgAAcCPgVyBXyEl+ZUnakZ99EkhO5c7eAVGpOZwUgxIAAIAbAb8CuUIO9ysFpdWDIxJ5i/1nRs7beaxUahKDEgAAgBsBvwK5Qo71K1nHzz/5dQQ5FfIrQ+ZuLDxXY9oqBiUAAAA3An4FcoUc6Feka0D39AmKzjgqayWJQQkAAMCNgF+BXCGr/Erw2t0vfLeATAmJXkxdm8X5gtLqAbMTyKmQnh0dufdEmXSIqcSgBAAA4EbAr0CukEq/cujkRTIo7EhMRcnNB07yNaCbu0wcGrmpqOU1IFOJQQkAAMCNgF/RhApKLqfvOrT3cKEsLxN1S92xP2nrrvzTFbKmNkRHbU7Poq9/8nyrc7yzpdKvvPBdlKlNMdUtXX3p37u8gpZuy5UdJZMYlAAAANwI+JX2FNmOr0d9/+RTz3Qw4aWXXw0Njzxa1OJix+oNKc8+/6LoYeTxPzw5Y85C0z6swNDwR3/3OImczdJV61986R/igA4d7rjjzj6fDjL1OhMnh3Bn34BQKWmqzL253OGjLj1kTVZJjV8JXrvb1KAo9X+Dpu3OPyc7SikxKAEAALgR8CvtpoSU7eQDhJVQ8Pnwb7jbyfM133j/ILIKuvbwOlZcLn1NkvcPvtz0y/sf4BcynnvhpcMF4u7flO3ZnKTOBSWXpS8iadjXo7nDpKDpsiarpMavtHFyhfW8d5TsELMSgxIAAIAbAb/SPiLHcO99HdkKPPKbR78f7z9/6Sq/wGmdu/fmpORX5i6M4QwxeNiIRdFrYtZslEwJQW5G+rIk0ybiyaee+ezz4WMnTH7vw84i1aHD6LETpf4vv/oaJ6kAKck6duriHXfcya1HCi2f2GhDavwK3/VjThP4BXWQHWJWYlACAABwI+BX2kcDBg9jH/DWux/ILv1s33f0nfc/Zr9y/MylXz38a+65dNV6024p27MlM5F16ISUl/wKHbhweZyUJ82Ys5Cb6EDprEzk4pWc/Odrb0g9WWERC7jp00FDZU3Wyka/0qlFCL8CAAAeC/xKO+hg/hn2AURra2xPnK2kf6WTK2+/95FpK2vE6LHcSi+kpORXYtdtkZKSpEUwy1eLn1dByWXpTE/6rkNST9Kfn32O82m7DprmbZAav2LmelBLv0IdZIeYlRiUAAAA3Aj4lXZQ/MY09gG9+w6QNck0euxE7hm1LFbWRMrcm8utH3zcVUre8Cvrk6WkJN+AUG4NmTFXSkr/y+BhI6TkhuRMTr72+n+lpM1S41csrrelDrJDzEoMSgAAAG4E/Eo7KDQ8kq3A+EnBsiaZuvXswz03pZmZqk+creTWJ596Rkq27VfmL1nFraarXvYeLuTkHXfcmXfyAid79O7HyUXRa6SeNkuNXyG1seRW5ckVkhiUAAAA3Aj4lXbQyO982AqEz1sia5JJWgyblXNjhYqpuPXe+zpKmbb9ytJV67nV9FQKqVO3XpwPmTmPwoPHTnP4q4d/XXSu2rSnbVLpV4z7xZmxLJSkJlnn1iQGJQAAADcCfqUdFDRtFrsBizcJf9SlB/dMztwnayIVlFzm1kd/97iUbNuvkEPi1omTQ0zzaxK3cv7pZ/5CoY9vIIeybjZLpV9hGffjj/qZ2I8/SuVlIEliUAIAAHAj4FfaQavWbWY3MOiLr2RNMkk7ryxZsVbWRNp98Di3mq7GbduvjBoznluVX1Dati5+Y5p0U9Kh42dl3WyTVX7FTolBCQAAwI2AX2kHZeWcYDdwxx135hael7WaSroDuXP33rIm0ji/IG4dMnyklGzDrxw/c0naRG77PvmTjYOnR3CTdJt0308Hy/rYLPgVAAAA9gC/0j6SFqZ8OmhoYWmVadOJs5U/TAz4dsw4ep1zokRyDwkp20277T1cKN2HbHq1qDW/UnSummwNN73z/semTay8kxek/4sxexHKNsGvAAAAsAf4lfZR2q6DwhR06PDKv16fsyB6Y+rOtUnpYydM5msx0v62k6fO4G6E/5QwOnD7vqOz5y+TzIrsLIjkV6gDGZS5C2Ni1mwMDA2XHBKhPLnCGjxshOhhrErWao/gVwAAANgD/Eq7Sbr+YhbJrxSUXP7g464iq+DZ5188kHdK+pokya+0Rhs3JaXvOiQ6tbLji82CXwEAAGAP8CvtqYw9R/7z33eEQbjOL+9/YPT3E0y32CeFzJwnu1hDfD3qe+VDCiW/8t6HnWWPPHz51ddSd+yX9TeVtPEuHSi7SmWn4FcAABrnypUrq1evjo2NbWpqEimgJeBX2l/kDLZlHV6TuJW093DhyfM1sg4syu/IzotaFjtnQTTZDrOPUyaZrl8pOle9++Dx+I1pCSnbj5+5JOup1Hc+fnysj6+qJ/WoF/wKAEDjFBYWdjZSX1/PmZiYmL59+44YMYJDNVRUVBw9evTMmTMiBo4DfsXd1Np6W4siQyOtiTmYf0bWaqfgVwAAGkfpVyIiIijs0aMHh2rYsGEDHTJkyBARA8cBv+JustmvSE9jtvhUIxsEvwIA0DhKv5Kfn7927dqkpCQO1QC/4jzgV9xNNvuVx//wJB9o9llFdgp+BQCgcZR+pQ0aGhpKSkqqqqpEfB34FecBv+Juss2vxKzZyEe9+NI/ZE0OEfwKAEDjKP1KWlqal5fX+PHjOWSSk5MHDhzIPYmuXbtShwMHDlBTQEAAhZynA5lRo0bxgcBO4FfcTcmZ+2ZFLiVl556UNbWhLdv28FFt30Bks+BXAAAaR+lX4uPjKRw2bBiHRGxsLPchyLVI7sTf359ax44dy6EpAwYM4GOBncCvQK4Q/AoAQONY9CuNjY3cITg4mPs0NzfTUWRWAgICKGxqalq3bh11GDJkCHVmcHe0o4BfgVwh+BUAgMax6FdKSkq4Q3Z2NmckGhoa+AXWrzgP+BXIFYJfAQBoHIt+pbm5uXfv3pQZMGDA5s2bKysrOW8K/IrzgF+BXCH4FQCAxlGzfiU6Opr7MF5eXmFhYWVlZaIZfsWZwK9ArhD7FduQfSmLEoMSAACsQY1fIXbu3Dl27FhppS2zdetWboVfcR7wK5ArJKyHTci+lEWJQQkAANag0q8wTU1NxcXF0dHRfIVI6sN+ZfDgwRwCBwK/ArmbxKAEAABrsOhX6urqrl69yq8lMjIy+Kjq6moKk5OT6bWXlxe3AgcCvwK5m8SgBAAAa7DoV44cOdKjR4+EhITGxkbOEFOnTqU+ZFD4FqGcnBzj1+h86NAh7lBbW8svgJ3Ar0DuJjEoAQDAGtT4Fe5AUNLb25vsC4dZWVncp66ujrwLJwcOHNi/f3/sF+co4Fcgd5MYlAAAYA2SX5E2U2G/Mnz4cA4rKyvDw8Mlj8KQO9m0aRN3YHJzc/v27SuasZbFccCvQK6QbStnbZMYlAAA4BwqKirIlOTk5Jw/f97s9rXNzc3UlJeXV1JSgv1tHQX8CuQKwa8AAACwB/gVyBWCXwEAAGAP8CuQKwS/AgAAwB7gVyBXCH4FAACAPcCvQK4Q/AoAAAB7gF+BXCH4FQAAAPYAvwK5QvArAAAA7AF+BXKF4FcAAFqG93a71rRdF9JXtUJ2A78CuULwKwAALaMvB6CvaoXsBn4FcoXgVwAAWkZfDkBf1QrZDfwK5ArBrwAAtIy+HIC+qhWyG/gVyBWCXwEAaBl9OQB9VStkN/ArkCsEvwIA0DL6cgD6qlbIbuBXIFcIfgUAoGX05QD0Va2Q3cCvQK4Q/AoAQMvoywHoq1ohu4FfgVwhq/xK8NrdL3y34GefBJLoxdS1WbIObUsMSgAAUI2+HIC+qhWyG/gVyBVS6VcOnbxIBqVD54kyUZKaZJ1bkxiUAACgGmsdQEPDtuamTFnSZbK2Wk3IbuBXIKHC0qrs3JMp27O3ZOzNyjlx8nyNrIM9UulXXvguSuZUJJFlkXVuTWJQAgCAalQ6gCtXti5fHubn5zNq1Chv79HTp/vv3r1c1scFUlmtqaKjwyZPHl9SkijLu052A7/i6SJf0q1nn0d/93gHBf0HfpG+65Csv21S41eC1+6WeRSZqIPsELMSgxIAAFSjxgFcqkxmpyIjIWGerKezpaZaU+Xnx3Opx4/Hy5pcJ7uBX/F0FZZWCXvSClu27ZEdYoPU+JU2Tq6wqIPsELMSgxIAAFSjxgEsXhzKs35OTmx9/baKii3Ll4dxprh4g6yzU6WmWtL580mzIwJ9fW94LPgV+BUdi/3KHXfc2aN3P7/AafOXrIpaFjt+UvDjf3iS/cqvHv617BAbpMav/OyTQJlB6dCpRUgdZIeYlRiUAACgGosOoLY2jaf8XbuWScmmpozAwAmUjImZISVdIIvVsgoK1nLNEvAr8Cv61sbUneRaZMm8kxeefuYvbFmyDp2QtVorG/1KS8GvAACchEUHsGdPNE/5ZFxM80lJkZT09h5tmnS2LFbLam7KbGjYxuLi4VfgV9xTY8ZNYr+ydNV6WZO1UuNXzFwPks6vGF/gehAAwElYdACbNs2n+d7Pz0eWJwfAVqCuLl3W5DxZrFYpLhJ+BX7FHZSx50jQtFmDvvjqg4+7vvjSPx793eN33HEn+5VZkUtlna2VGr/iE7NNuBOZOk3gF7/9YubOvHOyo5QSgxIAAFRj0QHExobTfB8aOkmWLynZyFbgwoVNsibnyWK1SnGR8CvwK/pW5t7cZ59/ka2JWVzjVw6dvPjEV7Nv2JSWurmrL/17l1dgyHoL63/FoAQAANVYdABRUVNpvp81O0CWv3hxC1uBgoK1sibnyWK1SnGR8CvwKzpWzJqN0nkU4tHfPf7O+x8P+3r0OL8gesFJ1/gVknG/ODN3CVEy+eCpV30Wc/j37xfuPFYqO1aSGJQAAKAaiw5g7rwpNN9HzAmS5SsqJL+yTtbkPFmsVikuEn4FfkXHeu6Fl9iUvPn2e6k79ps2zZizkJtc5ldYxv34o34m9uOPMt12JSxh3z1eQWRZftprsv/qnSfP3zhKkhiUAACgGosOIDracOtyWJi/LF9aKq4H0QtZk/NksVqluEj4FfgVvSq38Dw7kjvuuPPE2UpZa3v5lbaVXVj+jn8Mn2h5dlRk5tESWQcxKAEAQDUWHUBCwjya76dMmSjLFxWtYytQU7NV1uQ8WaxWKS4SfgV+Ra9atW4zO5K33/tI1kTSpl9hRSYfvLdfMFmWn/Tw94nZVnTuxtMDxKAEAADVWHQAmZlLaL739h7d1JRhms/IMOQJ06SzZbFapbhI+BX4Fb0qbddBdiREbuF506aElO3S/isa9CuknJMVnabE8omWP42cm5JzmvNiUAIAgGosOoDy8s1mp/w5c4MoqVyH61RZrFYps8W7VHYDv+LRKiytkhbbPvv8i2MnTF6+OmFS0PQPPu7KSUabfoW1dFtux0+nkmW5rdukbxenFpRWi0EJAACqUeMApk/3pyl/woSxV66ISz/SJnKHDq2SurlAaqqVieuEX4Ff0bHmLIgWrqR1tOxXSLmnKntMW3OT8UTL41/Ozik+L8YlAACoQ40DOHHixvb2U6f6jR8/ll+Hhk6SXSRyttRUSzp9OsHX14fFpfr4fM/hvn0xss5Ol93Ar0CGdSqmtzQTj/zm0dDwyPB5SzgkTyM7xFo51a+wYjLzHhw4jSzLj7r5+cSk1Tc0idEJAACWUOkAios3SDaFWbQotLHRpWaFpLLaoqL1okoFmZlLZJ2dLruBX4EMOlpUtiZxa1jEgoXL47Zk7JW12i8X+BXSsbOX+85czydanvhq1p4TZ8UABQCANlHpAFhVVSm5uavJu7jeqbCsqlYrshv4FcgVco1fYWXkFv/2ixlkWW7t6uu9NKWuoVEMUwAAuE7huQrxyoi+HIC+qhWyG/gVyBVypV+hAVlb1zBy8ZZbjFv4PzZs5s5jp3mgAgAA4bsyvUOnCXf1mrxhTz5n9OUA9FWtkN3Ar0CukIv9CrPnxFkyK2RZbu4y8ZtFm8nEiAYAgKdSUV37QeCKDp3FU1RnJ+3hvL4cgL6qFbIb+BXIFWoXv0LUNTSOWZ56q/FEy2+/mIETLQB4MtmFpQ9/Pr1DJ4NTYfnEpHGTvhyAvqoVshv4FcgVai+/wuwvLH3iq1n02XRzl4lfLdh0BSdaAPA8olL3SzbFKMMpFvgV18lu4FcgV6h9/QpR39BEH0w/6uZHn1APfT49I7dYNAAA3J2K6to+M+MNHqXTBIMML4yCX3Gl7AZ+BXKF2t2vMPsLS5/6JoI+pG7qPHHY/I040QKA25NdWPqnkXP4t/66WbluWeBXXCm7gV+BXCGN+BWiobHJN3bbbd1xogUA9ycqdf9dXoHCo7BNgV9pL9kN/ArkCmnHrzA5xedxogUA98ZrhvEaEFuTG2bF+O/1F/ArrpPdwK9ArhD7FduQfSmLEoPSEg2NTX440QKAO1J4ruLGNaDOxjMrkl+RBL/iYtkN/ArkCgnrYROyL2VRYlCqw/REy/CoJJxoAUDvxO06erd0DcjUrEj/8ikW47+v+Czko/TlAPRVrZDdwK9A7iYxKFWDEy0AuA30V4fBi7BMbQq/II9i+Jfz8Cuuld3Ar0DuJjEorcT0RMtXCzZhM1wA9EVFdS1fAzLVLweEiNd8TuWGxFkW+BXXyW7gVyB3kxiU1tPQ2DRxVTrv0YLNcAHQF+I+IKPotdeM+LQjJw272bI7ud5046QL/IqLZTfwK5C7SQxKW8kpPi9thjtqSTIe7wyALhgelcQ2JW7XUc68HxAjPIpwKmxTJO9ieOFsv3L16taysoT6+nRZ3k45qVrnym7gVyBXyLaVs7ZJDEo7qG9oGhu9lZ869NiwmXtOnBUNAACtUlFdK14Zke2+//GUVZJTubtPkOGFMXSGX9m5c+7YsX1fffXPHTve0+E6jzzywHffeRUVrZZ1tk0OrNasLl7c6OX1Vpcur/Xr946syXbZDfwK5Arpy68w+wtL+fHOZFy+X55KJkY0AAC0TXZhqXR56Efd/VJyikjCr3Sa8M6kaG4iOdyvLFr0g3AorZCcPF12iA1yVLVmVVeX9q9//YWrvfPO22Wttstu4FcgV0iPfoWoa2gcvTT5FuOJlie+mpVTfF40AAA0zNPGtfOkH3XzKyi9SBmjXzF6lE4T4nYdfWgwr2uZeLdXIB/iKAcQGfmdNNPTrP/VV90mTvysT5+3Ocnk56+QHWWtHFWtWfXv/64oFH4F8kDp1K8wu/PPPDp0Bn203dbdzz8uo6mpWTQAADRJeFLWTV0MC1aWZ+Rw5kpdPRsUUkV1reltz9zBUQ6A/ErHjvfMmDGipibFNF9Ssu6xx37FJmDWrJGmTTbIUdUq5e8/mItk4Fcgj5Ou/QpRW9cwbP5G416ZE//87dz8knLRAADQHoad+DtNeMtvuYivXYvdmcvu5OlvIigsPFfBIYk7OMoBXLq0qa4uTZZkSade+vR5W9ZkrRxVrUwrVvhyhf9968UHH+xIL+BXII+T3v0Ks/Vw0a+Mp5Fv7+k/c2OWyAIAtMSWgwX0S/rTXpPPXaoWqWvXPglbY3AnnSYMj0rijHTNiEMnOQBTLV4slraMHNlT1mStnFHtjh1zuLwnnvh1ZeXmRx55gF7Dr0AeJ/fwK0RVbV2/8LX8Mfev8YtLKqpEAwBAA9Bv6P2fhdKv55zN+0Tq2rXGpqY7PwngX1vpbmfpBiIOneEATFVfny4tYk1KCpG1WiuHV3v8xAqyJlRbx473FBfHUQZ+BfJQuY1fYdZm5d3XP5g+6e7pEyRdIAcAtDtDIzfSL+ZL3y8QsZHUw0WU5CtB0m3P9IIyXjPiOXS4A5BUW5uakTH7jTeeN3qVDr17vynrYIMcW+3FixultTV790ZxEn4F8lC5mV8hLlyueWeyuCvyw6AVsr0fAACuZ1f+afp9/EkP/6LzFSJl5Evj6lrpUcxmcawDYM2YMYJPWjC8Dtche8c5sFrTu5fXrg2U8vArkIfK/fwKE5W6/87ehvPMvxgQkp57UmQBAC6nobHpt18Y7uMLjJdPjQ8Zd+XfV1AiYnM40AFImjy5xb02/33rRVNDYI8cVW1zU2a/fu9weaGhX5o2wa9AHip39SsE/SX34pgo+jS8pavvuBVpuNsZgHZh/Mo0+jV8+ps5jU0ttnY8ePIc/0Uh4lZwlAMwVUpK2KhRvQYN+vD1159jT0B07vyvxsZtsp7WylHV+vkN5Kq++KKTrAl+BfJQubFfYfzjMugzkfTyDwtOl18WWQCAS8gvKac/GG7u4nv4lHxTx4mr0ukXc2hkoohbwVEOoDUVF8c98cSv2RxMmTJU1mqtHFItlcT1vP323xoa5Fep4FcgD5Xb+xWC/oz7/Zfh9Ml4T5+ghH35IgsAcD7PeUfSr963i7eI2IRnR82jpi0HC0TcCg5xAG3rwIFF7A+eeuq3siZr5ZBqj59YwfV07HgPeSmZuIngsEuX12SHWy27gV/xdAVNm/X58G++8f5BlnesPMGvMHx7AumrBZtECgDgTGZv2ku/cQ99Pl35NPWzFy9T052fBMguEilxiANoW42N24QF6NDh6tWtslar5JBqJb+ihr/+9XHZ4VbLbuBXPF2v/Ot1Ho5F56plTQ6U5/gVIj4r7w7jIty/jo48WXZJZAEATqC0oupnnxgebbj1cJFImTBzYxY19Zi2WsSt4xAH0LYaGtL5w5aQ7dZvrRxSbXn5xh9+6NeapDubOIyM/E52uNWyG/gVTxf8ijMoOFfxp5Fz6IOSPknJvogsAMDRdA5eRb9ovabHibgl/5m4lFpjMg+LuHUc4gDaVlZWJH/YPvbYr2RN1soF1WL9CqQ5adCvBK/d/cJ3C2imJ9GLqWuzZB3alhiU7U1dQyPv+kAaHpWkPFMNALCTTQdO8F8FFy7XiJQJlTVXb+7i+6Nuflfq6kWqdRzlAF5++enFi39QPkLo0qVNTz31W/6wHTToQ1mrtXJUtW0IfgXSnDTlVw6dvEgGhed4U1GSmmSdW5MYlNogPiuPT1b/aeScgnMt9rACANgDuRDeej8qdb9ItSQ68zC1vum3TMRt4igHwB+nHTveM3Jkz6ioMZmZESkpYYGBQ6TLK/TizJl42VHWylHVtiH4FUhzUvqV3MLz67dk7D1cKPWxXyr9ygvfGTYyMSuyLLLOrUkMSs1wsuzSX0cbbl64o3fAyh1HRBYAYB9fL9xEv1Z/91koYgXdQ1dTh/CkPSJuE0c5AP44bYOEhGDZITbIUdW2IfgVSHOS/MrxM5fGTwp+9HePc0j88v4HAkPDZf1tkxq/Erx2N1uT1kQdZIeYlRiUWqKhsembRZtvMr6LIXMTrtbj2hAAdnHo5Lmbu/je1n1Sa6ctpWccnr2oaj8kRzmANWsmd+nymvgMbUmfPm+fPbtW1t82OaraNsS3NMOvQBqS5FeefOoZfiFj8LARskNskBq/0sbJFRZ1kB1iVmJQao+Effn39AmiN/LUNxEqP0MBAEqam5v//O1c+lVq45FAmw8UUIe/jJorYks41gE0NKQXF8dlZkasWOEbHx+Qk7PkypVUWR975NhqXSS7gV/xdEl+haHwq2/HfDtm3Isv/UOkOnRYt2mb7Chrpcav8DoPhXyl19RBdohZiUGpSU5dqCSzQu/l3n7BO/JOiSwAwBr4LuWHP59+tb5BpBQMjUykPhNWpovYEvpyAPqqVshu4Fc8XZJfoRcp27OlfNG56j6fDuKmt9/7SMrbJlv8SieT10a5gV8h6BP2w6AV9HZ+1M1v9qa9IgsAUEdZZQ3vb5SSY2bDFYlfDAihPgeKzonYEvpyAPqqVshu4Fc8XZJfKSytkjXlnCjhJiL/dIWs1Sqp8Stmrge1tCx6vx5kSlD89lu6Gk4d9Zq+pqHRws6bAACJ3mFr6BenW0isiM2RXVhKfSw+49AUfTkAfVUrZDfwK54uya+YvZ/5rXc/4NZtWYdlTVZJjV9x4/W2Zkk+VHiXl+GU0vPfzT9fWS2yAIDWyTxaTL8yd/QOKKmoEilzjFtheFbzsPkbRawCfTkAfVUrZDfwK56utv3KgMHDuDV23RZZk1VS41dIbSy5vadP0MnzNbL+ZiUGpR4oOl/xxFez6N3RH4L7C0tFFgBgjsampseGzaTfl5D1O0WqFZ4x7i5NfxKIWAX6cgD6qlbIbuBXPF1t+5Uvv/mOWxcuj5M1WSWVfsW4X5wZy3JrNz/6d/DcJFl/sxKDUidcqat/2385vbvbuk+KzswRWQCAgsD47fSb8sevZ7f98EL1zzg0RV8OQF/VCtkN/Iqnq22/0vfTwdy6ITlT1mSVVPoVlnE//qifif34oyhcl1VA0zl9BoVu2CPrrJQYlLrCL3bbzV0MzuzrhZuamppFFgBwndPllT/p4U+/I1nHz4hUK8xIVPuMQ1P05QD0Va2Q3cCveLra9iv/fuMtbj1cUCprskpW+RWzCk/Kps+gW7v6xe7MlzXJJAal3tiYfZy3t3rTb1ltXat3aQLgmfx7whL67egXvlbErfP6RENPNc84NEVfDkBf1QrZDfyKp6sNv5J16AQ33XtfR1mTtbLfr5CGRW6mj6GffRK481hb5kkMSh1y9MyFBwYanofyl1Hzyqt0/EYAcCzr9hyj34u7vAIrqmtFqhX4GYckNc84NEVfDkBf1QrZDfyKp6s1v1JQcrlTt17cNPr7CaZNNsghfuXk+Zp/T1hGH1uPDp2Ze+qSrFWSGJT6pKSiilfgPvJF2PGSiyILgAfT1NT8qLpltgQ/4/A/E5eKWDX6cgD6qlbIbuBXPF2SX3nt9f9OmzU/IWV7cua+uQtjnnvhJc7/8v4H8k5ekB1lrRziV0jHzlQ+8dVs+jz6xw+Lis6Zv11IDErdcvnK1dcmLKb3eE+fIIuX6gFweyKTDdeCH/p8en2D5Qdv9ZhmeMbhjMQsEatGXw5AX9UK2Q38iqdL8itmueOOO1eu3SQ7xAY5yq+Qso6f/9/+U+kjqX/4BlkTSwxKPdPY1NRjWhy9xx/3mJSwL19kAfA8ausa7v/McJF06bZDItU61j7j0BR9OQB9VStkN/Arnq7//PcdtiYfdenBLySee+GlHdl5sv62yYF+hZS4r+jHxjsFAtbskjWRxKDUP98vT6X3eFOXifT3pUgB4GH4x2XQb8Efvp4t4jZJySmizn8aOUfE1qAvB6CvaoXsBn4FuqGDx06v3pAyY87CpavWH8g7JWu1R471K6TI5IP0wXRzF1/l7UJiULoF5FTIr9A7/SFmq0gB4DGUV13h8yUp6nZ++2rBJpt/WfTlAPRVrZDdwK9ArpDD/Qpp5OIU+mz62SeBGbklpnkxKN2FhH35t/c0nEzqMS3Oqv2vANA77D/UL5596PPp1H/PibMitgZ9OQB9VStkN/ArkCvkDL9CentSDH08/XrIjMPFNx7HKAalG5FdWHJvv2B6p2/5LVez5BAAN+B0eSVvbH3opKpnLB8+VUadrXrGoSn6cgD6qlbIbuBXIFfISX4l/+zlp74xPCjkb2MWFF6/H1sMSvciv6S846eGVcb/nrDkaj12kwPuT6/phiXn9K+ILTE5LpP6D4zYIGIr0ZcD0Fe1QnYDvwK5Qk7yK6Tsggu/HGC4fcBrxjrOiEHpdkiW5ZVxi6zdCwsAfXHsbDkN9Vu7+Z0urxQpS7w0xvDosQ17bbyfTl8OQF/VCtkN/ArkCjnPr5C2HDxleruQGJTuiGRZXhwTVVVbJ7IAuB1eM+JpnA+ZmyBiS1y4XEP9f9LDv87WC6b6cgD6qlbIbuBXIFfIqX6FJN0uFJ1xVAxKN0WyLM+OnldZc1VkAXAjzl68fEtXX1LR+QqRssT8lP30S/Fh0AoRW4++HIC+qhWyG/gVyBVytl8hjVps2K3kjt4BeWcuiHHppkiW5elv5lzEY4aA2/HFvEQa3r3D1ohYBeRU6BByLSK2Hn05AH1VK2Q38CuQK+QCv0Li24Ue/ny62594kCzLE1/NgmUB7kRZZc2PjLcFHTtbLlKWqGto/InxivCFyzUiZT3sAIDzEN9oO4BfgVwh1/gV6XahV8ctcvutSiTL8uSI2ZevYC0LcBNGLUmmUf1BoBVXdhL25dMhL42JErFNiEkVOA3xjbYD+BXIFWK/YhuyL9W2sgsuPDhoGn149Z+1ToxO94Usyy8HhNCbffmHBSIFgJ6pqq37aa/JNKT3WrPn2+C5CXSIf1yGiIGbAr8CuULCetiE7EtZ1OFT5/nkcOiGXWKAui9Hz1y4yyuQ3uy7k6ObmppFFgB9MnFVOg3m18YvFrE6fmF07YdPlYkYuCnwK5C7iQZkfFYefX7d1EXtY0d0za7803y9v1/4WpECQIc0NDbd0yeIRnKyNb+2+wpK6JCHPp8uYuC+wK9A7iYek/xY1zs/cf/bhQjyZ/xYRJwSB/olOvMwjeHHv5wlYnWMX5lGRw2PShIxcF/gVyB3kxiU1651Cl5FH2SecLsQMS85m94sacX2wyIFgK54xWchDeBZSXtErI5nR82jo6w6JQN0CvwK5G4Sg/Latav1Dc+ONnyWecLtQoT3UsMDq2/p6ovPbqA7jpdcpNF7e0//mqtWPGuCt7W985MAPLrcE4BfgdxNYlAaOV9Z7Tm3CxE9jY+I+3+9Ju8rKBEpAPTA0EjDHnGDVW/Az0Rs3ktHdQuJFTFwa+BXIHeTGJTXkW4XmrkxS6TcF/or85/jFtGbva9/8JnyyyILgLapuVp/5ycBNG7pt1Wk1PHOpGg6aum2QyIGbg38CuRuEoPSBL5d6OYuvp5wu1B1bd2fRho2zXvm27n1tj77DQBXMmfzPhqxfxtr3YZvdQ2NP+rmR7/XeJCWhwC/ArmbxKBsiV/sNvpApL/hCs6pfYKafjl3qfq+/sH0fvvMjBcpADTM41/OouG6OO2giNWx1vh3yCs+C0UM3B34FcjdJAalAr5d6NFhMz3hr7EdeaduNW7KMiPR/a+CAV2zI+80DdR7+gQ1NFq3ZvaziPV0YFC8Ax6kB3QB/ArkbhKDUoHp7UKesBUsP2H/5i6+Ww8XiRQA2oN30x8amShi1fC2trmnsa2tpwC/ArmbxKA0x/nKav6MGzZ/o0i5NQMjNtCbpb9csfYWaJPm5ua7jXvapucWi5Q69p4wbGv7MLa19STgVyB3kxiUrZBdWMK3Cy1I3S9S7kt9Q+Pz382nN/vMt3Ov1jeILACaIfVwEY3Pjp9OJeMiUurAtrYeiGP8CgA6Im7XUfqku7WbX3ruSZFyX6S1t91DV4sUAJqBt1350nrb8Vfjtd1NB06IGHgA8CvAE+E/zu7pE1Rcdkmk3Bdp7e3UdTtFCgAN0Nzc3PHTqTQyd+SdFil18La2t/f0x7a2HgX8CvBQ3g+MoY+8P3w9u6q2TqTcF157e1OXiVh7C7RDRm4xDcsHB00TsWoijU/L+ihopYiBZwC/AjyUK3X1vK/am37LrL12rkd47e3P+00pqagSKQDalS+jkmhMjly8RcSq+TBoBR1ILlzEwDOAXwGey9mLl+/tZ1jbMWpJski5L3UNjezP/u6z0BP8GdA+/2d8ttfeE9Y966qxqen2noYl82WVNSIFPAP4FeDR7Mo/fVv3SfTZF52ZI1LuS8G5iv/XazK9Wf+4DJECoJ04cqqMhiJZFhGrZvOBAjrwr6PniRh4DPArwNMhp0Iff+RayLuIlPuyIPUAvdlbuvruPOb+bxZomekJu2ko9p25VsSq4atI41akiRh4DPArAFwbtSSZPgHv7Rd89qL776vWPXQ1vdkHB027fAVPiQPtxnsBhgXvNjxa+dGhM+nA3flnRAw8BvgVAAz3Vb7pt4w+BP80cs6VunqRdVOqa+se/nw6vdmPpuD2CtA+0G8cX5o8d6lapNRRcK6Cjvp5vylYg+WBwK8AYKCqtu6xYYa/294PjBEp92VfQcktXX3pzUYmZ4sUAC5k5zHDMw7/+PVsEasmdMMuOtBrBh487onArwAgOFF68R7jo0wmrkoXKfdlytod9E7pb9y8MxdECgBX4Re7jYafDbvpvz5xCR24YvsREQNPAn4FgBuk5568uYvhxEPCvnyRcl9em7CY3ukfvp5d19AoUgC4hH+OW0Rjb92eYyJWR83Vevr1JF2qqRUp4EnArwDQghmJWfRJ+tNekw+dPCdSbkpZZc3P+02hN+shT6sGGuFqfcNt3Sfd0tW32sqtpfnJX6/4LBQx8DDgVwCQ88mMePpYfHDQtPIqC0971ju8lQVpy8ECkQLAyaQdOUlD7qUxUSJWzYDZ6+nAgDWZIgYeBvwKAHLqGxpf+n6B4SP1+wVu/0C1rxZsond6/2ehnvAcJaAFgtcZ1k7ZsA0/nw48dPK8iIGHAb8CgBnKq648aNwsnP6kEyk3pa6h8ZEvwuidfhbh5u8UaIRuIbE03mIyD4tYHdmFpXTULz8LETHwPOBXADDPoZPnftLD8JiSmRuzRMpN2Z1/5qYuuCoEXMSjQ2fQYDteclHE6uBbigbN2SBi4HnArwDQKry+7+Yuvum5J0XKTRkbvZXeKa4KAWdTWXOVRtrPPgkUsWpeGhNFB67NyhMx8DzgVwBoi3Er0uhT8p4+QcVll0TKHWlobHrqmwh6p25//Qu0L5sOnKBh9tr4xSJWxyWjyyHV1jWIFPA84FcAsMD7gYYHnfzh69nuvVX/kVNlP+rmR+8UV4WA85i0OoPG2LdWLrZdvSuXjrLW5QA3A34FAAuQTSGzQh+Xbr9V/+S4THqbuCoEnMeHQStojFm7Qe3guQl0FHkdEQOPBH4FAMsUl13irfrHr3Tnp9g3Nzc/O3oevU1cFQJO4sGBoTTATpRat9gWz2QGBPwKAKrwkK36j5dc/HGPSfQ2cVUIOJyyyhoaWtYutj11oZKPwjOZPRz4FQDUIm3Vf9StnxHIbxNXhYDDSdpvWGz7Dys31J+XnE1HfRS0UsTAU4FfAcAKeKv+R74Ic+8nrv1rvOFRiLgqBBzLtA27aFwNjLBuDxXeX25W0h4RA08FfgUAK6hvaPzr6Ej69HxtwuKmJrc9O33qQuVPe02mt5lyqFCkALCbQXM20KAK3bBLxOr42SeBdFR+SbmIgacCvwKAdZy7VP3Lz0LoA9SGB6DoiPCkPfQeH/58+tV67HgBHMOr4xbRoNqYfVzEKuBt+B8YGCpi4MHArwBgNXtPnL2tu2FRauzOXJFyO5qbm1/4bj69x1FLkkUKAPv4xYCpNKJOWrP1YlD8djqk/6x1IgYeDPwKALawdNsh+hi9vaf/wZPnRMrtOHrmwi1dfW/u4nvIfd8jcBnVtXX0K/Ojbn4iVscbvkvpqGgrH44I3BL4FQBsZGhkIn2S/t+gaeVVV0TK7fCJMTyO4C+j5uFWUmAnO/JO01j687dzRayCxqYmPpHp3svbgUrgVwCwEfow/bvPQvowpX/ptci6F/UNjY8NM2zVNT1ht0gBYBNRqftpIPWcFidiFaQcKqRD/jRyjoiBZwO/AoDtlFdd4bW33yzaLFJuR+bRYnqDd/QOKKmoEikArOfbxVtoIE1clS5iFXy3LMW9f7mAVcCvAGAXe06cvdX4mEA3ftJ9n5mGXWewYRewh/cCDM8NXbXDiicHPedt2DvAqvuJgBsDvwKAvUj73rrrFhEV1bU/7zeF3qN7P4sAOBW+sJhTfF7ElrhUU0v9b+7iizvqAQO/AoAD+HjKSvps/f2X4e762cqLDx4cNO1KXb1IAaCa5ubmW7oaHr/V0Kh2pVfszlzq/89xi0QMPB74FQAcQM3VejIr9PHac7oVywn1xYtjougNfuvCXfKuXLmyevXq2NjYJjddzuw5nC6/TIOn46dTRayCwXMT6BC/2G0iBh4P/AoAjuHomQu39/SnT9hwN33QCb3BW7v5kVz2uMfCwsLORurrxUmdmJiYvn37jhgxgkM1VFRUHD169MyZMyIG7cH2vFP0q/Gcd6SIVfDoUMP1o135+MEBAfwKAA5jxfYj9AlLyi4sFSn3YvTSZHp3L46JErGTUfqViIgICnv06MGhGjZs2ECHDBkyRMSgPViekUMjp3PwKhFboqSiivr/tNdkN35KF7AW+BUAHMnQyI30OXv/Z6EV1W64w9WVuvoHB02jNxiVul+knInSr+Tn569duzYpKYlDNcCvaIGANZk0bNTfmcz+5k2/ZSIGAH4FAMdS39D47Oh59FH7hu9SkXIvEvbl07v7eb8pLjBkSr/SBg0NDSUlJVVV8k1i4Fe0wBfzDJtBhyWq3XVwCBavAAXwKwA4mNPllXd5GZ6APzkuU6Tciw8CV9C7GzB7vYidhtKvpKWleXl5jR8/nkMmOTl54MCB3JPo2rUrdThw4AA1BQQEUMh5OpAZNWoUHwhcxjuTomnMqN+j6I9fz6b+aUdOihgA+BUAnEFi9nH6tL2py8SM3GKRciOKyy79pIdhZfFuJ6+FVPqV+Ph4CocNG8YhERsby30Ici2SO/H396fWsWPHcmjKgAED+FjgMp4aEUED5kCRqgdnVhmfjHhLV1/1Nz8DTwB+BQCnMGqJYWlqx0+nXrhcI1JuBC9HeHJEhFOfg2jRrzQ2NnKH4OBg7kP10FFkVgICAihsampat24ddRgyZAh1ZnB3tOu523jGUeXmPWuz8qjzyz8sEDEARuBXAHAKTU3Nfxtr2LDk1XGL3O8eh/qGxt8NN+w3o35Fgg1Y9CslJSXcITs7mzMSDQ1i4z6sX2l3yKbQULnLK1DElhhpfNLQmOWpIgbACPwKAM6itKLqf/oatrH/3h0/eTNyxXMQyyqddQLJol9pbm7u3bs3ZQYMGLB58+bKykrOmwK/0u4cOnmehspTIyJEbIkXvptP/fHYICADfgUAJ5JyqPCmLoYdWeiFSLkRvabH0VvrHbZGxI5GzfqV6Oho7sN4eXmFhYWVlZWJZvgVDbBhr+GesncnR4u4TWrrGm7p6ku/NVW1dSIFgBH4FQCcy4SV6fRh/T99p5wuN/PXv64pq6y5o3cAvTsnLStW41eInTt3jh07Vlppy2zdupVb4VfanYjNe2mQDJ6bIOI2ST5USJ3/MmquiAG4DvwKAM6lubn51XGL6CP42dHz3O9+h7DE3fTWfjc8vNEJi1hV+hWmqampuLg4OjqarxBJfdivDB48mEPgenxi0miQTFyVLuI2GbfC0PmrBZtEDMB14FcAcDoXLtfc/1moW34Kkxt70nir6pS1O0TKcVj0K3V1dVevXuXXEhkZGXxUdXU1hcnJyfTay8uLW4Hr+SxiPY2QyGT5mmizvDZ+MXVevStXxABcB34FAFewO/8MP09/ze6jIuUu0Fuj93V7T/+zFy+LlIOw6FeOHDnSo0ePhISExsZGzhBTp06lPmRQ+BahnJwc49fofOjQIe5QW+uGj0rQMrxZXMK+fBG3TkNj0497TKLO5VVXRAqA68CvAOAigtftoA/iO3oHFJ6rECl3oV/4Wnpr3UNXi9hBqPEr3IGgpLe3N9kXDrOysrhPXV0deRdODhw4sH///tgvzsX8ZdRcGh77VTwEdOex09Tz8S9niRgAE+BXAHAd7wXE0MfxM9/OdbOFLGWVNfwIAscuvJX8irSZCvuV4cOHc1hZWRkeHi55FIbcyaZNLa675ebm9u3bVzRjLYvLuf+zEBobpRWGy3NtExS/nXoOjNggYgBMgF8BwHVU1lzl5xuPWpIsUu7CzI1Z9L6ctPDWIhUVFWRKcnJyzp8/b3b72ubmZmrKy8srKSnB/rYuhgYGiX4EIm4dNvRL0sWVOwBMgV8BwKXsyDvFO7KkHi4SKbdAWnhLfyKLFADXrpVXXaFR8b/9g0XcJj/tNZk6l1TIH7INAAG/AoCrGbM8lT6UfzEg5KJ7LSp03sJboF+OnCqjUfHkiNkibp3c04aeDwwMFTEALYFfAcDVNDQ2PfOtYQXiO+p2/NQRfWcaFt52DYkVMfB4UnKKaEj8e8ISEbfOorSD1PPDoBUiBqAl8CsAtAMnSi/+P+Op77lb9omUW+DsHW+B7ojJPEzjocc0y/eODY3cSD0nrc4QMQAtgV8BoH3gvybJtZB3ESm3wKk73gLdweNheFSSiFvnee9I6rnlYIGIAWgJ/AoA7Uan4FX0Ae1mtzc7dcdboDt+iNlKg8E3dpuIW6GpqfnWbn7Us7JGvmExAAz8CgDthnR787eLt4iUW8ALb+/oHVBWWSNSwFMZNGcDDYaIzXtF3Ap7T5RQt98PDxcxAArgVwBoT9z19ubeYWvoTfWcFidi6+G93a41bdeF9FUtyzU1fzxlNo2E1bvWyPIyzd60krr1DpsrMgAogF8BoJ3hB9K62e3N9i+8dc1s6ijpq1qWa2p++YcwGgbbchNkeZn6hc+jbmGJMSIDgAL4FQDamaam5ue/m08f1m52e/PUdTvpTdm88NY1s6mjpK9qWa6p+ffDg2kY5J3ZLMvL9OSIqdRtV/5GkQFAAfwKAO1PcdmlOz8xnI2Ys9l9bm8mm0Jmhd7U9ITdImUNrplNHSV9VctyTc339jPct3/hcposb6orddtu6jLx1m6+9Q0ZIgmAAvgVADTBiu2GbSp+3GOSO93enJFbTG/KtoW3rplNHSV9VctyQc3NTZk0AEj0QtZkqvQjhjW5z44KvZEEQAH8CgBagdeo/nV0pDvtXNI1JJbeVL/wtSJWjQtmUwdKX9WyXFDzhcuGtVn39pssy8sUvG45dft87vwbSQAUwK8AoBWqauvu/yyUPrgnx2WKlP45e/Hy7T396U3tPHZapNThgtnUgdJXtSwX1Jx3ZjP96B//cqosL1O3EMOGPQtSY28kAVAAvwKAhthysIA+uH/UzS+/pFyk9A/ZL3pTT38zp7m5WaSM+MQY/vj2mhEv4pa4YDZ1oPRVLcsFNWfkJtCP+B9jp8vyMj0yZAp1O3LKZE0uAArgVwDQFv1nraPPbne6KlTf0PjbL2bQm5I9LImcCiX/NHKOiFvigtnUgdJXtSwX1Lxmt+ES54dBs2V5U1XWpFOfn/Twa5EHQAH8CgDaQroqFBjvPp/amw6coHd0d58g0z1mXvFZSEmSiFti7Wza0LCt7UWdTpW11WpBVtVM39urV9u6x8es5iUbnjgxYHakLG+qjdkGg/7PcTNa5AFQAL8CgOZwy6tC7wfE0JsaGpko4mvX7vIKpAwpJcfM3r4qZ9MrV7YuXx7m5+czatQob+/R06f77969XNbHBVJZramio8MmTx5fUpIoy7tMFmsmj5KdvSIqauqECWPp28vf4cDACfv2xai0hv5xy+jn6710sSxvKu7z1cIFLfIAKIBfAUCL9J25lj7E/zo6UrbmQ7+cLLt0W/dJN3fxPXzqPGfYrJBC1u/kjCkWZ1PSpcpkdioyEhLmyXo6W2qqNVV+fjyXevx4vKzJZbJYM3lBLlIJeURZZ7P6ZpHhFNqUtdGyvKl6TJtDfaJSV7XIA6AAfgUALXKpppavCgW50VUhflTv330W0uvswlJ6zTK75NbibEpavDiUp8+cnNj6+m0VFVtoHuVMcfEGWWenSk21pPPnk2ZHBPr63vBY2vcrISF+2dkrLlzYXF2dmpUVHRQ0kSs/dszCI4FIfWcadtmXe5GW4p1tswqu72zLAkAB/AoAGkXvV4VScorGrUgrPFch4mvXrtY3/J/xedRLtx2iVnrBMrvk1uJsWlubxhPnrl3LpGRTU0Zg4ARKxsS0XA/hZFmsllVQsJZrltCyX2lszCgqWidLnj2byJVv2HD92YSt670Aw8MO12a1+h6bmjL5eZ83drZlAaAAfgUA7dJnpuEOGp1eFfrj14a5ivRB4Io1u49ycvWuXMr8YkBIwBqx8ymLW02xOJvu2RPNEycZF9N8UlIkJb29R5smnS2L1bKamzIbGraxuHgt+5XW5OPzPVW+dKmFu5RJfx9reNhh5tFW1+gcLt5EHX47NFiWF4MAABPgVwDQLtJVoSlrd4iUfghZb3jeoaSHP5/Op1v+PWEJhS+NWWDIdyJNoBfKJbcWZ9NNm+bTrOnn5yPLkwMwOoFRdXXpsibnyWK1SnGRuvMrlZXJXHlCguXzK49/abjW08bDDpdnrKYOHwVFyPJiEABgAvwKAJpG11eFolL3SzcBSXp94pKbu/jexKHBrxheKJfcWpxNY2PDadYMDZ0ky5eUbOQJ9cKFTbIm58litUpxkbrzKxkZS7jygoK1sial/re/4WGHZZVbZXlJ3y1bTB18YpbK8mIQAGAC/AoAWof3VdPpVaHswtIblsV4KqWFrp9fUS65tTibRkVNpVlz1uwAWf7ixS3qJ1RHyWK1SnGR+vIr5eWbvb1HU9nTpsltolnxT7mNm5/fnTyLOqzaESfLi0EAgAnwKwBonUs1tff1D6aP9RmJWSKlKyqqa5/+xvCAGIM1YYNiPKdyI2Nuya3F2XTuvCk0cUbMCZLlKyokvyJfK+o8WaxWKS5SR36lujqV72waM8abvsmyVqUuGTeuvaePvyxvqoc/D6I+Zi4YAaAAfgUAHRC707BM9Y7eAWWVNSKlK8iy8H5xRl0/yyK5FqNE1+tYnE2jow23LoeFyafD0lJxPYheyJqcJ4vVKsVF6sWv1NRs9fcfRwV7e49Wea/4idIt9GP9zRdTZHlJNVe3UYdbu/k2KU/AAKAAfgUAffCmn2Eb0O6hq0WsQ4ZHJbE1kV8YMoayJbcWZ9OEhHk0fU6ZMlGWLypaZ3QCo2iKlTU5TxarVYqL1IVfuVSZzGdWyKwUFa2Xtbam3cc30o/1Oe9psrykHXmJ1OHP34bK8gYBoAB+BQB9UFx26Sc9/A3z+qFCkdIhUan7DQbFoAk3XIvxRItsya3F2TQz07Dwk2bQpqYWW3dIC0JNk86WxWqV4iK171dKSzfyDcxjx44pKbHilFXSfsODgd70C5flJc3ZvJI6eM0wtxkxAArgVwDQDZNWZ9Dn+6+HhNU3NIqUDknJKZKvwDX+K1tya3E2LS/fbHbKnzM3iJLKdbhOlcVqlTJbvCulpub8/HheYOvr63PxouU1K6Zati2Ofqw9ps2R5SUNjTTc025+t34AFMCvAKAbyKY8NmwmfcSPX5kmUvoku7D0xgrc6+dXZEtu1cym06f701Q6YcLYK1fEpR9pE7lDh9raA97hUlOtTFynlv1Kbu5qLjIkxK+qKlXa6U6SrL9MMxJX0I/1i8goWV7Sqz4zqEPSfnPLogFQAL8CgJ7IPFpMH/G3dZ90ovSiSOmTGzcNGS4MGc+1tFxya3E2JZ04cWN7+6lT/caPF48RDg2dJLtI5GypqZZ0+nSCr68Pi0v18fmew337YmSdnS2LNaekLOAiW+PIkdWyQ0w1YeVS+pn+ELNElpd0t5fh+ubZ8lRZ3iAAFMCvAKAzeJP+V8ctErGe4a1lJGUXlooGdX6FVFy8QbIpzKJFoY2NLjUrJJXVFhWtF1UqyMxsdV53kizWvHXrQlFcK7TtV4ZHGS73hG4w78Mqqg13O9/1SSv7uACgAH4FAJ1RVlnD6z9iMg+LlJ7xiUljs0IyXXJrcTY1VVVVSm7uavIurncqLKuq1YicXXPvsLn0M12UZt7T7Mo33D1k/uYgEgAK4FcA0B9zt+yjz/qOn069fOWqSOmZqNT9P+rmd2tXv4mr0kXKSr/S7tJXtSxn1/y2fziN0vV7zS/QWbrN8OSgLlMVTw5iAaAAfgUAXfLimCj6uB82f6OIdc7WwydNLwYRzp5NHSt9Vctyds0vjplGQ3R7XoIszxq/0vDYyzHLF8vyQgAogF8BQJccPXPh5i6+9Il/8OQ5kXIvnD2bOlb6qpbl7Jp/N9zwEInWHs7ca/ocao1KbeU2LgAUwK8AoFdGLjbsd/7X0fNE7F44ezZ1rPRVLcvZNfPDmc+38nDmF76bTq0ZuebPvohBAIAJ8CsA6JUrdQ0PDgylD/0l6YdEyo1w9mzqWOmrWpaza6aRSWrt4cw/72twM6UVrTwzAQAF8CsA6JjFaQfpQ//+z0J1veOtWZw9mzpW+qqW5dSaq2rbul2ZW2/r7ivL3xAACuBXANA3f/h6Nn30B6zJFLG74NTZ1OHSV7Usp9ZcXJZCw/Khz4NkeRbfzPzMyBBZ/oYAUAC/AoC+STlUSB/9d34SUF51RaTcAqfOpg6XvqplObXmg0Wb2nAk/GihzsGt3MxMAkAB/AoAuuedSdH06e829zYzTp1NHS59Vctyas1bD2+gMfna+BmyPItvZvZe2srNzCQAFMCvAKB78oz3NpMKz1WIlP5x6mzqcOmrWpZTa169aw05kk6tnEHhrW/np7T+TEoAFMCvAOAODIww/Dn78ZSVItY/Tp1NHS59Vctyas2RyatoQH4WESnLs/hm5vQjG2T5GwJAAfwKAO7AuUvV/6+X4QbRzKPFIqVznDqbOlz6qpbl1JqnrDVcoxy9dJEsz7q3n2GsllSYezIzCwAF8CsAuAkTVhruEX3m27ki1jlOnU0dLn1Vy3JqzWOWL6bRGLBmmSxPsnwzMwkABfArALgJtXUN9/U37IC+YvsRkdIzTp1NHS59Vctyas2D586noTh3y0pZnrT7uOFm5qe/af1mZhIACuBXAHAfIpOzaSZ46PPpbrB9nFNnU4fLedXW1KRUVyfLkg6R82omdQuJoKG4cscaWZ60YrthKe4HgbNl+RYCQAH8CgDuQ1NTM28fF7J+p0jpFifNpufOrX/99edIu3ebXwpqmxxYbUNDelJSyLBhnV966ak777y9g5GOHe95+eWnly0b39i4TdbfZjmwZqXe8J1J43DLwfWyPGnqOsPSlqGRC2T5FgJAAfwKAG7FxuzjNBnc0yeosuaqSOkTJ82mM2aMYAeQmDhV1mSPHFitt/cnXKFZnnrqt+XlG2WH2CYH1qzUX0cbnmy150SSLE/6csFCagqMXy7LtxAACuBXAHA3Xhm3iOaDMctTRaxPHDib1tamFhfHpaeHjxjRXUz7GvYr337biyvs2PGed9/9+6hRvcjB/Otff+Ek8f77L7f2EEGr5MCalfrt0Ck0CE+UbpHlSZ2CDZeKlmesluVbCAAF8CsAuBs78k7RfPDTXpMrqmtFSoc4cDYdN66/mOpNSEpqc72nlXJgteRXnnji18uXj29oSDfNx8cHiNI7dNi3r82LKerkwJqV+p++/jQIL1alyfKk572nUVNGboIs30IAKIBfAcANeW284W5S76UpItYhDpxN9eVXLpQlNjVlyJIsL6+3uPioqDGyJhvkwJpNFZW66lWfGTT8SK/8ELYgNVbW4YGBgdR08nybi4gBUAC/AoAbIp1iKausESm94cDZtKEhva4ujeXnN5CnfM36lTY0ZcpQLn78+E9lTTbI4TVXVKdJTsVUlKQm7tPclMnJhkbznkwIAAXwKwC4J2/4LqVZYdSSZBHrDYfPpqzJkwfzlK9HvyItbZk3z1vWZIMcXvM/fMLYiwh1miC9JsvCfU6eT6bw/s8CpKPMCwAF8CsAuCf7CkpoYvhJD3+dnmJx+GzK0q9faWhIf+SRB7j4bdtmyVptkGNrjko1PDBIqJPcr5CoA3XLPJpIr5/3nmZ6rBkBoAB+BQC35S2/5TQ3jFy8RcS6wrGzqST9+pWoqDFc+WOP/aq1BS5WybE1tzi5wk6lpV+hDtQtOjOOXrf23OYbAkAB/AoAbouuT7E4djaVpFO/cvDgYi6bWLGizSfvqJZja77by3BDkFAnuVkhUQfqFhS/nF5/uWCh6bFmBIAC+BUA3Jn3AmJoehixcLOI9YNjZ1NJevQrxcVxDz7Ykcvu3/9dWavNcmzNLfyKObFfGR61gF5PXRdteqwZAaAAfgUAd0a/p1gcO5tK0p1fOXMmXlq28vrrz9XWpso62CzH1ixfbKsQXw/6KKjV5wq1EAAK4FcAcHM+DFpBM8RXCzaJWCc4djaVpC+/Ulwc99hjv+KCX375acc++NCxNbdYb2tOvN6W9+nfeSzR9FgzAkAB/AoAbs7hU+dphtDdKRbHzqaSdORXjhxZ1rHjPVzt22//raYmRdbBTjm85jZOsfDJFdL/Dgig8MwFS+8FAAXwKwC4P52CDX/7Do9KErEecPhsytKLX9mxY470cObevd+sr2+xN79D5PCaK6rTzFoWSvJ+cQ2NGRTe0tXX8vOPAFAAvwKA+8OnWH7Uze/sxcsipXkcPpuydOFXVqzw5SKJESO6O+TuZaUcW7OkqNRVZFDu9vIn0Qu+DMQqPGfYLO6hz4OkTKsCQAH8CgAeQbeQWJoqvl6om1UsTppNte9XJk0axBUSs2aNlLU6UA6sWaV4s7gXvpsuy5sRAArgVwDwCI6euUBTxU96+F+suiJS2saBs+nxEyuSk6ez+vd/l62Av/9gKWn/OlZHVXv58mYuj3jiiV+PH/9pazpwYJHsWGvlqJrVK25XPA3C9wNUbM4LgAL4FQA8hXcmRdNsMXFVuoi1jQNnU7PPZzYlPT1cdoi1clS1pn6lbaKjJ8iOtVaOqlm9Zm9aSSPws4hIWd6MAFAAvwKAp5CRW0yzxd19gq7U1YuUhnHgbCo9k7k1MjMtbQ9vSY6qVr1fWbnST3astXJUzeo1fuUSGoHfL18sy5sRAArgVwDwIJ4dPY8mjBmJWSLWMK6fTe2Rvqplub7mIfOiaPiFJcbI8mYEgAL4FQA8iHV7jtGE8fDn05uamkVKq7h+NrVH+qqW5fqaOwUbNrddsd3S5rYkABTArwDgQTQ3Nz82bCbNGUu3HRIpreL62dQe6atalutrfvkHw+4saYcTZHkzAkAB/AoAnsWitIM0Zzw5IkLEWsX1s6k90le1LNfX/LvhwTT2jp7eLMubEQAK4FcA8CwaGpvu/8zwDJcNe/NFSpO4fja1R/qqluX6mvkZzherDHvdWhAACuBXAPA4pm3YRdPGP3wWiliTuH42tUf6qpbl4prrGwyb8d/azVeWNy8AFMCvAOBxXKmrv7tPEE0eu/PPiJT2cPFsaqf0VS3LxTWfKkuhIffAwEBZ3rwAUAC/AoAnMm5FGk0e7wfEiFh7uHg2tVP6qpbl4pqzCjbSkPvzt6GyvHkBoAB+BQBP5GLVlZ/0MCwmOHrmgkhpDBfPpnZKX9WyXFxzwr61NN7+66duK2EAFMCvAOChDI9Kovmjz8x4EWsMF8+mdkpf1bJcXHNU6irjeJsny5sXAArgVwDwUE6XV97S1ZdEL0RKS7h4NrVT+qqW5eKaJ8ctI7/y7WJ1j2kEQAH8CgCei9cMw/Nyv1qwScRawsWzqZ3SV7UsF9f81cIFNNiC1y2X5c0LAAXwKwB4LkfPXKAp5Pae/pevXBUpzeDi2dRO6atalotr7jl9Lg22JemrZXnzAkAB/AoAHs1bfstpFpmydoeINYOLZ1M7pa9qWS6u+fWJhgdBbDqwTpY3LwAUwK8A4NFsOnCCZpEHBoZq7QmILp5N7ZS+qmW5uOanRoTQSDtYtEmWNy8AFMCvAODp/P7LcJpIVu44ImJt4OLZ1E7pq1qWi2u+/7MAGmalFVtlefMCQAH8CgCeztwt+2gi+dvYKBFrAxfPpnZKX9WyXFzzj7r50jBrbsqU5c0LAAXwKwB4OlfrG+4xbs+fXVgiUhrAxbOpndJXtSxX1nylzvDwoLs+mSTLtyoAFMCvAACujVmeStNJj2mrRawBXDmb2i99VctyZc2nLxgG2MOfB8nyrQoABfArAIBrpRVVvHccvRCp9saVs6n90le1LFfWfOjkJvIrz4wMkeVbFQAK4FcAAAZ6TY+jGcV7aYqI2xtXzqb2S1/VslxZ89bDG2h0vTZ+hizfqgBQAL8CADCQXVhCM8o9fYKu1jeIVLviytnUfumrWpYra47bZdhJuXNwhCzfqgBQAL8CABC8/INhx/TZm/aKuF3h2RS4B892+oyG1iOdvhSxJcQgAMAE+BUAgGDVjiM0qfz+y3ARtyti4gJuwVOdBhuGVuehIraEGAQAmAC/AgAQNDU1PzAwlOaVxOzjIgWAI/BemkLjKjAeF3qA7cCvAABuELxuB80rb/guFTEAjmBghGG97bzkbBEDYD3wKwCAG1y+cvX2nv40tRw5VSZSANhN5+BVNKhW78oVMQDWA78CAGjB0MiNNLV8FrFexADYzWvjF9OgSskpEjEA1gO/AgBowYnSizS13NZ9UnnVFZECwD7+/O1cGlQHis6JGADrgV8BAMh5LyCGZhe/2G0iBsA+Hv58Oo2oUxcqRQyA9cCvAADkpB4uotnllwNCRAyAffzskwAaUTVX60UMgPXArwAAzPDEV7NogondiQWSwF6am5tpLJFEDIBNwK8AAMwwK2kPTTD/Gr9YxADYyvnKGhpLvxgwVcQA2AT8CgDADDVX6/nG5vyScpECwCaOnrlAA+mJr2aJGACbgF8BAJhnaGQiTTNDIzeKGACb2J53igbSyz8sEDEANgG/AgAwT35JOU0zd34SgGWSwB427M2ngfTu5GgRA2AT8CsAgFZ5ddwimmk08sRmoFOWpB+iUdQ7bI2IAbAJ+BUAQKus2G54YjNWHgB7CDeu3R4yN0HEANgE/AoAoFWampo7fjqVJpvteadECgAr8Y/LoCHkvTRFxADYBPwKAKAtxkZvpcnmE5zMB7YyemkyDaHJcZkiBsAm4FcAAG1RUlF1UxfD44Qqa66KFADWMGRuAvmV8KQ9IgbAJuBXAAAW4McJTV23U8QAWEPPaXE0fpZuOyRiAGwCfgUAYIHE7OM03/z2ixkiBsAa3pkUTeNn/d5jIgbAJuBXAAAWaG5u/r9B02jKST5UKFIAqOYfPgtp8KQdOSliAGwCfgUAYJnJcZk05XQOXiViAFTz9DcRNHgOFJ0TMQA2Ab8CALDMhcs1t3T1vbWbX1lljUgBoI5fDwkjv1J4rkLEANgE/AoAQBXdQ1fTrDNpdYaIAVDHvf2m0Mi5cPmKiAGwCfgVAIAqUnKKaNb51eDpzc3NIgWACm7r7kcjp6kJwwbYBfwKAEAtjw6bSRPPxuzjIgbAEmRTaMz8uPskEQNgK/ArAAC1BK/bQXPPh0ErRAyAJcoqa2jM3Nc/WMQA2Ar8CgBALZdqam/t5ndTl4lnL14WKQDapOBcBfmV3wwJEzEAtgK/AgCwAt6rdMLKdBED0CYHis7RgHn6mwgRA2Ar8CsAACvYevgkTT+/GBCCVbdADem5xTRgXv5hgYgBsBX4FQCAdfCqW2yvDtSQsC+fRstbfstFDICtwK8AAKwjZP1OmoHenRwtYgBaJybzMI2WbiGxIgbAVuBXAADWcamm9rbuk7DqFqhhXnI2+ZVPZ60TMQC2Ar8CALCaXtMNq27Hr0wTMQCtELphFw2VL6OSRAyArcCvAACsJu0IVt0CVUxclU5D5fvlqSIGwFbgVwAAtsCrbjfszRcxAOYYtSSZxsnkuEwRA2Ar8CsAAFvgvW4/CMRet6AtvpiXSONkRmKWiAGwFfgVAIAtYK9boAavGfHkVxakHhAxALYCvwIAsJHuoatpKvKN3SZiABR8FLSSBsmqHUdEDICtwK8AAGwkJaeIpqJfDZ6OVbegNf4zcSkNkkQ80xvYDfwKAMB2eNVt0v4TIgagJS+NiaIRkp5bLGIAbAV+BQBgO4Hx22k2+njKShED0JKnRkTQCMkuLBUxALYCvwIAsJ2yyppbu/mR6IVIAWDCb4aEkV/JLykXMQC2Ar8CALCLLlNX0YSEDTaAWf63fzANj5KKKhEDYCvwKwAAu9h8oIAmpF8Nni5iAEz4aa/JNDwuX6kTMQC2Ar8CALCL5uZmMis0J6UcKhQpAK5DA4MkAgDsAH4FAGAvfrHbaE7qHrpaxAAYqa6tp4Fxe09/EQNgB/ArAAB7KausuanLxFu7+V2qqRUpAK5dO3epmvzKff2DRQyAHcCvAAAcwPsBMTQzhazfKWIArl07UXqRRsWvh4SJGAA7gF8BADiA9XuP0cz06LCZIgbg2rWDJ8/RqHhyxGwRA2AH8CsAAAfQ1NT8iwEhNDllHj0lUnZz5cqV1atXx8bGNjU1iRTQFTvyTtOQeOG7+SIGwA7gVwAAjuGHmK00OfWZGS9iuyksLOxspL6+njMxMTF9+/YdMWIEh2qoqKg4evTomTNnRAxcCN/r/u8JS0QMgB3ArwAAHMPZi5dpcrqt+6TqWsdstqH0KxERERT26NGDQzVs2LCBDhkyZIiIgQtZs/soDYn3A2JEDIAdwK8AABzGm37LaH4KT9ojYvtQ+pX8/Py1a9cmJSVxqAb4lXZk6bZDNB56TosTMQB2AL8CAHAYsTtzaX7649eOWV+p9Ctt0NDQUFJSUlUl3/cdfqUdidi8l8bDwIgNIgbADuBXAAAOo6mp+ef9ptAUtefEWZGyA6VfSUtL8/LyGj9+PIdMcnLywIEDuSfRtWtX6nDgwAFqCggIoJDzdCAzatQoPhA4m6nrdtJg+HrhJhEDYAfwKwAARzJqSTJNUYPmOOBPaqVfiY+Pp3DYsGEcErGxsdyHINciuRN/f8OeqmPHjuXQlAEDBvCxwNlMXJVOg+GHmK0iBsAO4FcAAI6k6HwFTVH/r9fkq/UNImUrFv1KY2MjdwgODuY+zc3NdBSZlYCAAAqbmprWrVtHHYYMGUKdGdwd7TJGLzWY14A1eHY3cADwKwAAB/PquEU0S0Wl7hexrVj0KyUlJdwhOzubMxINDcItYf1KOzI0ciONhBmJWSIGwA7gVwAADmZJuuGukL+NjRKxrVj0K83Nzb1796bMgAEDNm/eXFlZyXlT4Ffakb4z1zrEuQJAwK8AABzM1fqGn30SSBNV3pkLImUTatavREdHcx/Gy8srLCysrKxMNMOvtCtdpq6iYbBi+xERA2AH8CsAAMczNDKRJio7bwxR41eInTt3jh07Vlppy2zdKtZ4wq+0I2/7L6dhkLAvX8QA2AH8CgDA8fCD7n7eb0p9Q6NIWY9Kv8I0NTUVFxdHR0fzFSKpD/uVwYMHcwhcCa9k2nr4pIgBsAP4FQCAU3h21Dw7rwVY9Ct1dXVXr17l1xIZGRl8VHV1NYXJycn02svLi1uBK/nraMMYcMhmPADArwAAnMLsTYa9TV+faPuz7iz6lSNHjvTo0SMhIaGx8cZZnKlTp1IfMih8i1BOTo7xa3Q+dOgQd6itreUXwNk88dUsGgO5p28sJwLAZuBXAABOobq27rbuk2i6KjpfIVJWosavcAeCkt7e3mRfOMzKEvfQ1tXVkXfh5MCBA/v374/94lzGQ4On0wAoLjNz3xYA1gK/AgBwFn1mxtN0NTbaxu1NJb8ibabCfmX48OEcVlZWhoeHSx6FIXeyaVOLdb65ubl9+/YVzVjL4kJ+3tfwcIaLVTihBRwA/AoAwFlk5BbTdPWLASFNTc0i5RwqKirIlOTk5Jw/f97s9rXNzc3UlJeXV1JSgv1tXcZPehhOsNXZseYaAAn4FQCAE3l02EyasdbvPSZi4DGQSaUf/U1dJooYAPuAXwEAOJEpa3fQpPVB4AoRA4/h8pU6+tHf5RUoYgDsA34FAOBEyiprbu3mR39kn6803F0MPIeSiiryK/d/FiJiAOwDfgUA4Fw6BRs2ZZ8ch4f0ehbHSy7Sz/3RoTNFDIB9wK8AAJzLxuzjNG89/Pl0EQPP4ECRYY/jP42cI2IA7AN+BQDgXJqbm3/5WQhNXdiX3aPYkXeafugvjbH3Md0AMPArAACnM25FGk1dvcPWiBh4AFsOFtAP3Z4NjgEwBX4FAOB0zpRfpqnrxz0mVVSr3TqM93a71rRdF9JXtSxn17w2y7Bb4PsBs2R5VQJAAfwKAMAVvOG7lGavmRvFNvkWcfZs6ljpq1qWs2tenrGafuI9ps2R5VUJAAXwKwAAV7ByxxGavf787VwRW8LZs6ljpa9qWc6uOTLZcF/Yp7MiZXlVAkAB/AoAwBXUNzTe2y+YJrD9haUi1SbOnk0dK31Vy3J2zdMTYujHPTxqgSyvSgAogF8BALiIEQs30wQ2ZG6CiNvE2bOpY6WvalnOrnly3DL6cXsvXSzLqxIACuBXAAAuIvd0GU1gd3kF1taJ5y23gbNnU8dKX9WynF3z2Ogl9OP2jV0qy6sSAArgVwAAruOlMVE0hy1OOyji66TkFKUeLhKBEWfPpo6VvqplObvmEQsX0s966rpoWV6VAFAAvwIAcB3zU/bTHPaKz0IRG4nbdZSSJBEbcfZs6ljpq1qWs2seNGc+/UwjNq+U5VUJAAXwKwAA11Fb1/D/ek2maazgXIVIXbs2PCoJfsX1cnbNn4TNpZ/pkvTVsrwqAaAAfgUA4FI+i1hP09ioJckivnbtocHT7fcrDQ3bmpsyZUmXydpqtSCraqbv7dWrabJk2/p4ymz6ma7etUaWVyUAFMCvAABcyu78MzSN3dsvuKmpmcLswlI2K7b5lStXti5fHubn5zNq1Chv79HTp/vv3r1c1scFUlmtqaKjwyZPHl9SkijLu0wWayaPkp29Iipq6oQJY+nby9/hwMAJ+/bFqLGG//ULp59p0v51srwqAaAAfgUA4EQqqmv7zIxPyWmxlvZ3ww0zWXxWHr0OWb/TZr9yqTKZnYqMhIR5sp7OlppqTZWfH8+lHj8eL2tymSzWTF6Qi1RCHlHWWamXfwijn+m23ARZXpUAUAC/AgBwItLaFHIt0sOD2KO8FxBDr5/+JoI7kEyfLmRxNiUtXhzK02dOTmx9/baKii00j3KmuHiDrLNTpaZa0vnzSbMjAn19b3gs7fuVkBC/7OwVFy5srq5OzcqKDgqayJUfO2bhQs+zo0LpZ7q3IEmWVyUAFMCvAACcSHZh6V1egWxH7vYKDN2wi5LkS27t5ndTl4n5Zy9wU4fOE+hf09MwFmfT2to0njh37VomJZuaMgIDJ1AyJmaGlHSBLFbLKihYyzVLaNmvNDZmFBXJr+acPZvIlW/YMFfWJNPjX06ln2nemc2yvCoBoAB+BQDgXMiFXDclBv1p5BzKdAo2PFym81TDvx06kVmx2q/s2RPNEycZF9N8UlIkJb29R5smnS2L1bKamzIbGraxuHgt+5XW5OPzPVW+dOl0WV6mhz4Pop9pcVmKLK9KACiAXwEAOJ2oVMO2K6b698TFZFNu7+lvDG3xK5s2zadZ08/PR5YnB2B0AqPq6tJlTc6TxWqV4iJ151cqK5O58oQEC+dX7usfQD/TC5etu6tICAAF8CsAAFcgLWQxnk0xvLhJem3T+ZXY2HCaNUNDJ8nyJSUbeUK9cGGTrMl5slitUlyk7vxKRsYSrrygYK2sSaaf9ppEP9Paum2yvCoBoAB+BQDgIrxmxLNTMUq4luv2xWq/EhU1lWbNWbMDZPmLF7eonFAdKIvVKsVF6suvlJdv9vYeTWVPmya3iUrxz1eWVCsAFMCvAABcREV1rendQB06GSVCq/3K3HlTaOKMmBMky1dUSH7Fpp0/bJLFapXiInXkV6qrU/nOpjFjvOmbLGuVqbZuG/1Af9rLsq0xLwAUwK8AAFwHWZbrtwsZT6t0mmDz+ZXoaMOty2Fh/rJ8aam4HkQvZE3Ok8VqleIi9eJXamq2+vuPo4K9vUeruVf8wuU0+oHe119+9kutAFAAvwIAcCk37nC+cXJFvA5Zv1N0UuFXEhLm0fQ5ZYr8ikNR0TqjExhFU6ysyXmyWK1SXKQu/MqlymQ+s0JmpahovazVrIrLUugH+tDn8rNfagWAAvgVAICrkR7IbLKKxfCvT0ya6KHCr2RmGhZ+0gza1JRhmpcWhJomnS2L1SrFRWrfr5SWbuQbmMeOHVNSovaUVd6ZzfQDffzLqbK8WgGgAH4FANAOyO9wtt6vlJdvNjvlz5kbREnlOlynymK1Spkt3pVSU3N+fjwvsPX19bl40cKaFVPtLTDcDvbsqFBZXq0AUAC/AgBoH8TtQryExXq/Qpo+3Z+m0gkTxl65Ii79SJvIHTq0SurmAqmpViauU8t+JTd3NRcZEuJXVZUq7XQnSdbfVBm5CfQDffkHy48ZMi8AFMCvAADajVd8Fhosy3VZ61dOnLixvf3UqX7jx4vHCIeGTpJdJHK21FRLOn06wdfXh8Wl+vh8z+G+fTGyzs6WxZpTUhZwka1x5Mhq2SGSNh1YRz/QN/3CZXm1AkAB/AoAoN2Q3eFsrV8hFRdvkGwKs2hRaGOjS80KSWW1RUXrRZUKMjOXyDo7WxZr3rp1oSiuFdrwK3G7DCfPPgqKkOXVCgAF8CsAgPak8FyF9EDEkYu2iKxqv8KqqkrJzV1N3sX1ToVlVbUakVNrXrptNf1Ae02fI8urFQAK4FcAAO1MdmHprd38aHr7+/cLRMpKv9Lu0le1LKfWPHfLSvqBDoyYL8urFQAK4FcAAO3P+JXpK7YfEYERp86mDpe+qmU5teZpG6LJr3y5YKEsr1YAKIBfAQBoEafOpg6XvqplObVm/7hl5FfGLF8sy6sVAArgVwAAWsSps6nDpa9qWU6teWz0EvIrfrFLZXm1AkAB/AoAQIs4dTZ1uPRVLcupNY9YaLhTPWR9tCyvVgAogF8BAGgRp86mDpe+qmU5teZBc+aTX4nYvFKWVysAFMCvAAC0iFNnU4dLX9WynFrzJ2Fzya8sTouV5dUKAAXwKwAALeLU2dTh0le1LKfW3CnYsA1g7M41srxaAaAAfgUAoEWcOps6XPqqluXUmt+aNIv8SmL2OllerQBQAL8CANAiTp1NHS59Vctyas2v+swgv5J2OEGWVysAFMCvAAC0iFNnU4dLX9WynFrzc97TyK/sPr5RllcrABTArwAAtIhTZ1OHS1/Vspxa8x+/nkp+5cipzbK8WgGgAH4FAKBFnDqbOlz6qpbl1JofGTKF/ErhuWRZXq0AUAC/AgDQIk6dTR0ufVXLcmrN/zsggPzKuUupsrxaAaAAfgUAoEWcOps6XM6rtqYmpbra1rMUbcp5NZPu+mQS+ZWq2nRZXq0AUAC/AgDQIk6aTc+dW//668+Rdu+OlDXZIwdW29CQnpQUMmxY55deeurOO2/vYKRjx3tefvnpZcvGNzZuk/W3WQ6sWambukwkvyJLWiEAFMCvAAC0iJNm0xkzRrADSEycKmuyRw6s1tv7E67QLE899dvycltvumkpB9YsU31DJpmVH3f3k+WtEAAK4FcAAFrEgbNpbW1qcXFcenr4iBHdxbSvYb/y7be9uMKOHe95992/jxrVixzMv/71F04S77//cnNTpuwoG+TAmmW6VJNOfuVuL39Z3goBoAB+BQCgRRw4m44b119M9SYkJYXIutkjB1ZLfuWJJ369fPn4hoYWiz/i4wNE6R067Nu3wLTJNjmwZpnOlqeSX7n/swBZ3goBoAB+BQCgRRw4m+rLr1woS2xqypAlWV5eb3HxUVFjZE02yIE1myoqddXzow2bxd3cZeKrPjMWpNr0yEMAFMCvAAC0iANn04aG9Lq6NJaf30Ce8jXrV9rQlClDufjx4z+VNdkgh9dcUZ3G2/B36DzB8G8nw5JbEiWpSdbZggBQAL8CANAiDp9NWZMnD+YpX49+RVraMm+et6zJBjm85n/4hLFB6dCphV8hkWWRdbYgABTArwAAtIjDZ1OWfv1KQ0P6I488wMVv2zZL1mqDHFtzVOoqyZ0Iv9JS1EF2SFsCQAH8CgBAizh2NpWkX78SFTWGK3/ssV+1tsDFKjm25hsnVwySn18hUQfZIW0JAAXwKwAALeLY2VSSTv3KwYOLuWxixQpfWattcmzNd3v533An5FQMZsX3Rsba25sBUAC/AgDQIo6dTSXp0a8UF8c9+GBHLrt//3dlrTbLsTW38CvmBL8C7AR+BQCgRRw7m0rSnV85cyZeWrby+uvP1dba+gRBhRxbc8vrQWaE60HATuBXAABaxLGzqSR9+ZXi4rjHHvsVF/zyy0879sGHjq25xXpbc8J6W2An8CsAAC3i2NlUko78ypEjyzp2vIerffvtv9XUpMg62CmH19zGKRbrTq6QAFAAvwIA0CIOn01ZevErO3bMkR7O3Lv3m/X1Lfbmd4gcXnNFdZpZy0JJ7BcH7Ad+BQCgRRw+m7J04VdWrPDlIokRI7o75O5lpRxbs6So1FVkUO728ifRC+suA0kCQAH8CgBAizhpNtW+X5k0aRBXSMyaNVLW6kA5sGbHCwAF8CsAAC3iwNn0+IkVycnTWf37v8tWwN9/sJS0fx2ro6q9fHkzl0c88cSvx4//tDUdOLBIdqy1clTNThEACuBXAABaxIGzqdnnM5uSnh4uO8RaOapaU7/SNtHRE2THWitH1ewUAaAAfgUAoEUcOJtKz2RujczMCNkh1spR1ar3KytX+smOtVaOqtkpAkAB/AoAQItoejZVSF/VsjRdMwAK4FcAAFpE07OpQvqqlqXpmgFQAL8CANAimp5NFdJXtSxN1wyAAvgVAIAW0fRsqpC+qmVpumYAFMCvAAC0iKZnU4X0VS1L0zUDoAB+BQCgRTQ9myqkr2pZmq4ZAAXwKwAALaLp2VQhfVXL0nTNACiAXwEAaBFNz6YK6atalqZrBkAB/AoAQItoejZVSF/VsjRdMwAK4FcAAFpE07OpQvqqlqXpmgFQAL8CANAimp5NFdJXtSxN1wyAAvgVAIAW0fRsqpC+qmVpumYAFMCvAAC0iKZnU4X0VS1L0zUDoAB+BQCgRTQ9myqkr2pZmq4ZAAXwKwAALaLp2VQhfVXL0nTNACiAXwEAaBFNz6YK6atalqZrBkAB/AoAQItoejZVSF/VsjRdMwAK4FcAAFpE07OpQvqqlqXpmgFQAL8CANAimp5NFdJXtSxN1wyAAvgVAIAW0fRsqpC+qmVpumYAFMCvAAC0iKZnU4X0VS1L0zUDoAB+BQCgRTQ9myqkr2pZmq4ZAAXwKwAALcKzKfBMxCAAwAT4FQCAFhETF/BIxCAAwAT4FQAAAABoHfgVAAAAAGgd+BUAAAAAaB34FQAAAABoHfgVAAAAAGgd+BUAAAAAaB34FQAAAABoHfgVAAAAAGgd+BUAAAAAaB34FQAAAABoHfgVAAAAAGgd+BUAAAAAaB34FQAAAABoHfgVAAAAAGgd+BUAAAAAaB34FQAAAABoHfgVAAAAAGgd+BUAAAAAaB34FQAAAABoHfgVAAAAAGgd+BUAAAAAaB34FQAAAABom2vX/j8FKkXPe2eukAAAAABJRU5ErkJggg==)"
   ]
  },
  {
   "cell_type": "code",
   "execution_count": 260,
   "metadata": {
    "colab": {
     "base_uri": "https://localhost:8080/"
    },
    "executionInfo": {
     "elapsed": 7,
     "status": "ok",
     "timestamp": 1702399798216,
     "user": {
      "displayName": "young bback",
      "userId": "01066130122626283768"
     },
     "user_tz": -540
    },
    "id": "5aNiXNScXeLd",
    "outputId": "a9f43c1a-2128-4eec-ba44-d8ef6dd6017a"
   },
   "outputs": [
    {
     "data": {
      "text/plain": [
       "[1, 2, [3, 4, 5]]"
      ]
     },
     "execution_count": 260,
     "metadata": {},
     "output_type": "execute_result"
    }
   ],
   "source": [
    "a = [1, 2, [3,4] ]\n",
    "b = a[:]\n",
    "\n",
    "b[2].append(5)\n",
    "b"
   ]
  },
  {
   "cell_type": "code",
   "execution_count": 261,
   "metadata": {
    "colab": {
     "base_uri": "https://localhost:8080/"
    },
    "executionInfo": {
     "elapsed": 6,
     "status": "ok",
     "timestamp": 1702399798216,
     "user": {
      "displayName": "young bback",
      "userId": "01066130122626283768"
     },
     "user_tz": -540
    },
    "id": "_enhPVnUZPtN",
    "outputId": "b9493a44-9b3a-4c84-845d-1fa41572b1e9"
   },
   "outputs": [
    {
     "data": {
      "text/plain": [
       "[1, 2, [3, 4, 5]]"
      ]
     },
     "execution_count": 261,
     "metadata": {},
     "output_type": "execute_result"
    }
   ],
   "source": [
    "a"
   ]
  },
  {
   "cell_type": "markdown",
   "metadata": {
    "id": "5A_E5HlZXinz"
   },
   "source": [
    "![4.png](data:image/png;base64,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)"
   ]
  },
  {
   "cell_type": "code",
   "execution_count": 262,
   "metadata": {
    "colab": {
     "base_uri": "https://localhost:8080/"
    },
    "executionInfo": {
     "elapsed": 4,
     "status": "ok",
     "timestamp": 1702399798216,
     "user": {
      "displayName": "young bback",
      "userId": "01066130122626283768"
     },
     "user_tz": -540
    },
    "id": "ZVOhyhs9Zgq6",
    "outputId": "7e86b2b2-056a-4eaa-cafe-2b67092a4ad6"
   },
   "outputs": [
    {
     "data": {
      "text/plain": [
       "[1, 2, [3, 4, 5]]"
      ]
     },
     "execution_count": 262,
     "metadata": {},
     "output_type": "execute_result"
    }
   ],
   "source": [
    "import copy\n",
    "a = [1, 2, [3,4] ]\n",
    "b = copy.deepcopy(a)\n",
    "\n",
    "b[2].append(5)\n",
    "b"
   ]
  },
  {
   "cell_type": "code",
   "execution_count": 263,
   "metadata": {
    "colab": {
     "base_uri": "https://localhost:8080/"
    },
    "executionInfo": {
     "elapsed": 3,
     "status": "ok",
     "timestamp": 1702399798216,
     "user": {
      "displayName": "young bback",
      "userId": "01066130122626283768"
     },
     "user_tz": -540
    },
    "id": "n9MNz3o4ZgoZ",
    "outputId": "c29739f1-1191-48ab-8e69-1ecb2b68a35a"
   },
   "outputs": [
    {
     "data": {
      "text/plain": [
       "[1, 2, [3, 4]]"
      ]
     },
     "execution_count": 263,
     "metadata": {},
     "output_type": "execute_result"
    }
   ],
   "source": [
    "a"
   ]
  }
 ],
 "metadata": {
  "colab": {
   "provenance": [],
   "toc_visible": true
  },
  "kernelspec": {
   "display_name": "base",
   "language": "python",
   "name": "python3"
  },
  "language_info": {
   "codemirror_mode": {
    "name": "ipython",
    "version": 3
   },
   "file_extension": ".py",
   "mimetype": "text/x-python",
   "name": "python",
   "nbconvert_exporter": "python",
   "pygments_lexer": "ipython3",
   "version": "3.12.4"
  }
 },
 "nbformat": 4,
 "nbformat_minor": 0
}
