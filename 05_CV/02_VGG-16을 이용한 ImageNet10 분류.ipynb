{
 "cells": [
  {
   "cell_type": "code",
   "execution_count": 1,
   "metadata": {},
   "outputs": [],
   "source": [
    "# pytorch 버전: 2.5.1\n",
    "import torch\n",
    "import VGGNet\n",
    "\n",
    "# torchvision 버전: 0.20.1\n",
    "from torchvision import transforms\n",
    "from torchvision import datasets\n",
    "\n",
    "# 연산 장치 설정\n",
    "if torch.cuda.is_available():\n",
    "    device = torch.device('cuda')\n",
    "    torch.cuda.manual_seed(42)\n",
    "else:\n",
    "    device = torch.device('cpu')\n",
    "    torch.manual_seed(42)"
   ]
  },
  {
   "cell_type": "code",
   "execution_count": null,
   "metadata": {},
   "outputs": [],
   "source": [
    "'''\n",
    "image_to_tensor = transforms.Compose([\n",
    "    transforms.Resize((224,224)),\n",
    "    transforms.ToTensor()\n",
    "])\n",
    "train_dataset = datasets.ImageFolder('ImageNet10/train', transform=image_to_tensor)\n",
    "\n",
    "mean = torch.zeros(3)\n",
    "for image, label in train_dataset:\n",
    "    mean += image.mean(dim=(1,2))\n",
    "mean = mean / 8000\n",
    "'''\n",
    "\n",
    "# 채널별 평균: [0.4638, 0.4585, 0.4297]"
   ]
  },
  {
   "cell_type": "code",
   "execution_count": 3,
   "metadata": {},
   "outputs": [],
   "source": [
    "# 데이터 파이프라인 정의\n",
    "transform = transforms.Compose([\n",
    "    transforms.Resize((224,224)),\n",
    "    transforms.ToTensor(),\n",
    "    transforms.Normalize(mean=[0.4638, 0.4585, 0.4297], std=[1.0, 1.0, 1.0])\n",
    "])\n",
    "\n",
    "# 데이터 로드\n",
    "train_dataset = datasets.ImageFolder('ImageNet10/train', transform)\n",
    "valid_dataset = datasets.ImageFolder('ImageNet10/valid', transform)\n",
    "\n",
    "# 데이터 미니배치 처리\n",
    "train_loader = torch.utils.data.DataLoader(train_dataset, batch_size=128, shuffle=True)\n",
    "valid_loader = torch.utils.data.DataLoader(valid_dataset, batch_size=128)"
   ]
  },
  {
   "cell_type": "code",
   "execution_count": 4,
   "metadata": {},
   "outputs": [],
   "source": [
    "# 모델: VGG-16\n",
    "model = VGGNet.D(num_classes=10)\n",
    "model.to(device)\n",
    "\n",
    "# 옵티마이저: Momentum\n",
    "optimizer = torch.optim.SGD(model.parameters(), lr=0.01, momentum=0.9, weight_decay=5e-4)\n",
    "\n",
    "# 손실함수: Cross Entropy Loss\n",
    "criterion = torch.nn.CrossEntropyLoss()"
   ]
  },
  {
   "cell_type": "code",
   "execution_count": null,
   "metadata": {},
   "outputs": [],
   "source": [
    "num_epochs = 10\n",
    "\n",
    "for epoch in range(num_epochs):\n",
    "    print('Epoch {:0>3}    ==>'.format(epoch+1), end='    ')\n",
    "\n",
    "    train_loss_list = []\n",
    "    train_accu_list = []\n",
    "    valid_loss_list = []\n",
    "    valid_accu_list = []\n",
    "\n",
    "    # 모델을 훈련 모드로 전환\n",
    "    model.train()\n",
    "    for image, label in train_loader:\n",
    "        image, label = image.to(device), label.to(device)\n",
    "        # 누적된 그래디언트를 0으로 초기화\n",
    "        optimizer.zero_grad()\n",
    "        # 순전파: 전방 계산\n",
    "        output = model(image)\n",
    "        # 순전파: 정확도 저장\n",
    "        label_pred = torch.argmax(output, dim=1)\n",
    "        train_accu_list += (label==label_pred).tolist()\n",
    "        # 순전파: Loss 저장\n",
    "        loss = criterion(output, label)\n",
    "        train_loss_list.append(loss.item())\n",
    "        # 역전파: 그래디언트 계산\n",
    "        loss.backward()\n",
    "        # 역전파: 가중치 갱신\n",
    "        optimizer.step()\n",
    "    \n",
    "    # 모델을 평가 모드로 전환\n",
    "    model.eval()\n",
    "    with torch.no_grad():\n",
    "        for image, label in valid_loader:\n",
    "            image, label = image.to(device), label.to(device)\n",
    "            # 전방 계산\n",
    "            output = model(image)\n",
    "            # 정확도 저장\n",
    "            label_pred = torch.argmax(output, dim=1)\n",
    "            valid_accu_list += (label==label_pred).tolist()\n",
    "            # Loss 저장\n",
    "            loss = criterion(output, label)\n",
    "            valid_loss_list.append(loss.item())\n",
    "    \n",
    "    # 성능지표 계산\n",
    "    train_loss = sum(train_loss_list) / len(train_loss_list)\n",
    "    train_accu = sum(train_accu_list) / len(train_accu_list)\n",
    "    valid_loss = sum(valid_loss_list) / len(valid_loss_list)\n",
    "    valid_accu = sum(valid_accu_list) / len(valid_accu_list)\n",
    "    print('train_loss: {:.4f}'.format(train_loss), end='  ')\n",
    "    print('train_accu: {:.4f}'.format(train_accu), end='  ')\n",
    "    print('valid_loss: {:.4f}'.format(valid_loss), end='  ')\n",
    "    print('valid_accu: {:.4f}'.format(valid_accu))"
   ]
  }
 ],
 "metadata": {
  "kernelspec": {
   "display_name": "Python 3",
   "language": "python",
   "name": "python3"
  },
  "language_info": {
   "codemirror_mode": {
    "name": "ipython",
    "version": 3
   },
   "file_extension": ".py",
   "mimetype": "text/x-python",
   "name": "python",
   "nbconvert_exporter": "python",
   "pygments_lexer": "ipython3",
   "version": "3.12.4"
  }
 },
 "nbformat": 4,
 "nbformat_minor": 2
}
